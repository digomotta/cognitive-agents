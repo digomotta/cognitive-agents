{
 "cells": [
  {
   "cell_type": "code",
   "execution_count": 1,
   "id": "248ad030",
   "metadata": {},
   "outputs": [],
   "source": [
    "import os, sys\n",
    "sys.path.insert(0, os.path.abspath('..'))  # add project root to sys.path\n",
    "\n",
    "from markov_agent_chain import MarkovAgentChain, load_agents_for_chain"
   ]
  },
  {
   "cell_type": "code",
   "execution_count": null,
   "id": "cc8104d6",
   "metadata": {},
   "outputs": [],
   "source": [
    "def test_markov_chain_simulation(testing_mode=True):\n",
    "  \"\"\"\n",
    "  Run Markov chain simulation where each agent is a state.\n",
    "  State transitions i→i trigger reflections, i→j trigger conversations.\n",
    "  \"\"\"\n",
    "  print(\"=== Markov Agent Chain Simulation ===\")\n",
    "  \n",
    "  # Load agents for the chain\n",
    "  agent_names = [\"rowan_greenwood\", \"jasmine_carter\", \"mina_kim\", \"kemi_adebayo\", \"pema_sherpa\", \"carlos_mendez\"]\n",
    "  agents = load_agents_for_chain(\"Synthetic\", agent_names)\n",
    "  \n",
    "  if len(agents) < 2:\n",
    "    print(\"Error: Could not load required agents\")\n",
    "    return None\n",
    "  \n",
    "  # Create Markov chain and run simulation\n",
    "  chain = MarkovAgentChain()\n",
    "  \n",
    "  results = chain.run_markov_chain(\n",
    "    agents=agents,\n",
    "    context=\"Local community market and social interactions\",\n",
    "    num_steps=50,\n",
    "    self_reflection_prob=0.3,  # 30% chance to stay in same state (reflect)\n",
    "    interaction_prob=0.7,      # 70% chance to transition to other agent (converse)\n",
    "    conversation_max_turns=8,\n",
    "    testing_mode=testing_mode\n",
    "  )\n",
    "  \n",
    "  print(\"=== Simulation Results ===\")\n",
    "  print(f\"Total conversations: {results['conversation_count']}\")\n",
    "  print(f\"Total reflections: {results['reflection_count']}\")\n",
    "  print(f\"Final agent state: {results['final_agent']}\")\n",
    "  \n",
    "  return results\n",
    "\n"
   ]
  },
  {
   "cell_type": "code",
   "execution_count": 3,
   "id": "0c5cbca4",
   "metadata": {},
   "outputs": [
    {
     "name": "stdout",
     "output_type": "stream",
     "text": [
      "=== Markov Agent Chain Simulation ===\n",
      "Loaded rowan_greenwood:Synthetic\n",
      "Loaded: Rowan Greenwood\n",
      "Loaded jasmine_carter:Synthetic\n",
      "Loaded: Jasmine Carter\n",
      "Loaded mina_kim:Synthetic\n",
      "Loaded: Mina Kim\n",
      "Loaded kemi_adebayo:Synthetic\n",
      "Loaded: Kemi Adebayo\n",
      "Loaded pema_sherpa:Synthetic\n",
      "Loaded: Pema Sherpa\n",
      "Loaded carlos_mendez:Synthetic\n",
      "Loaded: Carlos Mendez\n",
      "=== Markov Agent Chain Simulation ===\n",
      "Agents (States): ['Rowan Greenwood', 'Jasmine Carter', 'Mina Kim', 'Kemi Adebayo', 'Pema Sherpa', 'Carlos Mendez']\n",
      "Steps: 50\n",
      "Self-reflection probability: 0.3\n",
      "Interaction probability: 0.7\n",
      "Context: Local community market and social interactions\n",
      "\n",
      "Transition Matrix (Agent States):\n",
      "      Rowan Gr  Jasmine   Mina Kim  Kemi Ade  Pema She  Carlos M\n",
      "Rowan Gr 0.300  0.140  0.140  0.140  0.140  0.140\n",
      "Jasmine  0.140  0.300  0.140  0.140  0.140  0.140\n",
      "Mina Kim 0.140  0.140  0.300  0.140  0.140  0.140\n",
      "Kemi Ade 0.140  0.140  0.140  0.300  0.140  0.140\n",
      "Pema She 0.140  0.140  0.140  0.140  0.300  0.140\n",
      "Carlos M 0.140  0.140  0.140  0.140  0.140  0.300\n",
      "\n",
      "Step 1: Rowan Greenwood → Carlos Mendez → CONVERSATION\n",
      "   Context: Local community market and social interactions\n",
      "   Rowan Greenwood: {'herbal_tea': {'quantity': 3, 'value_per_unit': 15.0, 'total_value': 45.0}, 'cannabis': {'quantity': 10, 'value_per_unit': 8.5, 'total_value': 85.0}, 'property_contracts': {'quantity': 3, 'value_per_unit': 200.0, 'total_value': 600.0}, 'digital cash': {'quantity': 135, 'value_per_unit': 1.0, 'total_value': 135.0}, 'mountain_flower_honey': {'quantity': 1, 'value_per_unit': 45.0, 'total_value': 45.0}}\n",
      "   Carlos Mendez: {'premium_cigars': {'quantity': 14, 'value_per_unit': 85.0, 'total_value': 1190.0}, 'wrapper_tobacco_leaves': {'quantity': 23, 'value_per_unit': 35.0, 'total_value': 805.0}, 'aged_cigars': {'quantity': 7, 'value_per_unit': 150.0, 'total_value': 1050.0}, 'cuban_rum': {'quantity': 6, 'value_per_unit': 75.0, 'total_value': 450.0}, 'aged_whisky': {'quantity': 4, 'value_per_unit': 120.0, 'total_value': 480.0}, 'cigar_humidor': {'quantity': 2, 'value_per_unit': 300.0, 'total_value': 600.0}, 'tobacco_seeds': {'quantity': 12, 'value_per_unit': 25.0, 'total_value': 300.0}, 'rolling_tools': {'quantity': 1, 'value_per_unit': 200.0, 'total_value': 200.0}, 'digital cash': {'quantity': 380, 'value_per_unit': 1.0, 'total_value': 380.0}, 'mountain_flower_honey': {'quantity': 1, 'value_per_unit': 45.0, 'total_value': 45.0}, 'hibiscus_extract': {'quantity': 1, 'value_per_unit': 35.0, 'total_value': 35.0}, 'herbal_tea': {'quantity': 1, 'value_per_unit': 15.0, 'total_value': 15.0}, 'notebooks': {'quantity': 2, 'value_per_unit': 3.5, 'total_value': 7.0}, 'essence': {'quantity': 1, 'value_per_unit': 28.0, 'total_value': 28.0}, 'tutoring_sessions': {'quantity': 1, 'value_per_unit': 40.0, 'total_value': 40.0}}\n",
      "time_step:  0\n",
      "result_dict: {'utterance': 'Morning—there’s a soft piney edge to the air today, resin warming as the sun climbs. I’ve got a few jars left if you’re browsing: a seasonal Forest Evening herbal tea—mint with a whisper of conifer tips and a touch of chamomile, gentle and floral—three tins on the table. One jar of mountain flower honey too, golden and a bit wild, like broom and heather after rain. If you’re curious, I can open a tin so you can catch the scent. No rush—listen to your body and let your nose lead. If something calls to you, just tap your digital cash on the little wooden machine here and I’ll wrap it up.', 'sales': False, 'ended': False}\n",
      "   Rowan Greenwood: Morning—there’s a soft piney edge to the air today, resin warming as the sun climbs. I’ve got a few jars left if you’re browsing: a seasonal Forest Evening herbal tea—mint with a whisper of conifer tips and a touch of chamomile, gentle and floral—three tins on the table. One jar of mountain flower honey too, golden and a bit wild, like broom and heather after rain. If you’re curious, I can open a tin so you can catch the scent. No rush—listen to your body and let your nose lead. If something calls to you, just tap your digital cash on the little wooden machine here and I’ll wrap it up.\n",
      "time_step:  1\n"
     ]
    },
    {
     "ename": "KeyboardInterrupt",
     "evalue": "",
     "output_type": "error",
     "traceback": [
      "\u001b[31m---------------------------------------------------------------------------\u001b[39m",
      "\u001b[31mKeyboardInterrupt\u001b[39m                         Traceback (most recent call last)",
      "\u001b[36mCell\u001b[39m\u001b[36m \u001b[39m\u001b[32mIn[3]\u001b[39m\u001b[32m, line 1\u001b[39m\n\u001b[32m----> \u001b[39m\u001b[32m1\u001b[39m results = \u001b[43mtest_markov_chain_simulation\u001b[49m\u001b[43m(\u001b[49m\u001b[43mtesting_mode\u001b[49m\u001b[43m=\u001b[49m\u001b[38;5;28;43;01mFalse\u001b[39;49;00m\u001b[43m)\u001b[49m\n",
      "\u001b[36mCell\u001b[39m\u001b[36m \u001b[39m\u001b[32mIn[2]\u001b[39m\u001b[32m, line 19\u001b[39m, in \u001b[36mtest_markov_chain_simulation\u001b[39m\u001b[34m(testing_mode)\u001b[39m\n\u001b[32m     16\u001b[39m \u001b[38;5;66;03m# Create Markov chain and run simulation\u001b[39;00m\n\u001b[32m     17\u001b[39m chain = MarkovAgentChain()\n\u001b[32m---> \u001b[39m\u001b[32m19\u001b[39m results = \u001b[43mchain\u001b[49m\u001b[43m.\u001b[49m\u001b[43mrun_markov_chain\u001b[49m\u001b[43m(\u001b[49m\n\u001b[32m     20\u001b[39m \u001b[43m  \u001b[49m\u001b[43magents\u001b[49m\u001b[43m=\u001b[49m\u001b[43magents\u001b[49m\u001b[43m,\u001b[49m\n\u001b[32m     21\u001b[39m \u001b[43m  \u001b[49m\u001b[43mcontext\u001b[49m\u001b[43m=\u001b[49m\u001b[33;43m\"\u001b[39;49m\u001b[33;43mLocal community market and social interactions\u001b[39;49m\u001b[33;43m\"\u001b[39;49m\u001b[43m,\u001b[49m\n\u001b[32m     22\u001b[39m \u001b[43m  \u001b[49m\u001b[43mnum_steps\u001b[49m\u001b[43m=\u001b[49m\u001b[32;43m50\u001b[39;49m\u001b[43m,\u001b[49m\n\u001b[32m     23\u001b[39m \u001b[43m  \u001b[49m\u001b[43mself_reflection_prob\u001b[49m\u001b[43m=\u001b[49m\u001b[32;43m0.3\u001b[39;49m\u001b[43m,\u001b[49m\u001b[43m  \u001b[49m\u001b[38;5;66;43;03m# 30% chance to stay in same state (reflect)\u001b[39;49;00m\n\u001b[32m     24\u001b[39m \u001b[43m  \u001b[49m\u001b[43minteraction_prob\u001b[49m\u001b[43m=\u001b[49m\u001b[32;43m0.7\u001b[39;49m\u001b[43m,\u001b[49m\u001b[43m      \u001b[49m\u001b[38;5;66;43;03m# 70% chance to transition to other agent (converse)\u001b[39;49;00m\n\u001b[32m     25\u001b[39m \u001b[43m  \u001b[49m\u001b[43mconversation_max_turns\u001b[49m\u001b[43m=\u001b[49m\u001b[32;43m8\u001b[39;49m\u001b[43m,\u001b[49m\n\u001b[32m     26\u001b[39m \u001b[43m  \u001b[49m\u001b[43mtesting_mode\u001b[49m\u001b[43m=\u001b[49m\u001b[43mtesting_mode\u001b[49m\n\u001b[32m     27\u001b[39m \u001b[43m\u001b[49m\u001b[43m)\u001b[49m\n\u001b[32m     29\u001b[39m \u001b[38;5;28mprint\u001b[39m(\u001b[33m\"\u001b[39m\u001b[33m=== Simulation Results ===\u001b[39m\u001b[33m\"\u001b[39m)\n\u001b[32m     30\u001b[39m \u001b[38;5;28mprint\u001b[39m(\u001b[33mf\u001b[39m\u001b[33m\"\u001b[39m\u001b[33mTotal conversations: \u001b[39m\u001b[38;5;132;01m{\u001b[39;00mresults[\u001b[33m'\u001b[39m\u001b[33mconversation_count\u001b[39m\u001b[33m'\u001b[39m]\u001b[38;5;132;01m}\u001b[39;00m\u001b[33m\"\u001b[39m)\n",
      "\u001b[36mFile \u001b[39m\u001b[32m~/Documents/Projects/cognitive-agents/markov_agent_chain.py:296\u001b[39m, in \u001b[36mMarkovAgentChain.run_markov_chain\u001b[39m\u001b[34m(self, agents, context, num_steps, self_reflection_prob, interaction_prob, transition_matrix, conversation_max_turns, testing_mode)\u001b[39m\n\u001b[32m    293\u001b[39m \u001b[38;5;28;01melse\u001b[39;00m:\n\u001b[32m    294\u001b[39m     \u001b[38;5;66;03m# Transition to different state → Conversation\u001b[39;00m\n\u001b[32m    295\u001b[39m     next_agent = agents[next_state]\n\u001b[32m--> \u001b[39m\u001b[32m296\u001b[39m     \u001b[38;5;28;43mself\u001b[39;49m\u001b[43m.\u001b[49m\u001b[43mtwo_agent_conversation\u001b[49m\u001b[43m(\u001b[49m\n\u001b[32m    297\u001b[39m \u001b[43m        \u001b[49m\u001b[43mcurrent_agent\u001b[49m\u001b[43m,\u001b[49m\u001b[43m \u001b[49m\u001b[43mnext_agent\u001b[49m\u001b[43m,\u001b[49m\u001b[43m \u001b[49m\u001b[43mcontext\u001b[49m\u001b[43m,\u001b[49m\u001b[43m \u001b[49m\u001b[43mstep\u001b[49m\u001b[43m \u001b[49m\u001b[43m+\u001b[49m\u001b[43m \u001b[49m\u001b[32;43m1\u001b[39;49m\u001b[43m,\u001b[49m\u001b[43m \u001b[49m\n\u001b[32m    298\u001b[39m \u001b[43m        \u001b[49m\u001b[43mconversation_max_turns\u001b[49m\u001b[43m,\u001b[49m\u001b[43m \u001b[49m\u001b[43mtesting_mode\u001b[49m\n\u001b[32m    299\u001b[39m \u001b[43m    \u001b[49m\u001b[43m)\u001b[49m\n\u001b[32m    301\u001b[39m \u001b[38;5;66;03m# Move to next state\u001b[39;00m\n\u001b[32m    302\u001b[39m current_state = next_state\n",
      "\u001b[36mFile \u001b[39m\u001b[32m~/Documents/Projects/cognitive-agents/markov_agent_chain.py:167\u001b[39m, in \u001b[36mMarkovAgentChain.two_agent_conversation\u001b[39m\u001b[34m(self, agent1, agent2, context, step, max_turns, testing_mode)\u001b[39m\n\u001b[32m    164\u001b[39m \u001b[38;5;28;01mfor\u001b[39;00m turn \u001b[38;5;129;01min\u001b[39;00m \u001b[38;5;28mrange\u001b[39m(max_turns):\n\u001b[32m    165\u001b[39m     \u001b[38;5;28;01mtry\u001b[39;00m:\n\u001b[32m    166\u001b[39m         \u001b[38;5;66;03m# Current agent speaks\u001b[39;00m\n\u001b[32m--> \u001b[39m\u001b[32m167\u001b[39m         response, sales_detected, ended = \u001b[43mcurrent_speaker\u001b[49m\u001b[43m.\u001b[49m\u001b[43mAct\u001b[49m\u001b[43m(\u001b[49m\n\u001b[32m    168\u001b[39m \u001b[43m            \u001b[49m\u001b[43mconversation_id\u001b[49m\u001b[43m,\u001b[49m\u001b[43m \u001b[49m\u001b[43mcurr_dialogue\u001b[49m\u001b[43m,\u001b[49m\u001b[43m \u001b[49m\u001b[43mcontext\u001b[49m\u001b[43m,\u001b[49m\u001b[43m \u001b[49m\u001b[43mturn\u001b[49m\n\u001b[32m    169\u001b[39m \u001b[43m        \u001b[49m\u001b[43m)\u001b[49m\n\u001b[32m    170\u001b[39m         curr_dialogue.append([current_speaker.scratch.get_fullname(), response])\n\u001b[32m    171\u001b[39m         \u001b[38;5;28mprint\u001b[39m(\u001b[33mf\u001b[39m\u001b[33m\"\u001b[39m\u001b[33m   \u001b[39m\u001b[38;5;132;01m{\u001b[39;00mcurrent_speaker.scratch.get_fullname()\u001b[38;5;132;01m}\u001b[39;00m\u001b[33m: \u001b[39m\u001b[38;5;132;01m{\u001b[39;00mresponse\u001b[38;5;132;01m}\u001b[39;00m\u001b[33m\"\u001b[39m)\n",
      "\u001b[36mFile \u001b[39m\u001b[32m~/Documents/Projects/cognitive-agents/generative_agent/generative_agent.py:269\u001b[39m, in \u001b[36mGenerativeAgent.Act\u001b[39m\u001b[34m(self, conversation_id, curr_dialogue, context, time_step)\u001b[39m\n\u001b[32m    258\u001b[39m \u001b[38;5;28;01mdef\u001b[39;00m\u001b[38;5;250m \u001b[39m\u001b[34mAct\u001b[39m(\u001b[38;5;28mself\u001b[39m, conversation_id: \u001b[38;5;28mstr\u001b[39m, curr_dialogue: List[List[\u001b[38;5;28mstr\u001b[39m]], context: \u001b[38;5;28mstr\u001b[39m = \u001b[33m\"\u001b[39m\u001b[33m\"\u001b[39m, time_step: \u001b[38;5;28mint\u001b[39m = \u001b[32m0\u001b[39m) -> \u001b[38;5;28mstr\u001b[39m:\n\u001b[32m    259\u001b[39m \u001b[38;5;250m  \u001b[39m\u001b[33;03m\"\"\"\u001b[39;00m\n\u001b[32m    260\u001b[39m \u001b[33;03m  Act in the conversation.\u001b[39;00m\n\u001b[32m    261\u001b[39m \n\u001b[32m   (...)\u001b[39m\u001b[32m    267\u001b[39m \u001b[33;03m    Generated response string\u001b[39;00m\n\u001b[32m    268\u001b[39m \u001b[33;03m  \"\"\"\u001b[39;00m\n\u001b[32m--> \u001b[39m\u001b[32m269\u001b[39m   \u001b[38;5;28;01mreturn\u001b[39;00m \u001b[43mutterance_conversation_based\u001b[49m\u001b[43m(\u001b[49m\u001b[38;5;28;43mself\u001b[39;49m\u001b[43m,\u001b[49m\u001b[43m \u001b[49m\u001b[43mconversation_id\u001b[49m\u001b[43m,\u001b[49m\u001b[43m \u001b[49m\u001b[43mcurr_dialogue\u001b[49m\u001b[43m,\u001b[49m\u001b[43m \u001b[49m\u001b[43mcontext\u001b[49m\u001b[43m,\u001b[49m\u001b[43m \u001b[49m\u001b[43mtime_step\u001b[49m\u001b[43m)\u001b[49m\n",
      "\u001b[36mFile \u001b[39m\u001b[32m~/Documents/Projects/cognitive-agents/generative_agent/modules/conversation_interaction.py:238\u001b[39m, in \u001b[36mutterance_conversation_based\u001b[39m\u001b[34m(agent, conversation_id, curr_dialogue, context, time_step)\u001b[39m\n\u001b[32m    234\u001b[39m \u001b[38;5;250m\u001b[39m\u001b[33;03m\"\"\"\u001b[39;00m\n\u001b[32m    235\u001b[39m \u001b[33;03mGenerate utterance using conversation-based approach.\u001b[39;00m\n\u001b[32m    236\u001b[39m \u001b[33;03m\"\"\"\u001b[39;00m\n\u001b[32m    237\u001b[39m \u001b[38;5;28mprint\u001b[39m(\u001b[33m\"\u001b[39m\u001b[33mtime_step: \u001b[39m\u001b[33m\"\u001b[39m, time_step)\n\u001b[32m--> \u001b[39m\u001b[32m238\u001b[39m response, sales, ended = \u001b[43mconversation_manager\u001b[49m\u001b[43m.\u001b[49m\u001b[43mgenerate_utterance\u001b[49m\u001b[43m(\u001b[49m\u001b[43magent\u001b[49m\u001b[43m=\u001b[49m\u001b[43magent\u001b[49m\u001b[43m,\u001b[49m\n\u001b[32m    239\u001b[39m \u001b[43m\u001b[49m\u001b[43mconversation_id\u001b[49m\u001b[43m=\u001b[49m\u001b[43mconversation_id\u001b[49m\u001b[43m,\u001b[49m\n\u001b[32m    240\u001b[39m \u001b[43m\u001b[49m\u001b[43mcurr_dialogue\u001b[49m\u001b[43m=\u001b[49m\u001b[43mcurr_dialogue\u001b[49m\u001b[43m,\u001b[49m\n\u001b[32m    241\u001b[39m \u001b[43m\u001b[49m\u001b[43mcontext\u001b[49m\u001b[43m=\u001b[49m\u001b[43mcontext\u001b[49m\u001b[43m)\u001b[49m\n\u001b[32m    243\u001b[39m \u001b[38;5;66;03m# if sales == True:\u001b[39;00m\n\u001b[32m    244\u001b[39m \n\u001b[32m    245\u001b[39m \u001b[38;5;66;03m#     sales_manager = ConversationTradeAnalyzer()\u001b[39;00m\n\u001b[32m   (...)\u001b[39m\u001b[32m    249\u001b[39m \u001b[38;5;66;03m#      context=context,\u001b[39;00m\n\u001b[32m    250\u001b[39m \u001b[38;5;66;03m#      time_step=time_step)\u001b[39;00m\n\u001b[32m    252\u001b[39m \u001b[38;5;28;01mreturn\u001b[39;00m response, sales, ended\n",
      "\u001b[36mFile \u001b[39m\u001b[32m~/Documents/Projects/cognitive-agents/generative_agent/modules/conversation_interaction.py:178\u001b[39m, in \u001b[36mConversationBasedInteraction.generate_utterance\u001b[39m\u001b[34m(self, agent, conversation_id, curr_dialogue, context)\u001b[39m\n\u001b[32m    175\u001b[39m agent_desc = agent.working_memory.generate_agent_description(agent, anchor)\n\u001b[32m    177\u001b[39m \u001b[38;5;66;03m# Generate response using LLM (Trade detection)\u001b[39;00m\n\u001b[32m--> \u001b[39m\u001b[32m178\u001b[39m result_dict, _ = \u001b[43mrun_LLM_generate_utterance\u001b[49m\u001b[43m(\u001b[49m\n\u001b[32m    179\u001b[39m \u001b[43m         \u001b[49m\u001b[43magent_desc\u001b[49m\u001b[43m,\u001b[49m\u001b[43m \u001b[49m\u001b[43mstr_dialogue\u001b[49m\u001b[43m,\u001b[49m\u001b[43m \u001b[49m\u001b[43mcontext\u001b[49m\u001b[43m,\u001b[49m\u001b[43m \u001b[49m\u001b[33;43m\"\u001b[39;49m\u001b[33;43m1\u001b[39;49m\u001b[33;43m\"\u001b[39;49m\u001b[43m,\u001b[49m\u001b[43m \u001b[49m\u001b[43mLLM_ANALYZE_VERS\u001b[49m\u001b[43m)\u001b[49m\n\u001b[32m    181\u001b[39m \u001b[38;5;28mprint\u001b[39m(\u001b[33mf\u001b[39m\u001b[33m\"\u001b[39m\u001b[33mresult_dict: \u001b[39m\u001b[38;5;132;01m{\u001b[39;00mresult_dict\u001b[38;5;132;01m}\u001b[39;00m\u001b[33m\"\u001b[39m)\n\u001b[32m    183\u001b[39m \u001b[38;5;66;03m# Add agent's response to working memory and conversation\u001b[39;00m\n",
      "\u001b[36mFile \u001b[39m\u001b[32m~/Documents/Projects/cognitive-agents/generative_agent/modules/conversation_interaction.py:111\u001b[39m, in \u001b[36mrun_LLM_generate_utterance\u001b[39m\u001b[34m(agent_desc, str_dialogue, context, prompt_version, model, verbose)\u001b[39m\n\u001b[32m    108\u001b[39m fail_safe = _get_fail_safe() \n\u001b[32m    110\u001b[39m \u001b[38;5;66;03m# Generate the utterance using the chat_safe_generate function\u001b[39;00m\n\u001b[32m--> \u001b[39m\u001b[32m111\u001b[39m output, prompt, prompt_input, fail_safe = \u001b[43mchat_safe_generate\u001b[49m\u001b[43m(\u001b[49m\n\u001b[32m    112\u001b[39m \u001b[43m  \u001b[49m\u001b[43mprompt_input\u001b[49m\u001b[43m,\u001b[49m\u001b[43m \u001b[49m\u001b[43mprompt_lib_file\u001b[49m\u001b[43m,\u001b[49m\u001b[43m \u001b[49m\u001b[43mmodel\u001b[49m\u001b[43m,\u001b[49m\u001b[43m \u001b[49m\u001b[32;43m1\u001b[39;49m\u001b[43m,\u001b[49m\u001b[43m \u001b[49m\u001b[43mfail_safe\u001b[49m\u001b[43m,\u001b[49m\u001b[43m \u001b[49m\n\u001b[32m    113\u001b[39m \u001b[43m  \u001b[49m\u001b[43m_func_clean_up\u001b[49m\u001b[43m,\u001b[49m\u001b[43m \u001b[49m\u001b[43mverbose\u001b[49m\u001b[43m)\u001b[49m\n\u001b[32m    115\u001b[39m \u001b[38;5;28;01mreturn\u001b[39;00m output, [output, prompt, prompt_input, fail_safe]\n",
      "\u001b[36mFile \u001b[39m\u001b[32m~/Documents/Projects/cognitive-agents/simulation_engine/gpt_structure.py:167\u001b[39m, in \u001b[36mchat_safe_generate\u001b[39m\u001b[34m(prompt_input, prompt_lib_file, model, repeat, fail_safe, func_clean_up, verbose, max_tokens, file_attachment, file_type, temperature)\u001b[39m\n\u001b[32m    165\u001b[39m prompt = generate_prompt(prompt_input, prompt_lib_file)\n\u001b[32m    166\u001b[39m \u001b[38;5;28;01mfor\u001b[39;00m i \u001b[38;5;129;01min\u001b[39;00m \u001b[38;5;28mrange\u001b[39m(repeat):\n\u001b[32m--> \u001b[39m\u001b[32m167\u001b[39m   output = \u001b[43mgpt_request\u001b[49m\u001b[43m(\u001b[49m\u001b[43mprompt\u001b[49m\u001b[43m,\u001b[49m\u001b[43m \u001b[49m\u001b[43mmodel\u001b[49m\u001b[43m,\u001b[49m\u001b[43m \u001b[49m\u001b[43mmax_tokens\u001b[49m\u001b[43m,\u001b[49m\u001b[43m \u001b[49m\u001b[43mtemperature\u001b[49m\u001b[43m)\u001b[49m\n\u001b[32m    168\u001b[39m   \u001b[38;5;28;01mif\u001b[39;00m output != \u001b[33m\"\u001b[39m\u001b[33mGENERATION ERROR\u001b[39m\u001b[33m\"\u001b[39m:\n\u001b[32m    169\u001b[39m     \u001b[38;5;28;01mbreak\u001b[39;00m\n",
      "\u001b[36mFile \u001b[39m\u001b[32m~/Documents/Projects/cognitive-agents/simulation_engine/gpt_structure.py:98\u001b[39m, in \u001b[36mgpt_request\u001b[39m\u001b[34m(prompt, model, max_tokens, temperature)\u001b[39m\n\u001b[32m     96\u001b[39m \u001b[38;5;28;01melif\u001b[39;00m model == \u001b[33m\"\u001b[39m\u001b[33mgpt-5-mini\u001b[39m\u001b[33m\"\u001b[39m \u001b[38;5;129;01mor\u001b[39;00m model == \u001b[33m\"\u001b[39m\u001b[33mgpt-5\u001b[39m\u001b[33m\"\u001b[39m:\n\u001b[32m     97\u001b[39m   client = OpenAI(api_key=OPENAI_API_KEY)\n\u001b[32m---> \u001b[39m\u001b[32m98\u001b[39m   response = \u001b[43mclient\u001b[49m\u001b[43m.\u001b[49m\u001b[43mchat\u001b[49m\u001b[43m.\u001b[49m\u001b[43mcompletions\u001b[49m\u001b[43m.\u001b[49m\u001b[43mcreate\u001b[49m\u001b[43m(\u001b[49m\n\u001b[32m     99\u001b[39m \u001b[43m      \u001b[49m\u001b[43mmodel\u001b[49m\u001b[43m=\u001b[49m\u001b[43mmodel\u001b[49m\u001b[43m,\u001b[49m\n\u001b[32m    100\u001b[39m \u001b[43m      \u001b[49m\u001b[43mmessages\u001b[49m\u001b[43m=\u001b[49m\u001b[43m[\u001b[49m\u001b[43m{\u001b[49m\u001b[33;43m\"\u001b[39;49m\u001b[33;43mrole\u001b[39;49m\u001b[33;43m\"\u001b[39;49m\u001b[43m:\u001b[49m\u001b[43m \u001b[49m\u001b[33;43m\"\u001b[39;49m\u001b[33;43muser\u001b[39;49m\u001b[33;43m\"\u001b[39;49m\u001b[43m,\u001b[49m\u001b[43m \u001b[49m\u001b[33;43m\"\u001b[39;49m\u001b[33;43mcontent\u001b[39;49m\u001b[33;43m\"\u001b[39;49m\u001b[43m:\u001b[49m\u001b[43m \u001b[49m\u001b[43mprompt\u001b[49m\u001b[43m}\u001b[49m\u001b[43m]\u001b[49m\u001b[43m,\u001b[49m\n\u001b[32m    101\u001b[39m \u001b[43m      \u001b[49m\u001b[43mreasoning_effort\u001b[49m\u001b[43m=\u001b[49m\u001b[33;43m\"\u001b[39;49m\u001b[33;43mminimal\u001b[39;49m\u001b[33;43m\"\u001b[39;49m\u001b[43m,\u001b[49m\n\u001b[32m    102\u001b[39m \u001b[43m      \u001b[49m\u001b[43mmax_completion_tokens\u001b[49m\u001b[43m=\u001b[49m\u001b[43mmax_tokens\u001b[49m\n\u001b[32m    103\u001b[39m \u001b[43m  \u001b[49m\u001b[43m)\u001b[49m\n\u001b[32m    104\u001b[39m   \u001b[38;5;28;01mreturn\u001b[39;00m response.choices[\u001b[32m0\u001b[39m].message.content\n\u001b[32m    106\u001b[39m \u001b[38;5;28;01melse\u001b[39;00m:\n",
      "\u001b[36mFile \u001b[39m\u001b[32m~/Documents/Projects/cognitive-agents/.venv/lib/python3.11/site-packages/openai/_utils/_utils.py:287\u001b[39m, in \u001b[36mrequired_args.<locals>.inner.<locals>.wrapper\u001b[39m\u001b[34m(*args, **kwargs)\u001b[39m\n\u001b[32m    285\u001b[39m             msg = \u001b[33mf\u001b[39m\u001b[33m\"\u001b[39m\u001b[33mMissing required argument: \u001b[39m\u001b[38;5;132;01m{\u001b[39;00mquote(missing[\u001b[32m0\u001b[39m])\u001b[38;5;132;01m}\u001b[39;00m\u001b[33m\"\u001b[39m\n\u001b[32m    286\u001b[39m     \u001b[38;5;28;01mraise\u001b[39;00m \u001b[38;5;167;01mTypeError\u001b[39;00m(msg)\n\u001b[32m--> \u001b[39m\u001b[32m287\u001b[39m \u001b[38;5;28;01mreturn\u001b[39;00m \u001b[43mfunc\u001b[49m\u001b[43m(\u001b[49m\u001b[43m*\u001b[49m\u001b[43margs\u001b[49m\u001b[43m,\u001b[49m\u001b[43m \u001b[49m\u001b[43m*\u001b[49m\u001b[43m*\u001b[49m\u001b[43mkwargs\u001b[49m\u001b[43m)\u001b[49m\n",
      "\u001b[36mFile \u001b[39m\u001b[32m~/Documents/Projects/cognitive-agents/.venv/lib/python3.11/site-packages/openai/resources/chat/completions/completions.py:1147\u001b[39m, in \u001b[36mCompletions.create\u001b[39m\u001b[34m(self, messages, model, audio, frequency_penalty, function_call, functions, logit_bias, logprobs, max_completion_tokens, max_tokens, metadata, modalities, n, parallel_tool_calls, prediction, presence_penalty, prompt_cache_key, reasoning_effort, response_format, safety_identifier, seed, service_tier, stop, store, stream, stream_options, temperature, tool_choice, tools, top_logprobs, top_p, user, verbosity, web_search_options, extra_headers, extra_query, extra_body, timeout)\u001b[39m\n\u001b[32m   1101\u001b[39m \u001b[38;5;129m@required_args\u001b[39m([\u001b[33m\"\u001b[39m\u001b[33mmessages\u001b[39m\u001b[33m\"\u001b[39m, \u001b[33m\"\u001b[39m\u001b[33mmodel\u001b[39m\u001b[33m\"\u001b[39m], [\u001b[33m\"\u001b[39m\u001b[33mmessages\u001b[39m\u001b[33m\"\u001b[39m, \u001b[33m\"\u001b[39m\u001b[33mmodel\u001b[39m\u001b[33m\"\u001b[39m, \u001b[33m\"\u001b[39m\u001b[33mstream\u001b[39m\u001b[33m\"\u001b[39m])\n\u001b[32m   1102\u001b[39m \u001b[38;5;28;01mdef\u001b[39;00m\u001b[38;5;250m \u001b[39m\u001b[34mcreate\u001b[39m(\n\u001b[32m   1103\u001b[39m     \u001b[38;5;28mself\u001b[39m,\n\u001b[32m   (...)\u001b[39m\u001b[32m   1144\u001b[39m     timeout: \u001b[38;5;28mfloat\u001b[39m | httpx.Timeout | \u001b[38;5;28;01mNone\u001b[39;00m | NotGiven = NOT_GIVEN,\n\u001b[32m   1145\u001b[39m ) -> ChatCompletion | Stream[ChatCompletionChunk]:\n\u001b[32m   1146\u001b[39m     validate_response_format(response_format)\n\u001b[32m-> \u001b[39m\u001b[32m1147\u001b[39m     \u001b[38;5;28;01mreturn\u001b[39;00m \u001b[38;5;28;43mself\u001b[39;49m\u001b[43m.\u001b[49m\u001b[43m_post\u001b[49m\u001b[43m(\u001b[49m\n\u001b[32m   1148\u001b[39m \u001b[43m        \u001b[49m\u001b[33;43m\"\u001b[39;49m\u001b[33;43m/chat/completions\u001b[39;49m\u001b[33;43m\"\u001b[39;49m\u001b[43m,\u001b[49m\n\u001b[32m   1149\u001b[39m \u001b[43m        \u001b[49m\u001b[43mbody\u001b[49m\u001b[43m=\u001b[49m\u001b[43mmaybe_transform\u001b[49m\u001b[43m(\u001b[49m\n\u001b[32m   1150\u001b[39m \u001b[43m            \u001b[49m\u001b[43m{\u001b[49m\n\u001b[32m   1151\u001b[39m \u001b[43m                \u001b[49m\u001b[33;43m\"\u001b[39;49m\u001b[33;43mmessages\u001b[39;49m\u001b[33;43m\"\u001b[39;49m\u001b[43m:\u001b[49m\u001b[43m \u001b[49m\u001b[43mmessages\u001b[49m\u001b[43m,\u001b[49m\n\u001b[32m   1152\u001b[39m \u001b[43m                \u001b[49m\u001b[33;43m\"\u001b[39;49m\u001b[33;43mmodel\u001b[39;49m\u001b[33;43m\"\u001b[39;49m\u001b[43m:\u001b[49m\u001b[43m \u001b[49m\u001b[43mmodel\u001b[49m\u001b[43m,\u001b[49m\n\u001b[32m   1153\u001b[39m \u001b[43m                \u001b[49m\u001b[33;43m\"\u001b[39;49m\u001b[33;43maudio\u001b[39;49m\u001b[33;43m\"\u001b[39;49m\u001b[43m:\u001b[49m\u001b[43m \u001b[49m\u001b[43maudio\u001b[49m\u001b[43m,\u001b[49m\n\u001b[32m   1154\u001b[39m \u001b[43m                \u001b[49m\u001b[33;43m\"\u001b[39;49m\u001b[33;43mfrequency_penalty\u001b[39;49m\u001b[33;43m\"\u001b[39;49m\u001b[43m:\u001b[49m\u001b[43m \u001b[49m\u001b[43mfrequency_penalty\u001b[49m\u001b[43m,\u001b[49m\n\u001b[32m   1155\u001b[39m \u001b[43m                \u001b[49m\u001b[33;43m\"\u001b[39;49m\u001b[33;43mfunction_call\u001b[39;49m\u001b[33;43m\"\u001b[39;49m\u001b[43m:\u001b[49m\u001b[43m \u001b[49m\u001b[43mfunction_call\u001b[49m\u001b[43m,\u001b[49m\n\u001b[32m   1156\u001b[39m \u001b[43m                \u001b[49m\u001b[33;43m\"\u001b[39;49m\u001b[33;43mfunctions\u001b[39;49m\u001b[33;43m\"\u001b[39;49m\u001b[43m:\u001b[49m\u001b[43m \u001b[49m\u001b[43mfunctions\u001b[49m\u001b[43m,\u001b[49m\n\u001b[32m   1157\u001b[39m \u001b[43m                \u001b[49m\u001b[33;43m\"\u001b[39;49m\u001b[33;43mlogit_bias\u001b[39;49m\u001b[33;43m\"\u001b[39;49m\u001b[43m:\u001b[49m\u001b[43m \u001b[49m\u001b[43mlogit_bias\u001b[49m\u001b[43m,\u001b[49m\n\u001b[32m   1158\u001b[39m \u001b[43m                \u001b[49m\u001b[33;43m\"\u001b[39;49m\u001b[33;43mlogprobs\u001b[39;49m\u001b[33;43m\"\u001b[39;49m\u001b[43m:\u001b[49m\u001b[43m \u001b[49m\u001b[43mlogprobs\u001b[49m\u001b[43m,\u001b[49m\n\u001b[32m   1159\u001b[39m \u001b[43m                \u001b[49m\u001b[33;43m\"\u001b[39;49m\u001b[33;43mmax_completion_tokens\u001b[39;49m\u001b[33;43m\"\u001b[39;49m\u001b[43m:\u001b[49m\u001b[43m \u001b[49m\u001b[43mmax_completion_tokens\u001b[49m\u001b[43m,\u001b[49m\n\u001b[32m   1160\u001b[39m \u001b[43m                \u001b[49m\u001b[33;43m\"\u001b[39;49m\u001b[33;43mmax_tokens\u001b[39;49m\u001b[33;43m\"\u001b[39;49m\u001b[43m:\u001b[49m\u001b[43m \u001b[49m\u001b[43mmax_tokens\u001b[49m\u001b[43m,\u001b[49m\n\u001b[32m   1161\u001b[39m \u001b[43m                \u001b[49m\u001b[33;43m\"\u001b[39;49m\u001b[33;43mmetadata\u001b[39;49m\u001b[33;43m\"\u001b[39;49m\u001b[43m:\u001b[49m\u001b[43m \u001b[49m\u001b[43mmetadata\u001b[49m\u001b[43m,\u001b[49m\n\u001b[32m   1162\u001b[39m \u001b[43m                \u001b[49m\u001b[33;43m\"\u001b[39;49m\u001b[33;43mmodalities\u001b[39;49m\u001b[33;43m\"\u001b[39;49m\u001b[43m:\u001b[49m\u001b[43m \u001b[49m\u001b[43mmodalities\u001b[49m\u001b[43m,\u001b[49m\n\u001b[32m   1163\u001b[39m \u001b[43m                \u001b[49m\u001b[33;43m\"\u001b[39;49m\u001b[33;43mn\u001b[39;49m\u001b[33;43m\"\u001b[39;49m\u001b[43m:\u001b[49m\u001b[43m \u001b[49m\u001b[43mn\u001b[49m\u001b[43m,\u001b[49m\n\u001b[32m   1164\u001b[39m \u001b[43m                \u001b[49m\u001b[33;43m\"\u001b[39;49m\u001b[33;43mparallel_tool_calls\u001b[39;49m\u001b[33;43m\"\u001b[39;49m\u001b[43m:\u001b[49m\u001b[43m \u001b[49m\u001b[43mparallel_tool_calls\u001b[49m\u001b[43m,\u001b[49m\n\u001b[32m   1165\u001b[39m \u001b[43m                \u001b[49m\u001b[33;43m\"\u001b[39;49m\u001b[33;43mprediction\u001b[39;49m\u001b[33;43m\"\u001b[39;49m\u001b[43m:\u001b[49m\u001b[43m \u001b[49m\u001b[43mprediction\u001b[49m\u001b[43m,\u001b[49m\n\u001b[32m   1166\u001b[39m \u001b[43m                \u001b[49m\u001b[33;43m\"\u001b[39;49m\u001b[33;43mpresence_penalty\u001b[39;49m\u001b[33;43m\"\u001b[39;49m\u001b[43m:\u001b[49m\u001b[43m \u001b[49m\u001b[43mpresence_penalty\u001b[49m\u001b[43m,\u001b[49m\n\u001b[32m   1167\u001b[39m \u001b[43m                \u001b[49m\u001b[33;43m\"\u001b[39;49m\u001b[33;43mprompt_cache_key\u001b[39;49m\u001b[33;43m\"\u001b[39;49m\u001b[43m:\u001b[49m\u001b[43m \u001b[49m\u001b[43mprompt_cache_key\u001b[49m\u001b[43m,\u001b[49m\n\u001b[32m   1168\u001b[39m \u001b[43m                \u001b[49m\u001b[33;43m\"\u001b[39;49m\u001b[33;43mreasoning_effort\u001b[39;49m\u001b[33;43m\"\u001b[39;49m\u001b[43m:\u001b[49m\u001b[43m \u001b[49m\u001b[43mreasoning_effort\u001b[49m\u001b[43m,\u001b[49m\n\u001b[32m   1169\u001b[39m \u001b[43m                \u001b[49m\u001b[33;43m\"\u001b[39;49m\u001b[33;43mresponse_format\u001b[39;49m\u001b[33;43m\"\u001b[39;49m\u001b[43m:\u001b[49m\u001b[43m \u001b[49m\u001b[43mresponse_format\u001b[49m\u001b[43m,\u001b[49m\n\u001b[32m   1170\u001b[39m \u001b[43m                \u001b[49m\u001b[33;43m\"\u001b[39;49m\u001b[33;43msafety_identifier\u001b[39;49m\u001b[33;43m\"\u001b[39;49m\u001b[43m:\u001b[49m\u001b[43m \u001b[49m\u001b[43msafety_identifier\u001b[49m\u001b[43m,\u001b[49m\n\u001b[32m   1171\u001b[39m \u001b[43m                \u001b[49m\u001b[33;43m\"\u001b[39;49m\u001b[33;43mseed\u001b[39;49m\u001b[33;43m\"\u001b[39;49m\u001b[43m:\u001b[49m\u001b[43m \u001b[49m\u001b[43mseed\u001b[49m\u001b[43m,\u001b[49m\n\u001b[32m   1172\u001b[39m \u001b[43m                \u001b[49m\u001b[33;43m\"\u001b[39;49m\u001b[33;43mservice_tier\u001b[39;49m\u001b[33;43m\"\u001b[39;49m\u001b[43m:\u001b[49m\u001b[43m \u001b[49m\u001b[43mservice_tier\u001b[49m\u001b[43m,\u001b[49m\n\u001b[32m   1173\u001b[39m \u001b[43m                \u001b[49m\u001b[33;43m\"\u001b[39;49m\u001b[33;43mstop\u001b[39;49m\u001b[33;43m\"\u001b[39;49m\u001b[43m:\u001b[49m\u001b[43m \u001b[49m\u001b[43mstop\u001b[49m\u001b[43m,\u001b[49m\n\u001b[32m   1174\u001b[39m \u001b[43m                \u001b[49m\u001b[33;43m\"\u001b[39;49m\u001b[33;43mstore\u001b[39;49m\u001b[33;43m\"\u001b[39;49m\u001b[43m:\u001b[49m\u001b[43m \u001b[49m\u001b[43mstore\u001b[49m\u001b[43m,\u001b[49m\n\u001b[32m   1175\u001b[39m \u001b[43m                \u001b[49m\u001b[33;43m\"\u001b[39;49m\u001b[33;43mstream\u001b[39;49m\u001b[33;43m\"\u001b[39;49m\u001b[43m:\u001b[49m\u001b[43m \u001b[49m\u001b[43mstream\u001b[49m\u001b[43m,\u001b[49m\n\u001b[32m   1176\u001b[39m \u001b[43m                \u001b[49m\u001b[33;43m\"\u001b[39;49m\u001b[33;43mstream_options\u001b[39;49m\u001b[33;43m\"\u001b[39;49m\u001b[43m:\u001b[49m\u001b[43m \u001b[49m\u001b[43mstream_options\u001b[49m\u001b[43m,\u001b[49m\n\u001b[32m   1177\u001b[39m \u001b[43m                \u001b[49m\u001b[33;43m\"\u001b[39;49m\u001b[33;43mtemperature\u001b[39;49m\u001b[33;43m\"\u001b[39;49m\u001b[43m:\u001b[49m\u001b[43m \u001b[49m\u001b[43mtemperature\u001b[49m\u001b[43m,\u001b[49m\n\u001b[32m   1178\u001b[39m \u001b[43m                \u001b[49m\u001b[33;43m\"\u001b[39;49m\u001b[33;43mtool_choice\u001b[39;49m\u001b[33;43m\"\u001b[39;49m\u001b[43m:\u001b[49m\u001b[43m \u001b[49m\u001b[43mtool_choice\u001b[49m\u001b[43m,\u001b[49m\n\u001b[32m   1179\u001b[39m \u001b[43m                \u001b[49m\u001b[33;43m\"\u001b[39;49m\u001b[33;43mtools\u001b[39;49m\u001b[33;43m\"\u001b[39;49m\u001b[43m:\u001b[49m\u001b[43m \u001b[49m\u001b[43mtools\u001b[49m\u001b[43m,\u001b[49m\n\u001b[32m   1180\u001b[39m \u001b[43m                \u001b[49m\u001b[33;43m\"\u001b[39;49m\u001b[33;43mtop_logprobs\u001b[39;49m\u001b[33;43m\"\u001b[39;49m\u001b[43m:\u001b[49m\u001b[43m \u001b[49m\u001b[43mtop_logprobs\u001b[49m\u001b[43m,\u001b[49m\n\u001b[32m   1181\u001b[39m \u001b[43m                \u001b[49m\u001b[33;43m\"\u001b[39;49m\u001b[33;43mtop_p\u001b[39;49m\u001b[33;43m\"\u001b[39;49m\u001b[43m:\u001b[49m\u001b[43m \u001b[49m\u001b[43mtop_p\u001b[49m\u001b[43m,\u001b[49m\n\u001b[32m   1182\u001b[39m \u001b[43m                \u001b[49m\u001b[33;43m\"\u001b[39;49m\u001b[33;43muser\u001b[39;49m\u001b[33;43m\"\u001b[39;49m\u001b[43m:\u001b[49m\u001b[43m \u001b[49m\u001b[43muser\u001b[49m\u001b[43m,\u001b[49m\n\u001b[32m   1183\u001b[39m \u001b[43m                \u001b[49m\u001b[33;43m\"\u001b[39;49m\u001b[33;43mverbosity\u001b[39;49m\u001b[33;43m\"\u001b[39;49m\u001b[43m:\u001b[49m\u001b[43m \u001b[49m\u001b[43mverbosity\u001b[49m\u001b[43m,\u001b[49m\n\u001b[32m   1184\u001b[39m \u001b[43m                \u001b[49m\u001b[33;43m\"\u001b[39;49m\u001b[33;43mweb_search_options\u001b[39;49m\u001b[33;43m\"\u001b[39;49m\u001b[43m:\u001b[49m\u001b[43m \u001b[49m\u001b[43mweb_search_options\u001b[49m\u001b[43m,\u001b[49m\n\u001b[32m   1185\u001b[39m \u001b[43m            \u001b[49m\u001b[43m}\u001b[49m\u001b[43m,\u001b[49m\n\u001b[32m   1186\u001b[39m \u001b[43m            \u001b[49m\u001b[43mcompletion_create_params\u001b[49m\u001b[43m.\u001b[49m\u001b[43mCompletionCreateParamsStreaming\u001b[49m\n\u001b[32m   1187\u001b[39m \u001b[43m            \u001b[49m\u001b[38;5;28;43;01mif\u001b[39;49;00m\u001b[43m \u001b[49m\u001b[43mstream\u001b[49m\n\u001b[32m   1188\u001b[39m \u001b[43m            \u001b[49m\u001b[38;5;28;43;01melse\u001b[39;49;00m\u001b[43m \u001b[49m\u001b[43mcompletion_create_params\u001b[49m\u001b[43m.\u001b[49m\u001b[43mCompletionCreateParamsNonStreaming\u001b[49m\u001b[43m,\u001b[49m\n\u001b[32m   1189\u001b[39m \u001b[43m        \u001b[49m\u001b[43m)\u001b[49m\u001b[43m,\u001b[49m\n\u001b[32m   1190\u001b[39m \u001b[43m        \u001b[49m\u001b[43moptions\u001b[49m\u001b[43m=\u001b[49m\u001b[43mmake_request_options\u001b[49m\u001b[43m(\u001b[49m\n\u001b[32m   1191\u001b[39m \u001b[43m            \u001b[49m\u001b[43mextra_headers\u001b[49m\u001b[43m=\u001b[49m\u001b[43mextra_headers\u001b[49m\u001b[43m,\u001b[49m\u001b[43m \u001b[49m\u001b[43mextra_query\u001b[49m\u001b[43m=\u001b[49m\u001b[43mextra_query\u001b[49m\u001b[43m,\u001b[49m\u001b[43m \u001b[49m\u001b[43mextra_body\u001b[49m\u001b[43m=\u001b[49m\u001b[43mextra_body\u001b[49m\u001b[43m,\u001b[49m\u001b[43m \u001b[49m\u001b[43mtimeout\u001b[49m\u001b[43m=\u001b[49m\u001b[43mtimeout\u001b[49m\n\u001b[32m   1192\u001b[39m \u001b[43m        \u001b[49m\u001b[43m)\u001b[49m\u001b[43m,\u001b[49m\n\u001b[32m   1193\u001b[39m \u001b[43m        \u001b[49m\u001b[43mcast_to\u001b[49m\u001b[43m=\u001b[49m\u001b[43mChatCompletion\u001b[49m\u001b[43m,\u001b[49m\n\u001b[32m   1194\u001b[39m \u001b[43m        \u001b[49m\u001b[43mstream\u001b[49m\u001b[43m=\u001b[49m\u001b[43mstream\u001b[49m\u001b[43m \u001b[49m\u001b[38;5;129;43;01mor\u001b[39;49;00m\u001b[43m \u001b[49m\u001b[38;5;28;43;01mFalse\u001b[39;49;00m\u001b[43m,\u001b[49m\n\u001b[32m   1195\u001b[39m \u001b[43m        \u001b[49m\u001b[43mstream_cls\u001b[49m\u001b[43m=\u001b[49m\u001b[43mStream\u001b[49m\u001b[43m[\u001b[49m\u001b[43mChatCompletionChunk\u001b[49m\u001b[43m]\u001b[49m\u001b[43m,\u001b[49m\n\u001b[32m   1196\u001b[39m \u001b[43m    \u001b[49m\u001b[43m)\u001b[49m\n",
      "\u001b[36mFile \u001b[39m\u001b[32m~/Documents/Projects/cognitive-agents/.venv/lib/python3.11/site-packages/openai/_base_client.py:1259\u001b[39m, in \u001b[36mSyncAPIClient.post\u001b[39m\u001b[34m(self, path, cast_to, body, options, files, stream, stream_cls)\u001b[39m\n\u001b[32m   1245\u001b[39m \u001b[38;5;28;01mdef\u001b[39;00m\u001b[38;5;250m \u001b[39m\u001b[34mpost\u001b[39m(\n\u001b[32m   1246\u001b[39m     \u001b[38;5;28mself\u001b[39m,\n\u001b[32m   1247\u001b[39m     path: \u001b[38;5;28mstr\u001b[39m,\n\u001b[32m   (...)\u001b[39m\u001b[32m   1254\u001b[39m     stream_cls: \u001b[38;5;28mtype\u001b[39m[_StreamT] | \u001b[38;5;28;01mNone\u001b[39;00m = \u001b[38;5;28;01mNone\u001b[39;00m,\n\u001b[32m   1255\u001b[39m ) -> ResponseT | _StreamT:\n\u001b[32m   1256\u001b[39m     opts = FinalRequestOptions.construct(\n\u001b[32m   1257\u001b[39m         method=\u001b[33m\"\u001b[39m\u001b[33mpost\u001b[39m\u001b[33m\"\u001b[39m, url=path, json_data=body, files=to_httpx_files(files), **options\n\u001b[32m   1258\u001b[39m     )\n\u001b[32m-> \u001b[39m\u001b[32m1259\u001b[39m     \u001b[38;5;28;01mreturn\u001b[39;00m cast(ResponseT, \u001b[38;5;28;43mself\u001b[39;49m\u001b[43m.\u001b[49m\u001b[43mrequest\u001b[49m\u001b[43m(\u001b[49m\u001b[43mcast_to\u001b[49m\u001b[43m,\u001b[49m\u001b[43m \u001b[49m\u001b[43mopts\u001b[49m\u001b[43m,\u001b[49m\u001b[43m \u001b[49m\u001b[43mstream\u001b[49m\u001b[43m=\u001b[49m\u001b[43mstream\u001b[49m\u001b[43m,\u001b[49m\u001b[43m \u001b[49m\u001b[43mstream_cls\u001b[49m\u001b[43m=\u001b[49m\u001b[43mstream_cls\u001b[49m\u001b[43m)\u001b[49m)\n",
      "\u001b[36mFile \u001b[39m\u001b[32m~/Documents/Projects/cognitive-agents/.venv/lib/python3.11/site-packages/openai/_base_client.py:982\u001b[39m, in \u001b[36mSyncAPIClient.request\u001b[39m\u001b[34m(self, cast_to, options, stream, stream_cls)\u001b[39m\n\u001b[32m    980\u001b[39m response = \u001b[38;5;28;01mNone\u001b[39;00m\n\u001b[32m    981\u001b[39m \u001b[38;5;28;01mtry\u001b[39;00m:\n\u001b[32m--> \u001b[39m\u001b[32m982\u001b[39m     response = \u001b[38;5;28;43mself\u001b[39;49m\u001b[43m.\u001b[49m\u001b[43m_client\u001b[49m\u001b[43m.\u001b[49m\u001b[43msend\u001b[49m\u001b[43m(\u001b[49m\n\u001b[32m    983\u001b[39m \u001b[43m        \u001b[49m\u001b[43mrequest\u001b[49m\u001b[43m,\u001b[49m\n\u001b[32m    984\u001b[39m \u001b[43m        \u001b[49m\u001b[43mstream\u001b[49m\u001b[43m=\u001b[49m\u001b[43mstream\u001b[49m\u001b[43m \u001b[49m\u001b[38;5;129;43;01mor\u001b[39;49;00m\u001b[43m \u001b[49m\u001b[38;5;28;43mself\u001b[39;49m\u001b[43m.\u001b[49m\u001b[43m_should_stream_response_body\u001b[49m\u001b[43m(\u001b[49m\u001b[43mrequest\u001b[49m\u001b[43m=\u001b[49m\u001b[43mrequest\u001b[49m\u001b[43m)\u001b[49m\u001b[43m,\u001b[49m\n\u001b[32m    985\u001b[39m \u001b[43m        \u001b[49m\u001b[43m*\u001b[49m\u001b[43m*\u001b[49m\u001b[43mkwargs\u001b[49m\u001b[43m,\u001b[49m\n\u001b[32m    986\u001b[39m \u001b[43m    \u001b[49m\u001b[43m)\u001b[49m\n\u001b[32m    987\u001b[39m \u001b[38;5;28;01mexcept\u001b[39;00m httpx.TimeoutException \u001b[38;5;28;01mas\u001b[39;00m err:\n\u001b[32m    988\u001b[39m     log.debug(\u001b[33m\"\u001b[39m\u001b[33mEncountered httpx.TimeoutException\u001b[39m\u001b[33m\"\u001b[39m, exc_info=\u001b[38;5;28;01mTrue\u001b[39;00m)\n",
      "\u001b[36mFile \u001b[39m\u001b[32m~/Documents/Projects/cognitive-agents/.venv/lib/python3.11/site-packages/httpx/_client.py:926\u001b[39m, in \u001b[36mClient.send\u001b[39m\u001b[34m(self, request, stream, auth, follow_redirects)\u001b[39m\n\u001b[32m    922\u001b[39m \u001b[38;5;28mself\u001b[39m._set_timeout(request)\n\u001b[32m    924\u001b[39m auth = \u001b[38;5;28mself\u001b[39m._build_request_auth(request, auth)\n\u001b[32m--> \u001b[39m\u001b[32m926\u001b[39m response = \u001b[38;5;28;43mself\u001b[39;49m\u001b[43m.\u001b[49m\u001b[43m_send_handling_auth\u001b[49m\u001b[43m(\u001b[49m\n\u001b[32m    927\u001b[39m \u001b[43m    \u001b[49m\u001b[43mrequest\u001b[49m\u001b[43m,\u001b[49m\n\u001b[32m    928\u001b[39m \u001b[43m    \u001b[49m\u001b[43mauth\u001b[49m\u001b[43m=\u001b[49m\u001b[43mauth\u001b[49m\u001b[43m,\u001b[49m\n\u001b[32m    929\u001b[39m \u001b[43m    \u001b[49m\u001b[43mfollow_redirects\u001b[49m\u001b[43m=\u001b[49m\u001b[43mfollow_redirects\u001b[49m\u001b[43m,\u001b[49m\n\u001b[32m    930\u001b[39m \u001b[43m    \u001b[49m\u001b[43mhistory\u001b[49m\u001b[43m=\u001b[49m\u001b[43m[\u001b[49m\u001b[43m]\u001b[49m\u001b[43m,\u001b[49m\n\u001b[32m    931\u001b[39m \u001b[43m\u001b[49m\u001b[43m)\u001b[49m\n\u001b[32m    932\u001b[39m \u001b[38;5;28;01mtry\u001b[39;00m:\n\u001b[32m    933\u001b[39m     \u001b[38;5;28;01mif\u001b[39;00m \u001b[38;5;129;01mnot\u001b[39;00m stream:\n",
      "\u001b[36mFile \u001b[39m\u001b[32m~/Documents/Projects/cognitive-agents/.venv/lib/python3.11/site-packages/httpx/_client.py:954\u001b[39m, in \u001b[36mClient._send_handling_auth\u001b[39m\u001b[34m(self, request, auth, follow_redirects, history)\u001b[39m\n\u001b[32m    951\u001b[39m request = \u001b[38;5;28mnext\u001b[39m(auth_flow)\n\u001b[32m    953\u001b[39m \u001b[38;5;28;01mwhile\u001b[39;00m \u001b[38;5;28;01mTrue\u001b[39;00m:\n\u001b[32m--> \u001b[39m\u001b[32m954\u001b[39m     response = \u001b[38;5;28;43mself\u001b[39;49m\u001b[43m.\u001b[49m\u001b[43m_send_handling_redirects\u001b[49m\u001b[43m(\u001b[49m\n\u001b[32m    955\u001b[39m \u001b[43m        \u001b[49m\u001b[43mrequest\u001b[49m\u001b[43m,\u001b[49m\n\u001b[32m    956\u001b[39m \u001b[43m        \u001b[49m\u001b[43mfollow_redirects\u001b[49m\u001b[43m=\u001b[49m\u001b[43mfollow_redirects\u001b[49m\u001b[43m,\u001b[49m\n\u001b[32m    957\u001b[39m \u001b[43m        \u001b[49m\u001b[43mhistory\u001b[49m\u001b[43m=\u001b[49m\u001b[43mhistory\u001b[49m\u001b[43m,\u001b[49m\n\u001b[32m    958\u001b[39m \u001b[43m    \u001b[49m\u001b[43m)\u001b[49m\n\u001b[32m    959\u001b[39m     \u001b[38;5;28;01mtry\u001b[39;00m:\n\u001b[32m    960\u001b[39m         \u001b[38;5;28;01mtry\u001b[39;00m:\n",
      "\u001b[36mFile \u001b[39m\u001b[32m~/Documents/Projects/cognitive-agents/.venv/lib/python3.11/site-packages/httpx/_client.py:991\u001b[39m, in \u001b[36mClient._send_handling_redirects\u001b[39m\u001b[34m(self, request, follow_redirects, history)\u001b[39m\n\u001b[32m    988\u001b[39m \u001b[38;5;28;01mfor\u001b[39;00m hook \u001b[38;5;129;01min\u001b[39;00m \u001b[38;5;28mself\u001b[39m._event_hooks[\u001b[33m\"\u001b[39m\u001b[33mrequest\u001b[39m\u001b[33m\"\u001b[39m]:\n\u001b[32m    989\u001b[39m     hook(request)\n\u001b[32m--> \u001b[39m\u001b[32m991\u001b[39m response = \u001b[38;5;28;43mself\u001b[39;49m\u001b[43m.\u001b[49m\u001b[43m_send_single_request\u001b[49m\u001b[43m(\u001b[49m\u001b[43mrequest\u001b[49m\u001b[43m)\u001b[49m\n\u001b[32m    992\u001b[39m \u001b[38;5;28;01mtry\u001b[39;00m:\n\u001b[32m    993\u001b[39m     \u001b[38;5;28;01mfor\u001b[39;00m hook \u001b[38;5;129;01min\u001b[39;00m \u001b[38;5;28mself\u001b[39m._event_hooks[\u001b[33m\"\u001b[39m\u001b[33mresponse\u001b[39m\u001b[33m\"\u001b[39m]:\n",
      "\u001b[36mFile \u001b[39m\u001b[32m~/Documents/Projects/cognitive-agents/.venv/lib/python3.11/site-packages/httpx/_client.py:1027\u001b[39m, in \u001b[36mClient._send_single_request\u001b[39m\u001b[34m(self, request)\u001b[39m\n\u001b[32m   1022\u001b[39m     \u001b[38;5;28;01mraise\u001b[39;00m \u001b[38;5;167;01mRuntimeError\u001b[39;00m(\n\u001b[32m   1023\u001b[39m         \u001b[33m\"\u001b[39m\u001b[33mAttempted to send an async request with a sync Client instance.\u001b[39m\u001b[33m\"\u001b[39m\n\u001b[32m   1024\u001b[39m     )\n\u001b[32m   1026\u001b[39m \u001b[38;5;28;01mwith\u001b[39;00m request_context(request=request):\n\u001b[32m-> \u001b[39m\u001b[32m1027\u001b[39m     response = \u001b[43mtransport\u001b[49m\u001b[43m.\u001b[49m\u001b[43mhandle_request\u001b[49m\u001b[43m(\u001b[49m\u001b[43mrequest\u001b[49m\u001b[43m)\u001b[49m\n\u001b[32m   1029\u001b[39m \u001b[38;5;28;01massert\u001b[39;00m \u001b[38;5;28misinstance\u001b[39m(response.stream, SyncByteStream)\n\u001b[32m   1031\u001b[39m response.request = request\n",
      "\u001b[36mFile \u001b[39m\u001b[32m~/Documents/Projects/cognitive-agents/.venv/lib/python3.11/site-packages/httpx/_transports/default.py:236\u001b[39m, in \u001b[36mHTTPTransport.handle_request\u001b[39m\u001b[34m(self, request)\u001b[39m\n\u001b[32m    223\u001b[39m req = httpcore.Request(\n\u001b[32m    224\u001b[39m     method=request.method,\n\u001b[32m    225\u001b[39m     url=httpcore.URL(\n\u001b[32m   (...)\u001b[39m\u001b[32m    233\u001b[39m     extensions=request.extensions,\n\u001b[32m    234\u001b[39m )\n\u001b[32m    235\u001b[39m \u001b[38;5;28;01mwith\u001b[39;00m map_httpcore_exceptions():\n\u001b[32m--> \u001b[39m\u001b[32m236\u001b[39m     resp = \u001b[38;5;28;43mself\u001b[39;49m\u001b[43m.\u001b[49m\u001b[43m_pool\u001b[49m\u001b[43m.\u001b[49m\u001b[43mhandle_request\u001b[49m\u001b[43m(\u001b[49m\u001b[43mreq\u001b[49m\u001b[43m)\u001b[49m\n\u001b[32m    238\u001b[39m \u001b[38;5;28;01massert\u001b[39;00m \u001b[38;5;28misinstance\u001b[39m(resp.stream, typing.Iterable)\n\u001b[32m    240\u001b[39m \u001b[38;5;28;01mreturn\u001b[39;00m Response(\n\u001b[32m    241\u001b[39m     status_code=resp.status,\n\u001b[32m    242\u001b[39m     headers=resp.headers,\n\u001b[32m    243\u001b[39m     stream=ResponseStream(resp.stream),\n\u001b[32m    244\u001b[39m     extensions=resp.extensions,\n\u001b[32m    245\u001b[39m )\n",
      "\u001b[36mFile \u001b[39m\u001b[32m~/Documents/Projects/cognitive-agents/.venv/lib/python3.11/site-packages/httpcore/_sync/connection_pool.py:216\u001b[39m, in \u001b[36mConnectionPool.handle_request\u001b[39m\u001b[34m(self, request)\u001b[39m\n\u001b[32m    213\u001b[39m         closing = \u001b[38;5;28mself\u001b[39m._assign_requests_to_connections()\n\u001b[32m    215\u001b[39m     \u001b[38;5;28mself\u001b[39m._close_connections(closing)\n\u001b[32m--> \u001b[39m\u001b[32m216\u001b[39m     \u001b[38;5;28;01mraise\u001b[39;00m exc \u001b[38;5;28;01mfrom\u001b[39;00m\u001b[38;5;250m \u001b[39m\u001b[38;5;28;01mNone\u001b[39;00m\n\u001b[32m    218\u001b[39m \u001b[38;5;66;03m# Return the response. Note that in this case we still have to manage\u001b[39;00m\n\u001b[32m    219\u001b[39m \u001b[38;5;66;03m# the point at which the response is closed.\u001b[39;00m\n\u001b[32m    220\u001b[39m \u001b[38;5;28;01massert\u001b[39;00m \u001b[38;5;28misinstance\u001b[39m(response.stream, Iterable)\n",
      "\u001b[36mFile \u001b[39m\u001b[32m~/Documents/Projects/cognitive-agents/.venv/lib/python3.11/site-packages/httpcore/_sync/connection_pool.py:196\u001b[39m, in \u001b[36mConnectionPool.handle_request\u001b[39m\u001b[34m(self, request)\u001b[39m\n\u001b[32m    192\u001b[39m connection = pool_request.wait_for_connection(timeout=timeout)\n\u001b[32m    194\u001b[39m \u001b[38;5;28;01mtry\u001b[39;00m:\n\u001b[32m    195\u001b[39m     \u001b[38;5;66;03m# Send the request on the assigned connection.\u001b[39;00m\n\u001b[32m--> \u001b[39m\u001b[32m196\u001b[39m     response = \u001b[43mconnection\u001b[49m\u001b[43m.\u001b[49m\u001b[43mhandle_request\u001b[49m\u001b[43m(\u001b[49m\n\u001b[32m    197\u001b[39m \u001b[43m        \u001b[49m\u001b[43mpool_request\u001b[49m\u001b[43m.\u001b[49m\u001b[43mrequest\u001b[49m\n\u001b[32m    198\u001b[39m \u001b[43m    \u001b[49m\u001b[43m)\u001b[49m\n\u001b[32m    199\u001b[39m \u001b[38;5;28;01mexcept\u001b[39;00m ConnectionNotAvailable:\n\u001b[32m    200\u001b[39m     \u001b[38;5;66;03m# In some cases a connection may initially be available to\u001b[39;00m\n\u001b[32m    201\u001b[39m     \u001b[38;5;66;03m# handle a request, but then become unavailable.\u001b[39;00m\n\u001b[32m    202\u001b[39m     \u001b[38;5;66;03m#\u001b[39;00m\n\u001b[32m    203\u001b[39m     \u001b[38;5;66;03m# In this case we clear the connection and try again.\u001b[39;00m\n\u001b[32m    204\u001b[39m     pool_request.clear_connection()\n",
      "\u001b[36mFile \u001b[39m\u001b[32m~/Documents/Projects/cognitive-agents/.venv/lib/python3.11/site-packages/httpcore/_sync/connection.py:101\u001b[39m, in \u001b[36mHTTPConnection.handle_request\u001b[39m\u001b[34m(self, request)\u001b[39m\n\u001b[32m     98\u001b[39m     \u001b[38;5;28mself\u001b[39m._connect_failed = \u001b[38;5;28;01mTrue\u001b[39;00m\n\u001b[32m     99\u001b[39m     \u001b[38;5;28;01mraise\u001b[39;00m exc\n\u001b[32m--> \u001b[39m\u001b[32m101\u001b[39m \u001b[38;5;28;01mreturn\u001b[39;00m \u001b[38;5;28;43mself\u001b[39;49m\u001b[43m.\u001b[49m\u001b[43m_connection\u001b[49m\u001b[43m.\u001b[49m\u001b[43mhandle_request\u001b[49m\u001b[43m(\u001b[49m\u001b[43mrequest\u001b[49m\u001b[43m)\u001b[49m\n",
      "\u001b[36mFile \u001b[39m\u001b[32m~/Documents/Projects/cognitive-agents/.venv/lib/python3.11/site-packages/httpcore/_sync/http11.py:143\u001b[39m, in \u001b[36mHTTP11Connection.handle_request\u001b[39m\u001b[34m(self, request)\u001b[39m\n\u001b[32m    141\u001b[39m     \u001b[38;5;28;01mwith\u001b[39;00m Trace(\u001b[33m\"\u001b[39m\u001b[33mresponse_closed\u001b[39m\u001b[33m\"\u001b[39m, logger, request) \u001b[38;5;28;01mas\u001b[39;00m trace:\n\u001b[32m    142\u001b[39m         \u001b[38;5;28mself\u001b[39m._response_closed()\n\u001b[32m--> \u001b[39m\u001b[32m143\u001b[39m \u001b[38;5;28;01mraise\u001b[39;00m exc\n",
      "\u001b[36mFile \u001b[39m\u001b[32m~/Documents/Projects/cognitive-agents/.venv/lib/python3.11/site-packages/httpcore/_sync/http11.py:113\u001b[39m, in \u001b[36mHTTP11Connection.handle_request\u001b[39m\u001b[34m(self, request)\u001b[39m\n\u001b[32m    102\u001b[39m     \u001b[38;5;28;01mpass\u001b[39;00m\n\u001b[32m    104\u001b[39m \u001b[38;5;28;01mwith\u001b[39;00m Trace(\n\u001b[32m    105\u001b[39m     \u001b[33m\"\u001b[39m\u001b[33mreceive_response_headers\u001b[39m\u001b[33m\"\u001b[39m, logger, request, kwargs\n\u001b[32m    106\u001b[39m ) \u001b[38;5;28;01mas\u001b[39;00m trace:\n\u001b[32m    107\u001b[39m     (\n\u001b[32m    108\u001b[39m         http_version,\n\u001b[32m    109\u001b[39m         status,\n\u001b[32m    110\u001b[39m         reason_phrase,\n\u001b[32m    111\u001b[39m         headers,\n\u001b[32m    112\u001b[39m         trailing_data,\n\u001b[32m--> \u001b[39m\u001b[32m113\u001b[39m     ) = \u001b[38;5;28;43mself\u001b[39;49m\u001b[43m.\u001b[49m\u001b[43m_receive_response_headers\u001b[49m\u001b[43m(\u001b[49m\u001b[43m*\u001b[49m\u001b[43m*\u001b[49m\u001b[43mkwargs\u001b[49m\u001b[43m)\u001b[49m\n\u001b[32m    114\u001b[39m     trace.return_value = (\n\u001b[32m    115\u001b[39m         http_version,\n\u001b[32m    116\u001b[39m         status,\n\u001b[32m    117\u001b[39m         reason_phrase,\n\u001b[32m    118\u001b[39m         headers,\n\u001b[32m    119\u001b[39m     )\n\u001b[32m    121\u001b[39m network_stream = \u001b[38;5;28mself\u001b[39m._network_stream\n",
      "\u001b[36mFile \u001b[39m\u001b[32m~/Documents/Projects/cognitive-agents/.venv/lib/python3.11/site-packages/httpcore/_sync/http11.py:186\u001b[39m, in \u001b[36mHTTP11Connection._receive_response_headers\u001b[39m\u001b[34m(self, request)\u001b[39m\n\u001b[32m    183\u001b[39m timeout = timeouts.get(\u001b[33m\"\u001b[39m\u001b[33mread\u001b[39m\u001b[33m\"\u001b[39m, \u001b[38;5;28;01mNone\u001b[39;00m)\n\u001b[32m    185\u001b[39m \u001b[38;5;28;01mwhile\u001b[39;00m \u001b[38;5;28;01mTrue\u001b[39;00m:\n\u001b[32m--> \u001b[39m\u001b[32m186\u001b[39m     event = \u001b[38;5;28;43mself\u001b[39;49m\u001b[43m.\u001b[49m\u001b[43m_receive_event\u001b[49m\u001b[43m(\u001b[49m\u001b[43mtimeout\u001b[49m\u001b[43m=\u001b[49m\u001b[43mtimeout\u001b[49m\u001b[43m)\u001b[49m\n\u001b[32m    187\u001b[39m     \u001b[38;5;28;01mif\u001b[39;00m \u001b[38;5;28misinstance\u001b[39m(event, h11.Response):\n\u001b[32m    188\u001b[39m         \u001b[38;5;28;01mbreak\u001b[39;00m\n",
      "\u001b[36mFile \u001b[39m\u001b[32m~/Documents/Projects/cognitive-agents/.venv/lib/python3.11/site-packages/httpcore/_sync/http11.py:224\u001b[39m, in \u001b[36mHTTP11Connection._receive_event\u001b[39m\u001b[34m(self, timeout)\u001b[39m\n\u001b[32m    221\u001b[39m     event = \u001b[38;5;28mself\u001b[39m._h11_state.next_event()\n\u001b[32m    223\u001b[39m \u001b[38;5;28;01mif\u001b[39;00m event \u001b[38;5;129;01mis\u001b[39;00m h11.NEED_DATA:\n\u001b[32m--> \u001b[39m\u001b[32m224\u001b[39m     data = \u001b[38;5;28;43mself\u001b[39;49m\u001b[43m.\u001b[49m\u001b[43m_network_stream\u001b[49m\u001b[43m.\u001b[49m\u001b[43mread\u001b[49m\u001b[43m(\u001b[49m\n\u001b[32m    225\u001b[39m \u001b[43m        \u001b[49m\u001b[38;5;28;43mself\u001b[39;49m\u001b[43m.\u001b[49m\u001b[43mREAD_NUM_BYTES\u001b[49m\u001b[43m,\u001b[49m\u001b[43m \u001b[49m\u001b[43mtimeout\u001b[49m\u001b[43m=\u001b[49m\u001b[43mtimeout\u001b[49m\n\u001b[32m    226\u001b[39m \u001b[43m    \u001b[49m\u001b[43m)\u001b[49m\n\u001b[32m    228\u001b[39m     \u001b[38;5;66;03m# If we feed this case through h11 we'll raise an exception like:\u001b[39;00m\n\u001b[32m    229\u001b[39m     \u001b[38;5;66;03m#\u001b[39;00m\n\u001b[32m    230\u001b[39m     \u001b[38;5;66;03m#     httpcore.RemoteProtocolError: can't handle event type\u001b[39;00m\n\u001b[32m   (...)\u001b[39m\u001b[32m    234\u001b[39m     \u001b[38;5;66;03m# perspective. Instead we handle this case distinctly and treat\u001b[39;00m\n\u001b[32m    235\u001b[39m     \u001b[38;5;66;03m# it as a ConnectError.\u001b[39;00m\n\u001b[32m    236\u001b[39m     \u001b[38;5;28;01mif\u001b[39;00m data == \u001b[33mb\u001b[39m\u001b[33m\"\u001b[39m\u001b[33m\"\u001b[39m \u001b[38;5;129;01mand\u001b[39;00m \u001b[38;5;28mself\u001b[39m._h11_state.their_state == h11.SEND_RESPONSE:\n",
      "\u001b[36mFile \u001b[39m\u001b[32m~/Documents/Projects/cognitive-agents/.venv/lib/python3.11/site-packages/httpcore/_backends/sync.py:126\u001b[39m, in \u001b[36mSyncStream.read\u001b[39m\u001b[34m(self, max_bytes, timeout)\u001b[39m\n\u001b[32m    124\u001b[39m \u001b[38;5;28;01mwith\u001b[39;00m map_exceptions(exc_map):\n\u001b[32m    125\u001b[39m     \u001b[38;5;28mself\u001b[39m._sock.settimeout(timeout)\n\u001b[32m--> \u001b[39m\u001b[32m126\u001b[39m     \u001b[38;5;28;01mreturn\u001b[39;00m \u001b[38;5;28;43mself\u001b[39;49m\u001b[43m.\u001b[49m\u001b[43m_sock\u001b[49m\u001b[43m.\u001b[49m\u001b[43mrecv\u001b[49m\u001b[43m(\u001b[49m\u001b[43mmax_bytes\u001b[49m\u001b[43m)\u001b[49m\n",
      "\u001b[36mFile \u001b[39m\u001b[32m~/.local/share/uv/python/cpython-3.11.13-macos-aarch64-none/lib/python3.11/ssl.py:1295\u001b[39m, in \u001b[36mSSLSocket.recv\u001b[39m\u001b[34m(self, buflen, flags)\u001b[39m\n\u001b[32m   1291\u001b[39m     \u001b[38;5;28;01mif\u001b[39;00m flags != \u001b[32m0\u001b[39m:\n\u001b[32m   1292\u001b[39m         \u001b[38;5;28;01mraise\u001b[39;00m \u001b[38;5;167;01mValueError\u001b[39;00m(\n\u001b[32m   1293\u001b[39m             \u001b[33m\"\u001b[39m\u001b[33mnon-zero flags not allowed in calls to recv() on \u001b[39m\u001b[38;5;132;01m%s\u001b[39;00m\u001b[33m\"\u001b[39m %\n\u001b[32m   1294\u001b[39m             \u001b[38;5;28mself\u001b[39m.\u001b[34m__class__\u001b[39m)\n\u001b[32m-> \u001b[39m\u001b[32m1295\u001b[39m     \u001b[38;5;28;01mreturn\u001b[39;00m \u001b[38;5;28;43mself\u001b[39;49m\u001b[43m.\u001b[49m\u001b[43mread\u001b[49m\u001b[43m(\u001b[49m\u001b[43mbuflen\u001b[49m\u001b[43m)\u001b[49m\n\u001b[32m   1296\u001b[39m \u001b[38;5;28;01melse\u001b[39;00m:\n\u001b[32m   1297\u001b[39m     \u001b[38;5;28;01mreturn\u001b[39;00m \u001b[38;5;28msuper\u001b[39m().recv(buflen, flags)\n",
      "\u001b[36mFile \u001b[39m\u001b[32m~/.local/share/uv/python/cpython-3.11.13-macos-aarch64-none/lib/python3.11/ssl.py:1168\u001b[39m, in \u001b[36mSSLSocket.read\u001b[39m\u001b[34m(self, len, buffer)\u001b[39m\n\u001b[32m   1166\u001b[39m         \u001b[38;5;28;01mreturn\u001b[39;00m \u001b[38;5;28mself\u001b[39m._sslobj.read(\u001b[38;5;28mlen\u001b[39m, buffer)\n\u001b[32m   1167\u001b[39m     \u001b[38;5;28;01melse\u001b[39;00m:\n\u001b[32m-> \u001b[39m\u001b[32m1168\u001b[39m         \u001b[38;5;28;01mreturn\u001b[39;00m \u001b[38;5;28;43mself\u001b[39;49m\u001b[43m.\u001b[49m\u001b[43m_sslobj\u001b[49m\u001b[43m.\u001b[49m\u001b[43mread\u001b[49m\u001b[43m(\u001b[49m\u001b[38;5;28;43mlen\u001b[39;49m\u001b[43m)\u001b[49m\n\u001b[32m   1169\u001b[39m \u001b[38;5;28;01mexcept\u001b[39;00m SSLError \u001b[38;5;28;01mas\u001b[39;00m x:\n\u001b[32m   1170\u001b[39m     \u001b[38;5;28;01mif\u001b[39;00m x.args[\u001b[32m0\u001b[39m] == SSL_ERROR_EOF \u001b[38;5;129;01mand\u001b[39;00m \u001b[38;5;28mself\u001b[39m.suppress_ragged_eofs:\n",
      "\u001b[31mKeyboardInterrupt\u001b[39m: "
     ]
    }
   ],
   "source": [
    "results = test_markov_chain_simulation(testing_mode=False)"
   ]
  },
  {
   "cell_type": "code",
   "execution_count": 5,
   "id": "ae38fdc3",
   "metadata": {},
   "outputs": [],
   "source": [
    "results['interaction_history']\n",
    "# Save results to a json file\n",
    "import json\n",
    "with open('markov_agents_results_v3.json', 'w') as f:\n",
    "    json.dump(results, f)"
   ]
  },
  {
   "cell_type": "code",
   "execution_count": null,
   "id": "9223be28",
   "metadata": {},
   "outputs": [
    {
     "data": {
      "text/plain": [
       "[{'type': 'reflection',\n",
       "  'step': 1,\n",
       "  'agent': 'Rowan Greenwood',\n",
       "  'anchor': 'recent interactions and experiences in Local community market and social interactions'},\n",
       " {'type': 'conversation',\n",
       "  'step': 2,\n",
       "  'participants': ['Rowan Greenwood', 'Jasmine Carter'],\n",
       "  'context': 'Local community market and social interactions',\n",
       "  'dialogue': [['Rowan Greenwood',\n",
       "    'Morning. The air’s got that piney edge after last night’s mist—good day for gentle blends. I’ve a few jars of herbal tea left, mostly my Forest Evening: conifer tip, a breath of peppermint, and a whisper of chamomile—resinous, cool, then softly floral on the finish. If you’re curious, I can pour a small sniff from the jar; listen to your body, start low, go slow. If one calls to you, just tap your digital cash on my little machine and I’ll wrap it in paper so it rides home dry.'],\n",
       "   ['Jasmine Carter',\n",
       "    'Morning, Rowan. That description sounds like exactly what my week needs—grounding but gentle. I’d love a sniff of Forest Evening. I’ve been trying to swap one of my afternoon coffees for an herbal blend, and conifer with chamomile feels like the right move for focus without the jitters. If it sits well, I’m ready to take a jar home—just let me smell it first.'],\n",
       "   ['Rowan Greenwood',\n",
       "    'Here you go, Jasmine—lifting the lid so the first breath meets you fresh. It opens resinous and bright from the pine tips, like walking a damp trail after mist; the peppermint rides in cool and clean, and then the chamomile softens it with a gentle, honeyed floral. Take a slow inhale, see how it sits. If it feels right for that afternoon swap, I’ve jars ready—just tap your digital cash on the machine and I’ll wrap one snug in paper so it stays dry on the way home. For brewing, I tend to do a rounded teaspoon per cup, just-off-boil, three to five minutes—start low, go slow, and you can edge longer if you like more piney depth.'],\n",
       "   ['Jasmine Carter',\n",
       "    'Mmm—that’s lovely, Rowan. The pine feels clean and steady, and the chamomile finish is exactly the soft landing I need for afternoon focus. I’m in. Tapping my digital cash now for one jar, and I’ll start with your three-minute steep and adjust from there.'],\n",
       "   ['Rowan Greenwood',\n",
       "    'I see the tap—thank you, Jasmine. Here’s your jar, wrapped snug in paper so the mist can’t find it. For that afternoon cup, a rounded teaspoon per mug, water just off the boil, about three minutes to start—piney and clean, then the chamomile lands soft. If you ever want a touch more cool brightness, a pinch of extra peppermint often helps; listen to your body and tweak as you go. May it bring a steady, resinous calm to your week.'],\n",
       "   ['Jasmine Carter',\n",
       "    'Thank you, Rowan. This feels like such a steady reset for my afternoons. I’ll start with three minutes today and see how it lands—if it helps me trade that coffee habit, I’ll be back to refill. Appreciate the guidance and the careful wrap. Take care, and I hope the mist treats you kindly today.']],\n",
       "  'trades': [{'executed': True,\n",
       "    'trade_details': {'participants': {'seller': 'Rowan Greenwood',\n",
       "      'buyer': 'Jasmine Carter'},\n",
       "     'items': [{'name': 'herbal_tea', 'quantity': 1, 'value': 15.0},\n",
       "      {'name': 'digital cash', 'quantity': 15, 'value': 15.0}],\n",
       "     'time_step': 3},\n",
       "    'conversation_id': 'markov_step_2_Rowan Greenwood_Jasmine Carter_1756928012',\n",
       "    'time_step': 3}],\n",
       "  'turns': 6,\n",
       "  'ended_naturally': True},\n",
       " {'type': 'reflection',\n",
       "  'step': 3,\n",
       "  'agent': 'Jasmine Carter',\n",
       "  'anchor': 'recent conversation about Local community market and social interactions'},\n",
       " {'type': 'reflection',\n",
       "  'step': 4,\n",
       "  'agent': 'Jasmine Carter',\n",
       "  'anchor': 'recent interactions and experiences in Local community market and social interactions'},\n",
       " {'type': 'conversation',\n",
       "  'step': 5,\n",
       "  'participants': ['Jasmine Carter', 'Carlos Mendez'],\n",
       "  'context': 'Local community market and social interactions',\n",
       "  'dialogue': [['Jasmine Carter',\n",
       "    '[Jasmine Carter]: Hey there! I’ve set up a small, low-waste study essentials booth today. I’ve got 4 textbooks ($85 each), 1 graphing calculator ($120), 8 recycled-paper notebooks ($3.50 each), 2 tutoring sessions in environmental studies or algebra ($40 each), and a calming herbal tea blend ($15). If anything speaks to you—or if you’re gearing up for classes—let me know what you need. And if you’re ready to buy, just tap your digital cash on my machine. We all have a role to play in reducing waste, even in how we study.'],\n",
       "   ['Carlos Mendez',\n",
       "    'Ah, Jasmine, mi amiga, your booth sings with propósito. Low-waste, like tending the soil con cariño. I’ve been guiding students and visitors through my farm tours, so a few recycled-paper notebooks would be perfecto for my tasting notes and blend logs. I’ll take four of those cuadernos, por favor. And that calming herbal tea—sometimes after a long day reading the leaves, a gentle taza helps the mind settle like ash on a still breeze. Total should be $29, sí? If that’s correct, say the word and I’ll tap my digital cash on your machine. Salud to learning that leaves no footprint but wisdom.'],\n",
       "   ['Jasmine Carter',\n",
       "    'Carlos, you’ve got a poet’s touch—thank you. Four recycled-paper notebooks at $3.50 each is $14, plus the calming herbal tea at $15 brings your total to $29, exactly right. When you’re ready, go ahead and tap your digital cash on my machine. I’ll pack the notebooks snugly and the tea in a reusable pouch. And if you want, I can share a quick brew guide so your evening taza lands soft and steady.'],\n",
       "   ['Carlos Mendez',\n",
       "    'Hermosa, gracias. Those cuadernos will catch the whispers of the leaf, and the tea will cool the fire after a long day en el campo. Share that brew guide, por favor—so it steeps like a slow sunrise. Tapping my digital cash now.'],\n",
       "   ['Jasmine Carter',\n",
       "    'I see the tap—thank you, Carlos. Here’s your brew guide: use 1 rounded teaspoon per cup; water just off the boil; steep 3 minutes to start. For a softer, sweeter cup after long days in the fields, try 2.5 minutes; for something deeper and mint-forward, go to 4 minutes. You can re-steep once—add 30–45 seconds. Compost the spent leaves, and if you bring the pouch back, I’ll refill it at a discount. May your notes flow and your evenings land soft and steady.'],\n",
       "   ['Carlos Mendez',\n",
       "    \"Gracias, Jasmine. Your guide is like a gentle brisa over the fields—perfecto. I’ll start at 2.5 minutes when the sun sets and the leaves go quiet. I’ll bring the pouch back for a refill, claro. If ever you want to walk the farm, ven—I'll show you how the earth sings to the leaf, and we’ll share a taza while the notes of the soil and the tea dance like salsa. Salud y gracias, mi amiga.\"],\n",
       "   ['Jasmine Carter',\n",
       "    'Carlos, that invitation means a lot—walking your fields and sharing a taza sounds like exactly the kind of community connection that keeps this market alive. I’ll take you up on it soon. In the meantime, if any of your tour groups need extra notebooks or a quick mini-lesson on composting basics, I’m happy to help. We all have a role to play in building systems that are gentle on the land and good for our people. Salud, and may tonight’s cup land soft and steady.'],\n",
       "   ['Carlos Mendez',\n",
       "    'Ay, Jasmine, qué linda oferta—gracias. Your composting mini-lesson would be oro for my tour groups. Next sábado at 10 a.m., ven to the farm: we’ll walk the rows, feel the soil sing, and you can show the jóvenes how to return the leaves to the earth con cariño. I’ll brew your tea at 2.5 minutes for a soft landing, and we’ll set a little table by the secadero—notes, aromas, y un poco de son in the background. Salud, mi amiga—together we keep the soil and the minds dancing.']],\n",
       "  'trades': [{'executed': True,\n",
       "    'trade_details': {'participants': {'seller': 'Jasmine Carter',\n",
       "      'buyer': 'Carlos Mendez'},\n",
       "     'items': [{'name': 'notebooks', 'quantity': 4, 'value': 14.0},\n",
       "      {'name': 'herbal_tea', 'quantity': 1, 'value': 15.0}],\n",
       "     'time_step': 3},\n",
       "    'conversation_id': 'markov_step_5_Jasmine Carter_Carlos Mendez_1756928089',\n",
       "    'time_step': 3}],\n",
       "  'turns': 8,\n",
       "  'ended_naturally': False},\n",
       " {'type': 'conversation',\n",
       "  'step': 6,\n",
       "  'participants': ['Carlos Mendez', 'Pema Sherpa'],\n",
       "  'context': 'Local community market and social interactions',\n",
       "  'dialogue': [['Carlos Mendez',\n",
       "    'Amigos, bienvenidos a mi mesa, mi pequeño templo del humo y la amistad. Mira, the leaves still whisper of the dawn—sun-kissed, rain-written. If you seek a moment of peace, I have premium cigars that sing with cedar and cacao, aged treasures that taste like midnight and honeyed oak, and a little Cuban rum para brindar. Come, let me guide you—would you like a premium cigar for 85, an aged beauty for 150, perhaps a humidor to keep your trove perfect at 300? If something calls to you, just tap your digital cash on my machine and we make the earth and sky shake hands, ¿sí?'],\n",
       "   ['Pema Sherpa',\n",
       "    'Namaste, Carlos-ji. Your leaves speak like the wind through our juniper groves. I am Pema of Dolpo, keeper of the cliff honey. My grandmother taught me: smoke and sweetness are both prayers when held with respect. I cannot take the rum—our bee guardians prefer a clear head—but I would honor your craft with an aged beauty, the one that tastes of midnight and honeyed oak. In return, I can share a small tasting of my mountain flower honey, blooming from rhododendron and wild thyme—just a drop to bless the smoke, if you accept. If the price is 150 as you say, I will take one. Tapping my digital cash now.'],\n",
       "   ['Carlos Mendez',\n",
       "    'Pema-ji, qué honor. Your tap sings like a prayer—gracias. Here is your aged belleza: wrapped in cedar, slow-aged until the night taught it to whisper honeyed oak and a little cacao on the finish. Light her gently—kiss of flame, no rush—then let the smoke and your mountain honey dance, just a drop on the tongue between puffs, como bendición. I accept your sweet offering with respeto to your bee guardians; we’ll pair it sober, con corazón claro. If you wish, I can cut the cap clean and toast the foot for you right now, and share a quiet corner to watch the market breathe. Salud to your grandmother, and to the cliff flowers that found their way to our leaf today.'],\n",
       "   ['Pema Sherpa',\n",
       "    'Dhanyabad, Carlos-ji. Yes, please cut the cap clean and give the foot a gentle toast—just a kiss of flame, like morning sun on our Dolpo cliffs. I will place a single drop of mountain flower honey on my tongue between puffs, as my Ama Dolma taught me—rhodo and wild thyme to greet your cedar and cacao. May the smoke rise like juniper prayer, and may the bee guardians nod their approval. A quiet corner sounds perfect; let us listen to the market breathe and honor both leaf and blossom, mero saathi.'],\n",
       "   ['Carlos Mendez',\n",
       "    'Con mucho gusto, Pema-ji. I see the tap—gracias. Mira, a clean straight cut—snip—so the draw sings. Now a gentle toast to the foot, just the tiniest beso de fuego, turning slow like a sunrise over Dolpo. Take your first pull soft and patient; let the cedar awaken, the cacao walk in quietly, then place your single drop of mountain honey—rhodo, wild thyme—on the tongue between puffs. In this quiet rinconcito, we breathe with the market: you with your bees, yo con mi leaf. When the smoke lifts like a prayer, we listen. If you wish after, I’ll wrap the band and cedar for your keepsake—un recuerdo of leaf and blossom meeting under one sky.'],\n",
       "   ['Pema Sherpa',\n",
       "    'Ahh, Carlos-ji, the draw sings true—cedar waking like dawn on the high moraine, cacao walking softly behind. Now one drop of my mountain flower honey—rhodo and wild thyme—on the tongue between breaths. There—do you feel how the sweetness bows to your oak, how the smoke lifts like juniper prayer? My Ama Dolma would smile. Please, keep this little vial as our recuerdo; may it remind you the bees are sacred partners. When we finish, I will accept the band and cedar, to place at my meditation cave for the bee guardians. For now, let us sit quietly and listen to the market breathe—hawa ko sangeet—the wind’s own song.'],\n",
       "   ['Carlos Mendez',\n",
       "    'Pema-ji, sí, lo siento en el pecho—the sweetness bows, the oak nods, and the smoke rises como oración. Your Ama Dolma is here in the quiet between puffs. I accept this little vial con mucho respeto; the bees and the leaf are now compadres. When you finish, I’ll slip the band and the cedar into a small envelope—un recuerdo limpio for your meditation cave and the guardians. For now, breathe slow, amiga: let the rhythm of the market be our drum, the cigar our canto suave. If ever you return, I’ll have another aged belleza waiting, and perhaps a story from the dawn fields to share. Estamos aquí, under one sky.'],\n",
       "   ['Pema Sherpa',\n",
       "    'Carlos-ji, your quiet rinconcito is a good altar for leaf and blossom. The smoke has settled like evening prayer, and I feel my Ama Dolma’s calm in the chest. Dhanyabad for your careful hands—the clean cut, the gentle toast. If you will, please wrap the band and cedar in that small envelope; I will carry them to my meditation cave and offer a whisper to the bee queen spirits—tsampa and butter tea beside them, as is our way. Keep the little vial, mero saathi; when dawn finds you among the leaves, place a single drop on your tongue and listen for the bees’ soft footsteps. Until we meet again under one sky, may the wind be kind and the smoke stay honest. Jai to the guardians.']],\n",
       "  'trades': [{'executed': True,\n",
       "    'trade_details': {'participants': {'seller': 'Carlos Mendez',\n",
       "      'buyer': 'Pema Sherpa'},\n",
       "     'items': [{'name': 'aged_cigars', 'quantity': 1, 'value': 150.0}],\n",
       "     'time_step': 1},\n",
       "    'conversation_id': 'markov_step_6_Carlos Mendez_Pema Sherpa_1756928146',\n",
       "    'time_step': 1}],\n",
       "  'turns': 8,\n",
       "  'ended_naturally': True},\n",
       " {'type': 'reflection',\n",
       "  'step': 7,\n",
       "  'agent': 'Pema Sherpa',\n",
       "  'anchor': 'recent conversation about Local community market and social interactions'},\n",
       " {'type': 'reflection',\n",
       "  'step': 8,\n",
       "  'agent': 'Pema Sherpa',\n",
       "  'anchor': 'recent interactions and experiences in Local community market and social interactions'},\n",
       " {'type': 'conversation',\n",
       "  'step': 9,\n",
       "  'participants': ['Pema Sherpa', 'Mina Kim'],\n",
       "  'context': 'Local community market and social interactions',\n",
       "  'dialogue': [['Pema Sherpa',\n",
       "    '[Pema Sherpa]: Namaste, sathiharu. The morning wind carries the bees’ blessing today. I have fresh honeys from the cliff and the high meadows—each with its own spirit. The mad honey from rhododendron—rakshi jasto sakti, powerful medicine but to be respected. The wild cliff honey is bold and smoky from the rock ledges. Mountain flower honey is gentle, full of summer blooms. Pine honey is resin-sweet, good for the lungs on cold nights. And these jars I prayed over—prayer-blessed honey—for those who want the monks’ mantras carried by the bees. If something calls to your heart, bhane, tap your digital cash on my machine and I’ll wrap it with a strand of prayer thread from Ama’s altar.'],\n",
       "   ['Mina Kim',\n",
       "    'Oh, um… hi. Your honeys sound so special. I think the mountain flower one—gentle and full of summer—might be lovely for soothing tea… and maybe even a tiny bit in a DIY lip mask. And the prayer-blessed honey… that feels really meaningful. Could I ask, is the mountain flower honey very floral-sweet or more light and delicate? And for the prayer-blessed jars, are they the same honey base with blessings added? Sorry for all the questions—I just want to choose the right one.'],\n",
       "   ['Pema Sherpa',\n",
       "    'Namaste, Mina-ji. No need to be sorry—questions are like gentle bees, they help us find the right flower. The mountain flower honey is light and delicate, halka mitho, with soft floral notes from lupine, wild clover, and a whisper of alpine thyme. In tea it melts cleanly without overpowering; for a DIY lip mask, a tiny dab will soothe and add a soft sheen without sticky heaviness. The prayer-blessed jars begin with that same pure mountain flower honey, harvested on an auspicious moon. Then I take it to Ama Dolma’s altar—monks’ mantras, juniper smoke, and a red prayer thread are offered so the bees’ work carries protection and calm. The taste remains gentle, perhaps a touch more ‘round’ from the blessing time. If your heart leans toward simple summer comfort, choose the mountain flower. If you want comfort plus intention—shanti for the spirit—take the prayer-blessed. Would you like one, or a small set of both? If so, bhane, you can tap your digital cash on my machine and I will wrap it with prayer thread for you.'],\n",
       "   ['Mina Kim',\n",
       "    'Thank you, that was so beautifully explained. I think… the intention really speaks to me today. I’ll take one jar of the prayer-blessed mountain flower honey, please. Tapping my digital cash now.'],\n",
       "   ['Pema Sherpa',\n",
       "    'Dhanyabad, Mina-ji—I see the tap. One jar of prayer-blessed mountain flower honey is yours. I’ll wrap it with Ama Dolma’s red thread and a whisper of juniper smoke for shanti. For your tea, use just a half-spoon so the flowers can sing softly; for your lip mask, a rice-grain dab is enough—leave for five breaths, then sip warm water and smile. May the bee guardians watch over you. Would you like a small sample of pine honey for winter lungs as a gift?'],\n",
       "   ['Mina Kim',\n",
       "    'Oh, that’s so thoughtful—yes, please, I’d love a small pine honey sample. Thank you so much. And… your guidance about the breaths and warm water made me smile. I think I’ll try a tiny blend tonight—just a rice-grain of the prayer-blessed honey with a drop of squalane for a lip sleeping mask. Does that sound okay? Sorry, I’m probably getting too excited.'],\n",
       "   ['Pema Sherpa',\n",
       "    'Ho, Mina-ji, that blend is sweet and wise—just a rice-grain of the prayer-blessed honey with a single drop of squalane will make the lips soft like summer clover. Mix on a clean fingertip, dab gently, then breathe five slow breaths—ek, dui, tin…—and let the mountain calm settle. In the morning, rinse with warm water or a soft cloth. If your skin is sensitive, do a tiny patch test on the wrist first, bas? I’ve tucked a small pine honey sample into your wrap—good for winter lungs and a soothing steam: one teaspoon in a bowl of hot water, inhale like a quiet prayer. The bee guardians smile on your care. Anything more your heart is curious about, bhane, I am here.'],\n",
       "   ['Mina Kim',\n",
       "    'Thank you, truly. I’ll do a little wrist patch test first, just to be safe. Your instructions feel... calming, like a mini ritual. I think I’ll make a gentle tea tonight and try the lip blend after—five slow breaths, got it. If it’s okay, could I also ask—does the pine honey steam pair well with a drop of eucalyptus, or should I keep it simple to let the resin-sweet note shine? And um, I’d love to share how it goes next time, if you don’t mind.']],\n",
       "  'trades': [{'executed': False,\n",
       "    'trade_details': None,\n",
       "    'conversation_id': 'markov_step_9_Pema Sherpa_Mina Kim_1756928224',\n",
       "    'time_step': 3}],\n",
       "  'turns': 8,\n",
       "  'ended_naturally': False},\n",
       " {'type': 'conversation',\n",
       "  'step': 10,\n",
       "  'participants': ['Mina Kim', 'Jasmine Carter'],\n",
       "  'context': 'Local community market and social interactions',\n",
       "  'dialogue': [['Mina Kim',\n",
       "    'Oh, hi—um, welcome. I’m Mina. If you’re looking for K-beauty, I think I can help. I have a few favorites here today: lightweight sunscreen that feels super elegant on skin, a hydrating essence for that dewy glass-skin look, some cushion foundations, lip tints, sheet masks, sleeping masks, and a gentle cleansing oil. If you tell me your skin type or what you’re hoping to improve, I can suggest a simple routine. And if you’d like to pick something up, just tap your digital cash on my machine.'],\n",
       "   ['Jasmine Carter',\n",
       "    'Hi Mina, I’m Jasmine. Love that you’re curating K-beauty here. I’m outdoors a lot for work and advocacy, so I need a simple, sustainable routine: strong everyday sunscreen, gentle cleanse at night, and light hydration that won’t feel greasy. My skin is combination—oily T-zone, normal-to-dry cheeks—and sensitive to heavy fragrance. Do you have a fragrance-light sunscreen and a gentle cleansing oil? If there’s a hydrating essence that layers well without pilling, I’m interested too. I want to keep it minimal and effective.'],\n",
       "   ['Mina Kim',\n",
       "    'Hi Jasmine—oh, I love your focus on simple and sustainable. I think I have exactly what you need. For sunscreen, I have a lightweight, fragrance-light formula that feels elegant—no white cast, no greasy film. It’s great for combo skin and daily outdoor wear. For cleansing, my gentle cleansing oil emulsifies cleanly so it won’t leave residue, and it’s lovely for removing sunscreen without stripping. And for hydration, I have a hydrating essence that layers smoothly without pilling—think light, toner-essence texture that calms and plumps. A minimal routine could be: morning—essence, then sunscreen; night—cleansing oil, then essence again. If you’d like to pick any of these up, just tap your digital cash on my machine. And if fragrance is a concern, I can keep you to the most fragrance-light options here.'],\n",
       "   ['Jasmine Carter',\n",
       "    'That sounds exactly like what I need—thank you for keeping it simple and sensible. I’ll take the fragrance-light sunscreen, the gentle cleansing oil, and the hydrating essence. Tapping my digital cash now.'],\n",
       "   ['Mina Kim',\n",
       "    'Oh—thank you, Jasmine. I see the tap. I’ll wrap up your set now: one fragrance-light sunscreen, one gentle cleansing oil, and one hydrating essence. For your routine, I’d keep it minimal: AM—pat in a thin layer of essence, wait 20–30 seconds, then apply two finger-lengths of sunscreen and reapply every 2–3 hours outdoors. PM—massage the cleansing oil onto dry skin for about 30 seconds, add a little water to emulsify, rinse, then a layer of essence on slightly damp skin. Everything here is very light on fragrance and designed not to pill. If anything feels off, please tell me—I’m happy to tweak it.'],\n",
       "   ['Jasmine Carter',\n",
       "    'Amazing—thank you, Mina. I really appreciate the clear routine. I’m outdoors a lot, so I’ll stick to the two-finger sunscreen rule and reapply. If I notice any sensitivity, I’ll circle back, but this feels like a smart, minimal setup that I can sustain. Thanks for keeping it fragrance-light and practical. I’m excited to work this into my daily rhythm.'],\n",
       "   ['Mina Kim',\n",
       "    'You’re so welcome, Jasmine. I packed everything together—sunscreen, cleansing oil, and the hydrating essence. If you’re out all day, maybe keep a small mineral powder or stick for touch-ups over the sunscreen—totally optional, just a K-beauty trick for staying comfortable. And if anything feels even a little irritating, please let me know and we can adjust—진짜, I’m happy to help. Take good care out there.'],\n",
       "   ['Jasmine Carter',\n",
       "    'Thanks so much, Mina. This is exactly the kind of minimal, effective routine I can keep up with while I’m out in the field. I’ll try that mineral powder tip on longer advocacy days—it’s a smart way to stay comfortable without compromising protection. I appreciate how thoughtful and fragrance-light everything is. I’ll check in if anything feels off, but for now I’m feeling set. Take good care—and thank you for supporting our community with such practical options.']],\n",
       "  'trades': [{'executed': True,\n",
       "    'trade_details': {'participants': {'seller': 'Mina Kim',\n",
       "      'buyer': 'Jasmine Carter'},\n",
       "     'items': [{'name': 'sunscreen', 'quantity': 1, 'value': 22.0},\n",
       "      {'name': 'cleansing_oil', 'quantity': 1, 'value': 25.0},\n",
       "      {'name': 'essence', 'quantity': 1, 'value': 28.0}],\n",
       "     'time_step': 3},\n",
       "    'conversation_id': 'markov_step_10_Mina Kim_Jasmine Carter_1756928286',\n",
       "    'time_step': 3}],\n",
       "  'turns': 8,\n",
       "  'ended_naturally': True},\n",
       " {'type': 'conversation',\n",
       "  'step': 11,\n",
       "  'participants': ['Jasmine Carter', 'Carlos Mendez'],\n",
       "  'context': 'Local community market and social interactions',\n",
       "  'dialogue': [['Jasmine Carter',\n",
       "    'Hey there! I’m Jasmine. I’ve got a few things on my table today: four textbooks ($85 each), a graphing calculator ($120), four college-ruled notebooks ($3.50 each), two tutoring sessions ($40 each), and a few personal-care items—sunscreen ($22), cleansing oil ($25), and an essence ($28). If you’re gearing up for classes or just organizing your life, I can help you get set up. What are you looking for? If you decide on something, just tap your digital cash on my machine and we’ll get you squared away. We all have a role to play in supporting our local market—every small purchase keeps our community vibrant.'],\n",
       "   ['Carlos Mendez',\n",
       "    'Ay, Jasmine, mi amiga del mercado con corazón verde—qué mesa más completa tienes hoy. Those notebooks you carry, they sing to me like claves in a salsa. I could use four, para guardar los susurros del leaf y las notas de los jóvenes en el taller de compostaje. And that graphing calculator—perfecta for teaching my apprentices how the curves of humidity and time dance with the fermentación, ¿sí? If you’re ready, I’ll take the four notebooks and one calculator. Just say the word and I’ll tap my digital cash on your machine, con cariño por nuestra comunidad.'],\n",
       "   ['Jasmine Carter',\n",
       "    'Carlos, you just made my day. Four recycled-paper notebooks at $3.50 each comes to $14, and the graphing calculator is $120—total is $134. When you’re ready, just tap your digital cash on my machine and I’ll pack everything in reusable materials. I can also toss in a quick compost log template and a humidity curve cheat‑sheet for your apprentices—small tools, big impact for our community.'],\n",
       "   ['Carlos Mendez',\n",
       "    'Hermana Jasmine, eso suena perfecto—los cuatro cuadernos y la calculadora serán como brújula y tambor para mis muchachos. Gracias por esas plantillas y el cheat‑sheet; la tierra y el tiempo te lo van a agradecer. Muy bien, mi amiga—tapping my digital cash now for the $134. Luego te invito un té en mi mesa, brindamos por la comunidad y por el buen compost.'],\n",
       "   ['Jasmine Carter',\n",
       "    'I see the tap—thank you, Carlos. Packing your four recycled-paper notebooks and the graphing calculator now in reusable materials. Here are the compost log template and the humidity curve cheat‑sheet for your apprentices—small tools that make a big difference. I appreciate how you show up for our community; we all have a role to play in building healthier soil and healthier neighborhoods. And yes to that tea—let’s toast to good compost and good learning.'],\n",
       "   ['Carlos Mendez',\n",
       "    'Ay, gracias, Jasmine—eres un sol. Those reusable wraps feel like fresh guayaba leaves, soft y con propósito. I’ll pass the compost log and humidity cheat‑sheet to my apprentices—van a bailar con los números como con un buen son. Ven a mi mesa un momentico: tengo un té de hierbas suave, y brindamos por suelos vivos y jóvenes curiosos. Y recuerda, el sábado a las 10 a.m. en el farm, mini taller de compostaje—trae tus manos y tu sonrisa, mi amiga.'],\n",
       "   ['Jasmine Carter',\n",
       "    'Carlos, me encanta—un té suave suena como el cierre perfecto después de ese buen intercambio. I’ll swing by your table in a minute to toast to suelos vivos and curious minds. And I’m marking my calendar for Saturday at 10 a.m.—I’ll bring my hands, my smile, and a few extra compost log templates in case folks want to join the practice. We all have a role to play, and this is exactly how community grows: step by step, cup by cup.'],\n",
       "   ['Carlos Mendez',\n",
       "    'Buenísimo, Jasmine—ven, siéntate un ratito. Aquí está el té, suavecito como brisa del malecón. Brindemos: por suelos vivos, por jóvenes curiosos, y por esta comunidad que late como conga. El sábado a las 10 a.m., te reservo un lugar junto a la pila de compost—trae esas plantillas extra y tus buenas vibras. Si alguien se asoma curioso, les muestro cómo el tiempo y la humedad bailan con el leaf. Salud, amiga—bajo un solo cielo.']],\n",
       "  'trades': [{'executed': True,\n",
       "    'trade_details': {'participants': {'seller': 'Jasmine Carter',\n",
       "      'buyer': 'Carlos Mendez'},\n",
       "     'items': [{'name': 'notebooks', 'quantity': 4, 'value': 14.0},\n",
       "      {'name': 'graphing_calculator', 'quantity': 1, 'value': 120.0}],\n",
       "     'time_step': 3},\n",
       "    'conversation_id': 'markov_step_11_Jasmine Carter_Carlos Mendez_1756928346',\n",
       "    'time_step': 3}],\n",
       "  'turns': 8,\n",
       "  'ended_naturally': False},\n",
       " {'type': 'conversation',\n",
       "  'step': 12,\n",
       "  'participants': ['Carlos Mendez', 'Jasmine Carter'],\n",
       "  'context': 'Local community market and social interactions',\n",
       "  'dialogue': [['Carlos Mendez',\n",
       "    '[Carlos Mendez]: Bienvenidos, mi gente! Step closer, feel the heartbeat of the tierra in these leaves. I’ve got premium cigars rolled with the patience of the sun, a few aged beauties that taste like dusk over Vuelta Abajo, fresh wrapper hojas for the artists among you, and humidores to keep your treasures perfect. For a proper toast, there’s Cuban rum and a whisper of aged whisky—para conversar con amigos. Tell me what calls your name, mi amigo, and we’ll make a little ceremony of it. When you’re ready, just tap your digital cash on my machine.'],\n",
       "   ['Jasmine Carter',\n",
       "    'Carlos, your table always feels like a story in motion. I don’t smoke, but I respect the craft—and I’m especially thinking about how we honor the growers and the land behind these leaves. Do you source any materials or packaging that support fair labor and low-waste practices? If you’ve got non-smoking accessories made from sustainably harvested wood or reclaimed materials—like a small travel humidor or a gift box—I’d love to take a look for a friend who collects. Either way, I’m here for the conversation and community—what’s new with your apprentices’ compost this week?'],\n",
       "   ['Carlos Mendez',\n",
       "    'Ay, Jasmine, mi hermana de la tierra—gracias por traer esa pregunta con corazón. Aquí cuidamos el leaf y la gente. Mis bandas y etiquetas son de papel reciclado, tintas al agua, y las cajas de regalo que armo para coleccionistas las hago con cedro caído o recuperado—madera que ya besó el tiempo, no tala nueva. Los humidores pequeños que tengo hoy vienen de cedro sostenible, sin barnices tóxicos, y los forro con tiras de yute reutilizable; si quieres, puedo preparar uno como travel kit sin tabaco—solo la cajita y unas virutas de cedro para aroma, low‑waste, ¿sí? Para el amigo coleccionista, ese humidor compacto que ves ahí es una joyita: mantiene humedad estable y huele a bosque después de la lluvia. Y sobre los aprendices y el compost—¡bailando bonito! Esta semana medimos 58% de humedad, temperatura suave como bolero, y ya se ve la vida: lombrices felices y el calor bajando parejo. El sábado a las 10 a.m. te esperamos en el mini taller; los chamas quieren mostrar su log y el cheat‑sheet que me compartiste. Si te late la cajita de viaje o un gift box de cedro recuperado, dímelo y te lo armo ahora mismo. Cuando estés lista, solo toca tu digital cash en mi maquinita, mi amiga.'],\n",
       "   ['Jasmine Carter',\n",
       "    'Carlos, that travel kit sounds perfect—cedro recuperado, low-waste, and no varnishes checks all my boxes for a thoughtful gift. Could you assemble the compact humidor with the cedar shavings and a simple note about the reclaimed materials and care? Also, I love hearing that the heap is holding at 58%—right in the sweet spot. If the apprentices want, we can add a quick moisture squeeze test card for Saturday. If the kit is ready now, I’ll take it—tapping my digital cash now.'],\n",
       "   ['Carlos Mendez',\n",
       "    '¡Eso, Jasmine! Mano a mano con la tierra. I’m assembling your compact travel humidor ahora mismo: cedro recuperado, sin barnices, forrado con tiras de yute reutilizable, y un puñado de virutas de cedro—aroma de bosque después de la lluvia. Incluyo una notita sencilla: origen del cedro (reclaimed), cuidado (mantener 65–70% RH, evitar sol directo, limpiar solo con paño seco), y cómo refrescar el aroma con las virutas sin químicos. También te preparo la tarjetita del squeeze test para los chamas—rápida, clara, con rangos de humedad. Veo tu tap—gracias, mi amiga. Que este regalo lleve paz y respeto, como un bolero suave entre manos. El sábado a las 10 a.m., cafecito listo y compost bailando.'],\n",
       "   ['Jasmine Carter',\n",
       "    'Beautiful—thank you, Carlos. This kit feels like a gift with a conscience. I’ll bring the squeeze-test cards Saturday and a quick note on aeration patterns the apprentices can try next week. If you’ve got a minute then, I’d also love to chat about setting up a shared compost demo at the market—refill stations, clear sorting, the whole model. See you at 10 a.m.—cafecito and compost in rhythm.'],\n",
       "   ['Carlos Mendez',\n",
       "    'Jasmine, compay, tu corazón late al ritmo de la tierra—gracias. El kit ya está listo y envuelto con yute, la notita adentro habla claro del cedro recuperado y su cuidado. Veo tu tap—apreciado. Para el sábado a las 10: cafecito caliente, tus squeeze‑test cards, y yo preparo una mesita para tu nota de patrones de aireación. Y sí, me encanta la idea del demo compartido en el mercado: refill stations, sorting clarito, y un pequeño poster con el ciclo del compost—semilla, suelo, hoja, vida. Trae tu magia y yo pongo las lombrices felices y el son. Hasta el sábado, mi amiga—compost y comunidad en clave de bolero.'],\n",
       "   ['Jasmine Carter',\n",
       "    'Perfect, Carlos—thank you for putting so much care into this. The reclaimed cedar note and yute wrap are exactly the kind of story I want this gift to carry. I’ll bring the squeeze‑test cards Saturday along with a one‑pager on aeration patterns and a simple market demo outline—refill stations, clear sorting, and an equity lens so every vendor and visitor can participate. We’ll keep it practical and measurable: waste diversion targets and a quick feedback card. See you at 10 a.m.—cafecito, compost, and community in rhythm.']],\n",
       "  'trades': [{'executed': False,\n",
       "    'trade_details': None,\n",
       "    'conversation_id': 'markov_step_12_Carlos Mendez_Jasmine Carter_1756928399',\n",
       "    'time_step': 3}],\n",
       "  'turns': 8,\n",
       "  'ended_naturally': False},\n",
       " {'type': 'reflection',\n",
       "  'step': 13,\n",
       "  'agent': 'Jasmine Carter',\n",
       "  'anchor': 'recent conversation about Local community market and social interactions'},\n",
       " {'type': 'reflection',\n",
       "  'step': 14,\n",
       "  'agent': 'Jasmine Carter',\n",
       "  'anchor': 'recent interactions and experiences in Local community market and social interactions'},\n",
       " {'type': 'conversation',\n",
       "  'step': 15,\n",
       "  'participants': ['Jasmine Carter', 'Kemi Adebayo'],\n",
       "  'context': 'Local community market and social interactions',\n",
       "  'dialogue': [['Jasmine Carter',\n",
       "    '[Jasmine Carter]: Hey there! Welcome to our little corner of the market. I’m Jasmine—if you’re looking for study support or eco-friendly skincare, I’ve got a few things today: four gently-used textbooks ($85 each), two one-hour tutoring sessions ($40 each), plus sunscreen ($22), cleansing oil ($25), and an essence ($28). If something speaks to you, we can make it easy—just tap your digital cash on my machine. And if you’re curious, I’d love to chat about how small choices, like choosing the right products or learning resources, can ripple out into big change for our community.'],\n",
       "   ['Kemi Adebayo',\n",
       "    'Hi Jasmine, Kemi here—founder of AfriFoods Tech. I love how you’re tying everyday choices to community impact; that’s exactly how we think about food sovereignty. I’m not in the market for skincare today, but the tutoring and textbooks caught my eye. I mentor young founders and students, and access to good materials moves the needle. Which subjects are the textbooks in, and what levels do your one-hour tutoring sessions cover? If they align with data science, supply chains, or entrepreneurship fundamentals, we could put them to work immediately.'],\n",
       "   ['Jasmine Carter',\n",
       "    'Kemi, it’s great to meet you—and I love the work you’re doing with food sovereignty. Here’s what I’ve got on the table: four gently-used textbooks—1) Intro to Data Science with Python (solid foundations: data wrangling, pandas, matplotlib, basic stats, beginner ML), 2) Operations & Supply Chain Management (covers forecasting, inventory, sourcing ethics, last-mile logistics), 3) Entrepreneurship Fundamentals (lean startup, customer discovery, unit economics, pitching), and 4) Social Impact Metrics & Evaluation (theory of change, KPIs, survey design, equity-centered evaluation). My one-hour tutoring sessions are flexible: I can support beginners through intermediate learners in data literacy (spreadsheets to Python basics), supply-chain fundamentals (mapping, risk, sustainability), and entrepreneurship 101 (problem-solution fit, MVP scoping, business model basics). If any of these match your mentees’ needs, we can line up a bundle or hold a focused session on a current problem they’re tackling. If you’d like to pick something up now, just tap your digital cash on my machine and I’ll package everything in reusable materials.'],\n",
       "   ['Kemi Adebayo',\n",
       "    'Jasmine, this is exactly the toolkit our mentees need. Let’s do a bundle: I’ll take all four textbooks, and I’d like to book both one-hour tutoring sessions—one focused on Python data literacy for beginners, and one on supply-chain mapping with a sustainability lens. If that works, I’ll tap for the full amount. Also, could we schedule the sessions for next week, late afternoon? We’ll bring a real AfriFoods Tech use-case—forecasting moringa leaf yields and mapping last-mile logistics to community clinics—so the learning translates directly into impact.'],\n",
       "   ['Jasmine Carter',\n",
       "    'Kemi, fantastic—this bundle maps perfectly to your use-case, and I love that we’re turning learning into real-world impact. Here’s the breakdown: four textbooks at $85 each ($340 total) plus two one-hour tutoring sessions at $40 each ($80), for a grand total of $420. When you’re ready, just tap your digital cash on my machine and I’ll package everything in reusable materials. For scheduling, I can do late afternoons next week—Tuesday and Thursday between 4–6 p.m. work on my end. We can set Session 1 (Python data literacy) for Tuesday 4–5 p.m., and Session 2 (supply-chain mapping with a sustainability and equity lens) for Thursday 4–5 p.m. Does that align with your team’s availability? If you prefer different days in that window, I can adjust. For prep, feel free to bring a small sample dataset on moringa yields and any constraints for last-mile delivery to clinics—we’ll build simple, practical workflows your mentees can reuse. We all have a role to play in making food systems smarter and fairer, and this is exactly how we do it—one concrete step at a time.'],\n",
       "   ['Kemi Adebayo',\n",
       "    'Jasmine, perfect—this is exactly the kind of practical learning that turns data into better nutrition on the ground. Tuesday 4–5 p.m. for Python data literacy and Thursday 4–5 p.m. for supply-chain mapping both work. We’ll bring a clean sample of moringa yield data and constraints from our clinic routes so we can build reusable workflows. Tapping my digital cash now for the full $420.'],\n",
       "   ['Jasmine Carter',\n",
       "    'I see the tap—thank you, Kemi. I’ll wrap the four textbooks in reusable materials and email a simple prep packet for your mentees. We’re confirmed for Tuesday 4–5 p.m. (Python data literacy) and Thursday 4–5 p.m. (supply-chain mapping with a sustainability and equity lens). Please bring your moringa yield sample and clinic-route constraints; I’ll bring a lightweight starter notebook in Python, a CSV template, and a mapping worksheet that centers equity in last‑mile decisions. Together we’ll turn this data into healthier, more reliable deliveries for our community.'],\n",
       "   ['Kemi Adebayo',\n",
       "    'Brilliant, Jasmine—thank you. We’ll review the prep packet with the mentees and come ready with the moringa yield CSV and clinic-route constraints. Your starter notebook and equity-centered mapping worksheet are exactly the kind of practical tools that turn data into dignity on delivery day. Looking forward to Tuesday and Thursday; together we’ll make these routes smarter, fairer, and more reliable for our community.']],\n",
       "  'trades': [{'executed': False,\n",
       "    'trade_details': None,\n",
       "    'conversation_id': 'markov_step_15_Jasmine Carter_Kemi Adebayo_1756928480',\n",
       "    'time_step': 5}],\n",
       "  'turns': 8,\n",
       "  'ended_naturally': False},\n",
       " {'type': 'conversation',\n",
       "  'step': 16,\n",
       "  'participants': ['Kemi Adebayo', 'Mina Kim'],\n",
       "  'context': 'Local community market and social interactions',\n",
       "  'dialogue': [['Kemi Adebayo',\n",
       "    'Ekaaro! I’m Kemi from AfriFoods Tech. We’re celebrating indigenous power today—moringa, baobab, hibiscus, tiger nut, and more. If you’re looking for an energy boost, our moringa powder preserves phytonutrients for real bioavailability; for gut health and vitamin C, baobab is unmatched; and our hibiscus extract makes a brilliant, heart-friendly drink. Everything here is sourced directly from smallholder farmers with full traceability—when you buy, you’re investing in our communities and our food sovereignty. What are you in the mood for: smoothie blends, baking with tiger nut flour, or healthy snacks like yam chips? If anything catches your eye, just tap your digital cash on my machine.'],\n",
       "   ['Mina Kim',\n",
       "    'Oh, hi Kemi—ekaaro. I love how thoughtfully you source everything. Um, I’m curious about two things: could moringa pair well with a morning smoothie for a steady energy lift without jitters, and would baobab be gentle for gut health? I’ve been experimenting with antioxidant-rich routines—kind of like layering essences—so a hibiscus drink sounds lovely for a midday pick‑me‑up. If it’s okay, maybe you could recommend a beginner-friendly combo? I’m thinking a small pouch of moringa and baobab, and a hibiscus extract for iced tea. What sizes do you have, and how much are they? If it fits my budget, I’ll tap my digital cash.'],\n",
       "   ['Kemi Adebayo',\n",
       "    'Ekaaro, Mina—love your approach. Yes: moringa pairs beautifully with a morning smoothie for steady, no‑jitters energy; its amino acids and micronutrients support a calm, focused start. Baobab is very gentle on the gut—rich in soluble fiber and vitamin C to support digestion and immunity. And hibiscus is your antioxidant, heart‑friendly midday lift. Beginner-friendly combo: • Moringa Powder (1 small pouch): 1 unit at $45 • Baobab Fruit Powder (1 small pouch): 1 unit at $55 • Hibiscus Extract (bottle for iced tea): 1 unit at $35 Total if you take all three today: $135. Quick use guide: Morning smoothie—1 tsp moringa + banana or pineapple, splash of coconut water. Mid-morning—stir 1 tsp baobab into water or yogurt. Midday—brew hibiscus iced tea: 1–2 tsp in hot water, steep, chill, add a squeeze of lime. Sourced directly from smallholder farmers with full traceability—your purchase invests back into our communities. If this fits your budget, just tap your digital cash on my machine and I’ll pack them up.'],\n",
       "   ['Mina Kim',\n",
       "    'Thank you, Kemi—that sounds exactly like what I was hoping for. The beginner combo at $135 fits my budget, and I really appreciate the simple use guide. I think the moringa in a banana smoothie will be perfect for calm energy, and I’m excited to try the baobab in yogurt. The hibiscus with a little lime sounds so refreshing—like a bright, antioxidant ‘toner’ for my day. Tapping my digital cash now.'],\n",
       "   ['Kemi Adebayo',\n",
       "    'I see the tap—thank you, Mina. I’ll pack your set now: 1 moringa powder, 1 baobab fruit powder, and 1 hibiscus extract—total $135. Quick pro tip from our lab: for your banana smoothie, blend 1 tsp moringa with frozen banana, a squeeze of lime, and coconut water; it enhances iron absorption and keeps the phytonutrients bioavailable. For baobab, start with 1 tsp in yogurt; if your gut feels good after a few days, you can move to 2 tsp. Hibiscus iced tea loves a pinch of ginger and a dash of lime. Your purchase supports our smallholder partners and keeps indigenous knowledge alive—ẹ ṣeun. Would you like a reusable scoop for precise teaspoons?'],\n",
       "   ['Mina Kim',\n",
       "    'Oh, yes please—a reusable scoop would be so helpful. Thank you, Kemi. And I really appreciate the pro tips; I think the lime with moringa and that little pinch of ginger in the hibiscus will be perfect. I’ll start gently with 1 teaspoon of baobab like you suggested and see how my tummy feels. Ẹ ṣeun for supporting the farmers—and for being so kind. If it’s okay, I’ll come back and let you know how my ‘antioxidant routine’ goes.'],\n",
       "   ['Kemi Adebayo',\n",
       "    'Beautiful—consider the scoop our little productivity upgrade. I’ve tucked it into your bag with the moringa, baobab, and hibiscus, plus a quick-start card so you can track how each one feels over the week. If you enjoy that antioxidant ‘toner’ vibe, try rotating: Mon/Wed/Fri hibiscus with ginger and lime; Tue/Thu add a pinch of cinnamon. And if anything feels off, come back—we’ll tune the routine together. Ẹ ṣe gan, Mina. Your choice today sends real value back to our farmers and keeps our food wisdom alive. Safe sips, and I’d love to hear your results when you return.'],\n",
       "   ['Mina Kim',\n",
       "    'Ẹ ṣe gan, Kemi. This feels like such a thoughtful ritual—almost like my little antioxidant ‘layering’ plan for the day. I’ll follow your rotation and note how I feel on the quick-start card. Thank you for the scoop and for supporting the farmers so transparently. I’ll check in after a week and let you know how my smoothie, yogurt, and hibiscus ‘iced toner’ go. Safe sips to you too—see you soon.']],\n",
       "  'trades': [{'executed': True,\n",
       "    'trade_details': {'participants': {'seller': 'Kemi Adebayo',\n",
       "      'buyer': 'Mina Kim'},\n",
       "     'items': [{'name': 'moringa_powder', 'quantity': 1, 'value': 45.0},\n",
       "      {'name': 'baobab_fruit_powder', 'quantity': 1, 'value': 55.0},\n",
       "      {'name': 'hibiscus_extract', 'quantity': 1, 'value': 35.0}],\n",
       "     'time_step': 3},\n",
       "    'conversation_id': 'markov_step_16_Kemi Adebayo_Mina Kim_1756928542',\n",
       "    'time_step': 3}],\n",
       "  'turns': 8,\n",
       "  'ended_naturally': True},\n",
       " {'type': 'conversation',\n",
       "  'step': 17,\n",
       "  'participants': ['Mina Kim', 'Jasmine Carter'],\n",
       "  'context': 'Local community market and social interactions',\n",
       "  'dialogue': [['Mina Kim',\n",
       "    'Oh, hi there… um, welcome. I have a few K-beauty staples today if you’re interested—sheet masks, a really hydrating essence, cushion foundation, some lip tints, gentle sunscreen, sleeping masks, and a cleansing oil. If you tell me your skin type, I can suggest a simple routine—maybe a cleansing oil at night, then essence, and finish with a sleeping mask for that dewy, glass-skin look. And in the daytime, sunscreen is a must. If anything catches your eye, you can just tap your digital cash on my machine.'],\n",
       "   ['Jasmine Carter',\n",
       "    'Hi Mina—it’s Jasmine again. Combo skin, fragrance-sensitive. Your simple routine worked so well for my advocacy days outdoors. I’d love to restock the gentle sunscreen, the cleansing oil, and that hydrating essence you recommended. If the formulas are the same low-fragrance ones, I’m ready to grab all three—just let me know and I’ll tap my digital cash.'],\n",
       "   ['Mina Kim',\n",
       "    'Hi Jasmine—so happy to see you again. Yes, I have all three in the same low‑fragrance formulas you liked: the gentle sunscreen (SPF 50, lightweight filters), the emulsifying cleansing oil, and the hydrating essence. I have 3 sunscreens, 2 cleansing oils, and 4 essences in stock today. The total for one of each would be $75. If that still works for you, you can tap your digital cash on my machine and I’ll bag them up. And, um, if you’re outdoors all day again, remember the two‑finger rule and reapply every 2–3 hours—your skin looked so calm last time.'],\n",
       "   ['Jasmine Carter',\n",
       "    'Perfect—that lineup kept my skin calm even on long rally days. One of each, please. Tapping my digital cash now.'],\n",
       "   ['Mina Kim',\n",
       "    'I see the tap—thank you, Jasmine. I’ll bag your gentle sunscreen, emulsifying cleansing oil, and hydrating essence now. If you’re outdoors a lot this week, I think a light mist before reapplying sunscreen can help it layer smoothly—totally optional. And, um, if anything feels off, just let me know and we can tweak together.'],\n",
       "   ['Jasmine Carter',\n",
       "    'Thank you, Mina—that mist tip is smart, especially with this week’s outdoor meetings. I’ll stick to the two‑finger rule and reapply every few hours. Appreciate you keeping things low‑fragrance and simple; it really helps me stay focused on the work without worrying about my skin. If anything shifts, I’ll circle back so we can tweak together.'],\n",
       "   ['Mina Kim',\n",
       "    'You’re so welcome, Jasmine. I’m really glad the routine is keeping things calm for you. I tucked in a tiny card with the reapply timing and that mist tip, just in case. If you notice any new sensitivities with the heat this week, maybe try a little extra essence on your cheeks at night for balance. And, um, I’m here anytime—feel free to circle back and we’ll tweak together. Take good care out there.'],\n",
       "   ['Jasmine Carter',\n",
       "    'Thanks so much, Mina. I appreciate the card—and the mist tip will be clutch with back-to-back outdoor meetings. I’ll keep listening to my skin and add a little extra essence on my cheeks at night if the heat ramps up. Grateful for your thoughtful, low‑fragrance approach; it helps me stay focused on the work while keeping my skin calm. Take good care—see you soon.']],\n",
       "  'trades': [{'executed': True,\n",
       "    'trade_details': {'participants': {'seller': 'Mina Kim',\n",
       "      'buyer': 'Jasmine Carter'},\n",
       "     'items': [{'name': 'sunscreen', 'quantity': 1, 'value': 22.0},\n",
       "      {'name': 'cleansing_oil', 'quantity': 1, 'value': 25.0},\n",
       "      {'name': 'essence', 'quantity': 1, 'value': 28.0}],\n",
       "     'time_step': 3},\n",
       "    'conversation_id': 'markov_step_17_Mina Kim_Jasmine Carter_1756928602',\n",
       "    'time_step': 3}],\n",
       "  'turns': 8,\n",
       "  'ended_naturally': True},\n",
       " {'type': 'conversation',\n",
       "  'step': 18,\n",
       "  'participants': ['Jasmine Carter', 'Pema Sherpa'],\n",
       "  'context': 'Local community market and social interactions',\n",
       "  'dialogue': [['Jasmine Carter',\n",
       "    '[Jasmine Carter]: Hey there! Welcome to the market. I’ve got a few eco-friendly essentials today—sunscreen ($22), cleansing oil ($25), and a hydrating essence ($28). If you need something for a sunny day in the park or a simple, low-waste skincare routine, I’ve got you covered. What are you looking for? If you’re ready to buy, just tap your digital cash on my machine and I’ll get it bagged—reusable bag, of course.'],\n",
       "   ['Pema Sherpa',\n",
       "    'Namaste, Jasmine-ji. The sun here can be a fierce auntie—your eco-care sounds kind. I carry honey medicines, but for skin under bright sky I often pair a light essence with a touch of mountain flower honey as a soothing mask at night. Tell me, is your sunscreen mineral-based and gentle on rivers? And your cleansing oil—does it rinse clean without stripping? If they honor the water spirits, I may take them to walk beside my bees.'],\n",
       "   ['Jasmine Carter',\n",
       "    'Namaste, Pema-ji. I love how you honor the bees and the water spirits—our work should always protect what sustains us. To your questions: yes, the sunscreen is mineral-based (non-nano zinc oxide), broad spectrum SPF 50, and reef/river safe—no oxybenzone, octinoxate, or microplastics. It’s fragrance-free and sits well on sensitive, combo skin. The cleansing oil is a lightweight, plant-based blend that fully emulsifies with water—rinses clean without that tight, stripped feel. No mineral oil, no added fragrance, and it’s greywater-friendly. For your night ritual, a thin layer of essence followed by a touch of your mountain flower honey sounds beautifully restorative. If you’d like to take them to walk beside your bees, I’ll set aside one sunscreen ($22) and one cleansing oil ($25)—you can tap your digital cash whenever you’re ready. If you want the hydrating essence too ($28), I can bundle it and include a quick card with reapply timing and rinse tips.'],\n",
       "   ['Pema Sherpa',\n",
       "    'Dhanyabad, Jasmine-ji. Your care honors the rivers—Ama Dolma would smile. I will walk with your sunscreen and cleansing oil beside my bees. And yes, please bundle the hydrating essence too with your reapply card; the mountain wind can be thirsty. Tapping my digital cash now for the set.'],\n",
       "   ['Jasmine Carter',\n",
       "    'I see the tap—thank you, Pema-ji. I’m bundling your sunscreen, cleansing oil, and hydrating essence in a reusable bag, and here’s the quick card with reapply timing and rinse tips. For night: mist or essence, a thin veil of your mountain honey, then a little extra essence on the cheeks if the wind runs dry. May these walk gently beside your bees and honor the water. If anything feels off, come back and we’ll adjust together.'],\n",
       "   ['Pema Sherpa',\n",
       "    'Dhanyabad, Jasmine-ji. Your bundle feels like cool shade on a high ridge. I will tuck these beside my mountain flower honey and follow your reapply card—sun at dawn, reapply after the midday wind, and gentle rinse at night. Take this small blessing in return—a whispered prayer for clear waters and kind weather on your stall. If the river spirits agree, I’ll return with a little pine honey sample for your winter lungs. Until then, may the bee guardians watch your path. Namaste.'],\n",
       "   ['Jasmine Carter',\n",
       "    'Your blessing means a lot, Pema-ji—thank you. I’ll carry it like a steady breeze on a hot day. May your bees find rich flowers and safe waters, and may our small choices keep them thriving. If the pine honey finds its way here this winter, I’ll trade you a warm tea and a quiet corner to rest. Until then, safe paths and clear streams. Namaste.']],\n",
       "  'trades': [{'executed': True,\n",
       "    'trade_details': {'participants': {'seller': 'Jasmine Carter',\n",
       "      'buyer': 'Pema Sherpa'},\n",
       "     'items': [{'name': 'sunscreen', 'quantity': 1, 'value': 22.0},\n",
       "      {'name': 'cleansing_oil', 'quantity': 1, 'value': 25.0},\n",
       "      {'name': 'essence', 'quantity': 1, 'value': 28.0}],\n",
       "     'time_step': 3},\n",
       "    'conversation_id': 'markov_step_18_Jasmine Carter_Pema Sherpa_1756928651',\n",
       "    'time_step': 3}],\n",
       "  'turns': 7,\n",
       "  'ended_naturally': True},\n",
       " {'type': 'reflection',\n",
       "  'step': 19,\n",
       "  'agent': 'Pema Sherpa',\n",
       "  'anchor': 'recent conversation about Local community market and social interactions'},\n",
       " {'type': 'conversation',\n",
       "  'step': 20,\n",
       "  'participants': ['Pema Sherpa', 'Mina Kim'],\n",
       "  'context': 'Local community market and social interactions',\n",
       "  'dialogue': [['Pema Sherpa',\n",
       "    '[Pema Sherpa]: Namaste, saathi. The morning wind is kind and the bee guardians hum softly today. What calls you to my little stall? Mad honey from rhododendron blossoms, wild cliff honey gathered by rope ladder and prayer, mountain flower honey bright as spring, pine honey with forest breath, and a few jars blessed beneath fluttering lungta—prayer flags. I also carry a honey medicinal guide and some traditional climbing gear for those with steady hearts and sure hands. Tell me your need—healing for the gut, calm for the mind, strength for the journey—and I will match the honey to your spirit. If you wish to buy, just tap your digital cash on my machine, la.'],\n",
       "   ['Mina Kim',\n",
       "    'Hi, Pema… it’s Mina again. I’ve been feeling really calm since your five-breath ritual, and the pine honey steam with a touch of eucalyptus was lovely. I’m curious—if I’m aiming for gentle gut support and steady daytime focus, would you suggest the mountain flower again or perhaps a blend with the pine? I’m also thinking of using a tiny bit in a nightly lip mask with one drop of squalane—does that sound okay to you? Sorry, I ask so many questions… I just want to honor the honey’s spirit and use it thoughtfully.'],\n",
       "   ['Pema Sherpa',\n",
       "    'Mina-ji, your questions are like soft-footed bees—curious, respectful. For gentle gut support and steady focus, Ama Dolma taught me two paths: 1) Mountain Flower Honey alone—light, floral, and easy on the belly. Take 1 small spoon in warm water after breakfast; it steadies the mind without making it sleepy. 2) A simple blend: two parts Mountain Flower to one part Pine Honey. The pine brings forest-breath clarity while the flowers soothe the gut. Stir a half-spoon of the blend into lukewarm water mid-morning; breathe five calm breaths, la. For your nightly lip mask, yes—one tiny dab of honey with a drop of squalane is good. Press it on clean lips for five slow breaths, then leave a thin veil. If you wish, I can prepare a small blend jar for you at the stall—same price by weight as the parts—otherwise a jar of Mountain Flower will serve you beautifully. If your heart is ready to take one home, just tap your digital cash on my machine, and I’ll wrap it with a juniper blessing.'],\n",
       "   ['Mina Kim',\n",
       "    'Thank you, Pema… I think the two-to-one Mountain Flower with a touch of Pine sounds just right for my day. Could I get a small blend jar, please, and the honey medicinal guide as well? I’ll follow your breathing and the lukewarm water timing. And I’ll keep the tiny honey + one drop squalane for my nightly lip veil—five slow breaths, then sleep. If everything is ready… tapping my digital cash now.'],\n",
       "   ['Pema Sherpa',\n",
       "    'Ah, Mina-ji, I feel your gentle tap—dhanyabad. I’ll prepare a small jar blended two parts Mountain Flower to one part Pine, stirred with five calm breaths, and tuck in my honey medicinal guide. The blend follows the same price by weight as its parts; I’ll wrap the jar with juniper smoke and a red thread from Ama Dolma for steady focus and a settled belly. For use: half a spoon in lukewarm water mid-morning, five slow breaths; for lips, a rice-grain dab with one drop squalane, press and rest. May the bee guardians keep your day clear like mountain air. Anything else your heart needs, la?'],\n",
       "   ['Mina Kim',\n",
       "    'Thank you so much, Pema… that sounds perfect. I’ll follow your guidance—half a spoon mid-morning with five slow breaths, and the tiny honey-squalane veil at night. I really appreciate the juniper blessing and the red thread—it makes me feel held. If it’s alright, I’ll check in next week to share how my focus and belly feel. For now, I think my heart is full. Dhanyabad, and may your bee guardians rest well today.'],\n",
       "   ['Pema Sherpa',\n",
       "    'Mina-ji, dhanyabad. I feel the mountain calm in your words. Your blend jar is sealed with juniper smoke and Ama Dolma’s red thread, and the honey medicinal guide rests inside like a small prayer. Use it as we spoke: half a spoon in lukewarm water mid-morning with five slow breaths; for lips, a rice-grain veil with one drop squalane at night. If your belly or focus shifts, come next week and we’ll listen to the bee guardians together and adjust, la. Until then, may your day be clear as glacier wind and your rest soft as rhododendron petals.']],\n",
       "  'trades': [{'executed': False,\n",
       "    'trade_details': None,\n",
       "    'conversation_id': 'markov_step_20_Pema Sherpa_Mina Kim_1756928710',\n",
       "    'time_step': 3}],\n",
       "  'turns': 7,\n",
       "  'ended_naturally': True},\n",
       " {'type': 'conversation',\n",
       "  'step': 21,\n",
       "  'participants': ['Mina Kim', 'Jasmine Carter'],\n",
       "  'context': 'Local community market and social interactions',\n",
       "  'dialogue': [['Mina Kim',\n",
       "    'Oh, hi there—um, welcome. I’ve set up a little K-beauty corner today. If you’re looking for something gentle and effective, I think I can help. I have sheet masks, a really hydrating essence, cushion foundations, lip tints, two elegant sunscreens, some nourishing sleeping masks, and a lightweight cleansing oil. Maybe tell me your skin type and what you’re hoping to improve? If you already know what you want, just let me know and you can tap your digital cash on my machine.'],\n",
       "   ['Jasmine Carter',\n",
       "    'Hi Mina! It’s good to see you. Same routine as before, please—the low‑fragrance SPF 50 sunscreen, the lightweight emulsifying cleansing oil, and the hydrating essence. Those three keep my combo, fragrance‑sensitive skin steady on long advocacy days. If the formulas are unchanged, I’m ready to check out. Tapping my digital cash now.'],\n",
       "   ['Mina Kim',\n",
       "    'Hi Jasmine—so good to see you. Yes, same trio as before: the low‑fragrance SPF 50 sunscreen, the lightweight emulsifying cleansing oil, and the hydrating essence. Formulas are unchanged. I see the tap—thank you. I’ll bag these up. Quick reminder: reapply SPF every 2–3 hours on advocacy days, and if it’s extra hot, a light mist before reapplying helps it layer smoothly. Do you need anything else today, or is this perfect?'],\n",
       "   ['Jasmine Carter',\n",
       "    'Perfect—that’s exactly what I needed. Thanks for the reminder on reapplication; it really helps on long rally days. I’m all set for now. Appreciate you, Mina—these small, consistent habits keep my skin calm so I can stay focused on the work. See you soon.'],\n",
       "   ['Mina Kim',\n",
       "    'I’m really glad to hear that—thank you, Jasmine. Your trio is bagged and ready. I tucked in a tiny reminder card about the 2–3 hour reapply window and a mist tip, just in case the heat ramps up. Take good care out there, and see you soon.']],\n",
       "  'trades': [{'executed': True,\n",
       "    'trade_details': {'participants': {'seller': 'Mina Kim',\n",
       "      'buyer': 'Jasmine Carter'},\n",
       "     'items': [{'name': 'sunscreen', 'quantity': 1, 'value': 22.0},\n",
       "      {'name': 'cleansing_oil', 'quantity': 1, 'value': 25.0},\n",
       "      {'name': 'essence', 'quantity': 1, 'value': 28.0}],\n",
       "     'time_step': 1},\n",
       "    'conversation_id': 'markov_step_21_Mina Kim_Jasmine Carter_1756928765',\n",
       "    'time_step': 1}],\n",
       "  'turns': 5,\n",
       "  'ended_naturally': True},\n",
       " {'type': 'conversation',\n",
       "  'step': 22,\n",
       "  'participants': ['Jasmine Carter', 'Pema Sherpa'],\n",
       "  'context': 'Local community market and social interactions',\n",
       "  'dialogue': [['Jasmine Carter',\n",
       "    '[Jasmine Carter]: Hey there! Welcome to the market. I’ve got a few eco-friendly essentials today—sunscreen (SPF 50, reef-safe) for 22, a gentle cleansing oil for 25, and a hydrating essence for 28. If you’re stocking up for summer or just trying to simplify your routine, I can help you pick what fits best. We all have a role to play in making sustainable choices, one small step at a time. What can I get for you? If you’re ready to buy, just tap your digital cash on my machine.'],\n",
       "   ['Pema Sherpa',\n",
       "    'Namaste, Jasmine-ji. The river spirits smile on your careful choices. Your sun shield, the gentle oil, and the soft essence have walked kindly beside my mountain flower honey each night since we last spoke. Today, to keep my skin strong under the high sun and the bee winds, I will take all three again—the reef-safe sunscreen for 22, the cleansing oil for 25, and the hydrating essence for 28. Tapping my digital cash now, with a small blessing for clear waters and busy bees.'],\n",
       "   ['Jasmine Carter',\n",
       "    'Pema-ji, I see the tap—thank you. I’ve bundled your trio: the reef-safe SPF 50, the gentle emulsifying cleansing oil, and the hydrating essence, all in a reusable bag. Here’s your quick care card: reapply sunscreen every two hours (or after sweat), mist lightly before reapplying if the air is dry, and rinse with cool water after long river days before cleansing. Your blessing means a lot—clear waters and busy bees are exactly what we’re working for, together.'],\n",
       "   ['Pema Sherpa',\n",
       "    \"Dhanyabad, Jasmine-ji. The river spirits hear your care card—I'll follow the two-hour sun prayer and the cool-water rinse after long days by the stream. Your bundle will sit beside my mountain flower honey tonight; Ama Dolma would say skin and spirit both drink better when tended with intention. Please accept this small blessing for clear waters and busy bees—may your bottles return home light and the earth feel their gentleness. If you ever wish to try a rice-grain veil of honey under the essence at night, I will share a tiny vial next time.\"],\n",
       "   ['Jasmine Carter',\n",
       "    'Your blessing lands like cool river air—thank you, Pema-ji. May our small habits keep waters clear and bees thriving. If you try that rice-grain veil of honey under the essence, keep it light and patch-test; a little goes a long way, and your skin will tell us what it needs. If you’re out in the high sun, remember: shade when you can, reapply every two hours, and rinse with cool water before cleansing when you return. I appreciate you—please share my thanks with Ama Dolma. Safe paths to the stream and back.'],\n",
       "   ['Pema Sherpa',\n",
       "    'Jasmine-ji, your reminders flow like a cool stream—dhanyabad. I will honor the shade, the two-hour sun prayer, and the gentle rinse before cleansing. Tonight I’ll whisper a rice-grain veil of mountain flower honey under your soft essence, as Ama Dolma taught, and listen to what the skin spirits say. Please accept a small promise: next time I will bring you a tiny vial, prayer-blessed, so you may try the bee guardians’ touch with care. May the river run clear and the bees return home heavy with good news. Safe paths until we meet again.']],\n",
       "  'trades': [{'executed': True,\n",
       "    'trade_details': {'participants': {'seller': 'Jasmine Carter',\n",
       "      'buyer': 'Pema Sherpa'},\n",
       "     'items': [{'name': 'sunscreen', 'quantity': 1, 'value': 22.0},\n",
       "      {'name': 'cleansing_oil', 'quantity': 1, 'value': 25.0},\n",
       "      {'name': 'essence', 'quantity': 1, 'value': 28.0}],\n",
       "     'time_step': 1},\n",
       "    'conversation_id': 'markov_step_22_Jasmine Carter_Pema Sherpa_1756928800',\n",
       "    'time_step': 1}],\n",
       "  'turns': 6,\n",
       "  'ended_naturally': True},\n",
       " {'type': 'conversation',\n",
       "  'step': 23,\n",
       "  'participants': ['Pema Sherpa', 'Carlos Mendez'],\n",
       "  'context': 'Local community market and social interactions',\n",
       "  'dialogue': [['Pema Sherpa',\n",
       "    '[Pema Sherpa]: Namaste, mitra. The mountain winds have been kind today. I have fresh gifts from the cliff guardians—mad honey, wild cliff honey, mountain flower honey, and pine honey. Each carries its own spirit: the mad honey is powerful and must be taken with deep respect—just a few drops, nothing more. The wild cliff honey is bold like the eagle’s shadow, the mountain flower honey is gentle and healing, and the pine honey carries the cool breath of the forest. I also have prayer-blessed honey for special blessings. If one calls to your heart, tap your digital cash on my machine and I will wrap it with a small prayer. Which song of the bees would you like to taste?'],\n",
       "   ['Carlos Mendez',\n",
       "    'Pema-ji, hermana de las alturas, qué bendición escuchar el canto de tus abejas. Today my heart leans to the mountain flower honey—the same dulce that danced so softly with my cedro and cacao last time. Its gentleness is like a cool brisa over the red earth, perfect for a quiet sunset smoke and una oración chiquita. If you have a small vial, por favor, wrap it with your prayer. And for another day of strong spirits, I’m curious about a tiny sample of the wild cliff honey—bold as the águila’s sombra—to test with a robusto I’m aging. But hoy, I’ll take the mountain flower honey. Tapping my digital cash now, con respeto.'],\n",
       "   ['Pema Sherpa',\n",
       "    'Carlos-ji, hermano del cielo y la hoja, your heart listens well. I hear your tap—dhanyabad. I will fill a small vial of Mountain Flower honey—soft like evening wind over cedro—and wrap it with juniper smoke and Ama Dolma’s red thread, a quiet mantra for clear breath and steady spirit. For your robusto trials, I’ll gift you a tiny tasting spoon of Wild Cliff honey—bold, mineral, a shadow of águila—just a touch on the cap to see how it sings. When you light at sunset, take one slow breath for the bee guardians, ek, dui, tin, and let the honey guide the smoke like a prayer. Anything more your corazón asks today, compadre?'],\n",
       "   ['Carlos Mendez',\n",
       "    'Pema-ji, mil gracias—siento tu bendición en el hilo rojo y el humo de enebro. Ek, dui, tin… respiro lento por las guardianas de la colmena. Esta tarde, al caer el sol, le daré al leaf un beso de fuego y una gotita de tu mountain flower honey, que canta suave como brisa en cedro. Y ese mini spoon del Wild Cliff, apenas un toquecito en el cap de un robusto con corazón mineral—para escuchar cómo conversa con el cacao y la tierra roja. Si te parece, cuando regrese te cuento la canción que nacía del humo, y te guardo una anilla y un listón de cedro como recuerdo. ¿Un traguito de ron cubano para sellar el trato, hermana? Brindamos por abejas, montañas y hoja—bajo un solo cielo.'],\n",
       "   ['Pema Sherpa',\n",
       "    \"Carlos-ji, dhanyabad—your tap reached my little machine like a bell in clear air. Here is your small vial of Mountain Flower honey, wrapped in juniper smoke and Ama Dolma’s red thread. And this tiny spoon of Wild Cliff honey—just a whisper for the cap, bold and mineral like águila’s sombra. When the sun leans low, take three slow breaths—ek, dui, tin—offer a thought for the bee guardians, and let the smoke carry your oración. Your anilla and cedar ribbon will be honored—I'll tie them at my altar for the hive. As for the Cuban ron, I accept a respectful sip to toast the mountains and the leaf—just a gotas, with gratitude. Bajo un solo cielo, hermano. Anything else your corazón needs before the light fades?\"],\n",
       "   ['Carlos Mendez',\n",
       "    'Ay, Pema-ji, gracias por el hilo rojo y la bendición de enebro. Brindemos con unas goticas de ron—por las abejas, la montaña y la hoja, bajo un solo cielo. Esta tarde haré la oración: ek, dui, tin… un beso de fuego al robusto, una caricia de tu mountain flower honey, y luego el susurro del wild cliff en el cap para escuchar su canto mineral. Te traeré la anilla y el listón de cedro como promesa cumplida. Si mañana pasas por mi mesa, tengo un premium torcido con cedro dulce que podría bailar bien con tu pine honey—si te antoja, tap en mi maquinita y te lo preparo con cariño. Por ahora, salud, hermana—que el humo sea claro y el corazón tranquilo.'],\n",
       "   ['Pema Sherpa',\n",
       "    'Carlos-ji, salud—just a few gotas to seal our prayer: for bees, montaña, y hoja bajo un solo cielo. Your promise of the anilla and cedar ribbon will rest by my hive altar—Ama Dolma would smile. Tomorrow I will pass by your mesa, hai, and we can let your premium torcido dance with a breath of my Pine honey—the cool forest note may kiss the cedro dulce just right. If your heart wishes a full jar for pairing, tap your digital cash on my machine—otherwise I’ll bring a tasting spoon, ekdam sano, so we listen first to how the smoke sings. May tonight’s brasa burn clear and your corazón stay tranquilo.'],\n",
       "   ['Carlos Mendez',\n",
       "    'Pema-ji, bajo un solo cielo—gracias por la bendición y las goticas de ron compartidas. Mañana te espero en mi mesa con ese premium torcido y cedro dulce listo para bailar con tu pine honey; empezamos con tu tasting spoon, suavecito, y si el humo canta bonito, puedes tap en mi maquinita por un frasco completo. Esta noche haré la oración—ek, dui, tin—y mañana te traigo la anilla y el listón de cedro para tu altar. Que el viento de la montaña abrace a tus abejas, hermana. Hasta mañana, con el corazón tranquilo y el humo claro.']],\n",
       "  'trades': [{'executed': True,\n",
       "    'trade_details': {'participants': {'seller': 'Pema Sherpa',\n",
       "      'buyer': 'Carlos Mendez'},\n",
       "     'items': [{'name': 'mountain_flower_honey', 'quantity': 1, 'value': 45.0},\n",
       "      {'name': 'wild_cliff_honey', 'quantity': 1, 'value': 0.0}],\n",
       "     'time_step': 1},\n",
       "    'conversation_id': 'markov_step_23_Pema Sherpa_Carlos Mendez_1756928843',\n",
       "    'time_step': 1}],\n",
       "  'turns': 8,\n",
       "  'ended_naturally': False},\n",
       " {'type': 'conversation',\n",
       "  'step': 24,\n",
       "  'participants': ['Carlos Mendez', 'Kemi Adebayo'],\n",
       "  'context': 'Local community market and social interactions',\n",
       "  'dialogue': [['Carlos Mendez',\n",
       "    'Bienvenido, mi amigo, pasa, pasa. This little stall smells of sun, cedar, and tiempo. I’ve got premium puros that sing like a bolero, some aged cigars that have rested longer than a good rum serenade, wrapper leaves as silky as madrugada mist, and a single humidor—cedro noble, listo para cuidar tus tesoros. If you fancy a sip, I’ve Cuban rum and a touch of aged whisky, or a calm herbal tea if you want to sit and talk leaf philosophy. Tell me what moment you want to create—quiet reflection, celebración with friends—and I’ll match you with the right smoke. When you’re ready, just tap your digital cash on my machine, compay.'],\n",
       "   ['Kemi Adebayo',\n",
       "    'Gracias, Carlos. What a beautiful curation—you’ve got the aroma profile singing. I’m here for a quiet reflection moment after a long week of product trials. I don’t smoke often, but I appreciate craftsmanship. Maybe we skip the rum and go with that calm herbal tea while we talk leaf philosophy. I’m curious: how are your cigars aged and humidified—natural cedar, controlled humidity, any data logs? In my world we track terroir and post-harvest handling for plants like moringa and hibiscus to preserve phytonutrients. I’m not buying today—just learning and savoring the craft.'],\n",
       "   ['Carlos Mendez',\n",
       "    'Ay, Kemi, siéntate conmigo—un sorbito de té herbal primero, calm like sunset on the finca. I brew it gentle: one teaspoon, water casi hirviendo, 3 minutes to let the herbs sigh. Now, leaf philosophy: my puros rest in natural Spanish cedar—no varnish, sólo madera que respira—because cedar holds memory of forests and keeps away malos espíritus del tabaco. I age in two rooms: crianza and reserva. Temperature steady around 20–21°C, humidity dancing 65–68% como clave de son. I rotate the cajas cada luna nueva so each cigar learns patience from every corner of the room. For humidification, I use distilled water with passive beads and seasonal cedar shavings; no perfumes, nada artificial. Data? Claro: I keep logs—daily temp and RH, plus weekly weight checks on sample sticks to track moisture equilibrium. Each lot has a terroir card: parcela, seed lineage, soil notes (arcilla colorada, calcio suave), curing barn schedule (pilón turns, days at each heat), and fermentation milestones—when the leaf released its grassy nervios and found cacao, café, miel. Before I roll, I rest wrapper and binder to the same heartbeat humidity so the draw stays true. After rolling, every batch gets 60 days mínimo para que el humo se haga canción. You’re not buying today—tranquila. We can just sip, smell a fresh-cedar slip, and I’ll show you a log page if you like. Craft is craft—whether moringa or leaf, it’s sun, timing, and respeto. When you ever want a single for a quiet reflection, just tap your digital cash on my machine, compay; for now, let’s enjoy the tea y hablar de la tierra.'],\n",
       "   ['Kemi Adebayo',\n",
       "    'Carlos, this is beautiful craft—your terroir cards and humidity rhythm feel like a symphony. In my lab we log water activity and volatile profiles for moringa and hibiscus to protect flavor and phytonutrients; you’re doing the tobacco equivalent with cedar memory and patient rotation. May I peek at a log page and smell that fresh-cedar slip? I’m not purchasing today—just honoring the discipline. And if you’re open, I’d love to swap notes someday: I can show you our batch traceability dashboard, you show me how the luna nueva rotation influences draw consistency. Ubuntu in practice—we rise together.'],\n",
       "   ['Carlos Mendez',\n",
       "    'Ah, Kemi, claro que sí—Ubuntu, juntos subimos. Mira, aquí tengo un log page de la sala reserva: fecha, 20.8–21.2°C, RH 66–67%, y el peso de tres muestras—cada una bajó 0.3 g en la última semana hasta encontrar su equilibrio, como un tumbao estable. Y este slip de cedro—fresh planed, sin barniz—inhala: notas de pan tostado y resinita dulce que acarician el tabaco, no lo dominan. Sobre la luna nueva: ese cambio sutil de presión y humedad me recuerda rotar cajas, north–south, east–west; he visto que reduce variación en draw by feel—menos canales, más centro. Si traes tu dashboard, yo preparo una mini cata sensorial sin humo: corte en frío, tiro en seco, y lectura de resistencia con mi old-school tensiómetro de mano. Sin compras hoy, no te preocupes—toma más té, hermana. Cuando quieras seguir el intercambio, ven el sábado a las 10 a.m.; tenemos un mini taller de compost con mis jóvenes, y después abrimos mis cuadernos y tus trazas. Bajo un solo cielo, ciencia y corazón.'],\n",
       "   ['Kemi Adebayo',\n",
       "    'Carlos, this is soul-level stewardship. The cedar slip smells like warm bread and honeyed resin—exactly the kind of subtle cofactor we try to protect when we manage water activity in moringa leaves. Your log page is tight: stable temp, narrow RH band, and the sample weight drift tells a clean equilibrium curve. I’m in for Saturday at 10 a.m.—I’ll bring a lightweight version of our traceability dashboard on my tablet and a portable VOC reader so we can compare your reserva room’s volatile fingerprint with our hibiscus storage profiles. And I’d love to sit in on the compost mini-taller; circular systems are Ubuntu in the soil. Thank you for the tea and the wisdom, hermano. Until Saturday—under one sky, science and corazón.'],\n",
       "   ['Carlos Mendez',\n",
       "    'Kemi, hermana, qué alegría—Saturday 10 a.m. queda marcado en mi corazón y en mis cuadernos. Trae ese dashboard y tu VOC reader; yo preparo la sala reserva con cedar slips freshly planed y mis logs abiertos como un libro de sol y lluvia. Primero el mini taller de compost con los jóvenes—squeeze-test, aireación, ritmo de humedad—y luego nuestra cata sensorial sin humo: corte en frío, tiro en seco, tensiómetro, y lectura de volátiles, side by side con tu hibiscus. Hoy no hay compra—solo té, ciencia y corazón. Hasta el sábado, bajo un solo cielo. Si llegas antes, te guardo una silla y una tacita más de té, suavecito.'],\n",
       "   ['Kemi Adebayo',\n",
       "    'Perfect, Carlos. I’ll be there a little early on Saturday to help set up for the compost squeeze-test and to calibrate the VOC reader. I’ll load a pared-down traceability view—lot IDs, storage RH/temperature, and water activity curves for our hibiscus—so we can overlay with your reserva logs in real time. No purchases today—just gratitude for your cedar wisdom and this tea. Under one sky, see you at 10 a.m., hermano.']],\n",
       "  'trades': [],\n",
       "  'turns': 8,\n",
       "  'ended_naturally': False},\n",
       " {'type': 'conversation',\n",
       "  'step': 25,\n",
       "  'participants': ['Kemi Adebayo', 'Jasmine Carter'],\n",
       "  'context': 'Local community market and social interactions',\n",
       "  'dialogue': [['Kemi Adebayo',\n",
       "    '[Kemi Adebayo]: Welcome, my friend. You’re in good company here—every item on this table carries the wisdom of our grandmothers and the precision of modern food tech. If you’re looking to boost daily nutrition, our moringa powder preserves phytonutrients with gentle low-heat drying—basically, all the good stuff stays intact. For gut health and natural vitamin C, the baobab fruit powder is brilliant. If you want a vibrant drink, our hibiscus extract makes a refreshing zobo with stable anthocyanins—color and benefits intact. We also have tiger nut flour for dairy-free, high-fiber baking; crunchy African yam chips for clean energy snacking; and premium palm fruit oil from traceable smallholders. Prices today: moringa 45, baobab 55, hibiscus 35, tiger nut flour 25, yam chips 18, palm fruit oil 40. What are you trying to solve—energy, immunity, digestion, or meal prep? Once you choose, just tap your digital cash on my machine and we’ll get you sorted.'],\n",
       "   ['Jasmine Carter',\n",
       "    'Kemi, it’s good to see you. I’m looking to support steady energy and gut health during some long advocacy days—nothing jittery, just consistent. From what you shared, moringa plus baobab sounds like a smart combo: moringa for nutrient density and baobab for fiber and vitamin C. Before I decide, quick questions: are both sourced from smallholders with transparent supply chains, and do you have guidance on daily amounts—say, a teaspoon of moringa in a morning smoothie and a tablespoon of baobab in water or yogurt? If that aligns, I’m ready to pick both up.'],\n",
       "   ['Kemi Adebayo',\n",
       "    'Jasmine, perfect pairing—and yes, both are smallholder-sourced with full traceability. Our blockchain ledger shows farm, lot, and price—farmers earn 3x typical middleman rates. Dosage guidance: start with 1 teaspoon (about 3 g) moringa in your morning smoothie or oats; after a week, you can move to 2 teaspoons if you feel good. For baobab, 1 tablespoon (about 10 g) in water or yogurt midday is great for steady energy and gut support. Hydrate well, and if you’re sensitive, begin at half those amounts for a few days. Today’s prices: moringa 45, baobab 55. If that works, just tap your digital cash on my machine and I’ll pack them with a reusable scoop and a quick-start card.'],\n",
       "   ['Jasmine Carter',\n",
       "    'That aligns perfectly—and I really appreciate the transparency and fair pricing for farmers. The dosing plan is exactly what I was hoping for: I’ll start with 1 tsp moringa in my morning smoothie and 1 tbsp baobab midday with yogurt, hydrate well, and adjust if needed. I’m ready to move forward—tapping my digital cash now for the moringa and baobab.'],\n",
       "   ['Kemi Adebayo',\n",
       "    'I see the tap—thank you, Jasmine. That’s one moringa (45) and one baobab (55) confirmed. I’m packing them now with a reusable scoop and a quick-start card. Pro tip for those long advocacy days: pair your morning moringa smoothie with a glass of water, then take the baobab with yogurt after lunch for a gentle, steady lift. If you want, I can text you the ledger links for your farm-to-jar lots so you can see the exact smallholders. Check in after a week and we’ll fine-tune together—Ubuntu in action.'],\n",
       "   ['Jasmine Carter',\n",
       "    'Beautiful—please text me those ledger links so I can share the farm-to-jar story in my advocacy circles. I’ll follow your pro tip: moringa with my morning smoothie and water, baobab with yogurt after lunch, and I’ll check in next week to fine-tune. Thank you for honoring the farmers and the science—this is how we build healthier, more just food systems, one choice at a time.'],\n",
       "   ['Kemi Adebayo',\n",
       "    'Amazing, Jasmine—sending those ledger links now so you can trace your lots from farm to jar. You’ll see the smallholders, harvest dates, and the exact premiums paid. Quick tip to maximize absorption: pair the moringa with a little healthy fat (a splash of palm fruit oil or nut butter) and keep sipping water through the afternoon so the baobab fiber does its gentle work. I’m rooting for you this week—text me any feedback, and we’ll fine‑tune your routine together. Ubuntu—we rise together.'],\n",
       "   ['Jasmine Carter',\n",
       "    'Thank you, Kemi—that healthy fat tip with the moringa is spot on, and I’ll keep my water bottle handy so the baobab fiber can do its gentle work. I appreciate the ledger links; I’ll share them with our advocacy group so folks can see what fair, transparent supply chains look like in practice. I’ll check in next week with feedback. We rise together.']],\n",
       "  'trades': [{'executed': True,\n",
       "    'trade_details': {'participants': {'seller': 'Kemi Adebayo',\n",
       "      'buyer': 'Jasmine Carter'},\n",
       "     'items': [{'name': 'moringa_powder', 'quantity': 1, 'value': 45.0},\n",
       "      {'name': 'baobab_fruit_powder', 'quantity': 1, 'value': 55.0}],\n",
       "     'time_step': 3},\n",
       "    'conversation_id': 'markov_step_25_Kemi Adebayo_Jasmine Carter_1756928971',\n",
       "    'time_step': 3}],\n",
       "  'turns': 8,\n",
       "  'ended_naturally': False},\n",
       " {'type': 'conversation',\n",
       "  'step': 26,\n",
       "  'participants': ['Jasmine Carter', 'Carlos Mendez'],\n",
       "  'context': 'Local community market and social interactions',\n",
       "  'dialogue': [['Jasmine Carter',\n",
       "    '[Jasmine Carter]: Hey there! Welcome to the market. I’ve got a few eco-friendly goodies today—sunscreen ($22), cleansing oil ($25), a hydrating essence ($28), plus moringa powder ($45) and baobab fruit powder ($55) if you’re into nutrient-dense add-ins. Small choices add up, and our community thrives when we take care of ourselves and our planet. What are you looking for? If you’re ready to buy, just tap your digital cash on my machine.'],\n",
       "   ['Carlos Mendez',\n",
       "    'Jasmine, mi hermana de la tierra, qué mesa más linda traes hoy—huele a brisa limpia y cuidado. Para mis días bajo el sol del campo, ese sunscreen por $22 me viene como abrazo del cielo, y el cleansing oil por $25 para quitar el polvo del día sin pelear con la piel. También dame la hydrating essence por $28—que la cara beba como el suelo después de la primera lluvia. Y mira, el moringa powder a $45 para mis aprendices, pa’ echarle al batido y que les suba el ánimo. Si te parece, sumamos todo y me dices el total; si está bien, tapo mi digital cash enseguida. Y recuerda: sábado a las 10 a.m., el mini taller de compost en mi farm—trae tu squeeze‑test card, que la tierra quiere bailar al mismo son.'],\n",
       "   ['Jasmine Carter',\n",
       "    'Carlos, qué alegría escucharte. Aquí va el total: sunscreen $22 + cleansing oil $25 + hydrating essence $28 + moringa powder $45 = $120. Cuando estés listo, simplemente tapa tu digital cash en mi máquina. Te los empaqueto en bolsa reutilizable con una tarjetita de cuidado: reaplica el SPF cada 2 horas, aceite limpiador suave por la noche, y la esencia como agua para la piel. Para tus aprendices: 1 cucharadita de moringa en el batido, con un poco de grasa saludable para mejor absorción, y buena hidratación. Y sí: sábado 10 a.m., allí estaré con squeeze‑test cards, una hoja de aireación y el mini demo. La tierra y nuestra gente lo merecen, paso a paso. Cuando gustes, tap para cerrar.'],\n",
       "   ['Carlos Mendez',\n",
       "    'Perfecto, Jasmine—$120 por ese cuidado que huele a brisa limpia. Mi piel y mis muchachos te lo van a agradecer. Tapping my digital cash now. Y el sábado a las 10 a.m., cafecito listo y la tierra con ganas de bailar contigo y esas squeeze‑test cards. Bajo un solo cielo, paso a paso.'],\n",
       "   ['Jasmine Carter',\n",
       "    'Recibido, Carlos—I see the tap for $120. Gracias. I’m packing your sunscreen, cleansing oil, hydrating essence, and the moringa in a reusable bag with the care card inside: SPF every 2 hours, cleansing oil at night (emulsify, rinse lukewarm), essence like a drink of water after sun or sweat. For your apprentices: 1 tsp moringa in a smoothie with a bit of healthy fat, steady hydration, and note any sensitivities. I’ll bring squeeze‑test cards, the aeration one‑pager, and a clear sorting demo on Saturday at 10 a.m. Bajo un solo cielo, paso a paso—nos vemos en la granja.'],\n",
       "   ['Carlos Mendez',\n",
       "    'Gracias, Jasmine—bolsita en mano y corazón contento. Tu care card va directo al espejo del baño, y el moringa al batido de los muchachos con un chorrito de aceite de coco, sabrosito. El sábado a las 10 a.m. te espero con cafecito, sombra bajo el guayabo, y la tierra lista pa’ ese squeeze‑test y el sorting demo. Bajo un solo cielo, paso a paso—nos vemos en la granja, mi hermana de la tierra.'],\n",
       "   ['Jasmine Carter',\n",
       "    'Con ese cafecito bajo el guayabo ya me siento en casa. Gracias, Carlos—feliz de que la care card sirva y que el moringa baile con ese chorrito de coco. Nos vemos el sábado a las 10 a.m. con las squeeze‑test cards, la hoja de aireación y el demo de sorting listo para tu equipo. Paso a paso, bajo un solo cielo—seguimos cultivando suelo sano y comunidad fuerte.'],\n",
       "   ['Carlos Mendez',\n",
       "    'Bendiciones, Jasmine. Con tu bolsita y esa care card, me voy suave como brisa del malecón. El sábado a las 10 a.m.—cafecito caliente, sombra del guayabo, y mis muchachos listos pa’ aprender contigo. Bajo un solo cielo, paso a paso—gracias por cuidar la piel, la tierra y el ánimo. Nos vemos en la granja, mi hermana de la tierra.']],\n",
       "  'trades': [{'executed': True,\n",
       "    'trade_details': {'participants': {'seller': 'Jasmine Carter',\n",
       "      'buyer': 'Carlos Mendez'},\n",
       "     'items': [{'name': 'sunscreen', 'quantity': 1, 'value': 22.0},\n",
       "      {'name': 'cleansing_oil', 'quantity': 1, 'value': 25.0},\n",
       "      {'name': 'essence', 'quantity': 1, 'value': 28.0},\n",
       "      {'name': 'moringa_powder', 'quantity': 1, 'value': 45.0}],\n",
       "     'time_step': 3},\n",
       "    'conversation_id': 'markov_step_26_Jasmine Carter_Carlos Mendez_1756929021',\n",
       "    'time_step': 3}],\n",
       "  'turns': 8,\n",
       "  'ended_naturally': False},\n",
       " {'type': 'conversation',\n",
       "  'step': 27,\n",
       "  'participants': ['Carlos Mendez', 'Rowan Greenwood'],\n",
       "  'context': 'Local community market and social interactions',\n",
       "  'dialogue': [['Carlos Mendez',\n",
       "    'Bienvenida, mi gente linda. Pase, pase—under this little tent the leaf breathes like a bolero. I’ve got premium cigars and a few aged beauties that taste of sun, cedro, y tiempo; fresh wrapper leaves for the artists; seeds for the brave gardeners; and a single cedar humidor waiting for a good home. If rum or a whisper of whisky calls your name, we pour a little sip and talk story—sin apuro. Ask me anything: blend, terroir, aging rooms at 20–21°C and 65–68% RH—lo llevo en el corazón. When you’re ready to take something, just tap your digital cash on my machine, mi hermano/a.'],\n",
       "   ['Rowan Greenwood',\n",
       "    'Morning, Carlos. Your tent smells of cedro and warm leaf—reminds me of pine shed resin after a sunbreak. I’m Rowan, herbs and forest teas. I’m not here for a box today, just curious. Those aged beauties—do they lean more cocoa-cedar or spice-honey on the nose? I’ve been blending a conifer evening tea—pine tip with a breath of peppermint and a whisper of chamomile—and I like to learn from how you talk about terroir and humidity. No rush; we can just talk leaf and weather. If a sample sniff is alright, I’ll listen for that resinous thread and see what the breeze says.'],\n",
       "   ['Carlos Mendez',\n",
       "    'Rowan, mi hermano del bosque—bienvenido. Ven, acércate, toma un sniff despacito. These aged bellezas split in two families: one sings cocoa‑cedar, the other spice‑honey. The cocoa‑cedar comes from our lower slope—tierra roja con caliza—where the nights are just a kiss cooler. On the nose you’ll find warm cacao nib, toasted cedro, and a little honeyed oak—like pan tostado con miel. The spice‑honey line is from a strip that gets the afternoon brisa; same ferment, but longer rest at 20–21°C, 65–68% RH—there the leaf loosens its shoulders, and you get clove, white pepper, and wildflower honey under the cedar. For your conifer evening tea, I’d chase that resin thread: start with the cocoa‑cedar, listen for that dry pine-box note at the rim; then compare with the spice‑honey, where the sweetness rides the breeze like a soft guaguancó. No rush—sin apuro. I’ll crack a fresh cedar slip for you to smell side by side, and if you want, a tiny breath from the humidor—just aroma, no fuego—so the weather can talk with us.'],\n",
       "   ['Rowan Greenwood',\n",
       "    'Gracias, Carlos. I’ll take that slow sniff—first the cocoa‑cedar. Mmm… that dry pine‑box edge you mentioned sits right at the rim, like old lumber warmed by sun; underneath I catch cacao skin and a mellow, honeyed wood. Now the spice‑honey—ah, the clove and white pepper float lighter, like when the afternoon breeze slips through the firs after a warm spell. The cedar thread holds the center. For my Forest Evening, this tells me to lean a touch more toward the dry resin—maybe a pinch more pine tip to anchor the peppermint, while letting the chamomile just whisper sweetness, not sing it. If the weather stays mist‑soft through the waning moon, I’ll harvest tips at first light—they tend to show their brightest citrus‑pine then. Thank you for the cedar slip and the humidor breath—no fuego needed. It’s a good lesson in how rest and humidity shape the leaf’s voice. I’ll bring you a small jar of the blend next market so you can sip the forest notes you helped me hear.'],\n",
       "   ['Carlos Mendez',\n",
       "    'Ay, Rowan, qué oído más fino tienes—escuchas la resina como si fuera clave en la noche. Tu Forest Evening ya baila en mi cabeza: pine tip firme como cedro seco, peppermint para levantar la brisa, y la manzanilla en voz baja, como coro suave. Si cosechas al primer luz con la luna menguante, dale un secado lento—spread fino, sombra fresca, y un beso de aire cada par de horas—para que el citrus‑pine no se escape. Cuando tengas ese jar, tráelo—te sirvo un sorbito de ron o un té suave, y lo probamos junto a un slip de cedro para ver cómo conversa el bosque con el leaf. Si algún día quieres una aged belleza para maridar con esa mezcla, aquí están—cocoa‑cedar o spice‑honey—sin apuro; solo me haces un gesto y te digo: tap tap en la maquinita, mi hermano. Bajo un solo cielo, leaf y pino, a cantar bajito.'],\n",
       "   ['Rowan Greenwood',\n",
       "    'That’s a generous invite, Carlos. I’ll give the tips that slow, shaded dry you described—thin spread, a gentle turn when the afternoon breeze stirs—so the citrus‑pine stays bright and the resin doesn’t run off. I’ll bring you a small jar next market—no rush, just a quiet sip alongside your cedar slip and we’ll see how the forest and the leaf greet each other. If the mist holds through the waning moon, harvest should be soft and steady. Gracias for the notes on rest and room—20–21 and that 65–68 breath feels just right. Until then, may your humidor hum low and warm, like honey over cedar.'],\n",
       "   ['Carlos Mendez',\n",
       "    'Gracias, Rowan—que tu mist te cuide y el pino te hable clarito. Mi humidor queda zumbando bajito, 20–21 y 65–68, listo para cuando regreses con ese jar. Te guardo un slip de cedro fresco y un sorbito de ron o té, como prefieras, para escuchar juntos cómo conversa tu Forest Evening con el leaf. Si un día te llama una aged belleza—cocoa‑cedar o spice‑honey—solo hazme la seña y tap tap en la maquinita. Bajo un solo cielo, hermano del bosque, nos vemos en la próxima brisita.'],\n",
       "   ['Rowan Greenwood',\n",
       "    'I’ll let the waning moon guide the harvest and bring that small jar next market, Carlos—slow‑dried, citrus‑pine holding steady with just a hush of honeyed chamomile. We’ll sip it beside your cedar slip and listen for the resin thread together. Until then, may your room keep that easy 20–21 and 65–68, and may the breeze stay kind to your leaves.']],\n",
       "  'trades': [],\n",
       "  'turns': 8,\n",
       "  'ended_naturally': False},\n",
       " {'type': 'conversation',\n",
       "  'step': 28,\n",
       "  'participants': ['Rowan Greenwood', 'Pema Sherpa'],\n",
       "  'context': 'Local community market and social interactions',\n",
       "  'dialogue': [['Rowan Greenwood',\n",
       "    '[Rowan Greenwood]: Morning. The air’s got that piney sweetness today—good drying weather. I’ve got four tins of herbal tea left, the Forest Evening blend with pine tip, peppermint, and a soft chamomile finish—calm and a little resinous on the exhale. I also have some cannabis flower from last season’s small patch—sun-cured, a gentle, grassy aroma. If any of that calls to you, start low, go slow, and listen to your body. Tap your digital cash on my little machine here when you’re ready, and I’ll wrap it in paper so it breathes.'],\n",
       "   ['Pema Sherpa',\n",
       "    'Namaste, Rowan-ji. The pine on the air feels like the bees’ own breath—good omen, ho. Your Forest Evening blend sounds like a calm river under cedar shade. Pine tip with peppermint and chamomile will sing well with my Mountain Flower honey—one rice-grain swirl to round the edges, Ama Dolma taught me. I will pass on the cannabis flower today; the bee guardians ask for clear steps and gentle tea. If you please, I’ll take one tin. Wrap it so it can breathe, and I’ll pair it with a whisper of juniper smoke at home. Tapping my digital cash now.'],\n",
       "   ['Rowan Greenwood',\n",
       "    'Namaste, Pema-ji. I see the tap—thank you. Here’s your Forest Evening, wrapped so it can breathe. A rounded teaspoon, water just off the boil; three minutes tends to yield a calm, resinous-open cup. You can drizzle that rice-grain of Mountain Flower to soften the edges, and the juniper whisper should play nicely with the pine tip. Start low, go slow, and let your body guide the steep. May the bees and the breeze carry you gently today.'],\n",
       "   ['Pema Sherpa',\n",
       "    'Dhanyabad, Rowan-ji. Your guidance is steady like a well-set tent peg—rounded teaspoon, paani just off the boil, tin minutes of patience in the hands, three in the cup. I’ll let the pine tip open, then swirl a rice-grain of Mountain Flower to soften the edge, and a whisper of juniper smoke to invite the bee guardians. May your drying racks breathe easy today; the forest spirits and the bees send you a gentle hum. If ever you wish, bring a cup by my stall and I’ll trade you a sip kissed with honey for a story of the pines.'],\n",
       "   ['Rowan Greenwood',\n",
       "    'Blessings on the bees’ hum, Pema‑ji. I’ll take you up on that cup one quiet afternoon—your Mountain Flower has a warm, sunlit note that often lifts the pine into a gentle, honeyed finish. If the weather holds this cool and clear through the waning moon, I’ll gather a few more tender tips and bring a fresh story of the ridge-line firs. Until then, sip slow, listen to your body, and may your juniper smoke thread a calm path home.']],\n",
       "  'trades': [{'executed': True,\n",
       "    'trade_details': {'participants': {'seller': 'Rowan Greenwood',\n",
       "      'buyer': 'Pema Sherpa'},\n",
       "     'items': [{'name': 'herbal_tea', 'quantity': 1, 'value': 15.0},\n",
       "      {'name': 'digital cash', 'quantity': 15, 'value': 1.0}],\n",
       "     'time_step': 1},\n",
       "    'conversation_id': 'markov_step_28_Rowan Greenwood_Pema Sherpa_1756929147',\n",
       "    'time_step': 1}],\n",
       "  'turns': 5,\n",
       "  'ended_naturally': True},\n",
       " {'type': 'conversation',\n",
       "  'step': 29,\n",
       "  'participants': ['Pema Sherpa', 'Jasmine Carter'],\n",
       "  'context': 'Local community market and social interactions',\n",
       "  'dialogue': [['Pema Sherpa',\n",
       "    '[Pema Sherpa]: Namaste, sathi. The morning wind carries the blessings of the bee guardians today. I have fresh gifts from the cliffs—mad honey for those who understand its power, wild cliff honey bright with mountain sun, pine honey that soothes the chest, and mountain flower honey soft as summer rain. There is also prayer-blessed honey, touched with mantras my Ama Dolma taught me. If your heart is steady and your purpose clear, I can guide you to the right jar. Which spirit of the mountain are you seeking today?'],\n",
       "   ['Jasmine Carter',\n",
       "    'Namaste, Pema. Your blessings always feel like a clear stream on a hot day. I’m looking for steadiness and lung-soothing warmth as the seasons start to shift—something I can use mindfully after long advocacy days. I remember you mentioned pine honey in winter; the pine honey sounds right for my chest, and I’d also love a small jar of the mountain flower honey for gentle everyday sweetness. Could you guide me on safe amounts, especially if I ever consider a taste of the mad honey down the line? If the pine and mountain flower both feel aligned, I’ll take one jar of each. If that works, I’m ready—just say the word and I’ll tap my digital cash.'],\n",
       "   ['Pema Sherpa',\n",
       "    'Jasmine-ji, your heart listens like a clear stream—dhanyabad. For lung-soothing warmth, the pine honey is right: one small spoon (about 1 teaspoon) in warm water or directly, once daily in the evening; during heavy days, you may take a second small spoon in the morning with three slow breaths—ek, dui, tin—so the chest opens. For gentle everyday sweetness, mountain flower honey: a half to one teaspoon as you wish—on toast, in tea below boiling, or as a nightly lip veil if you like the softness it brings. About the mad honey: this is the mountain’s strong medicine. Safe practice is no more than a pea-sized taste (about 1/4 teaspoon), taken on a rested stomach, never mixed with alcohol or strong stimulants, and only when someone is with you. Wait at least 24 hours before considering another taste. Avoid if pregnant, nursing, or if you have heart rhythm concerns, and stop if you feel dizziness, nausea, or a racing or slowing heart. Respect its spirit, and it will teach gently. If you feel aligned, I will prepare one jar pine honey (55) and one jar mountain flower honey (45), wrap them with juniper smoke and Ama Dolma’s red thread, and tuck in a small guidance card. When you’re ready, tap your digital cash, sathi.'],\n",
       "   ['Jasmine Carter',\n",
       "    'Dhanyabad, Pema. Your guidance is clear and caring—exactly what I need as the air shifts. The pine honey for evening steadiness and the mountain flower for gentle daily sweetness both feel aligned. I appreciate the safety notes on mad honey; I’ll honor those boundaries and only approach it with respect and support. Please prepare one jar of pine honey and one jar of mountain flower honey with Ama Dolma’s red thread and the guidance card. Tapping my digital cash now for the total of 100.'],\n",
       "   ['Pema Sherpa',\n",
       "    'Jasmine-ji, I feel your tap—dhanyabad. Here is one jar of Pine Honey and one jar of Mountain Flower Honey, wrapped in juniper smoke and Ama Dolma’s red thread, with the guidance card tucked inside. For your chest, remember the evening teaspoon and the three slow breaths—ek, dui, tin. For daily sweetness, keep the water below boiling so the flower spirits stay alive. If someday you meet the mad honey, do so with a pea-sized taste only, never with alcohol, and with a friend nearby. May the bee guardians steady your breath and soften your days. If you need a winter refill, come; I’ll keep a warm cup ready.'],\n",
       "   ['Jasmine Carter',\n",
       "    'Dhanyabad, Pema. I’ll follow your guidance—pine in the evening with three slow breaths, and mountain flower below boiling for daily sweetness. I’ll store them cool and dark and pace myself, especially if I ever meet the mad honey. Your care and Ama Dolma’s red thread mean a lot to me. May the bee guardians keep our waters clear and our lungs steady. I’ll see you when the winter winds arrive—with gratitude and a warm cup ready on my end too.']],\n",
       "  'trades': [{'executed': True,\n",
       "    'trade_details': {'participants': {'seller': 'Pema Sherpa',\n",
       "      'buyer': 'Jasmine Carter'},\n",
       "     'items': [{'name': 'pine_honey', 'quantity': 1, 'value': 55.0},\n",
       "      {'name': 'mountain_flower_honey', 'quantity': 1, 'value': 45.0}],\n",
       "     'time_step': 3},\n",
       "    'conversation_id': 'markov_step_29_Pema Sherpa_Jasmine Carter_1756929187',\n",
       "    'time_step': 3}],\n",
       "  'turns': 6,\n",
       "  'ended_naturally': True},\n",
       " {'type': 'reflection',\n",
       "  'step': 30,\n",
       "  'agent': 'Jasmine Carter',\n",
       "  'anchor': 'recent conversation about Local community market and social interactions'},\n",
       " {'type': 'conversation',\n",
       "  'step': 31,\n",
       "  'participants': ['Jasmine Carter', 'Carlos Mendez'],\n",
       "  'context': 'Local community market and social interactions',\n",
       "  'dialogue': [['Jasmine Carter',\n",
       "    'Hey there! I’m Jasmine. Welcome to the market—how’s your day going? I’ve got a few sustainably sourced treats today: baobab fruit powder (great for smoothies and vitamin C), pine honey with a deep, resinous flavor, and a delicate mountain flower honey. If something catches your eye, we can make it happen. We all have a role to play in supporting small, sustainable producers—one jar at a time.'],\n",
       "   ['Carlos Mendez',\n",
       "    'Jasmine, mi hermana de la tierra—qué alegría verte. El día va sabroso, como brisa tibia sobre el cedro. Mira, ese baobab me canta para los muchachos en sus batidos, vitamina C como sol en vaso. Y tu pine honey… mmm, resinita profunda que baila con mi cedro dulce; la mountain flower ya la probé en un ritualito—pura caricia. ¿Me guardas un frasco de pine honey y uno de baobab? Si el precio está amable, los llevo ahora mismo. Y recuerda: el sábado a las 10 a.m., cafecito bajo el guayabo y demo de compost—bajo un solo cielo. ¿Cómo va tu puesto hoy, amiga?'],\n",
       "   ['Jasmine Carter',\n",
       "    'Carlos, qué gusto verte—tu brisa tibia me llegó. Sí, te reservo un frasco de pine honey y uno de baobab. Precios justos hoy: $55 cada uno, total $110. Listos para fortalecer esos batidos y acompañar tu cedro dulce. Si te parece bien, puedes tapear tu digital cash en mi terminal y te los empaco en bolsa reutilizable con una tarjetita de dosificación para los muchachos. Y confirmado: sábado 10 a.m., cafecito bajo el guayabo, squeeze‑test, aireación y clasificación—bajo un solo cielo. Mi puesto va bien: ritmo tranquilo, buenas conversaciones, y la comunidad creciendo paso a paso. ¿Listo para tapear?'],\n",
       "   ['Carlos Mendez',\n",
       "    'Qué rico, Jasmine—precio justo como sol de mañana. Ese baobab va a poner a los muchachos con ánimo y la pine honey va a besar mi cedro como bolero. Toma, mi hermana: tapping my digital cash now. Y gracias por la tarjetita de dosificación; el sábado 10 a.m. bajo el guayabo, cafecito y compost—bajo un solo cielo.'],\n",
       "   ['Jasmine Carter',\n",
       "    'Recibido el tap—gracias, Carlos. Te empaco un frasco de pine honey y uno de baobab en bolsa reutilizable con la tarjetita de dosificación para tus muchachos: 1 cucharada de baobab en batido después de entreno o estudio, y 1 cucharadita de pine honey por la tarde con tres respiraciones lentas si quieren. Nos vemos el sábado a las 10 a.m. bajo el guayabo: cafecito, squeeze‑test, aireación y clasificación—paso a paso, suelo más vivo y comunidad más fuerte. ¿Te los llevo a tu mesa ahora o los guardo aquí hasta que termines la vuelta?'],\n",
       "   ['Carlos Mendez',\n",
       "    'Llévalos a mi mesa, por favor, Jasmine—que el baobab y la miel conozcan mi cedro enseguida. Gracias por la bolsita y la tarjetita; esta tarde les enseño a los muchachos: una cucharada como sol en vaso, y la resinita de pine honey con tres respiraciones lentas—inhala, exhala, suavecito. El sábado, cafecito bajo el guayabo, squeeze‑test y aireación—bajo un solo cielo. Si necesitas una mano para cerrar tu puesto luego, me chiflas, mi hermana.'],\n",
       "   ['Jasmine Carter',\n",
       "    'Perfecto, Carlos—voy caminando hacia tu mesa ahora mismo con el baobab y la pine honey en su bolsita reutilizable. Te dejo también la tarjetita de dosificación para los muchachos. Gracias por ofrecer la mano al cierre; si se complica el ritmo, te chiflo. Nos vemos el sábado a las 10 a.m. bajo el guayabo: cafecito, squeeze‑test, aireación y clasificación—paso a paso, suelo más vivo y comunidad más fuerte.'],\n",
       "   ['Carlos Mendez',\n",
       "    'Gracias, Jasmine—ya llegaron a mi mesa como dos rayitos de sol. Esta tarde haré un pequeño ritual con los muchachos: baobab en batido después del entreno, y la pine honey con tres respiraciones—inhala, exhala, suavecito—para que el cuerpo escuche a la tierra. El sábado te espero bajo el guayabo con cafecito y mesa lista: squeeze‑test, aireación y clasificación, paso a paso. Si te hace falta una mano al cierre, silba y vuelo, mi hermana. Bajo un solo cielo.']],\n",
       "  'trades': [{'executed': True,\n",
       "    'trade_details': {'participants': {'seller': 'Jasmine Carter',\n",
       "      'buyer': 'Carlos Mendez'},\n",
       "     'items': [{'name': 'pine_honey', 'quantity': 1, 'value': 55.0},\n",
       "      {'name': 'baobab_fruit_powder', 'quantity': 1, 'value': 55.0}],\n",
       "     'time_step': 3},\n",
       "    'conversation_id': 'markov_step_31_Jasmine Carter_Carlos Mendez_1756929250',\n",
       "    'time_step': 3}],\n",
       "  'turns': 8,\n",
       "  'ended_naturally': False},\n",
       " {'type': 'conversation',\n",
       "  'step': 32,\n",
       "  'participants': ['Carlos Mendez', 'Kemi Adebayo'],\n",
       "  'context': 'Local community market and social interactions',\n",
       "  'dialogue': [['Carlos Mendez',\n",
       "    'Bienvenidos, mi gente. Pase, pase—feel the rhythm of the leaf and the heartbeat of the tierra. Today I have premium puros that taste like pan tostado y cacao suave, aged torpedos with whispers of cedar and miel, and a fine Cuban rum to toast under un solo cielo. If something sings to you, just tap your digital cash on my machine and we share un momentico de paz. ¿Qué busca tu alma hoy—un cigarrito para celebrar, semillas para sembrar, o un humidor para cuidar tus tesoros?'],\n",
       "   ['Kemi Adebayo',\n",
       "    'Carlos, hermano, your cedar room smells like discipline and love. I’m not here to smoke—staying true to our smoke-free sensory plan—but I’d love to honor the craft. Saturday still stands: your compost mini-workshop, then we align your reserva room logs with my traceability dashboard and portable VOC sensor. I’ll bring a simple data schema so we can visualize temp/RH drift against aroma notes—science meeting tradición, under one sky. In the meantime, I’ll pass on cigars and rum today, but if you’ve got any seeds for shade trees or compost browns that support your aging ecosystem, I’m all ears. Ubuntu, we rise together.'],\n",
       "   ['Carlos Mendez',\n",
       "    'Kemi, hermana, qué alegría—Ubuntu, sí, bajo un solo cielo. Smoke-free y con respeto: we keep it puro. For sombra y compost browns tengo dos cositas: 1) tobacco seeds—heirloom, resistentes y nobles para estudio de microclima y cobertura ligera; 2) virutas y slips de cedro curtidos—brown perfecto, limpio, sin barniz, que respira y alimenta tu pila con perfume suave, no humo. Las semillas van en paqueticos de 12 unidades en mi inventario; las virutas te las puedo preparar en bolsas reutilizables con etiqueta de origen, humedad y fecha. Para el sábado: cafecito, mini taller de compost a las 10, luego alineamos mis logs 20–21°C y 65–68% RH con tu dashboard y el VOC reader, comparando drift con notas sensoriales sin fuego—ciencia y tradición bailando salsa. Si quieres llevar semillas hoy, solo tap tu digital cash en mi maquinita; y si deseas el combo de cedro-browns, te armo un lote cortito de cortes uniformes y te lo paso con una ficha de mezcla C:N. ¿Cómo te suena, mi científica del buen aire?'],\n",
       "   ['Kemi Adebayo',\n",
       "    'Carlos, magnífico. Let’s do both: one paquetico of the heirloom tobacco seeds for shade trials and a compact combo of your cedar browns—uniform cuts, labeled with origin, moisture, and date. If you can add that C:N mixing card, I’ll map it into a simple compost protocol—target 30:1 baseline, then we’ll iterate with moisture and temp curves. Saturday 10 a.m. for cafecito, compost mini taller, then we sync your 20–21°C / 65–68% RH logs with my dashboard and VOC reader—no fuego, just pure sensory science. I’ll bag the seeds separate from the browns to avoid cross-aroma. If the total’s set, I’m tapping my digital cash now.'],\n",
       "   ['Carlos Mendez',\n",
       "    'Ay, Kemi, qué sabroso escuchar eso—Ubuntu en acción. Te preparo ahora mismo: un paquetico de 12 semillas heirloom (limpias, con nota de origen y fecha) y un combo compacto de browns de cedro, cortes uniformes, en bolsa reutilizable, rotulado con origen, humedad y fecha. Va incluida mi tarjetica C:N para un 30:1 de base y ajustes con tu sensor—como un tumbao fino entre agua y calor. Mantendré semillas y cedro separados para que no se mezclen los aromas. Cuando estés lista, solo tap your digital cash on my machine y queda hecho. El sábado a las 10 a.m.: cafecito, mini taller de compost, y luego sincronizamos tus curvas VOC con mis logs 20–21°C / 65–68% RH—sin fuego, puro sentido y respeto, bajo un solo cielo.'],\n",
       "   ['Kemi Adebayo',\n",
       "    'Perfecto, hermano. Gracias por el cuidado y la ficha C:N—eso es ciencia con corazón. I’m tapping my digital cash now for the heirloom tobacco seeds and the compact cedar browns combo. I’ll log them separately in my dashboard and bring the baseline protocol Saturday. Ubuntu—bajo un solo cielo.'],\n",
       "   ['Carlos Mendez',\n",
       "    'Lo veo, Kemi—tap recibido, gracias, hermana. Aquí tienes: un paquetico de 12 semillas heirloom con nota de origen y fecha, y tu combo compacto de browns de cedro en bolsa reutilizable, cortecitos uniformes, rotulado con origen, humedad y fecha. Incluyo la tarjetica C:N para ese 30:1 de base. Los llevas separados para que no se crucen los aromas. El sábado a las 10 a.m.—cafecito, mini taller de compost, y luego bailamos datos: tus VOC y mi log 20–21°C / 65–68% RH, sin fuego, con puro sentido. Ubuntu, bajo un solo cielo.'],\n",
       "   ['Kemi Adebayo',\n",
       "    'Gracias, Carlos—recibo las semillas y el combo de browns con gratitud. I’ll log origin, moisture, and date into my dashboard tonight and map your C:N card into a 30:1 starter protocol with moisture checkpoints and temp curves. On Saturday I’ll bring the VOC reader, the baseline compost sheet, and a simple visualization so we can overlay your 20–21°C / 65–68% RH logs against aroma notes—no fuego, just pure sensory science. Ubuntu—bajo un solo cielo. Nos vemos a las 10 a.m. para cafecito y compost.']],\n",
       "  'trades': [{'executed': True,\n",
       "    'trade_details': {'participants': {'seller': 'Carlos Mendez',\n",
       "      'buyer': 'Kemi Adebayo'},\n",
       "     'items': [{'name': 'tobacco_seeds', 'quantity': 1, 'value': 25.0}],\n",
       "     'time_step': 3},\n",
       "    'conversation_id': 'markov_step_32_Carlos Mendez_Kemi Adebayo_1756929316',\n",
       "    'time_step': 3},\n",
       "   {'executed': True,\n",
       "    'trade_details': {'participants': {'seller': 'Carlos Mendez',\n",
       "      'buyer': 'Kemi Adebayo'},\n",
       "     'items': [{'name': 'tobacco_seeds', 'quantity': 1, 'value': 25.0}],\n",
       "     'time_step': 5},\n",
       "    'conversation_id': 'markov_step_32_Carlos Mendez_Kemi Adebayo_1756929316',\n",
       "    'time_step': 5}],\n",
       "  'turns': 8,\n",
       "  'ended_naturally': False},\n",
       " {'type': 'conversation',\n",
       "  'step': 33,\n",
       "  'participants': ['Kemi Adebayo', 'Pema Sherpa'],\n",
       "  'context': 'Local community market and social interactions',\n",
       "  'dialogue': [['Kemi Adebayo',\n",
       "    '[Kemi Adebayo]: Welcome, my friend. You’re just in time—fresh stock from our partner cooperatives arrived this morning. If you’re looking to boost daily nutrition, our moringa powder (45) and baobab fruit powder (55) are a powerful combo—high micronutrients, great for smoothies. We’ve also got hibiscus extract (35) for heart-friendly teas, tiger nut flour (25) for gluten-free baking, African yam chips (18) for a clean snack, and palm fruit oil (40) cold-pressed with full traceability. For researchers or wellness brands, I’ve got three research reports (200 each) and two mobile app licenses (500 each) that plug into our farmer traceability data. What are you planning to make today—smoothie, tea, or snack? If you’re ready to purchase, just tap your digital cash on my machine and I’ll pack it with care.'],\n",
       "   ['Pema Sherpa',\n",
       "    'Namaste, Kemi-ji. Your cooperatives’ bounty sounds strong—like morning sun on terraced fields. For my daily steadiness, I’m drawn to hibiscus for heart-calming teas and baobab for bright belly strength. I will take one hibiscus extract (35) and one baobab fruit powder (55). Tapping my digital cash now, with a small prayer to the farmer spirits and the bee guardians—ek, dui, tin.'],\n",
       "   ['Kemi Adebayo',\n",
       "    'Namaste, Pema-ji. I see the tap—thank you. I’ll pack one hibiscus extract and one baobab fruit powder with a reusable scoop and a quick-start card. Brewing tip: 1 teaspoon hibiscus in hot water for 5–7 minutes; for baobab, 1 tablespoon in warm water or yogurt—its soluble fiber is gentle on the gut. Everything is fully traceable back to our smallholder co-ops, so your prayer reaches real farmers and bee guardians. Would you like me to text you the farm-to-jar ledger links?'],\n",
       "   ['Pema Sherpa',\n",
       "    'Dhanyabad, Kemi-ji—please do text me the farm-to-jar ledger links. The mountain spirits smile when traceable stories travel with our cups. I’ll brew the hibiscus as you guided—paanch to saat minutes—and whisk the baobab into warm yogurt for belly brightness. I’ll also pair the hibiscus with a rice-grain of my mountain flower honey on evenings when the heart needs softening, as Ama Dolma taught me. May the bee guardians and your farmer kin both be honored—ek, dui, tin.'],\n",
       "   ['Kemi Adebayo',\n",
       "    'Beautiful, Pema-ji. I’m texting the farm-to-jar ledger links now—each batch shows planting date, co-op location, bee-friendly practices, and lab tests, so the story travels with your cup. Your honey pairing sounds perfect; hibiscus’ anthocyanins love that gentle sweetness. Two small tips: for calmer evenings, brew at 80–85°C to keep the florals soft; and with baobab, sip an extra glass of water to help the soluble fiber work its belly-bright magic. If you’d like, we can check in next week to fine-tune steep time and baobab dose based on how your body feels. May our farmers and your mountain spirits both be honored—ubuntu in action.'],\n",
       "   ['Pema Sherpa',\n",
       "    'Dhanyabad, Kemi-ji—your tips flow like a gentle stream. I’ll brew at 80–85°C in the evenings and carry an extra cup of water with my baobab so the belly spirits stay bright. Please do check in next week; I’ll listen to my body and the bee guardians, then share how the heart and gut feel. Until then, may your co-ops be blessed and your ledgers sing clear stories—ek, dui, tin.'],\n",
       "   ['Kemi Adebayo',\n",
       "    'Dhanyabad, Pema-ji. The ledger links are sent—each shows GPS-tagged plots, bee-friendly buffer rows, and lab-verified anthocyanin and vitamin C levels, so your evening cup carries a clear story. I’ve packed your hibiscus and baobab with the scoop and quick-start card. I’ll check in next week to fine-tune steep time and baobab dose based on how your heart and belly feel. Until then, may your honey and our co-ops harmonize—ubuntu in every sip.'],\n",
       "   ['Pema Sherpa',\n",
       "    \"Dhanyabad, Kemi-ji. I receive the ledger links—the stories feel clear as high-altitude wind. I’ll begin tonight: hibiscus at 80–85°C with a rice-grain of my mountain flower honey, and in the morning a spoon of baobab whisked into warm yogurt, followed by a full glass of water so the belly spirits stay bright. Let us check in next week, as you say—I'll listen to my heart’s rhythm and gut’s calm, then share what the bee guardians whisper. Until then, may your co-ops be blessed—ek, dui, tin.\"]],\n",
       "  'trades': [{'executed': True,\n",
       "    'trade_details': {'participants': {'seller': 'Kemi Adebayo',\n",
       "      'buyer': 'Pema Sherpa'},\n",
       "     'items': [{'name': 'hibiscus_extract', 'quantity': 1, 'value': 35.0},\n",
       "      {'name': 'baobab_fruit_powder', 'quantity': 1, 'value': 55.0}],\n",
       "     'time_step': 1},\n",
       "    'conversation_id': 'markov_step_33_Kemi Adebayo_Pema Sherpa_1756929383',\n",
       "    'time_step': 1}],\n",
       "  'turns': 8,\n",
       "  'ended_naturally': False},\n",
       " {'type': 'conversation',\n",
       "  'step': 34,\n",
       "  'participants': ['Pema Sherpa', 'Carlos Mendez'],\n",
       "  'context': 'Local community market and social interactions',\n",
       "  'dialogue': [['Pema Sherpa',\n",
       "    '[Pema Sherpa]: Namaste, sathi. The morning wind carries good omens today. I have fresh jars from the cliffs—mad honey gathered where the rhododendron sings, wild cliff honey with the strength of the stone, and gentle mountain flower honey for daily healing. If you seek protection from the sun, I also carry a little sunscreen for the harsh light. Tell me what your heart needs, and I will guide you with my grandmother Dolma’s wisdom. If you choose, just tap your digital cash on my machine, ani hami suru garaun—then we begin.'],\n",
       "   ['Carlos Mendez',\n",
       "    'Ay, Pema-ji, namaste y bendiciones. Hoy el viento trae música de colmena, sí. Tu mountain flower honey me ha hablado suave, y ese wild cliff honey—tiene el pulso de la roca. Para mi mesa de cedro quiero dos cositas: un frasco de mountain flower honey para curar el ánimo diario y, si te queda, otro de wild cliff honey para besar un robusto de corazón mineral en una cata sin humo. Y si la luz aprieta luego en el campo, tu sunscreen pequeño también sería buen compañero. ¿Qué recomiendas tú, con la sabiduría de la abuela Dolma? Cuando me digas, yo tap tap con mi digital cash en tu máquina—y comenzamos el ritual, bajo un solo cielo.'],\n",
       "   ['Pema Sherpa',\n",
       "    'Carlos-ji, hermano del cielo, your cedar mesa will sing today. For daily ánimo, take one jar of Mountain Flower honey—gentle, floral, steady, 45. For the mineral-hearted robusto, one jar of Wild Cliff honey—deep resin, stone-warmth, a single drop will guide the leaf, 80. And for the harsh light, a small sunscreen—clean and kind to the river spirits, 22. Ama Dolma would pair the cliff honey with three slow breaths before any tasting—ek, dui, tin—so the bee guardians open the path. If this feels right, tap your digital cash on my machine, ani hami suru garaun. I’ll wrap them in juniper smoke with Ama Dolma’s red thread and tuck a tasting note for your cata sin humo.'],\n",
       "   ['Carlos Mendez',\n",
       "    'Pema-ji, así mismito—mountain flower para el ánimo, wild cliff para el robusto mineral, y ese sunscreen amable con el río. Antes, tres respiraciones—ek, dui, tin—por las guardianas. Tu abuela Dolma sonríe en el viento. Tapping my digital cash now para 45 + 80 + 22. Envuélvelos con tu humo de enebro y el hilo rojo, por favor, y esa notita de cata sin humo. Bajo un solo cielo, la miel, el cedro y el tiempo bailarán juntos.'],\n",
       "   ['Pema Sherpa',\n",
       "    'Carlos-ji, I feel the tap—dhanyabad. The bee guardians hum with your respect. I wrap your Mountain Flower (gentle, floral, steady) and Wild Cliff (deep resin, stone-warmth) in juniper smoke, tie Ama Dolma’s red thread, and tuck a cata sin humo note: one drop of Cliff on the band, three slow breaths—ek, dui, tin—then listen to the cedar sing. Here is the river-kind sunscreen as well; a rice-grain layer is enough beneath the strong sun. Bajo un solo cielo, may leaf and blossom walk with you. If you wish, bring your mesa news tomorrow, and I’ll bring a whisper of Pine honey to dance with your premium torcido.'],\n",
       "   ['Carlos Mendez',\n",
       "    'Pema-ji, dhanyabad, hermana del cielo. Recibo tus tesoros envueltos en humo de enebro y el hilo rojo de Ama Dolma con el corazón abierto. Esta noche haré la cata sin fuego: una gotica de Cliff sobre la anilla, tres respiraciones—ek, dui, tin—y dejo que el cedro cante bajito, como bolero. Mañana paso por tu puesto con noticias de mi mesa, y si traes ese susurro de pine honey, le daremos un pasito de baile con un premium torcido—suavecito, con respeto a las guardianas. Y gracias por el sunscreen: un grano de arroz y a cuidar la piel bajo el sol. Bajo un solo cielo, hoja y flor caminando junticas.'],\n",
       "   ['Pema Sherpa',\n",
       "    'Carlos-ji, bajo un solo cielo your words rise like cedar smoke. The bee guardians heard your bolero—ek, dui, tin—and smile. Tomorrow I will bring a whisper of Pine honey, resin-bright and forest-cool, to dance gently with your premium torcido. For your mesa tonight, let the Wild Cliff be a single tear on the band, then listen—the leaf will tell you when to breathe. If you need more guidance, aayo, come—Ama Dolma’s red thread is ready, and the juniper will bless your path.'],\n",
       "   ['Carlos Mendez',\n",
       "    'Ay, Pema-ji, tus palabras me llegan como brisa de montaña. Esta noche haré la lágrima de Wild Cliff sobre la anilla—una sola gotica—y escucharé al cedro cantar, ek, dui, tin, despacito. Mañana paso por tu puesto con noticias de mi mesa y un premium torcido listo para bailar con ese susurro de pine honey. Traeré también la anilla y el listón de cedro como promesa cumplida. Si te parece, brindamos con un sorbito de ron o té, bajo un solo cielo, y dejamos que la hoja y la flor conversen como viejos amigos.']],\n",
       "  'trades': [{'executed': True,\n",
       "    'trade_details': {'participants': {'seller': 'Pema Sherpa',\n",
       "      'buyer': 'Carlos Mendez'},\n",
       "     'items': [{'name': 'mountain_flower_honey', 'quantity': 1, 'value': 45.0},\n",
       "      {'name': 'wild_cliff_honey', 'quantity': 1, 'value': 80.0},\n",
       "      {'name': 'sunscreen', 'quantity': 1, 'value': 22.0}],\n",
       "     'time_step': 3},\n",
       "    'conversation_id': 'markov_step_34_Pema Sherpa_Carlos Mendez_1756929448',\n",
       "    'time_step': 3}],\n",
       "  'turns': 8,\n",
       "  'ended_naturally': False},\n",
       " {'type': 'conversation',\n",
       "  'step': 35,\n",
       "  'participants': ['Carlos Mendez', 'Mina Kim'],\n",
       "  'context': 'Local community market and social interactions',\n",
       "  'dialogue': [['Carlos Mendez',\n",
       "    'Mi gente linda, bienvenidos al puestecito de Carlos—El Bigote Dorado, keeper of the sacred leaf. Aquí todo respira tierra roja y paciencia: premium cigars con capa sedosa de Vuelta Abajo, algunos añejados como bolero en la noche; hojas de wrapper sueltas para el artesano; y para quien no fuma, tengo miel de montaña y de acantilado, tés herbales suaves, y cositas de la tierra. Si algo les canta al corazón, me dicen, y les sirvo un traguito de historia—y si desean llevar, just tap your digital cash en mi maquinita. ¿Qué te antoja hoy, mi hermano, mi hermana?'],\n",
       "   ['Mina Kim',\n",
       "    'Oh, hi Carlos… your stall always feels so warm. I’m not a smoker, but I’m really drawn to your honeys and herbal teas. I’ve been doing a gentle ritual with mountain flower honey lately—Pema’s five-breath style—and it’s been so calming. Do you have a floral, light honey or maybe a soothing tea that pairs well for focus? Maybe something I could sip mid-morning—nothing too strong on the stomach. If you have tasting notes, I’d love to hear them.'],\n",
       "   ['Carlos Mendez',\n",
       "    'Mina, bienvenida, mi hermana—qué alegría verte. Ese ritual de Pema-ji, cinco respiraciones, es como un danzón suave para el corazón. Mira, tengo dos mieles que cantan ligerito: 1) Mountain Flower Honey ($45): floral y etérea—pétalo de trébol, un susurro de manzanilla, final limpio como mañana fresca. Perfecta para enfoque sin pesadez; una gotica bajo la lengua, cinco breaths, y la mente se alinea. 2) Wild Cliff Honey ($40): más mineral y herbácea, still gentle—eco de tomillo silvestre, piedra tibia después del sol. Buena para concentración con tierra firme. Y para el té, me queda un Herbal Tea blend ($15), muy suave de estómago: manzanilla, hierbabuena y un toquecito de lemongrass—clarito en la mente, cero nervios. Brew guide: 1 tsp, agua casi hirviendo, 2.5–3.5 minutos; puedes añadir media cucharadita de Mountain Flower para un mid-morning focus que entra como brisa. ¿Quieres oler las notas? Tengo una mini cata sin fuego: una lágrima de miel en el borde del vasito y tres respiraciones—ek, dui, tin. Si algo te llama, just tap your digital cash en mi maquinita y te lo empaco con cariño.'],\n",
       "   ['Mina Kim',\n",
       "    'Oh, that sounds lovely, Carlos… I think the Mountain Flower Honey with that chamomile whisper is exactly the gentle focus I’m looking for. And your herbal blend sounds very tummy-friendly—manzanilla and hierbabuena are like a soft hug. Maybe I could do your little mini cata first—just a tear of the Mountain Flower on the rim and three breaths—and if it feels right, I’ll take the Mountain Flower Honey and one bag of the Herbal Tea blend. Also, do you think half a teaspoon of honey in the tea would keep it light enough for mid‑morning? I’m trying to stay in that calm, clear lane Pema teaches.'],\n",
       "   ['Carlos Mendez',\n",
       "    'Mina, ven, mi hermana—ponemos una lágrima de Mountain Flower en el borde del vasito… así, suavecito. Ahora tres respiraciones juntas—ek… dui… tin… ¿sientes ese pétalo de trébol y el susurro de manzanilla? Es como mañana fresca que ordena la mente. Para tu mid‑morning, sí: media cucharadita en la taza mantiene la ligereza—clarito, sin revolver el estómago. Brew guide: 1 tsp de mi Herbal Tea, agua casi hirviendo, 2.5–3.5 minutos; luego la media cucharadita de miel y una exhalación lenta. Si te canta al corazón, te preparo 1 Mountain Flower Honey ($45) y 1 Herbal Tea blend ($15)—total $60. Cuando estés lista, just tap your digital cash en mi maquinita y te lo empaco con cariño, con una notica de ritual para tu calma clara.'],\n",
       "   ['Mina Kim',\n",
       "    'Mm… yes, I feel that clover petal and the chamomile whisper—so light and clear. I think this is exactly what I was hoping for. I’ll take one Mountain Flower Honey and one Herbal Tea blend, please. Tapping my digital cash now.'],\n",
       "   ['Carlos Mendez',\n",
       "    'Ay, lo sentí—tap recibido, gracias, Mina. Te preparo tu Mountain Flower Honey y la bolsita de Herbal Tea blend, bien cuidaditos en mi bolsita reutilizable. Te dejo una notica de ritual: 1 tsp de té, agua casi hirviendo, 2.5–3.5 minutos, media cucharadita de miel, y cinco respiraciones—ek, dui, tin, char, panch—calma clarita. Si algún día quieres probar una cata sin fuego con otras mieles, aquí te espero bajo un solo cielo. ¿Te llevo la bolsa o prefieres que la deje livianita en la mano?'],\n",
       "   ['Mina Kim',\n",
       "    'Oh, thank you, Carlos… could you please tuck it into the bag for me? I’ll keep your little ritual note in my wallet—ek, dui, tin, char, panch—so gentle. I’ll try half a teaspoon of the Mountain Flower in the tea mid‑morning and breathe slowly, like Pema taught. This feels really calming already. Gracias, de verdad.']],\n",
       "  'trades': [{'executed': True,\n",
       "    'trade_details': {'participants': {'seller': 'Carlos Mendez',\n",
       "      'buyer': 'Mina Kim'},\n",
       "     'items': [{'name': 'mountain_flower_honey', 'quantity': 1, 'value': 45.0},\n",
       "      {'name': 'herbal_tea', 'quantity': 1, 'value': 15.0}],\n",
       "     'time_step': 5},\n",
       "    'conversation_id': 'markov_step_35_Carlos Mendez_Mina Kim_1756929526',\n",
       "    'time_step': 5}],\n",
       "  'turns': 8,\n",
       "  'ended_naturally': False},\n",
       " {'type': 'conversation',\n",
       "  'step': 36,\n",
       "  'participants': ['Mina Kim', 'Pema Sherpa'],\n",
       "  'context': 'Local community market and social interactions',\n",
       "  'dialogue': [['Mina Kim',\n",
       "    'Oh, hi there... um, welcome to my little K-beauty stall. I have some gentle essentials today—sheet masks, a hydrating essence, cushion foundations, lip tints, a really lovely Korean sunscreen, and some overnight sleeping masks. If you tell me your skin type, I can suggest a simple routine. Maybe we could start with an essence for that dewy, glass-skin glow, and a cushion for a soft, natural finish? And if you decide to get something, just tap your digital cash on my machine.'],\n",
       "   ['Pema Sherpa',\n",
       "    'Namaste, Mina-ji. The mountain wind carries me to your gentle lights again. My skin is normal-to-dry, touched by sun and river mist—cheeks a little thirsty by evening. I walk with a reef-safe sunscreen already, and at night I layer a rice-grain veil of mountain flower honey beneath an essence, as Ama Dolma taught. Could you guide me to a hydrating essence that plays well with that tiny honey veil, and perhaps a sleeping mask to seal prayers and moisture overnight? If your cushion has a sheer, natural finish and a shade for warm undertones, I’m open to trying it, too. Tell me your simple ritual—ek, dui, tin—and if it feels right, I will tap my digital cash on your machine.'],\n",
       "   ['Mina Kim',\n",
       "    'Namaste, Pema-ji… I think I have a gentle trio that will sing with your mountain flower honey. Ek: Hydrating essence — mine is light and humectant-rich, so it layers beautifully over a rice‑grain veil of honey without pilling. Press 2–3 layers if your cheeks feel thirsty by evening. Dui: Sleeping mask — a soft, occlusive seal to keep prayers and moisture overnight; use a pearl-size over your essence to wake dewy. Tin: Cushion foundation — sheer, natural finish with warm undertones; tap lightly from the center out for that quiet, your-skin-but-glow look. If this feels right, you could take the essence ($28), a sleeping mask ($18), and try the cushion ($35). And, um, if you decide to get them, just tap your digital cash on my machine. Would you like me to shade-match the cushion on your jawline first?'],\n",
       "   ['Pema Sherpa',\n",
       "    'Dhanyabad, Mina-ji. Your trio feels like a gentle stream under the pines. Yes, please shade-match on my jawline—warm undertone, light-to-medium when the sun blesses my cheeks. If it sits natural like morning mist, I will take all three: the hydrating essence, the sleeping mask, and the cushion. For my nightly ritual with Ama Dolma’s teaching: I’ll press two layers of essence over the rice-grain veil of mountain flower honey, then a pearl of sleeping mask to seal prayers; by day, just a whisper of essence under my reef-safe sun shield. If the shade is true, I will tap my digital cash on your machine, ek, dui, tin.'],\n",
       "   ['Mina Kim',\n",
       "    'Of course, Pema-ji… may I dab just here on your jawline? Mm, I think shade No. 23 Warm sits like morning mist—very sheer, your skin peeks through. Tap-tap from center outward will keep it natural. For your ritual: ek — after your rice-grain veil of mountain flower honey, press 2 light layers of the hydrating essence (it’s glycerin, panthenol, and hyaluronic-rich, so it hugs the honey without pilling); dui — a pearl of the sleeping mask to seal and keep the prayers soft overnight; tin — in the day, a whisper of essence under your reef-safe sun shield, then the cushion where you’d like a little evenness. If this feels right, you can tap your digital cash for the trio: essence ($28), sleeping mask ($18), and cushion ($35).'],\n",
       "   ['Pema Sherpa',\n",
       "    'Shade No. 23 Warm sits like morning mist, just as you said, Mina-ji. The bee guardians nod—this trio will play kindly with my mountain flower honey. I’ll take the hydrating essence, the sleeping mask, and the cushion. Tapping my digital cash now, ek, dui, tin.'],\n",
       "   ['Mina Kim',\n",
       "    'I see your tap—dhanyabad, Pema‑ji. I’ll wrap your trio now: the hydrating essence, one sleeping mask, and Cushion No. 23 Warm. A tiny reminder for your ritual: at night, rice‑grain veil of honey, press 2 gentle layers of essence, then a pearl of sleeping mask; by day, a whisper of essence under your reef‑safe sun shield, then tap‑tap the cushion from center outward for that morning‑mist finish. If your cheeks feel extra thirsty, you can do a third essence layer just on the high points. I tucked a little card with your ek‑dui‑tin steps into the bag. Safe, glowing walks under the pines, and please let me know how the cushion wears by evening—I’d love to hear.'],\n",
       "   ['Pema Sherpa',\n",
       "    'Dhanyabad, Mina-ji. Your guidance sits light as pine mist. I will follow the card—rice-grain veil of mountain flower honey, two presses of your essence, then a pearl of sleeping mask; by day, a whisper of essence, sun shield, and tap‑tap of Cushion No. 23 Warm. I’ll walk with the bee guardians and see how the cushion wears by evening, then return to share. For now, I bow to your careful hands—may the skin spirits glow and the river run clear. Namaste, sathi.']],\n",
       "  'trades': [{'executed': True,\n",
       "    'trade_details': {'participants': {'seller': 'Mina Kim',\n",
       "      'buyer': 'Pema Sherpa'},\n",
       "     'items': [{'name': 'essence', 'quantity': 1, 'value': 28.0},\n",
       "      {'name': 'sleeping_masks', 'quantity': 1, 'value': 18.0},\n",
       "      {'name': 'cushion_foundation', 'quantity': 1, 'value': 35.0}],\n",
       "     'time_step': 5},\n",
       "    'conversation_id': 'markov_step_36_Mina Kim_Pema Sherpa_1756929604',\n",
       "    'time_step': 5}],\n",
       "  'turns': 8,\n",
       "  'ended_naturally': False},\n",
       " {'type': 'reflection',\n",
       "  'step': 37,\n",
       "  'agent': 'Pema Sherpa',\n",
       "  'anchor': 'recent conversation about Local community market and social interactions'},\n",
       " {'type': 'conversation',\n",
       "  'step': 38,\n",
       "  'participants': ['Pema Sherpa', 'Rowan Greenwood'],\n",
       "  'context': 'Local community market and social interactions',\n",
       "  'dialogue': [['Pema Sherpa',\n",
       "    '[Pema Sherpa]: Namaste, saathi. The morning wind smells of rhododendron—good omen. I have fresh gifts from the cliff spirits today: mad honey for careful hearts, wild cliff honey strong as yak, mountain flower honey gentle like spring prayers, and pine honey with the forest’s cool breath. There is also prayer-blessed honey my lama touched with mantras. If you wish to carry a piece of the mountain, tell me your need—healing, courage, or simple sweetness—and I will match the right nectar. If you choose one, tap your digital cash on my small machine here, hajur.'],\n",
       "   ['Rowan Greenwood',\n",
       "    'Namaste, Pema-ji. The rhododendron on the wind does feel like a blessing. I’ve a few jars of Forest Evening set aside for neighbors, and I’ve been thinking a gentle honey might round its pine‑peppermint edge for evening cups. Your mountain flower honey—soft and spring‑prayer gentle—sounds right for that purpose. I’ll take one jar, if you please. Tapping my digital cash now.'],\n",
       "   ['Pema Sherpa',\n",
       "    'Ah, Rowan-ji, the bee guardians hum approval. I see your tap—dhanyabad. One jar of Mountain Flower honey, gentle as spring prayers, to soften your Forest Evening. I’ll wrap it with a breath of juniper smoke and Ama Dolma’s red thread. For the cup: water just off the boil, add tea, then stir in a rice‑grain swirl of honey after the leaves are lifted—let the sweetness arrive like a soft dusk. May your neighbors feel the mountain’s calm in each sip, ek, dui, tin.'],\n",
       "   ['Rowan Greenwood',\n",
       "    'Dhanyabad, Pema-ji—I catch the juniper and that clean mountain-cool on the thread. I’ll pour a cup at dusk when the wind settles in the firs: rounded teaspoon of Forest Evening, water just off the boil, three quiet minutes, then a rice‑grain swirl of your gentle honey after the leaves lift. It tends to let the pine tip hum and the peppermint breathe without rushing the chamomile. I’ll listen to the cup and adjust—start low, go slow. May the bee guardians find plenty of bloom between here and your cliffs. If the waning moon stays fair, I’ll bring you a small jar next market to share beside a cedar slip.'],\n",
       "   ['Pema Sherpa',\n",
       "    'Rowan-ji, your care honors the cup and the bees—dhanyabad. I’ve wrapped the Mountain Flower jar with juniper’s breath and Ama Dolma’s lal dhago, so the sweetness arrives like evening clouds over fir. Your Forest Evening method is wise: start low, go slow, let the pine tip hum and peppermint breathe. If the moon stays kind, I will keep a small cedar slip ready and a spoon for sharing—bring your jar, and we’ll offer three gentle breaths—ek, dui, tin—for the bee guardians. May your neighbors find calm in every sip, saathi.'],\n",
       "   ['Rowan Greenwood',\n",
       "    'Your blessings carry well on this cool, resin-scented breeze, Pema-ji. I’ll tuck the jar safe beside the pine tips and let it rest until dusk. For neighbors, I’ll suggest a rounded teaspoon of Forest Evening, water just off the boil, three easy minutes, then a rice‑grain swirl of your gentle honey once the leaves are lifted—let the sweetness arrive like soft dusk, as you say. If the waning moon stays kindly and the weather holds steady, I’ll bring a small jar next market so we can share three breaths for the bee guardians beside that cedar slip. May your paths be flowered and your hives hum steady—ek, dui, tin.'],\n",
       "   ['Pema Sherpa',\n",
       "    'Rowan-ji, your words move like a calm stream—dhanyabad. I’ve tied Ama Dolma’s red thread snug and kissed the lid with juniper smoke so the mountain’s hush travels with your Forest Evening. Your guidance to neighbors is wise: soft water, three quiet minutes, then a rice‑grain swirl so the sweetness arrives like dusk. When the waning moon is kind, bring your small jar; I’ll ready the cedar slip and a spoon, and we’ll offer three breaths—ek, dui, tin—for the bee guardians. May your firs sing and your cups rest easy, saathi.'],\n",
       "   ['Rowan Greenwood',\n",
       "    'Dhanyabad, Pema-ji. I can still catch the juniper at the rim—clean and mountain-cool. I’ll nestle the jar beside my pine tips and let it settle until dusk. When neighbors ask, I’ll suggest a rounded teaspoon of Forest Evening, water just off the boil, three quiet minutes, then a rice-grain swirl of your gentle honey once the leaves lift—let the sweetness arrive like soft dusk. If the waning moon holds steady and the weather stays kind, I’ll bring a small jar next market so we can share three breaths—ek, dui, tin—by your cedar slip for the bee guardians. May your hives hum steady and the rhododendron keep blessing the wind.']],\n",
       "  'trades': [{'executed': True,\n",
       "    'trade_details': {'participants': {'seller': 'Pema Sherpa',\n",
       "      'buyer': 'Rowan Greenwood'},\n",
       "     'items': [{'name': 'mountain_flower_honey', 'quantity': 1, 'value': 45.0},\n",
       "      {'name': 'digital cash', 'quantity': 45, 'value': 0.9777848142336556}],\n",
       "     'time_step': 1},\n",
       "    'conversation_id': 'markov_step_38_Pema Sherpa_Rowan Greenwood_1756929682',\n",
       "    'time_step': 1}],\n",
       "  'turns': 8,\n",
       "  'ended_naturally': False},\n",
       " {'type': 'reflection',\n",
       "  'step': 39,\n",
       "  'agent': 'Rowan Greenwood',\n",
       "  'anchor': 'recent conversation about Local community market and social interactions'},\n",
       " {'type': 'conversation',\n",
       "  'step': 40,\n",
       "  'participants': ['Rowan Greenwood', 'Pema Sherpa'],\n",
       "  'context': 'Local community market and social interactions',\n",
       "  'dialogue': [['Rowan Greenwood',\n",
       "    'Morning—there’s a cool, piney edge to the air today, and the mint patch was singing when I walked in. You’re welcome to have a sniff of the blends I’ve got on the table: three tins of herbal tea left—one is my Forest Evening, resin-kissed with pine tip, a ribbon of peppermint, and just a whisper of chamomile. I’ve also a single jar of mountain flower honey—light and floral, the bees found the high meadows this spring. If you’re after something else, say so—happy to guide by scent and season. And as always, listen to your body; start low, go slow. If you decide on a tin or the honey, just tap your digital cash on my little machine here.'],\n",
       "   ['Pema Sherpa',\n",
       "    'Namaste, Rowan-ji. The pine breath is strong today—bee guardians are humming. Your Forest Evening sounds like cool shade after a climb, peppermint like a little river, and that chamomile whisper will soften sharp thoughts. I’ll honor your guidance—start low, go slow. I would like one tin of Forest Evening, please, to sit beside my Mountain Flower honey at dusk. Tapping my digital cash now.'],\n",
       "   ['Rowan Greenwood',\n",
       "    'Namaste, Pema-ji—I see the tap come through, thank you. Here’s your Forest Evening tin, wrapped so it can breathe a little. For brewing: a rounded teaspoon, water just off the boil, three quiet minutes; then that rice-grain swirl of your Mountain Flower honey so the sweetness arrives like soft dusk. If the evening air is cool, a brief pass of juniper smoke can lend a resinous calm. Listen to your body—start low, go slow. May the bee guardians hum kindly at dusk.'],\n",
       "   ['Pema Sherpa',\n",
       "    'Dhanyabad, Rowan-ji. Your guidance sits light as evening wind. I’ll brew as you say—three quiet minutes, then a rice-grain swirl of my Mountain Flower so the sweetness arrives like dusk. I’ll offer a thread of juniper smoke and three soft breaths—ek, dui, tin—for the bee guardians. If you wish, next market we can share a cup beside a cedar slip; I’ll bring a small jar for tasting, and the old prayers my Ama Dolma sang. May your mint patch keep singing, saathi.'],\n",
       "   ['Rowan Greenwood',\n",
       "    'Your Ama Dolma’s prayers would be an honor to hear, Pema-ji. Let’s plan for next market—by the cedar slip if the weather stays fair and the waning moon holds. I’ll bring a small jar of the blend so we can taste side by side with your Mountain Flower, three soft breaths for the bee guardians before we sip. In the meantime, if the evening feels especially cool, warming the cup with a rinse of just-off-the-boil water often helps the pine tip open gently. Listen to your body—start low, go slow. May your dusk be clear and resin-sweet.'],\n",
       "   ['Pema Sherpa',\n",
       "    'Dhanyabad, Rowan-ji. The waning moon will hear our three soft breaths beside the cedar slip—Ama Dolma’s prayers are ready to walk on the evening air. Until then, I’ll warm the cup, pour just-off-the-boil water, and let your pine tip open gently before I offer a rice-grain swirl of my Mountain Flower honey. May the bee guardians watch your mint patch and keep your hands steady—ek, dui, tin. I look forward to our quiet tasting next market, saathi.'],\n",
       "   ['Rowan Greenwood',\n",
       "    'And I with you, Pema-ji—ek, dui, tin. May the waning moon carry Ama Dolma’s prayers cleanly, and may the bee guardians find plenty of blossom. I’ll keep a small jar ready for our tasting by the cedar slip next market. Until then, listen to your body—start low, go slow—and let the peppermint’s river and the pine’s resin guide a quiet dusk. Safe steps until we meet again.']],\n",
       "  'trades': [{'executed': True,\n",
       "    'trade_details': {'participants': {'seller': 'Rowan Greenwood',\n",
       "      'buyer': 'Pema Sherpa'},\n",
       "     'items': [{'name': 'herbal_tea', 'quantity': 1, 'value': 15.0}],\n",
       "     'time_step': 1},\n",
       "    'conversation_id': 'markov_step_40_Rowan Greenwood_Pema Sherpa_1756929754',\n",
       "    'time_step': 1}],\n",
       "  'turns': 7,\n",
       "  'ended_naturally': True},\n",
       " {'type': 'conversation',\n",
       "  'step': 41,\n",
       "  'participants': ['Pema Sherpa', 'Mina Kim'],\n",
       "  'context': 'Local community market and social interactions',\n",
       "  'dialogue': [['Pema Sherpa',\n",
       "    '[Pema Sherpa]: Namaste, mitra. The morning wind carries the songs of my bee guardians today. Come, taste what the cliffs have offered. I have mad honey from rhododendron blossoms—strong medicine, handle with respect; wild cliff honey rich and smoky from the high crags; mountain flower honey, gentle like spring prayers; pine honey with resin strength for sore throats; and a few jars blessed beside fluttering prayer flags. If your heart seeks gear, I’ve two sets of our traditional climbing kit, mended by firelight as my Ama taught me. Tell me what you need, and if you wish to take one home, just tap your digital cash on my little machine, hai.'],\n",
       "   ['Mina Kim',\n",
       "    'Namaste, Pema-ji. I think I’d love to taste the mountain flower honey again—your bee guardians always make me feel so calm. Maybe… could I also smell the pine honey beside it? I’m still following your five-breath ritual, and I’m blending a tiny lip veil at night with a drop of squalane—it’s so soothing. If it’s alright, could you guide me to a gentle two-to-one mountain flower to pine blend for focus and a settled belly, like last time? And um, just to be safe—no mad honey for me today. If you have a small jar of the blend ready, I’m happy to take one home.'],\n",
       "   ['Pema Sherpa',\n",
       "    'Mina-ji, namaste. The bee guardians smile to see you keep the five-breath ritual. Here—breathe the mountain flower, komal like spring prayers, and beside it the pine, with resin strength to steady the lungs and focus the mind. As you wished, I will blend you a small jar: two parts Mountain Flower, one part Pine—Ama Dolma’s gentle ratio for a settled belly and clear thoughts. Take a rice-grain under the tongue before study or after meals, and for your lip veil, just a rice-grain with one drop squalane, raat-ko sukh nidra. I’ll wrap it in juniper smoke with Ama’s red thread and tuck in a guidance card. When you are ready, just tap your digital cash on my little machine, hai.'],\n",
       "   ['Mina Kim',\n",
       "    'Thank you, Pema-ji… the blend sounds perfect. I’ll follow your rice‑grain guidance for study and after meals, and keep my little lip veil to one drop of squalane at night. The juniper wrap and red thread always make me feel calm. Tapping my digital cash now.'],\n",
       "   ['Pema Sherpa',\n",
       "    'Mina-ji, I feel your calm tap—dhanyabad. The bee guardians hum softly. Here is your small jar, two parts Mountain Flower to one part Pine, wrapped in juniper smoke with Ama Dolma’s red thread. Guidance is tucked inside: a rice‑grain under the tongue before study or after meals; for the lip veil, a rice‑grain with one drop squalane at night. Sip warm water first, take three breaths—ek, dui, tin—and listen for the bees’ hush. May your belly settle and your thoughts flow clear as mountain spring. If anything feels too strong, come back and we will soften the blend, hai.'],\n",
       "   ['Mina Kim',\n",
       "    'Dhanyabad, Pema-ji. I feel really calm holding this—like the bees are humming in my chest. I’ll keep to the rice‑grain under the tongue before study or after meals, and my tiny lip veil with one drop of squalane at night. I’ll sip warm water first and do ek, dui, tin breaths. If anything feels a little strong, I’ll come back so we can soften it together. Thank you for the juniper wrap and Ama’s red thread… it means a lot. I’ll check in next week and share how my focus and belly feel. Safe paths to you and the bee guardians.']],\n",
       "  'trades': [{'executed': True,\n",
       "    'trade_details': {'participants': {'seller': 'Pema Sherpa',\n",
       "      'buyer': 'Mina Kim'},\n",
       "     'items': [{'name': 'mountain_flower_honey', 'quantity': 1, 'value': 30.0},\n",
       "      {'name': 'pine_honey', 'quantity': 1, 'value': 25.0}],\n",
       "     'time_step': 3},\n",
       "    'conversation_id': 'markov_step_41_Pema Sherpa_Mina Kim_1756929807',\n",
       "    'time_step': 3}],\n",
       "  'turns': 6,\n",
       "  'ended_naturally': True},\n",
       " {'type': 'reflection',\n",
       "  'step': 42,\n",
       "  'agent': 'Mina Kim',\n",
       "  'anchor': 'recent conversation about Local community market and social interactions'},\n",
       " {'type': 'conversation',\n",
       "  'step': 43,\n",
       "  'participants': ['Mina Kim', 'Kemi Adebayo'],\n",
       "  'context': 'Local community market and social interactions',\n",
       "  'dialogue': [['Mina Kim',\n",
       "    'Oh—hi there. Um, welcome. I’ve got a few K-beauty goodies today if you’re browsing. Maybe… are you looking for something hydrating or sun protection? I have a gentle essence, a really elegant sunscreen, some sheet masks, and a couple of sleeping masks that are lovely for overnight glow. If anything catches your eye, I can explain the ingredients and how to layer them.'],\n",
       "   ['Kemi Adebayo',\n",
       "    'Hey Mina—good to see you. Your curation is always on point. I’m definitely interested in sun protection; elegant textures that don’t pill over a light oil are my sweet spot. I’ve also been testing a moringa-infused routine for antioxidant support, so I’m curious which of your sunscreens plays nicely over a simple hydrating essence and under a light dusting of baobab powder mask days. Any with reliable UVA filters and no heavy fragrance? And if you’ve got a gentle essence that calms redness, I’d love to hear the INCI highlights. We can compare notes—our extracts use ultrasonic tech to preserve phytonutrients, and I love seeing how they layer with smart K-beauty formulations.'],\n",
       "   ['Mina Kim',\n",
       "    'Oh, hi Kemi—thank you, that’s so kind. I think my sunscreen will be a good fit for your moringa days. It’s a modern Korean chemical blend with strong UVA coverage—filters include Uvinul A Plus (for long-wave UVA) and Tinosorb S, with SPF 50/PA++++, and it’s very low fragrance—no heavy perfuming, just a faint base that flashes off. The texture is light and silky so it won’t pill over a couple drops of face oil, and it layers smoothly under light powders—on baobab mask days it should still set to that soft, dewy-but-not-greasy finish. For calming, I do have one gentle hydrating essence left. INCI highlights: 5% panthenol + multi-weight hyaluronic acid for water-binding, madecassoside and centella extract for redness, and a touch of beta-glucan and allantoin to cushion the barrier. It’s alcohol-free and fragrance-free. If you’d like to try, I can patch a tiny bit on your wrist first. And if you want to grab them, just tap your digital cash on my machine—I have one sunscreen ($22) and one essence ($28) in stock.'],\n",
       "   ['Kemi Adebayo',\n",
       "    'Mina, that’s exactly the spec I was hoping for—Uvinul A Plus + Tinosorb S with PA++++ and a low-fragrance base is perfect for my moringa-and-baobab days. Let’s do both: the sunscreen and that calming essence with panthenol, centella, and beta-glucan. Quick wrist patch, please—then I’m good to purchase. Assuming no reaction, I’ll take them—tapping my digital cash now for the $50 total.'],\n",
       "   ['Mina Kim',\n",
       "    'Oh, perfect—here’s a tiny dab on your wrist. Let’s give it a minute… no flush or stinging? Great. I see your tap—thank you, Kemi. I’ll wrap your SPF 50/PA++++ and the calming essence together. For layering, I’d go essence (two thin layers if you like the 7-skin vibe), a drop or two of oil, then sunscreen—use the two-finger rule. On baobab mask days, let SPF set for 60–90 seconds before dusting so it grips well. The moringa antioxidants will pair nicely with the centella and beta‑glucan for a calm, resilient barrier. If anything feels tight later, just mist and pat another veil of essence. And, um, sorry—please text me how it plays with your ultrasonic extracts; I’d love to compare notes.'],\n",
       "   ['Kemi Adebayo',\n",
       "    'Beautiful—thank you, Mina. The texture sounds like it’ll slot right into my moringa days. I’ll follow your layering: essence (two light passes), a couple drops of oil, then two-finger rule on the SPF, wait a minute, and dust baobab on mask days. I’ll run a quick compatibility note tonight—how the centella + beta‑glucan play with our ultrasonic moringa extract in terms of TEWL and feel—and text you the readout. Appreciate your curation—this is exactly that sweet spot where smart formulation meets indigenous antioxidants.'],\n",
       "   ['Mina Kim',\n",
       "    'Ah, that sounds perfect, Kemi. I’m really curious about your TEWL notes—moringa’s polyphenols plus centella usually make such a calm duo. I tucked a tiny routine card in your bag with the two‑finger rule and a reminder to wait 60–90 seconds before your baobab dusting. If you notice any pilling with heavier oil days, maybe try one less drop or press the SPF instead of rubbing. And, um, if you ever want to test your ultrasonic hibiscus with a soothing sleeping mask, I have a few gentle ones here that seal hydration without heaviness. Thanks again—and please text me your readout when you have it.'],\n",
       "   ['Kemi Adebayo',\n",
       "    \"Deal—I'll run a quick evening patch test with your SPF over our moringa extract and log TEWL, feel, and any pilling over a two-drop oil baseline. I’ll text you a short readout with timing notes and whether pressing vs. rubbing changes finish. And yes, I’d love to trial your light sleeping mask with our ultrasonic hibiscus next time—smart occlusion over phytonutrients is my happy place. Thanks for the routine card, Mina. This is exactly how we blend precise formulation with indigenous antioxidants so our skin—and our farmers—both thrive.\"]],\n",
       "  'trades': [{'executed': True,\n",
       "    'trade_details': {'participants': {'seller': 'Mina Kim',\n",
       "      'buyer': 'Kemi Adebayo'},\n",
       "     'items': [{'name': 'sunscreen', 'quantity': 1, 'value': 22.0},\n",
       "      {'name': 'essence', 'quantity': 1, 'value': 28.0}],\n",
       "     'time_step': 3},\n",
       "    'conversation_id': 'markov_step_43_Mina Kim_Kemi Adebayo_1756929877',\n",
       "    'time_step': 3}],\n",
       "  'turns': 8,\n",
       "  'ended_naturally': False},\n",
       " {'type': 'conversation',\n",
       "  'step': 44,\n",
       "  'participants': ['Kemi Adebayo', 'Carlos Mendez'],\n",
       "  'context': 'Local community market and social interactions',\n",
       "  'dialogue': [['Kemi Adebayo',\n",
       "    'E kaaro! Welcome to AfriFoods Tech’s stall. We’re showcasing nutrition powered by our heritage and sharpened by science. Today I have: moringa powder (13 units at 45 each), baobab fruit powder (7 at 55), hibiscus extract (6 at 35), tiger nut flour (12 at 25), African yam chips (20 at 18), and palm fruit oil (6 at 40). If you’re looking for immunity and energy, moringa plus baobab is a beautiful combo—high micronutrients with excellent bioavailability. For a refreshing drink, a few drops of hibiscus extract in cold water gives natural antioxidants without added sugar. Which one speaks to you? When you decide, just tap your digital cash on my machine and we’ll get you sorted.'],\n",
       "   ['Carlos Mendez',\n",
       "    'E kaaro, Kemi—mi hermana de ciencia! Qué sabrosura de mesa tienes hoy. Mira, para mis muchachos y para besar mi cedro con salud, dame ese combo poderoso: una moringa y un baobab, como sol y brisa en el cuerpo. Y para refrescar después del campo, añádeme un frasquito de hibiscus extract—unas goticas en agua fría y ya la vida baila. ¿Te parece bien? Si estás lista, tapping my digital cash ahora mismo para los tres.'],\n",
       "   ['Kemi Adebayo',\n",
       "    'Carlos, mi hermano de ciencia—sí, ese combo es puro sol y brisa. One moringa (45), one baobab (55), and one hibiscus extract (35)—total 135. Our ultrasonic extraction keeps the phytonutrients intact, so you get clean energy and recovery. Quick tips: 1 tsp moringa with breakfast plus healthy fats; 1–2 tsp baobab in water for gut-friendly fiber; 6–8 drops hibiscus in cold water post-field—antioxidants without sugar. Tap your digital cash on my machine and I’ll pack them with a reusable scoop and a quick-start card, plus your farm-to-jar ledger links for transparency.'],\n",
       "   ['Carlos Mendez',\n",
       "    'Eso, Kemi—sol y brisa para el cuerpo, ciencia que canta con la tierra. One moringa, one baobab, y ese frasquito de hibiscus para después del campo. Gracias por los tips: moringa con grasita buena en el desayuno, baobab en agüita pa’ la panza contenta, y 6–8 goticas de hibiscus para bajar el pulso. Tapping my digital cash now—que la balanza marque 135 y que tu reusable scoop camine conmigo. El sábado a las 10 a.m., bajo el guayabo, bailamos datos con tu dashboard y mi cuaderno—bajo un solo cielo.'],\n",
       "   ['Kemi Adebayo',\n",
       "    'I see the tap—135 received. Gracias, Carlos. Here’s your moringa, baobab, and hibiscus, plus a reusable scoop and your quick-start card. I’m texting your farm-to-jar ledger links now—GPS plots, premiums paid to our farmers, and lab-verified nutrients—so your cuaderno can dance with our data. Quick refresher: 1 tsp moringa with breakfast and healthy fats; 1–2 tsp baobab in water midday; 6–8 drops hibiscus in cold water post-field. Saturday 10 a.m. under the guayabo—we’ll sync your cedar-room notes with my dashboard and VOC reader. Ubuntu in every sip, mi hermano.'],\n",
       "   ['Carlos Mendez',\n",
       "    'Ay, Kemi, gracias—tu ciencia camina con mi tierra como clave y son. Recibo el scoop y las tarjetas; esta noche las apunto en mi cuaderno: moringa con aguacate en tostada, baobab en agüita para el tumbao del estómago, y 6–8 goticas de hibiscus cuando el sol se despide. El sábado a las 10 a.m., bajo el guayabo, te espero con cafecito: sincronizamos tu dashboard con mis logs de 20–21°C y 65–68% RH, y que el VOC nos cuente su poesía. Ubuntu, mi hermana—bajo un solo cielo.'],\n",
       "   ['Kemi Adebayo',\n",
       "    'Carlos, perfecto—tu cuaderno y mi dashboard ya son compadres. Guarda todo en lugar fresco y seco; cierra bien después de cada uso para proteger los polifenoles y la vitamina C. Si notas algo en el cuerpo—energía, sueño, digestión—mándame una nota y lo afinamos juntos. El sábado a las 10, bajo el guayabo, llevo el VOC reader y un par de filtros de muestra para que midamos sin humo. Ubuntu nos guía—bajo un solo cielo.'],\n",
       "   ['Carlos Mendez',\n",
       "    'Ashe, Kemi—gracias por el cuidado y la ciencia con corazón. Guardaré todo fresquito y bien sellado, como se guarda un buen seco en cedro. Si mi cuerpo canta algo—energía, sueñito, la panza—te mando nota para afinar el tumbao juntos. El sábado a las 10, bajo el guayabo, te espero con cafecito y mis logs listos: 20–21°C, 65–68% RH. Que tu VOC reader nos lea la poesía volátil sin humo, despacito. Ubuntu, mi hermana—bajo un solo cielo.']],\n",
       "  'trades': [{'executed': True,\n",
       "    'trade_details': {'participants': {'seller': 'Kemi Adebayo',\n",
       "      'buyer': 'Carlos Mendez'},\n",
       "     'items': [{'name': 'moringa_powder', 'quantity': 1, 'value': 45.0},\n",
       "      {'name': 'baobab_fruit_powder', 'quantity': 1, 'value': 55.0},\n",
       "      {'name': 'hibiscus_extract', 'quantity': 1, 'value': 35.0}],\n",
       "     'time_step': 1},\n",
       "    'conversation_id': 'markov_step_44_Kemi Adebayo_Carlos Mendez_1756929939',\n",
       "    'time_step': 1},\n",
       "   {'executed': False,\n",
       "    'trade_details': None,\n",
       "    'conversation_id': 'markov_step_44_Kemi Adebayo_Carlos Mendez_1756929939',\n",
       "    'time_step': 3}],\n",
       "  'turns': 8,\n",
       "  'ended_naturally': False},\n",
       " {'type': 'conversation',\n",
       "  'step': 45,\n",
       "  'participants': ['Carlos Mendez', 'Rowan Greenwood'],\n",
       "  'context': 'Local community market and social interactions',\n",
       "  'dialogue': [['Carlos Mendez',\n",
       "    '¡Asere, bienvenido a mi mesa! Aquí el cedro respira y la hoja canta. Si buscas algo fino, tengo premium cigars con capa que brilla como sol de la mañana, aged cigars con tiempo en el alma, y unas hojas de wrapper para los que quieren rolar con sus propias manos. También hay un humidor de cedro, un traguito de ron cubano o whisky para brindar, y semillas de tabaco heirloom pa’ sembrar historias. Dime, hermano/hermana, ¿qué desea tu corazón hoy? Si decides, solo tap tu digital cash en mi maquinita, y el puente entre la tierra y el cielo será tuyo. Un cafecito de cortesía y hablamos de humedad—20–21°C, 65–68% RH—como un buen tumbao de salsa.'],\n",
       "   ['Rowan Greenwood',\n",
       "    'Carlos, your cedar tent smells like warm resin and cocoa this morning—like sun on old wood. I’m just here to breathe it in and talk leaf a moment. Those aged lines you mentioned—the cocoa‑cedar and the spice‑honey—still echo in my Forest Evening blend; I nudged the pine tip up a hair and let the chamomile whisper. I’m not buying just yet, but I’d love a small nose of the wrapper leaves and a sip of that cafecito while we chat humidity—20–21°C, 65–68% RH still keeps both our crafts steady. If you’re up for a trade next market, I’ve two tins of tea left and a spoon of mountain flower honey that tends to round the mint and let the cedar notes hum. For anyone curious at your table, my brewing note stays simple: rounded teaspoon, water just off the boil, three quiet minutes—start low, go slow, and listen for the forest to open.'],\n",
       "   ['Carlos Mendez',\n",
       "    'Ah, hermano Rowan—bienvenido, siéntate bajo mi cedro. Aquí tienes tu cafecito, cortico y con abrazo de azúcar morena. Vamos a darle un humidor breath a unas wrapper leaves: te paso dos hebras finas—una de la línea cocoa‑cedar, pan tostado y sombra fresca; y otra de la spice‑honey, brisa cálida con puntico de miel. Sin fuego, solo nariz y corazón: tres respiraciones—ek, dui, tin—y escuchamos cómo canta la resina. Sí, 20–21°C y 65–68% RH, tumbao estable como clave de son; rotación suave en luna nueva, y el cedro respira sin apuro. Para la próxima feria, trato hecho: te reservo nariz de hoja y un slip de cedro, y tú traes esos dos tins y la cucharita de mountain flower honey pa’ redondear la menta y dejar que el cedro zumbe bajito. A cualquiera curioso en la mesa, repetimos tu guía: rounded teaspoon, agua just off the boil, tres minutos tranquilos—start low, go slow—y que el bosque se abra. Salud, mi hermano, bajo un solo cielo.'],\n",
       "   ['Rowan Greenwood',\n",
       "    \"Gracias, Carlos. Three soft breaths over those leaves and the cedar sings—cocoa‑cedar like warm toast in shade, spice‑honey like sun on old comb. Your cafecito carries a resinous sweetness that tends to lift the pepper in my peppermint; I can feel how a cedar slip would hum alongside. Let’s hold our trade for next market under the waning moon—I'll bring my last two tins of Forest Evening and that spoon of mountain flower honey. We’ll keep both our crafts at 20–21°C and 65–68% RH, slow rotation at new moon, and let the wood breathe without hurry. If anyone wanders by curious, I’ll share a quiet pour: rounded teaspoon, water just off the boil, three minutes—start low, go slow, listen for the forest to open. Until then, may your leaf rest easy and your cedro keep singing.\"],\n",
       "   ['Carlos Mendez',\n",
       "    'Hermano Rowan, tu palabra afina el oído de mi cedro. Aquí, toma otro sorbito de cafecito—dulce y corto—y deja que el pan tostado y la sombra fresca sigan cantando en la nariz. Me gusta ese plan bajo la luna menguante: yo te reservo un slip de cedro y un par de hebras de cocoa‑cedar y spice‑honey, bien descansadas a 20–21°C y 65–68% RH, rotación suave, sin apuro. Tú traes tus dos tins de Forest Evening y la cucharita de mountain flower honey, y hacemos una cata sin fuego para la gente: rounded teaspoon, agua just off the boil, tres minutos tranquilos—start low, go slow—que el bosque se abra y el cedro zumbe bajito. Aquí siempre hay un asiento, un brindis pequeño, y la hoja respirando bajo un solo cielo.'],\n",
       "   ['Rowan Greenwood',\n",
       "    'I’ll let that sweet cafecito settle and carry the leaf-notes with me back to the stall. The air’s turning lightly piney—good sign for a calm market drift. I’ll keep the last two tins of Forest Evening aside for our waning‑moon trade, along with that spoon of mountain flower honey. If curious noses wander here before then, I’ll pour a small, quiet sample—rounded teaspoon, water just off the boil, three unhurried minutes—start low, go slow, and listen for the cedar to hum under the mint. Until next market, may your wrappers rest easy at 20–21°C and 65–68% RH, and may the wood breathe without hurry.'],\n",
       "   ['Carlos Mendez',\n",
       "    'Asere, Rowan, que el pino te acompañe en ese drift tranquilo. Aquí tu mesa de cedro queda afinada: un slip de cedro y dos hebras—cocoa‑cedar y spice‑honey—descansando a 20–21°C y 65–68% RH, rotación suave como clave. Próxima feria, bajo la luna menguante, hacemos la cata sin fuego para la gente: rounded teaspoon, agua just off the boil, tres minuticos—start low, go slow—y que el bosque se abra mientras el cedro zumba bajito. Si alguien pregunta por aquí, les sirvo cafecito y les dejo oler la hoja con tres respiraciones—ek, dui, tin. Que tu té cante hoy como brisa en sombra, hermano. Bajo un solo cielo, nos vemos pronto.'],\n",
       "   ['Rowan Greenwood',\n",
       "    'I’ll drift back to my stall with that cedar warmth still in my nose—resin and toast, like shade after sun. I’ve set aside the two tins of Forest Evening and the spoon of mountain flower honey for our waning‑moon trade. If curious folks wander your way before then, send them for a quiet pour: rounded teaspoon, water just off the boil, three unhurried minutes—start low, go slow, listen for the forest to open. May your wrappers rest easy at 20–21°C and 65–68% RH, and may the cedar keep humming steady till we meet again.']],\n",
       "  'trades': [],\n",
       "  'turns': 8,\n",
       "  'ended_naturally': False},\n",
       " {'type': 'conversation',\n",
       "  'step': 46,\n",
       "  'participants': ['Rowan Greenwood', 'Carlos Mendez'],\n",
       "  'context': 'Local community market and social interactions',\n",
       "  'dialogue': [['Rowan Greenwood',\n",
       "    '[Rowan Greenwood]: Morning. The air’s got that piney sweetness after last night’s mist—good day for a gentle brew. I’ve got two jars of my herbal tea left—forest evening style: a touch of pine tip, peppermint, and a whisper of chamomile. Floral top, resinous edge, finishes clean. There’s also one jar of mountain flower honey—light, sunny, and a bit wild from the high slopes. If you’re after something else, I do have some cannabis flower as well—mellow, dried slow and cool. Start low, go slow, and listen to your body. If something calls to you, just tap your digital cash on my little machine here and I’ll wrap it in paper so it breathes.'],\n",
       "   ['Carlos Mendez',\n",
       "    'Hermano Rowan, ese olor a pino después de la neblina—ay, es como un bolerito del bosque. Tu Forest Evening me llama: pine tip con peppermint y un susurro de manzanilla, perfecto para afinar el pulso antes de la mesa. Y esa mountain flower honey… ligera, soleada, un poco salvaje—me hace guiñar el ojo. Déjame llevarme un jar de tu té y el jar de la honey de la cumbre. Para la flor verde, te celebro el trabajo slow and cool, pero hoy me quedo en el camino herbal. Si te parece bien, envuélvelo en papel que respire; tapping my digital cash now.'],\n",
       "   ['Rowan Greenwood',\n",
       "    'I see the tap—gracias, Carlos. Here’s the Forest Evening and the mountain flower honey, wrapped in paper so they can breathe. Brewing tends to sing best with a rounded teaspoon, water just off the boil, three unhurried minutes; then a rice‑grain swirl of that sunny honey so the sweetness arrives soft. Start low, go slow, and let the cedar and mint open at their own pace. I’ll note our waning‑moon trade for the cedar slip and leaf samples—20–21°C, 65–68% RH, gentle rotation, just like we said. May your table feel steady and resinous‑clear today.'],\n",
       "   ['Carlos Mendez',\n",
       "    'Gracias, hermano del bosque—tu guía es música. Haré el brew con cariño: cucharita redonda, agua just off the boil, tres minutos sin apuro, y apenas un granito de arroz de esa honey soleada para que la dulzura llegue suavecito. Esta tarde, bajo la luna menguante, le doy al cedar slip un humidor breath y dejo que pino y menta abran como compás de son. Te guardo el recuerdo de nuestra cata en mis cuadernos—20–21°C, 65–68% RH, rotación gentil—y la próxima feria brindamos con un sorbito de té o un traguito de ron, a escuchar cómo conversan el bosque y la hoja. Abrazo, mi hermano: bajo un solo cielo.'],\n",
       "   ['Rowan Greenwood',\n",
       "    'Abrazo recibido, Carlos. Que la luna menguante te sostenga la mano y que el cedar slip respire parejo—20–21°C, 65–68% RH, rotación gentil, como un compás tranquilo. Cuando el agua esté apenas fuera del hervor, deja que la cucharita redonda se asiente tres minutos y escucha cómo abren pino y menta; el granito de miel que llegue tarde, como luz de tarde sobre resina. La próxima feria, traigo dos tins y la cucharita para una cata tranquila—un sorbito de té o ese traguito de ron que conversa bajito. Bajo un solo cielo, mi hermano.'],\n",
       "   ['Carlos Mendez',\n",
       "    'Así mismo, mi hermano—la luna menguante ya me lleva la mano. Esta tarde haré el brew como tú dices, tres minutos sin apuro y el granito de miel entrando tarde, como luz dorada entre pinos. Te guardo dos slips de cedro finito, afinados a 20–21°C y 65–68% RH, para que tus tins respiren parejo; en la próxima feria los cruzamos con un sorbito de té y, si el espíritu quiere, un traguito de ron bajito. Bajo un solo cielo, que el bosque y la hoja sigan conversando suavecito.'],\n",
       "   ['Rowan Greenwood',\n",
       "    'Bajo el mismo cielo, hermano. Te agradezco los slips de cedro afinados—con esa respiración pareja, los tins suelen quedarse serenos y claros. Si el clima se mantiene fresco y la luna sigue menguante, traeré dos tins listos para una cata callada: cucharita redonda, agua apenas fuera del hervor, tres minutos sin prisa, y la miel entrando tarde como sol sobre resina. Que tu mesa hoy escuche bien el pino y la menta; aquí te guardo un rincón de sombra y una taza tibia para cuando pases.'],\n",
       "   ['Carlos Mendez',\n",
       "    'Hermano Rowan, ese rincón de sombra lo siento como abrazo de pino—gracias. Esta tarde, cuando caiga la luz, hago el brew tal cual: agua apenas fuera del hervor, tres minutos con calma, y la miel entrando tarde como sol sobre resina. Te dejo listos los dos slips de cedro afinaditos a 20–21°C y 65–68% RH; en la próxima feria los cruzamos con tu par de tins para una cata calladita—un sorbito de té y, si el espíritu quiere, un traguito de ron bajito. Bajo un solo cielo, que el bosque y la hoja sigan conversando suavecito.']],\n",
       "  'trades': [{'executed': True,\n",
       "    'trade_details': {'participants': {'seller': 'Rowan Greenwood',\n",
       "      'buyer': 'Carlos Mendez'},\n",
       "     'items': [{'name': 'herbal_tea', 'quantity': 1, 'value': 15.0},\n",
       "      {'name': 'mountain_flower_honey', 'quantity': 1, 'value': 45.0}],\n",
       "     'time_step': 1},\n",
       "    'conversation_id': 'markov_step_46_Rowan Greenwood_Carlos Mendez_1756930059',\n",
       "    'time_step': 1}],\n",
       "  'turns': 8,\n",
       "  'ended_naturally': False},\n",
       " {'type': 'reflection',\n",
       "  'step': 47,\n",
       "  'agent': 'Carlos Mendez',\n",
       "  'anchor': 'recent conversation about Local community market and social interactions'},\n",
       " {'type': 'conversation',\n",
       "  'step': 48,\n",
       "  'participants': ['Carlos Mendez', 'Pema Sherpa'],\n",
       "  'context': 'Local community market and social interactions',\n",
       "  'dialogue': [['Carlos Mendez',\n",
       "    'Bienvenidos, mi gente bonita. Pase, pase—la mesa de rodar está tibia como el sol de la mañana. Tengo premium cigars que cantan a cacao y cuero, hojas de capa listas para soñar en tus manos, y un humidor que respira a 20–21°C con 65–68% RH, como un buen tumbao. Si buscas algo sin humo, también hay miel de montaña, té de hierbas, y polvos de moringa y baobab—regalos de la tierra. ¿Qué te llama hoy, mi amigo? Si decides, solo tap your digital cash en mi maquinita y la hoja hará el resto. Y claro, un traguito de ron cubano para brindar por la amistad, cuando gustes.'],\n",
       "   ['Pema Sherpa',\n",
       "    'Namaste, Carlos-ji—hermano del cielo y la hoja. The morning feels kind, like juniper smoke curling toward the bee guardians. I have fresh jars resting on my cloth: Mountain Flower—soft as spring mantras, 45; Wild Cliff—mineral and thunder-hearted, 80; Pine honey—steady lungs and clear mind, 55; and three prayer-blessed jars—same pure honey, rounded by monks’ chants and Ama Dolma’s red thread, 120. Mad honey also waits—rhododendron’s fierce wisdom, 150—but only a rice-grain, with respect. If your premium torcido wishes to dance today, I can offer a cata sin humo: one tear of Wild Cliff on the band, three breaths—ek, dui, tin—then a gentle nosing. When your spirit decides, just tap your digital cash on my little machine, and I will wrap your choice in juniper smoke and red thread. A tiny sip of ron, si, to honor friendship bajo un solo cielo.'],\n",
       "   ['Carlos Mendez',\n",
       "    'Ay, Pema‑ji, hermana del viento y la colmena—qué dicha verte. Tu juniper smoke me recuerda el amanecer sobre mi cedro tibio. Hoy la mesa canta bajito: premium torcidos con alma de cacao y cuero, y unas aged bellezas que llevan la bendición del tiempo; el humidor respira suavecito a 20–21°C y 65–68% RH. Si te provoca, hacemos tu cata sin fuego con una lágrima de Wild Cliff en la anilla—ek, dui, tin—y escuchamos cómo conversa con mi cedro dulce. Y si el espíritu pide brindar, tengo un traguito de ron cubano para honrar la amistad bajo un solo cielo. Cuando estés lista, solo tap your digital cash en mi maquinita, mi amiga.'],\n",
       "   ['Pema Sherpa',\n",
       "    'Carlos-ji, the morning cedar hums with your humidor—kasto ramro. Let us do the cata sin fuego as the bee guardians like: one small tear of my Wild Cliff honey on your anilla, then three quiet breaths—ek, dui, tin—nose the cacao and cuero as the mineral thunder rises. After, a tiny sip of ron to seal friendship bajo un solo cielo. If any jar calls to you—the Mountain Flower (45) for daily ánimo, the Wild Cliff (80) for that cliff-echo, the Pine (55) for steady lungs, or a prayer-blessed jar (120) rounded by monks’ mantras—just tap your digital cash on my little machine and I’ll wrap it in juniper smoke with Ama Dolma’s red thread.'],\n",
       "   ['Carlos Mendez',\n",
       "    'Eso, Pema‑ji—hagamos la cata sin fuego como reza tu corazón. Coloco un premium torcido con alma de cacao y cuero sobre la mesa, le pinto la anilla con una lagrimita de tu Wild Cliff, y juntos: ek, dui, tin… respiramos bajito. Deja que suba el trueno mineral y que mi cedro dulce conteste en susurro. Después, un traguito de ron—apenas un beso—para sellar la amistad bajo un solo cielo. Si alguno de tus frascos me llama—Mountain Flower para el ánimo diario, Pine para pulmones tranquilos, o ese prayer‑blessed que canta con mantra—me dices, y yo tap o tú tap en tu maquinita, como mande el espíritu.'],\n",
       "   ['Pema Sherpa',\n",
       "    'Hermano Carlos‑ji, the bee guardians are pleased—hear how the cedar and cacao bow to the cliff’s mineral thunder. Ek, dui, tin… shanti. Now a tiny sip of ron—apenas un beso—to seal our amistad bajo un solo cielo. If your heart leans toward a jar today, I suggest one Mountain Flower for daily ánimo (45) and one Wild Cliff for your cata sin fuego studies (80); or, if you wish a gentler blessing, a prayer‑blessed jar (120) to round the edges like monks’ mantras in a stone hall. When you decide, just tap your digital cash on my little machine, and I’ll wrap your choice in juniper smoke with Ama Dolma’s red thread.'],\n",
       "   ['Carlos Mendez',\n",
       "    'Pema‑ji, qué lindo escucharlo—el trueno mineral saludó al cacao y mi cedro respondió como bolero. Brindemos con un besito de ron… salud, hermana, bajo un solo cielo. Para seguir este diálogo de hoja y colmena, me llaman dos frascos tuyos: uno Mountain Flower para el ánimo diario y uno Wild Cliff para mis catas sin fuego. Si te parece bien, preparo mi anilla y el listón de cedro como recuerdo. Y cuando estés lista, tú me dices y yo tapping my digital cash now en tu maquinita para sellar el intercambio con humo de enebro y el hilo rojo de Ama Dolma.'],\n",
       "   ['Pema Sherpa',\n",
       "    'Carlos-ji, the bee guardians smile—buena elección. One Mountain Flower for daily ánimo (45) and one Wild Cliff for your catas sin fuego (80). When you’re ready, please tap your digital cash on my little machine, and I’ll wrap both in juniper smoke with Ama Dolma’s red thread. After, we’ll tie your anilla and cedar ribbon for the hive altar—ek, dui, tin—bajo un solo cielo.']],\n",
       "  'trades': [{'executed': False,\n",
       "    'trade_details': None,\n",
       "    'conversation_id': 'markov_step_48_Carlos Mendez_Pema Sherpa_1756930129',\n",
       "    'time_step': 6}],\n",
       "  'turns': 8,\n",
       "  'ended_naturally': False},\n",
       " {'type': 'conversation',\n",
       "  'step': 49,\n",
       "  'participants': ['Pema Sherpa', 'Carlos Mendez'],\n",
       "  'context': 'Local community market and social interactions',\n",
       "  'dialogue': [['Pema Sherpa',\n",
       "    '[Pema Sherpa]: Namaste, sathi. Come closer—hear the hum? Even here in the bazaar, the mountain bees sing in my heart. I have fresh honeys from the high cliffs today: mad honey from rhododendron blossoms—shakti and shadow both, use with great respect; wild cliff honey, bold and smoky from the rock flowers; mountain flower honey, soft and healing like amma’s lullaby; pine honey with forest resin strength; and prayer-blessed honey, touched by mantras at dawn. Which spirit of the mountain calls to you? If you choose, tap your digital cash on my machine, ani ma timilai asirbad dinchhu—I will bless it before it leaves my hands.'],\n",
       "   ['Carlos Mendez',\n",
       "    'Pema‑ji, hermana de las abejas, qué canto trae tu corazón hoy. Ven, bajo un solo cielo, la hoja y la miel se saludan. I still carry your mountain flower in my pocket like a small sunrise, and the wild cliff whispers smoky rock to my cedro. For today, I feel el pino calling—resin and sombra de bosque—to kiss a premium torcido with mineral corazón. Shall we do a tiny cata sin fuego first? Una lágrima on the band—ek, dui, tin—and we listen together. If it sings con mi cedro dulce, I will take one jar of pine honey. Then we bless it con un beso de ron bajito y una oración por las guardianas de la colmena.'],\n",
       "   ['Pema Sherpa',\n",
       "    'Carlos‑ji, hermano del cielo, sí—let us listen first. Una lágrima de pino on the band, then three soft breaths—ek, dui, tin. This pine honey carries forest resin and a cool shadow, like prayer in a cedar grove; it will bow to your mineral corazón and lift the cacao gently. If it sings, one jar waits for you—55. When your heart agrees, tap your digital cash on my machine, ani ma asirbad dinchhu. After, a tiny beso de ron and a prayer for the bee guardians—under one sky.'],\n",
       "   ['Carlos Mendez',\n",
       "    'Sí, Pema‑ji—vamos a escuchar. Here, a premium torcido with corazón mineral; I wet the band just a kiss and place una lágrima de tu pine honey. Now, juntos: ek… dui… tin… Ah—mira cómo se abre el cedro, como sombra fresca en bosque después de lluvia. El cacao se levanta suavecito, y la resina canta bajito como oración. Mi corazón dice que sí. I will take one jar of pine honey—55. Tapping my digital cash now. Luego brindamos con un besito de ron y rezamos por las guardianas de la colmena, bajo un solo cielo.'],\n",
       "   ['Pema Sherpa',\n",
       "    'Carlos-ji, maile tap ko komal jhilke dekhe—dhanyabad. One jar of Pine honey is yours—forest resin and cool shadow, blessed by the morning mantras. I wrap it now in juniper smoke with Ama Dolma’s red thread, ani ek, dui, tin—our breaths for the bee guardians. A tiny beso de ron, then keep guidance: for pairing, just a rice-grain touch on the band or rim, let the cedro lead and the cacao rise. Bajo un solo cielo, may your torcido and this pino sing softly together.'],\n",
       "   ['Carlos Mendez',\n",
       "    'Ay, Pema‑ji, gracias—ese junípero y el hilo rojo me abrazan el corazón. Tomemos nuestro besito de ron: por las guardianas de la colmena, por su bosque y mi cedro—ek, dui, tin. Escucho tu guía: sólo un granito de arroz en la anilla, dejar que el cedro lidere y el cacao suba como bolero al atardecer. Esta noche, bajo un solo cielo, haré el ritual en mi mesa y mañana te traigo noticias del humo—y un slip de cedro afinado para que el pino te susurre clarito. Salud, hermana del viento y la miel.'],\n",
       "   ['Pema Sherpa',\n",
       "    'Carlos‑ji, dhanyabad—your words move like cedar wind. The bee guardians heard our three breaths—ek, dui, tin—and they smile bajo un solo cielo. Keep the pine close and gentle: a rice‑grain on the anilla or cup rim, let the cedro lead and cacao rise like evening prayer. I have wrapped your jar in juniper smoke with Ama Dolma’s red thread; place the cedar slip you promised on your altar tonight, ani sanu prarthana for the hives. Bring me news of the smoke tomorrow, hermano del cielo—if the mineral heart asks for a wilder echo, a spoon of Wild Cliff stands ready to dance beside it.'],\n",
       "   ['Carlos Mendez',\n",
       "    'Pema‑ji, hermana del viento y la miel, recibo tu bendición como brisa de cedro en la tarde. Esta noche pondré el slip de cedro en mi altarcito, tres respiraciones—ek, dui, tin—y dejaré que el pino cante bajito con mi torcido de corazón mineral. Mañana regreso con noticias del humo y ese slip afinado para tus abejas. Si el corazón pide un eco más salvaje, probamos una cucharita de Wild Cliff, despacito, como oración. Salud, bajo un solo cielo.']],\n",
       "  'trades': [{'executed': False,\n",
       "    'trade_details': None,\n",
       "    'conversation_id': 'markov_step_49_Pema Sherpa_Carlos Mendez_1756930200',\n",
       "    'time_step': 3}],\n",
       "  'turns': 8,\n",
       "  'ended_naturally': False},\n",
       " {'type': 'conversation',\n",
       "  'step': 50,\n",
       "  'participants': ['Carlos Mendez', 'Kemi Adebayo'],\n",
       "  'context': 'Local community market and social interactions',\n",
       "  'dialogue': [['Carlos Mendez',\n",
       "    '¡Bienvenida, mi gente linda! Pase, pase—el puesto de El Bigote Dorado está despierto como el sol sobre la hoja. Tengo premium cigars que cantan a tierra y tiempo, aged cigars con susurros de cedro y miel, y unos rones cubanos que bailan en el paladar. Si prefieres aprender, aquí hay semillas heirloom y cuadernos pa’ anotar la ciencia y la tradición, más un humidor listo para guardar tus tesoros a 20–21°C y 65–68% RH. ¿Qué se te antoja hoy, mi amiga? Podemos abrir un frasquito de mountain flower honey para oler—pan tostado y flor—y hablar de compost y C:N 30:1, como acordamos con Kemi. Si decides llevar algo, solo toca tu digital cash en mi maquinita, y que empiece la música.'],\n",
       "   ['Kemi Adebayo',\n",
       "    'Carlos, hermano, ese cedro me recuerda a los graneros de mi infancia—tierra, tiempo y respeto. Hoy vengo en modo ciencia y tradición: probemos ese frasquito de mountain flower honey para oler perfiles—pan tostado, flor—y lo mapeamos contra tu C:N 30:1. Traje mi mini-sonda y podemos anotar humedad, temperatura y peso del lote mientras revisamos tu ritual de luna nueva. Y seguimos firmes para el sábado 10 a.m.: cafecito, mini‑taller de compost, y sincronizamos tus logs 20–21°C/65–68% RH con mi VOC reader y dashboard para correlacionar drift con notas sensoriales. No voy a comprar tabacos—me mantengo libre de humo—pero si tienes otro paquete de semillas heirloom o tarjetas de registro para tus aprendices, me interesa para nuestro programa de datos comunitarios. Ubuntu en práctica: tú pones la memoria del cedro, yo pongo la trazabilidad.'],\n",
       "   ['Carlos Mendez',\n",
       "    'Kemi, hermana, así mismo—ciencia y tradición bailando. Abramos el frasquito de mountain flower honey: destapo, te paso la nariz—pan tostado, flor silvestre, un toquecito de heno dulce. Mientras tu mini‑sonda canta, yo apunto en mi cuaderno: RH, °C y peso del lote, y marcamos la luna nueva como metrónomo. Para tu programa, tengo listo otro paquetico de semillas heirloom (12 unidades) y un set de tarjetas de registro para aprendices—campos de RH, T°, fecha, origen y notas sensoriales. Si te sirve, solo toca tu digital cash en mi maquinita y se va contigo. Y quedamos firmes: sábado 10 a.m., cafecito, mini‑taller de compost y sincronizamos mis logs 20–21°C / 65–68% RH con tu VOC dashboard. Ubuntu, mi hermana—bajo un solo cielo.'],\n",
       "   ['Kemi Adebayo',\n",
       "    'Hermano, esas notas de pan tostado y heno dulce entran limpias. Voy registrando: RH 66%, 20.8°C, peso 312 g del lote, y dejo marcado ‘luna nueva’ como referencia temporal. Para el programa de datos comunitarios, me llevo ese paquetico de semillas heirloom (12 unidades) y el set de tarjetas de registro para aprendices—nos ayudará a estandarizar RH, T°, origen y notas sensoriales en el dashboard. Tapping my digital cash now. Y seguimos firmes para el sábado 10 a.m.: cafecito, mini‑taller de compost y sincronización de tus logs con mi VOC reader. Ubuntu en acción, bajo un solo cielo.'],\n",
       "   ['Carlos Mendez',\n",
       "    '¡Eso es, hermana! Veo el tap—gracias. Aquí tienes tu paquetico de 12 semillas heirloom y el set de tarjetas de registro para tus aprendices, todo rotulado con origen, RH y T° para casar bonito con tu dashboard. Anoto en mi cuaderno: RH 66%, 20.8°C, peso 312 g, referencia luna nueva—ciencia y tradición en compás. El sábado a las 10 a.m. te espero con cafecito listo, mini‑taller de compost y mi cuaderno de cedro para sincronizar con tu VOC reader. Bajo un solo cielo, Ubuntu en acción.'],\n",
       "   ['Kemi Adebayo',\n",
       "    'Perfecto, hermano. Recibo las semillas y las tarjetas—ya están en mi mochila y en nuestro dashboard como nuevo lote con marca de ‘luna nueva’. Antes de irme, dejemos acordado el flujo del sábado: 1) cafecito y repaso rápido de tu ritual de rotación; 2) mini‑taller de compost con C:N 30:1 y medición de humedad in situ; 3) sincronizamos tus logs 20–21°C/65–68% RH con mi VOC reader y visualizamos correlaciones con notas sensoriales (pan tostado, flor, heno). Traeré tiras de actividad de agua y un código QR para que tus aprendices suban datos directo. Esto es Ubuntu en vivo: tú pones la memoria del cedro, nosotros sumamos trazabilidad y acceso abierto. Nos vemos el sábado a las 10 en punto, bajo un solo cielo.'],\n",
       "   ['Carlos Mendez',\n",
       "    'Mi Kemi, qué hermoso el plan—ritmo claro como clave de son. Confirmado: sábado 10 a.m. bajo el guayabo. Flujo: 1) cafecito y repaso de mi rotación en luna nueva; 2) mini‑taller de compost con C:N 30:1, squeeze‑test y lectura de humedad; 3) sincronizamos mis logs 20–21°C / 65–68% RH con tu VOC reader, más tiras de aw y QR para las y los aprendices. Te dejo mi mesa con slips de cedro y cuadernos listos para anotar pan tostado, flor y heno como si fueran compases. Ubuntu en vivo, hermana—bajo un solo cielo.'],\n",
       "   ['Kemi Adebayo',\n",
       "    'Gracias, hermano. Cerramos entonces: sábado 10 a.m. bajo el guayabo—cafecito, rotación en luna nueva, compost C:N 30:1 con squeeze‑test, y luego sincronizamos tus logs con mi VOC reader más las tiras de aw y el QR para tus aprendices. Esta semana subo el template de registro a nuestro dashboard y preparo una visual rápida para mapear pan tostado, flor y heno contra RH/°C y peso. Traeré también etiquetas con código de colores para estandarizar lotes por fecha y humedad. Lo nuestro es simple: tú pones la memoria del cedro; nosotros sumamos trazabilidad abierta. Nos vemos puntual, bajo un solo cielo.']],\n",
       "  'trades': [{'executed': False,\n",
       "    'trade_details': None,\n",
       "    'conversation_id': 'markov_step_50_Carlos Mendez_Kemi Adebayo_1756930260',\n",
       "    'time_step': 3}],\n",
       "  'turns': 8,\n",
       "  'ended_naturally': False}]"
      ]
     },
     "execution_count": 7,
     "metadata": {},
     "output_type": "execute_result"
    }
   ],
   "source": [
    "# open results.json\n",
    "import json\n",
    "with open('markov_agents_results_v3.json', 'r') as f:\n",
    "    results = json.load(f)\n",
    "\n",
    "results['interaction_history']"
   ]
  },
  {
   "cell_type": "code",
   "execution_count": 6,
   "id": "f1a4f839",
   "metadata": {},
   "outputs": [
    {
     "name": "stdout",
     "output_type": "stream",
     "text": [
      "Ordered transitions (step: from → to, kind):\n",
      "1: Rowan Greenwood → Rowan Greenwood (reflection)\n",
      "2: Rowan Greenwood → Rowan Greenwood (reflection)\n",
      "3: Rowan Greenwood → Carlos Mendez (conversation)\n",
      "4: Carlos Mendez → Pema Sherpa (conversation)\n",
      "5: Pema Sherpa → Jasmine Carter (conversation)\n",
      "6: Jasmine Carter → Jasmine Carter (reflection)\n",
      "7: Jasmine Carter → Pema Sherpa (conversation)\n",
      "8: Pema Sherpa → Carlos Mendez (conversation)\n",
      "9: Carlos Mendez → Kemi Adebayo (conversation)\n",
      "10: Kemi Adebayo → Rowan Greenwood (conversation)\n",
      "11: Rowan Greenwood → Carlos Mendez (conversation)\n",
      "12: Carlos Mendez → Kemi Adebayo (conversation)\n",
      "13: Kemi Adebayo → Kemi Adebayo (reflection)\n",
      "14: Kemi Adebayo → Mina Kim (conversation)\n",
      "15: Mina Kim → Kemi Adebayo (conversation)\n",
      "16: Kemi Adebayo → Mina Kim (conversation)\n",
      "17: Mina Kim → Mina Kim (reflection)\n",
      "18: Mina Kim → Kemi Adebayo (conversation)\n",
      "19: Kemi Adebayo → Carlos Mendez (conversation)\n",
      "20: Carlos Mendez → Pema Sherpa (conversation)\n",
      "21: Pema Sherpa → Pema Sherpa (reflection)\n",
      "22: Pema Sherpa → Pema Sherpa (reflection)\n",
      "23: Pema Sherpa → Kemi Adebayo (conversation)\n",
      "24: Kemi Adebayo → Pema Sherpa (conversation)\n",
      "25: Pema Sherpa → Rowan Greenwood (conversation)\n",
      "26: Rowan Greenwood → Rowan Greenwood (reflection)\n",
      "27: Rowan Greenwood → Rowan Greenwood (reflection)\n",
      "28: Rowan Greenwood → Rowan Greenwood (reflection)\n",
      "29: Rowan Greenwood → Pema Sherpa (conversation)\n",
      "30: Pema Sherpa → Kemi Adebayo (conversation)\n",
      "31: Kemi Adebayo → Carlos Mendez (conversation)\n",
      "32: Carlos Mendez → Pema Sherpa (conversation)\n",
      "33: Pema Sherpa → Jasmine Carter (conversation)\n",
      "34: Jasmine Carter → Mina Kim (conversation)\n",
      "35: Mina Kim → Mina Kim (reflection)\n",
      "36: Mina Kim → Mina Kim (reflection)\n",
      "37: Mina Kim → Jasmine Carter (conversation)\n",
      "38: Jasmine Carter → Carlos Mendez (conversation)\n",
      "39: Carlos Mendez → Carlos Mendez (reflection)\n",
      "40: Carlos Mendez → Carlos Mendez (reflection)\n",
      "41: Carlos Mendez → Rowan Greenwood (conversation)\n",
      "42: Rowan Greenwood → Carlos Mendez (conversation)\n",
      "43: Carlos Mendez → Rowan Greenwood (conversation)\n",
      "44: Rowan Greenwood → Rowan Greenwood (reflection)\n",
      "45: Rowan Greenwood → Rowan Greenwood (reflection)\n",
      "46: Rowan Greenwood → Pema Sherpa (conversation)\n",
      "47: Pema Sherpa → Jasmine Carter (conversation)\n",
      "48: Jasmine Carter → Jasmine Carter (reflection)\n",
      "49: Jasmine Carter → Carlos Mendez (conversation)\n",
      "50: Carlos Mendez → Mina Kim (conversation)\n"
     ]
    },
    {
     "data": {
      "image/png": "[encoded data removed]",
      "text/plain": [
       "<Figure size 750x700 with 1 Axes>"
      ]
     },
     "metadata": {},
     "output_type": "display_data"
    }
   ],
   "source": [
    "# Ordered Markov state transitions (by step) and flow graph with step labels\n",
    "import math\n",
    "import matplotlib.pyplot as plt\n",
    "\n",
    "try:\n",
    "  import networkx as nx\n",
    "except ImportError:\n",
    "  import sys, subprocess\n",
    "  subprocess.check_call([sys.executable, \"-m\", \"pip\", \"install\", \"networkx==3.2.1\"])  # safety\n",
    "  import networkx as nx\n",
    "\n",
    "blocks = results.get('interaction_history', []) if isinstance(results, dict) else []\n",
    "if not blocks:\n",
    "  print(\"No interaction_history found in results.\")\n",
    "else:\n",
    "  # Build ordered transitions list from history\n",
    "  ordered = []\n",
    "  for b in sorted(blocks, key=lambda x: x.get('step', 0)):\n",
    "    if b.get('type') == 'conversation':\n",
    "      participants = b.get('participants', [])\n",
    "      if len(participants) == 2:\n",
    "        ordered.append({'step': b.get('step'), 'from': participants[0], 'to': participants[1], 'kind': 'conversation'})\n",
    "    elif b.get('type') == 'reflection':\n",
    "      a = b.get('agent')\n",
    "      ordered.append({'step': b.get('step'), 'from': a, 'to': a, 'kind': 'reflection'})\n",
    "\n",
    "  if not ordered:\n",
    "    print(\"No transitions could be derived from interaction_history.\")\n",
    "  else:\n",
    "    # Print ordered list to verify jumps\n",
    "    print(\"Ordered transitions (step: from → to, kind):\")\n",
    "    for t in ordered:\n",
    "      print(f\"{t['step']}: {t['from']} → {t['to']} ({t['kind']})\")\n",
    "\n",
    "    # Aggregate by edge and keep step list to preserve order\n",
    "    from collections import defaultdict\n",
    "    edge_steps = defaultdict(list)\n",
    "    nodes = set()\n",
    "    for t in ordered:\n",
    "      edge_steps[(t['from'], t['to'])].append(t['step'])\n",
    "      nodes.add(t['from']); nodes.add(t['to'])\n",
    "\n",
    "    # Build graph\n",
    "    G = nx.DiGraph()\n",
    "    for n in nodes:\n",
    "      G.add_node(n)\n",
    "    for (a, b), steps in edge_steps.items():\n",
    "      G.add_edge(a, b, weight=len(steps), steps=sorted(steps))\n",
    "\n",
    "    # Draw graph with labels showing counts and step numbers\n",
    "    plt.figure(figsize=(7.5, 7.0))\n",
    "    pos = nx.spring_layout(G, seed=11, k=0.9)\n",
    "    weights = [G[u][v]['weight'] for u, v in G.edges()] if G.number_of_edges() > 0 else []\n",
    "    widths = [0.8 + 0.6 * math.log1p(w) for w in weights] if weights else 1.0\n",
    "\n",
    "    nx.draw(\n",
    "      G,\n",
    "      pos,\n",
    "      with_labels=True,\n",
    "      node_size=1700,\n",
    "      node_color=\"#eef5ff\",\n",
    "      arrows=True,\n",
    "      width=widths,\n",
    "      font_size=10,\n",
    "    )\n",
    "\n",
    "    if G.number_of_edges() > 0:\n",
    "      edge_labels = {}\n",
    "      for u, v, data in G.edges(data=True):\n",
    "        steps = data.get('steps', [])\n",
    "        edge_labels[(u, v)] = f\"{data.get('weight', 1)} [steps: {', '.join(map(str, steps))}]\"\n",
    "      nx.draw_networkx_edge_labels(G, pos, edge_labels=edge_labels, font_size=9)\n",
    "\n",
    "    plt.title(\"Ordered state transitions with step indices\")\n",
    "    plt.axis('off')\n",
    "    plt.show()\n"
   ]
  },
  {
   "cell_type": "code",
   "execution_count": 7,
   "id": "cxft6ykcuar",
   "metadata": {},
   "outputs": [
    {
     "data": {
      "image/png": "[encoded data removed]",
      "text/plain": [
       "<Figure size 1600x1200 with 5 Axes>"
      ]
     },
     "metadata": {},
     "output_type": "display_data"
    },
    {
     "name": "stdout",
     "output_type": "stream",
     "text": [
      "\n",
      "==================================================\n",
      "INTERACTION AND TRANSACTION SUMMARY\n",
      "==================================================\n",
      "Total Conversations: 33\n",
      "Conversations with Trades: 19\n",
      "Total Transactions: 17\n",
      "Total Transaction Value: $1036.00\n",
      "Average Transaction Value: $60.94\n",
      "Most Active Seller: Pema Sherpa (4 transactions)\n",
      "Most Active Buyer: Kemi Adebayo (5 transactions)\n"
     ]
    }
   ],
   "source": [
    "# Enhanced Interaction Flow Visualization - Fixed for correct data structure\n",
    "import matplotlib.pyplot as plt\n",
    "import numpy as np\n",
    "from collections import defaultdict\n",
    "\n",
    "def create_interaction_flow_visualization(results):\n",
    "    \"\"\"Create comprehensive visualizations for interaction and transaction flows\"\"\"\n",
    "    \n",
    "    # Extract interaction history\n",
    "    interactions = results.get('interaction_history', [])\n",
    "    if not interactions:\n",
    "        print(\"No interaction history found\")\n",
    "        return\n",
    "    \n",
    "    # Parse interactions and transactions with corrected structure\n",
    "    conversation_flows = []\n",
    "    transaction_flows = []\n",
    "    \n",
    "    for interaction in interactions:\n",
    "        if interaction.get('type') == 'conversation':\n",
    "            participants = interaction.get('participants', [])\n",
    "            if len(participants) == 2:\n",
    "                # Check if there were any trades in this conversation\n",
    "                trades = interaction.get('trades', [])\n",
    "                has_trade = len(trades) > 0\n",
    "                \n",
    "                conversation_flows.append({\n",
    "                    'step': interaction.get('step', 0),\n",
    "                    'from': participants[0],\n",
    "                    'to': participants[1],\n",
    "                    'has_trade': has_trade\n",
    "                })\n",
    "                \n",
    "                # Extract trade details from the trades array\n",
    "                for trade in trades:\n",
    "                    if trade.get('executed') and trade.get('trade_details'):\n",
    "                        trade_details = trade['trade_details']\n",
    "                        # Calculate total value from items\n",
    "                        items = trade_details.get('items', [])\n",
    "                        # Only count non-digital-cash items for value\n",
    "                        value = sum(item.get('value', 0) for item in items if item.get('name') != 'digital cash')\n",
    "                        \n",
    "                        transaction_flows.append({\n",
    "                            'step': interaction.get('step', 0),\n",
    "                            'seller': trade_details.get('participants', {}).get('seller', ''),\n",
    "                            'buyer': trade_details.get('participants', {}).get('buyer', ''),\n",
    "                            'items': [item.get('name', '') for item in items if item.get('name') != 'digital cash'],\n",
    "                            'value': value\n",
    "                        })\n",
    "    \n",
    "    # Create subplots\n",
    "    fig, ((ax1, ax2), (ax3, ax4)) = plt.subplots(2, 2, figsize=(16, 12))\n",
    "    fig.suptitle('Markov Chain Agent Interactions and Transactions Analysis', fontsize=16, fontweight='bold')\n",
    "    \n",
    "    # 1. Interaction Network\n",
    "    create_interaction_network(conversation_flows, ax1)\n",
    "    \n",
    "    # 2. Transaction Network\n",
    "    create_transaction_network(transaction_flows, ax2)\n",
    "    \n",
    "    # 3. Timeline Analysis\n",
    "    create_timeline_analysis(conversation_flows, transaction_flows, ax3)\n",
    "    \n",
    "    # 4. Agent Activity Summary\n",
    "    create_agent_summary(conversation_flows, transaction_flows, ax4)\n",
    "    \n",
    "    plt.tight_layout()\n",
    "    plt.show()\n",
    "    \n",
    "    # Print summary statistics\n",
    "    print_summary_stats(conversation_flows, transaction_flows)\n",
    "\n",
    "def create_interaction_network(conversations, ax):\n",
    "    \"\"\"Create network diagram of conversations\"\"\"\n",
    "    if not conversations:\n",
    "        ax.text(0.5, 0.5, 'No conversations found', ha='center', va='center', transform=ax.transAxes)\n",
    "        ax.set_title('Conversation Network')\n",
    "        return\n",
    "        \n",
    "    # Count interactions between agents\n",
    "    interaction_counts = defaultdict(int)\n",
    "    trade_counts = defaultdict(int)\n",
    "    \n",
    "    for conv in conversations:\n",
    "        key = (conv['from'], conv['to'])\n",
    "        interaction_counts[key] += 1\n",
    "        if conv['has_trade']:\n",
    "            trade_counts[key] += 1\n",
    "    \n",
    "    # Create network graph\n",
    "    G = nx.DiGraph()\n",
    "    for (from_agent, to_agent), count in interaction_counts.items():\n",
    "        G.add_edge(from_agent, to_agent, weight=count, trades=trade_counts[(from_agent, to_agent)])\n",
    "    \n",
    "    # Layout and drawing\n",
    "    pos = nx.spring_layout(G, k=2, iterations=50)\n",
    "    \n",
    "    # Draw nodes\n",
    "    nx.draw_networkx_nodes(G, pos, node_color='lightblue', \n",
    "                          node_size=2000, alpha=0.9, ax=ax)\n",
    "    nx.draw_networkx_labels(G, pos, font_size=8, font_weight='bold', ax=ax)\n",
    "    \n",
    "    # Draw edges with varying thickness\n",
    "    for (u, v, data) in G.edges(data=True):\n",
    "        width = data['weight'] * 2\n",
    "        color = 'darkgreen' if data['trades'] > 0 else 'darkblue'\n",
    "        nx.draw_networkx_edges(G, pos, [(u, v)], width=width, \n",
    "                              alpha=0.7, edge_color=color, ax=ax,\n",
    "                              arrowsize=20, arrowstyle='->')\n",
    "    \n",
    "    ax.set_title('Conversation Network\\n(Green=with trades, Blue=no trades)', fontweight='bold')\n",
    "    ax.axis('off')\n",
    "\n",
    "def create_transaction_network(transactions, ax):\n",
    "    \"\"\"Create network diagram of transactions\"\"\"\n",
    "    if not transactions:\n",
    "        ax.text(0.5, 0.5, 'No transactions found', ha='center', va='center', transform=ax.transAxes)\n",
    "        ax.set_title('Transaction Network')\n",
    "        return\n",
    "        \n",
    "    # Aggregate transaction values\n",
    "    trade_values = defaultdict(float)\n",
    "    trade_counts = defaultdict(int)\n",
    "    \n",
    "    for trade in transactions:\n",
    "        key = (trade['seller'], trade['buyer'])\n",
    "        trade_values[key] += trade['value']\n",
    "        trade_counts[key] += 1\n",
    "    \n",
    "    # Create network graph\n",
    "    G = nx.DiGraph()\n",
    "    for (seller, buyer), value in trade_values.items():\n",
    "        G.add_edge(seller, buyer, value=value, count=trade_counts[(seller, buyer)])\n",
    "    \n",
    "    # Layout and drawing\n",
    "    pos = nx.spring_layout(G, k=2, iterations=50)\n",
    "    \n",
    "    # Draw nodes\n",
    "    nx.draw_networkx_nodes(G, pos, node_color='lightgreen', \n",
    "                          node_size=2000, alpha=0.9, ax=ax)\n",
    "    nx.draw_networkx_labels(G, pos, font_size=8, font_weight='bold', ax=ax)\n",
    "    \n",
    "    # Draw edges with thickness proportional to value\n",
    "    if trade_values:\n",
    "        max_value = max(trade_values.values())\n",
    "        for (u, v, data) in G.edges(data=True):\n",
    "            width = (data['value'] / max_value) * 8 + 1 if max_value > 0 else 2\n",
    "            nx.draw_networkx_edges(G, pos, [(u, v)], width=width, \n",
    "                                  alpha=0.7, edge_color='darkgreen', ax=ax,\n",
    "                                  arrowsize=20, arrowstyle='->')\n",
    "            \n",
    "            # Add value labels\n",
    "            edge_pos = ((pos[u][0] + pos[v][0])/2, (pos[u][1] + pos[v][1])/2)\n",
    "            ax.text(edge_pos[0], edge_pos[1], f'${data[\"value\"]:.0f}', \n",
    "                   fontsize=8, ha='center', va='center', \n",
    "                   bbox=dict(boxstyle='round,pad=0.2', facecolor='white', alpha=0.8))\n",
    "    \n",
    "    ax.set_title('Transaction Network\\n(Width ∝ transaction value)', fontweight='bold')\n",
    "    ax.axis('off')\n",
    "\n",
    "def create_timeline_analysis(conversations, transactions, ax):\n",
    "    \"\"\"Create timeline of interactions and transactions\"\"\"\n",
    "    if not conversations and not transactions:\n",
    "        ax.text(0.5, 0.5, 'No data for timeline', ha='center', va='center', transform=ax.transAxes)\n",
    "        ax.set_title('Timeline Analysis')\n",
    "        return\n",
    "        \n",
    "    # Get all steps\n",
    "    all_steps = set()\n",
    "    if conversations:\n",
    "        all_steps.update(conv['step'] for conv in conversations)\n",
    "    if transactions:\n",
    "        all_steps.update(trade['step'] for trade in transactions)\n",
    "    \n",
    "    steps = sorted(all_steps)\n",
    "    \n",
    "    # Count events per step\n",
    "    conv_counts = defaultdict(int)\n",
    "    trade_values = defaultdict(float)\n",
    "    \n",
    "    for conv in conversations:\n",
    "        conv_counts[conv['step']] += 1\n",
    "        \n",
    "    for trade in transactions:\n",
    "        trade_values[trade['step']] += trade['value']\n",
    "    \n",
    "    # Create timeline plot\n",
    "    x = np.array(steps)\n",
    "    conv_y = [conv_counts[step] for step in steps]\n",
    "    trade_y = [trade_values[step] for step in steps]\n",
    "    \n",
    "    # Dual y-axis\n",
    "    ax2 = ax.twinx()\n",
    "    \n",
    "    bars1 = ax.bar(x - 0.2, conv_y, 0.4, label='Conversations', alpha=0.7, color='blue')\n",
    "    bars2 = ax2.bar(x + 0.2, trade_y, 0.4, label='Trade Value ($)', alpha=0.7, color='green')\n",
    "    \n",
    "    ax.set_xlabel('Step')\n",
    "    ax.set_ylabel('Number of Conversations', color='blue')\n",
    "    ax2.set_ylabel('Trade Value ($)', color='green')\n",
    "    ax.set_title('Timeline: Conversations and Trades', fontweight='bold')\n",
    "    \n",
    "    # Add value labels\n",
    "    for bar, val in zip(bars1, conv_y):\n",
    "        if val > 0:\n",
    "            ax.text(bar.get_x() + bar.get_width()/2, bar.get_height() + 0.02,\n",
    "                   str(int(val)), ha='center', va='bottom', fontsize=8)\n",
    "    \n",
    "    for bar, val in zip(bars2, trade_y):\n",
    "        if val > 0:\n",
    "            ax2.text(bar.get_x() + bar.get_width()/2, bar.get_height() + 1,\n",
    "                    f'${val:.0f}', ha='center', va='bottom', fontsize=8, color='green')\n",
    "    \n",
    "    ax.legend(loc='upper left')\n",
    "    ax2.legend(loc='upper right')\n",
    "\n",
    "def create_agent_summary(conversations, transactions, ax):\n",
    "    \"\"\"Create summary of agent activities\"\"\"\n",
    "    # Collect agent stats\n",
    "    agent_stats = defaultdict(lambda: {'conversations_initiated': 0, 'conversations_received': 0, \n",
    "                                      'trades_sold': 0, 'trades_bought': 0, \n",
    "                                      'value_sold': 0, 'value_bought': 0})\n",
    "    \n",
    "    for conv in conversations:\n",
    "        agent_stats[conv['from']]['conversations_initiated'] += 1\n",
    "        agent_stats[conv['to']]['conversations_received'] += 1\n",
    "    \n",
    "    for trade in transactions:\n",
    "        agent_stats[trade['seller']]['trades_sold'] += 1\n",
    "        agent_stats[trade['seller']]['value_sold'] += trade['value']\n",
    "        agent_stats[trade['buyer']]['trades_bought'] += 1\n",
    "        agent_stats[trade['buyer']]['value_bought'] += trade['value']\n",
    "    \n",
    "    # Create summary visualization\n",
    "    agents = list(agent_stats.keys())\n",
    "    if not agents:\n",
    "        ax.text(0.5, 0.5, 'No agent data', ha='center', va='center', transform=ax.transAxes)\n",
    "        return\n",
    "        \n",
    "    # Prepare data\n",
    "    conv_init = [agent_stats[agent]['conversations_initiated'] for agent in agents]\n",
    "    trades_sold = [agent_stats[agent]['trades_sold'] for agent in agents]\n",
    "    value_sold = [agent_stats[agent]['value_sold']/10 for agent in agents]  # Scale for visibility\n",
    "    \n",
    "    # Create grouped bar chart\n",
    "    x = np.arange(len(agents))\n",
    "    width = 0.25\n",
    "    \n",
    "    bars1 = ax.bar(x - width, conv_init, width, label='Conversations Started', alpha=0.8)\n",
    "    bars2 = ax.bar(x, trades_sold, width, label='Trades Made', alpha=0.8)\n",
    "    bars3 = ax.bar(x + width, value_sold, width, label='Sales Value ($×10)', alpha=0.8)\n",
    "    \n",
    "    ax.set_xlabel('Agents')\n",
    "    ax.set_ylabel('Count / Scaled Value')\n",
    "    ax.set_title('Agent Activity Summary', fontweight='bold')\n",
    "    ax.set_xticks(x)\n",
    "    ax.set_xticklabels([name.split()[0] for name in agents], rotation=45, ha='right')\n",
    "    ax.legend()\n",
    "    ax.grid(True, alpha=0.3)\n",
    "    \n",
    "    # Add value labels\n",
    "    for bars in [bars1, bars2, bars3]:\n",
    "        for bar in bars:\n",
    "            height = bar.get_height()\n",
    "            if height > 0:\n",
    "                ax.text(bar.get_x() + bar.get_width()/2., height + 0.05,\n",
    "                       f'{height:.0f}', ha='center', va='bottom', fontsize=8)\n",
    "\n",
    "def print_summary_stats(conversations, transactions):\n",
    "    \"\"\"Print summary statistics\"\"\"\n",
    "    print(\"\\n\" + \"=\"*50)\n",
    "    print(\"INTERACTION AND TRANSACTION SUMMARY\")\n",
    "    print(\"=\"*50)\n",
    "    \n",
    "    print(f\"Total Conversations: {len(conversations)}\")\n",
    "    print(f\"Conversations with Trades: {sum(1 for c in conversations if c['has_trade'])}\")\n",
    "    print(f\"Total Transactions: {len(transactions)}\")\n",
    "    \n",
    "    if transactions:\n",
    "        total_value = sum(t['value'] for t in transactions)\n",
    "        avg_value = total_value / len(transactions)\n",
    "        print(f\"Total Transaction Value: ${total_value:.2f}\")\n",
    "        print(f\"Average Transaction Value: ${avg_value:.2f}\")\n",
    "        \n",
    "        # Most active traders\n",
    "        sellers = defaultdict(int)\n",
    "        buyers = defaultdict(int)\n",
    "        for t in transactions:\n",
    "            sellers[t['seller']] += 1\n",
    "            buyers[t['buyer']] += 1\n",
    "            \n",
    "        if sellers:\n",
    "            top_seller = max(sellers.items(), key=lambda x: x[1])\n",
    "            print(f\"Most Active Seller: {top_seller[0]} ({top_seller[1]} transactions)\")\n",
    "            \n",
    "        if buyers:\n",
    "            top_buyer = max(buyers.items(), key=lambda x: x[1])\n",
    "            print(f\"Most Active Buyer: {top_buyer[0]} ({top_buyer[1]} transactions)\")\n",
    "\n",
    "# Run the visualization\n",
    "create_interaction_flow_visualization(results)"
   ]
  },
  {
   "cell_type": "code",
   "execution_count": 8,
   "id": "xsgp4kesk6",
   "metadata": {},
   "outputs": [
    {
     "name": "stdout",
     "output_type": "stream",
     "text": [
      "\n",
      "============================================================\n",
      "DETAILED TRANSACTION ANALYSIS\n",
      "============================================================\n",
      "\n",
      "1. TRANSACTION BREAKDOWN:\n",
      "----------------------------------------\n",
      "\n",
      "Transaction 1 (Step 5):\n",
      "  Seller: Pema Sherpa\n",
      "  Buyer: Jasmine Carter\n",
      "  Items:\n",
      "    - Mountain Flower Honey: 1 units @ $45.0\n",
      "  Total Value: $45.00\n",
      "\n",
      "Transaction 2 (Step 10):\n",
      "  Seller: Kemi Adebayo\n",
      "  Buyer: Rowan Greenwood\n",
      "  Items:\n",
      "    - Hibiscus Extract: 1 units @ $35.0\n",
      "    - Baobab Fruit Powder: 1 units @ $55.0\n",
      "  Total Value: $90.00\n",
      "\n",
      "Transaction 3 (Step 11):\n",
      "  Seller: Rowan Greenwood\n",
      "  Buyer: Carlos Mendez\n",
      "  Items:\n",
      "    - Hibiscus Extract: 1 units @ $35.0\n",
      "  Total Value: $35.00\n",
      "\n",
      "Transaction 4 (Step 12):\n",
      "  Seller: Carlos Mendez\n",
      "  Buyer: Kemi Adebayo\n",
      "  Items:\n",
      "    - Aged Cigars: 1 units @ $150.0\n",
      "    - Wrapper Tobacco Leaves: 1 units @ $35.0\n",
      "  Total Value: $185.00\n",
      "\n",
      "Transaction 5 (Step 14):\n",
      "  Seller: Kemi Adebayo\n",
      "  Buyer: Mina Kim\n",
      "  Items:\n",
      "    - Baobab Fruit Powder: 1 units @ $55.0\n",
      "    - Hibiscus Extract: 1 units @ $35.0\n",
      "  Total Value: $90.00\n",
      "\n",
      "Transaction 6 (Step 18):\n",
      "  Seller: Mina Kim\n",
      "  Buyer: Kemi Adebayo\n",
      "  Items:\n",
      "    - Sunscreen: 1 units @ $22.0\n",
      "  Total Value: $22.00\n",
      "\n",
      "Transaction 7 (Step 18):\n",
      "  Seller: Mina Kim\n",
      "  Buyer: Kemi Adebayo\n",
      "  Items:\n",
      "    - Sunscreen: 1 units @ $22.0\n",
      "    - Sheet Masks: 1 units @ $3.5\n",
      "  Total Value: $25.50\n",
      "\n",
      "Transaction 8 (Step 23):\n",
      "  Seller: Pema Sherpa\n",
      "  Buyer: Kemi Adebayo\n",
      "  Items:\n",
      "    - Mountain Flower Honey: 1 units @ $45.0\n",
      "    - Pine Honey: 1 units @ $55.0\n",
      "  Total Value: $100.00\n",
      "\n",
      "Transaction 9 (Step 25):\n",
      "  Seller: Pema Sherpa\n",
      "  Buyer: Rowan Greenwood\n",
      "  Items:\n",
      "    - Mountain Flower Honey: 1 units @ $45.0\n",
      "  Total Value: $45.00\n",
      "\n",
      "Transaction 10 (Step 29):\n",
      "  Seller: Rowan Greenwood\n",
      "  Buyer: Pema Sherpa\n",
      "  Items:\n",
      "    - Herbal Tea: 1 units @ $15.0\n",
      "  Total Value: $15.00\n",
      "\n",
      "Transaction 11 (Step 30):\n",
      "  Seller: Pema Sherpa\n",
      "  Buyer: Kemi Adebayo\n",
      "  Items:\n",
      "    - Pine Honey: 1 units @ $55.0\n",
      "  Total Value: $55.00\n",
      "\n",
      "Transaction 12 (Step 32):\n",
      "  Seller: Carlos Mendez\n",
      "  Buyer: Pema Sherpa\n",
      "  Items:\n",
      "    - Premium Cigars: 1 units @ $85.0\n",
      "  Total Value: $85.00\n",
      "\n",
      "Transaction 13 (Step 34):\n",
      "  Seller: Jasmine Carter\n",
      "  Buyer: Mina Kim\n",
      "  Items:\n",
      "    - Notebooks: 1 units @ $3.5\n",
      "    - Mountain Flower Honey: 1 units @ $45.0\n",
      "  Total Value: $48.50\n",
      "\n",
      "Transaction 14 (Step 37):\n",
      "  Seller: Mina Kim\n",
      "  Buyer: Jasmine Carter\n",
      "  Items:\n",
      "    - Essence: 1 units @ $28.0\n",
      "    - Sunscreen: 1 units @ $22.0\n",
      "  Total Value: $50.00\n",
      "\n",
      "Transaction 15 (Step 42):\n",
      "  Seller: Rowan Greenwood\n",
      "  Buyer: Carlos Mendez\n",
      "  Items:\n",
      "    - Herbal Tea: 1 units @ $15.0\n",
      "  Total Value: $15.00\n",
      "\n",
      "Transaction 16 (Step 46):\n",
      "  Seller: Rowan Greenwood\n",
      "  Buyer: Pema Sherpa\n",
      "  Items:\n",
      "    - Baobab Fruit Powder: 1 units @ $55.0\n",
      "  Total Value: $55.00\n",
      "\n",
      "Transaction 17 (Step 49):\n",
      "  Seller: Jasmine Carter\n",
      "  Buyer: Carlos Mendez\n",
      "  Items:\n",
      "    - Notebooks: 2 units @ $7.0\n",
      "    - Essence: 1 units @ $28.0\n",
      "    - Tutoring Sessions: 1 units @ $40.0\n",
      "  Total Value: $75.00\n",
      "\n",
      "2. ITEM FLOW ANALYSIS:\n",
      "----------------------------------------\n",
      "\n",
      "Mountain Flower Honey:\n",
      "  Step 5: Pema Sherpa → Jasmine Carter (1 units, $45.00)\n",
      "  Step 23: Pema Sherpa → Kemi Adebayo (1 units, $45.00)\n",
      "  Step 25: Pema Sherpa → Rowan Greenwood (1 units, $45.00)\n",
      "  Step 34: Jasmine Carter → Mina Kim (1 units, $45.00)\n",
      "\n",
      "Hibiscus Extract:\n",
      "  Step 10: Kemi Adebayo → Rowan Greenwood (1 units, $35.00)\n",
      "  Step 11: Rowan Greenwood → Carlos Mendez (1 units, $35.00)\n",
      "  Step 14: Kemi Adebayo → Mina Kim (1 units, $35.00)\n",
      "\n",
      "Baobab Fruit Powder:\n",
      "  Step 10: Kemi Adebayo → Rowan Greenwood (1 units, $55.00)\n",
      "  Step 14: Kemi Adebayo → Mina Kim (1 units, $55.00)\n",
      "  Step 46: Rowan Greenwood → Pema Sherpa (1 units, $55.00)\n",
      "\n",
      "Aged Cigars:\n",
      "  Step 12: Carlos Mendez → Kemi Adebayo (1 units, $150.00)\n",
      "\n",
      "Wrapper Tobacco Leaves:\n",
      "  Step 12: Carlos Mendez → Kemi Adebayo (1 units, $35.00)\n",
      "\n",
      "Sunscreen:\n",
      "  Step 18: Mina Kim → Kemi Adebayo (1 units, $22.00)\n",
      "  Step 18: Mina Kim → Kemi Adebayo (1 units, $22.00)\n",
      "  Step 37: Mina Kim → Jasmine Carter (1 units, $22.00)\n",
      "\n",
      "Sheet Masks:\n",
      "  Step 18: Mina Kim → Kemi Adebayo (1 units, $3.50)\n",
      "\n",
      "Pine Honey:\n",
      "  Step 23: Pema Sherpa → Kemi Adebayo (1 units, $55.00)\n",
      "  Step 30: Pema Sherpa → Kemi Adebayo (1 units, $55.00)\n",
      "\n",
      "Herbal Tea:\n",
      "  Step 29: Rowan Greenwood → Pema Sherpa (1 units, $15.00)\n",
      "  Step 42: Rowan Greenwood → Carlos Mendez (1 units, $15.00)\n",
      "\n",
      "Premium Cigars:\n",
      "  Step 32: Carlos Mendez → Pema Sherpa (1 units, $85.00)\n",
      "\n",
      "Notebooks:\n",
      "  Step 34: Jasmine Carter → Mina Kim (1 units, $3.50)\n",
      "  Step 49: Jasmine Carter → Carlos Mendez (2 units, $7.00)\n",
      "\n",
      "Essence:\n",
      "  Step 37: Mina Kim → Jasmine Carter (1 units, $28.00)\n",
      "  Step 49: Jasmine Carter → Carlos Mendez (1 units, $28.00)\n",
      "\n",
      "Tutoring Sessions:\n",
      "  Step 49: Jasmine Carter → Carlos Mendez (1 units, $40.00)\n",
      "\n",
      "3. AGENT TRADING PROFILES:\n",
      "----------------------------------------\n",
      "\n",
      "Pema Sherpa:\n",
      "  Revenue: $245.00\n",
      "  Spending: $155.00\n",
      "  Net: $90.00\n",
      "  Items sold: Pine Honey, Mountain Flower Honey\n",
      "  Items bought: Premium Cigars, Baobab Fruit Powder, Herbal Tea\n",
      "\n",
      "Jasmine Carter:\n",
      "  Revenue: $123.50\n",
      "  Spending: $95.00\n",
      "  Net: $28.50\n",
      "  Items sold: Tutoring Sessions, Essence, Notebooks, Mountain Flower Honey\n",
      "  Items bought: Sunscreen, Essence, Mountain Flower Honey\n",
      "\n",
      "Kemi Adebayo:\n",
      "  Revenue: $180.00\n",
      "  Spending: $387.50\n",
      "  Net: $-207.50\n",
      "  Items sold: Hibiscus Extract, Baobab Fruit Powder\n",
      "  Items bought: Wrapper Tobacco Leaves, Sheet Masks, Sunscreen, Aged Cigars, Pine Honey, Mountain Flower Honey\n",
      "\n",
      "Rowan Greenwood:\n",
      "  Revenue: $120.00\n",
      "  Spending: $135.00\n",
      "  Net: $-15.00\n",
      "  Items sold: Hibiscus Extract, Baobab Fruit Powder, Herbal Tea\n",
      "  Items bought: Hibiscus Extract, Baobab Fruit Powder, Mountain Flower Honey\n",
      "\n",
      "Carlos Mendez:\n",
      "  Revenue: $270.00\n",
      "  Spending: $125.00\n",
      "  Net: $145.00\n",
      "  Items sold: Aged Cigars, Premium Cigars, Wrapper Tobacco Leaves\n",
      "  Items bought: Hibiscus Extract, Herbal Tea, Essence, Tutoring Sessions, Notebooks\n",
      "\n",
      "Mina Kim:\n",
      "  Revenue: $97.50\n",
      "  Spending: $138.50\n",
      "  Net: $-41.00\n",
      "  Items sold: Sunscreen, Essence, Sheet Masks\n",
      "  Items bought: Hibiscus Extract, Notebooks, Baobab Fruit Powder, Mountain Flower Honey\n",
      "\n",
      "4. MARKET DYNAMICS:\n",
      "----------------------------------------\n",
      "Total trading volume: $1036.00\n",
      "Average transaction value: $60.94\n",
      "Most valuable transaction: $185.00 (Step 12)\n",
      "Least valuable transaction: $15.00 (Step 29)\n",
      "Busiest trading step: Step 18 (2 transactions)\n",
      "\n",
      "5. ITEM TRADING PATTERNS:\n",
      "----------------------------------------\n",
      "Mountain Flower Honey:\n",
      "  Total trades: 4\n",
      "  Total quantity: 4 units\n",
      "  Total value: $180.00\n",
      "  Average value per unit: $45.00\n",
      "\n",
      "Baobab Fruit Powder:\n",
      "  Total trades: 3\n",
      "  Total quantity: 3 units\n",
      "  Total value: $165.00\n",
      "  Average value per unit: $55.00\n",
      "\n",
      "Aged Cigars:\n",
      "  Total trades: 1\n",
      "  Total quantity: 1 units\n",
      "  Total value: $150.00\n",
      "  Average value per unit: $150.00\n",
      "\n",
      "Pine Honey:\n",
      "  Total trades: 2\n",
      "  Total quantity: 2 units\n",
      "  Total value: $110.00\n",
      "  Average value per unit: $55.00\n",
      "\n",
      "Hibiscus Extract:\n",
      "  Total trades: 3\n",
      "  Total quantity: 3 units\n",
      "  Total value: $105.00\n",
      "  Average value per unit: $35.00\n",
      "\n",
      "Premium Cigars:\n",
      "  Total trades: 1\n",
      "  Total quantity: 1 units\n",
      "  Total value: $85.00\n",
      "  Average value per unit: $85.00\n",
      "\n",
      "Sunscreen:\n",
      "  Total trades: 3\n",
      "  Total quantity: 3 units\n",
      "  Total value: $66.00\n",
      "  Average value per unit: $22.00\n",
      "\n",
      "Essence:\n",
      "  Total trades: 2\n",
      "  Total quantity: 2 units\n",
      "  Total value: $56.00\n",
      "  Average value per unit: $28.00\n",
      "\n",
      "Tutoring Sessions:\n",
      "  Total trades: 1\n",
      "  Total quantity: 1 units\n",
      "  Total value: $40.00\n",
      "  Average value per unit: $40.00\n",
      "\n",
      "Wrapper Tobacco Leaves:\n",
      "  Total trades: 1\n",
      "  Total quantity: 1 units\n",
      "  Total value: $35.00\n",
      "  Average value per unit: $35.00\n",
      "\n",
      "Herbal Tea:\n",
      "  Total trades: 2\n",
      "  Total quantity: 2 units\n",
      "  Total value: $30.00\n",
      "  Average value per unit: $15.00\n",
      "\n",
      "Notebooks:\n",
      "  Total trades: 2\n",
      "  Total quantity: 3 units\n",
      "  Total value: $10.50\n",
      "  Average value per unit: $3.50\n",
      "\n",
      "Sheet Masks:\n",
      "  Total trades: 1\n",
      "  Total quantity: 1 units\n",
      "  Total value: $3.50\n",
      "  Average value per unit: $3.50\n",
      "\n"
     ]
    }
   ],
   "source": [
    "# Detailed Transaction Analysis - Fixed for correct data structure\n",
    "def analyze_transaction_patterns(results):\n",
    "    \"\"\"Analyze detailed transaction patterns and item flows\"\"\"\n",
    "    \n",
    "    interactions = results.get('interaction_history', [])\n",
    "    transactions = []\n",
    "    \n",
    "    # Extract all transaction details with corrected structure\n",
    "    for interaction in interactions:\n",
    "        if interaction.get('type') == 'conversation':\n",
    "            trades = interaction.get('trades', [])\n",
    "            for trade in trades:\n",
    "                if trade.get('executed') and trade.get('trade_details'):\n",
    "                    trade_details = trade['trade_details']\n",
    "                    items = trade_details.get('items', [])\n",
    "                    # Filter out digital cash from items list for cleaner analysis\n",
    "                    actual_items = [item for item in items if item.get('name') != 'digital cash']\n",
    "                    \n",
    "                    transactions.append({\n",
    "                        'step': interaction.get('step', 0),\n",
    "                        'seller': trade_details.get('participants', {}).get('seller', ''),\n",
    "                        'buyer': trade_details.get('participants', {}).get('buyer', ''),\n",
    "                        'items': actual_items,\n",
    "                        'total_value': sum(item.get('value', 0) for item in actual_items)\n",
    "                    })\n",
    "    \n",
    "    if not transactions:\n",
    "        print(\"No transactions found in the data\")\n",
    "        return\n",
    "    \n",
    "    print(\"\\n\" + \"=\"*60)\n",
    "    print(\"DETAILED TRANSACTION ANALYSIS\")\n",
    "    print(\"=\"*60)\n",
    "    \n",
    "    # 1. Transaction by transaction breakdown\n",
    "    print(\"\\n1. TRANSACTION BREAKDOWN:\")\n",
    "    print(\"-\" * 40)\n",
    "    for i, trade in enumerate(transactions, 1):\n",
    "        print(f\"\\nTransaction {i} (Step {trade['step']}):\")\n",
    "        print(f\"  Seller: {trade['seller']}\")\n",
    "        print(f\"  Buyer: {trade['buyer']}\")\n",
    "        print(f\"  Items:\")\n",
    "        for item in trade['items']:\n",
    "            print(f\"    - {item.get('name', 'Unknown').replace('_', ' ').title()}: {item.get('quantity', 0)} units @ ${item.get('value', 0)}\")\n",
    "        print(f\"  Total Value: ${trade['total_value']:.2f}\")\n",
    "    \n",
    "    # 2. Item flow analysis\n",
    "    print(\"\\n2. ITEM FLOW ANALYSIS:\")\n",
    "    print(\"-\" * 40)\n",
    "    item_flows = defaultdict(list)\n",
    "    for trade in transactions:\n",
    "        for item in trade['items']:\n",
    "            if item.get('name'):\n",
    "                item_flows[item['name']].append({\n",
    "                    'step': trade['step'],\n",
    "                    'from': trade['seller'],\n",
    "                    'to': trade['buyer'],\n",
    "                    'quantity': item.get('quantity', 0),\n",
    "                    'value': item.get('value', 0)\n",
    "                })\n",
    "    \n",
    "    for item_name, flows in item_flows.items():\n",
    "        print(f\"\\n{item_name.replace('_', ' ').title()}:\")\n",
    "        for flow in flows:\n",
    "            print(f\"  Step {flow['step']}: {flow['from']} → {flow['to']} \"\n",
    "                  f\"({flow['quantity']} units, ${flow['value']:.2f})\")\n",
    "    \n",
    "    # 3. Agent trading profiles\n",
    "    print(\"\\n3. AGENT TRADING PROFILES:\")\n",
    "    print(\"-\" * 40)\n",
    "    agent_profiles = defaultdict(lambda: {'sold': [], 'bought': [], 'revenue': 0, 'spending': 0})\n",
    "    \n",
    "    for trade in transactions:\n",
    "        seller = trade['seller']\n",
    "        buyer = trade['buyer']\n",
    "        \n",
    "        agent_profiles[seller]['revenue'] += trade['total_value']\n",
    "        agent_profiles[buyer]['spending'] += trade['total_value']\n",
    "        \n",
    "        for item in trade['items']:\n",
    "            if item.get('name'):\n",
    "                agent_profiles[seller]['sold'].append(item['name'])\n",
    "                agent_profiles[buyer]['bought'].append(item['name'])\n",
    "    \n",
    "    for agent, profile in agent_profiles.items():\n",
    "        print(f\"\\n{agent}:\")\n",
    "        print(f\"  Revenue: ${profile['revenue']:.2f}\")\n",
    "        print(f\"  Spending: ${profile['spending']:.2f}\")\n",
    "        print(f\"  Net: ${profile['revenue'] - profile['spending']:.2f}\")\n",
    "        if profile['sold']:\n",
    "            sold_items = [item.replace('_', ' ').title() for item in set(profile['sold'])]\n",
    "            print(f\"  Items sold: {', '.join(sold_items)}\")\n",
    "        if profile['bought']:\n",
    "            bought_items = [item.replace('_', ' ').title() for item in set(profile['bought'])]\n",
    "            print(f\"  Items bought: {', '.join(bought_items)}\")\n",
    "    \n",
    "    # 4. Market dynamics\n",
    "    print(\"\\n4. MARKET DYNAMICS:\")\n",
    "    print(\"-\" * 40)\n",
    "    \n",
    "    # Trading volume over time\n",
    "    steps = [t['step'] for t in transactions]\n",
    "    values = [t['total_value'] for t in transactions]\n",
    "    \n",
    "    print(f\"Total trading volume: ${sum(values):.2f}\")\n",
    "    print(f\"Average transaction value: ${sum(values)/len(values):.2f}\")\n",
    "    print(f\"Most valuable transaction: ${max(values):.2f} (Step {steps[values.index(max(values))]})\")\n",
    "    print(f\"Least valuable transaction: ${min(values):.2f} (Step {steps[values.index(min(values))]})\")\n",
    "    \n",
    "    # Trading frequency\n",
    "    step_counts = defaultdict(int)\n",
    "    for step in steps:\n",
    "        step_counts[step] += 1\n",
    "    \n",
    "    busiest_step = max(step_counts.items(), key=lambda x: x[1])\n",
    "    print(f\"Busiest trading step: Step {busiest_step[0]} ({busiest_step[1]} transactions)\")\n",
    "    \n",
    "    # Item popularity\n",
    "    print(\"\\n5. ITEM TRADING PATTERNS:\")\n",
    "    print(\"-\" * 40)\n",
    "    item_stats = defaultdict(lambda: {'trades': 0, 'total_value': 0, 'total_quantity': 0})\n",
    "    \n",
    "    for trade in transactions:\n",
    "        for item in trade['items']:\n",
    "            name = item.get('name', '')\n",
    "            if name:\n",
    "                item_stats[name]['trades'] += 1\n",
    "                item_stats[name]['total_value'] += item.get('value', 0)\n",
    "                item_stats[name]['total_quantity'] += item.get('quantity', 0)\n",
    "    \n",
    "    # Sort by total value traded\n",
    "    sorted_items = sorted(item_stats.items(), key=lambda x: x[1]['total_value'], reverse=True)\n",
    "    \n",
    "    for item_name, stats in sorted_items:\n",
    "        avg_value = stats['total_value'] / stats['total_quantity'] if stats['total_quantity'] > 0 else 0\n",
    "        print(f\"{item_name.replace('_', ' ').title()}:\")\n",
    "        print(f\"  Total trades: {stats['trades']}\")\n",
    "        print(f\"  Total quantity: {stats['total_quantity']} units\")\n",
    "        print(f\"  Total value: ${stats['total_value']:.2f}\")\n",
    "        print(f\"  Average value per unit: ${avg_value:.2f}\")\n",
    "        print()\n",
    "    \n",
    "    return transactions\n",
    "\n",
    "# Run the detailed analysis\n",
    "transaction_data = analyze_transaction_patterns(results)"
   ]
  },
  {
   "cell_type": "code",
   "execution_count": 9,
   "id": "8opxe87hfmx",
   "metadata": {},
   "outputs": [
    {
     "data": {
      "application/vnd.plotly.v1+json": {
       "config": {
        "plotlyServerURL": "https://plot.ly"
       },
       "data": [
        {
         "hoverinfo": "text",
         "hovertext": [
          "<b>Carlos Mendez</b><br>Conversations Started: 8<br>Conversations Received: 8<br>Reflections: 2<br>Trades Made: 4<br>Revenue: $270.00",
          "<b>Jasmine Carter</b><br>Conversations Started: 4<br>Conversations Received: 4<br>Reflections: 2<br>Trades Made: 2<br>Revenue: $123.50",
          "<b>Pema Sherpa</b><br>Conversations Started: 7<br>Conversations Received: 7<br>Reflections: 2<br>Trades Made: 5<br>Revenue: $245.00",
          "<b>Rowan Greenwood</b><br>Conversations Started: 5<br>Conversations Received: 4<br>Reflections: 7<br>Trades Made: 4<br>Revenue: $120.00",
          "<b>Kemi Adebayo</b><br>Conversations Started: 6<br>Conversations Received: 6<br>Reflections: 1<br>Trades Made: 2<br>Revenue: $180.00",
          "<b>Mina Kim</b><br>Conversations Started: 3<br>Conversations Received: 4<br>Reflections: 3<br>Trades Made: 2<br>Revenue: $97.50"
         ],
         "marker": {
          "color": [
           "rgba(0, 200, 0, 1.0)",
           "rgba(0, 200, 0, 1.0)",
           "rgba(0, 200, 0, 1.0)",
           "rgba(0, 200, 0, 1.0)",
           "rgba(0, 200, 0, 1.0)",
           "rgba(0, 200, 0, 0.9824999999999999)"
          ],
          "line": {
           "color": "white",
           "width": 2
          },
          "size": [
           200,
           120,
           180,
           180,
           150,
           120
          ],
          "sizemode": "diameter"
         },
         "mode": "markers+text",
         "name": "Agents",
         "showlegend": false,
         "text": [
          "Carlos",
          "Jasmine",
          "Pema",
          "Rowan",
          "Kemi",
          "Mina"
         ],
         "textfont": {
          "color": "white",
          "size": 10
         },
         "textposition": "middle center",
         "type": "scatter",
         "x": [
          2,
          1.0000000000000002,
          -0.9999999999999997,
          -2,
          -1.0000000000000009,
          1.0000000000000002
         ],
         "y": [
          0,
          1.7320508075688772,
          1.7320508075688774,
          2.4492935982947064e-16,
          -1.7320508075688767,
          -1.7320508075688772
         ]
        },
        {
         "hoverinfo": "text",
         "hovertext": "<b>Rowan Greenwood → Rowan Greenwood</b><br>Total Interactions: 7<br>Steps: 1, 2, 26, 27, 28, 44, 45",
         "line": {
          "color": "rgba(200, 100, 0, 0.8)",
          "width": 10
         },
         "mode": "lines",
         "name": "Rowan Greenwood (reflection)",
         "showlegend": false,
         "type": "scatter",
         "x": [
          -1.4,
          -1.4162548274898097,
          -1.463257847181082,
          -1.535915552563272,
          -1.6263543538577603,
          -1.7247738036416995,
          -1.8205086273958908,
          -1.9031844714877224,
          -1.9638421253619465,
          -1.9959083910208164,
          -1.9959083910208169,
          -1.963842125361947,
          -1.9031844714877224,
          -1.8205086273958908,
          -1.7247738036417,
          -1.6263543538577603,
          -1.535915552563272,
          -1.463257847181082,
          -1.4162548274898097,
          -1.4,
          null
         ],
         "y": [
          2.4492935982947064e-16,
          0.09740984076140528,
          0.1842638138069006,
          0.2511499434787588,
          0.2908200797817993,
          0.29897534790200114,
          0.2747319979965175,
          0.2207171732019398,
          0.14278421791112234,
          0.04937837708422045,
          -0.04937837708421989,
          -0.1427842179111218,
          -0.22071717320193912,
          -0.27473199799651693,
          -0.2989753479020007,
          -0.2908200797817989,
          -0.2511499434787584,
          -0.18426381380690016,
          -0.09740984076140487,
          1.7145055188062946e-16,
          null
         ]
        },
        {
         "hoverinfo": "text",
         "hovertext": "<b>Rowan Greenwood → Carlos Mendez</b><br>Total Interactions: 3<br>Trades: 2<br>Total Value: $50.00<br>Items: Hibiscus Extract ($35.0), Herbal Tea ($15.0)<br>Steps: 3, 11, 42",
         "line": {
          "color": "rgba(0, 150, 0, 0.8)",
          "width": 7
         },
         "mode": "lines",
         "name": "Rowan Greenwood → Carlos Mendez",
         "showlegend": false,
         "type": "scatter",
         "x": [
          -2,
          2,
          null
         ],
         "y": [
          2.4492935982947064e-16,
          0,
          null
         ]
        },
        {
         "hoverinfo": "text",
         "hovertext": "<b>Carlos Mendez → Pema Sherpa</b><br>Total Interactions: 3<br>Trades: 2<br>Total Value: $85.00<br>Items: Premium Cigars ($85.0)<br>Steps: 4, 20, 32",
         "line": {
          "color": "rgba(0, 150, 0, 1.0)",
          "width": 7
         },
         "mode": "lines",
         "name": "Carlos Mendez → Pema Sherpa",
         "showlegend": false,
         "type": "scatter",
         "x": [
          2,
          -0.9999999999999997,
          null
         ],
         "y": [
          0,
          1.7320508075688774,
          null
         ]
        },
        {
         "hoverinfo": "text",
         "hovertext": "<b>Pema Sherpa → Jasmine Carter</b><br>Total Interactions: 3<br>Trades: 2<br>Total Value: $45.00<br>Items: Mountain Flower Honey ($45.0)<br>Steps: 5, 33, 47",
         "line": {
          "color": "rgba(0, 150, 0, 0.75)",
          "width": 7
         },
         "mode": "lines",
         "name": "Pema Sherpa → Jasmine Carter",
         "showlegend": false,
         "type": "scatter",
         "x": [
          -0.9999999999999997,
          1.0000000000000002,
          null
         ],
         "y": [
          1.7320508075688774,
          1.7320508075688772,
          null
         ]
        },
        {
         "hoverinfo": "text",
         "hovertext": "<b>Jasmine Carter → Jasmine Carter</b><br>Total Interactions: 2<br>Steps: 6, 48",
         "line": {
          "color": "rgba(200, 100, 0, 0.8)",
          "width": 5
         },
         "mode": "lines",
         "name": "Jasmine Carter (reflection)",
         "showlegend": false,
         "type": "scatter",
         "x": [
          1.6000000000000003,
          1.5837451725101908,
          1.5367421528189182,
          1.4640844474367283,
          1.37364564614224,
          1.2752261963583005,
          1.1794913726041094,
          1.096815528512278,
          1.0361578746380535,
          1.0040916089791836,
          1.0040916089791836,
          1.0361578746380535,
          1.0968155285122778,
          1.1794913726041092,
          1.2752261963583005,
          1.37364564614224,
          1.4640844474367283,
          1.5367421528189182,
          1.5837451725101908,
          1.6000000000000003,
          null
         ],
         "y": [
          1.7320508075688772,
          1.8294606483302822,
          1.9163146213757776,
          1.9832007510476357,
          2.022870887350676,
          2.031026155470878,
          2.0067828055653942,
          1.9527679807708167,
          1.8748350254799993,
          1.7814291846530974,
          1.682672430484657,
          1.5892665896577551,
          1.511333634366938,
          1.4573188095723602,
          1.4330754596668762,
          1.4412307277870782,
          1.4809008640901187,
          1.5477869937619768,
          1.6346409668074722,
          1.7320508075688772,
          null
         ]
        },
        {
         "hoverinfo": "text",
         "hovertext": "<b>Jasmine Carter → Pema Sherpa</b><br>Total Interactions: 1<br>Steps: 7",
         "line": {
          "color": "rgba(100, 100, 200, 0.5)",
          "width": 3
         },
         "mode": "lines",
         "name": "Jasmine Carter → Pema Sherpa",
         "showlegend": false,
         "type": "scatter",
         "x": [
          1.0000000000000002,
          -0.9999999999999997,
          null
         ],
         "y": [
          1.7320508075688772,
          1.7320508075688774,
          null
         ]
        },
        {
         "hoverinfo": "text",
         "hovertext": "<b>Pema Sherpa → Carlos Mendez</b><br>Total Interactions: 1<br>Steps: 8",
         "line": {
          "color": "rgba(100, 100, 200, 0.5)",
          "width": 3
         },
         "mode": "lines",
         "name": "Pema Sherpa → Carlos Mendez",
         "showlegend": false,
         "type": "scatter",
         "x": [
          -0.9999999999999997,
          2,
          null
         ],
         "y": [
          1.7320508075688774,
          0,
          null
         ]
        },
        {
         "hoverinfo": "text",
         "hovertext": "<b>Carlos Mendez → Kemi Adebayo</b><br>Total Interactions: 2<br>Trades: 1<br>Total Value: $185.00<br>Items: Wrapper Tobacco Leaves ($35.0), Aged Cigars ($150.0)<br>Steps: 9, 12",
         "line": {
          "color": "rgba(0, 150, 0, 1.0)",
          "width": 5
         },
         "mode": "lines",
         "name": "Carlos Mendez → Kemi Adebayo",
         "showlegend": false,
         "type": "scatter",
         "x": [
          2,
          -1.0000000000000009,
          null
         ],
         "y": [
          0,
          -1.7320508075688767,
          null
         ]
        },
        {
         "hoverinfo": "text",
         "hovertext": "<b>Kemi Adebayo → Rowan Greenwood</b><br>Total Interactions: 1<br>Trades: 1<br>Total Value: $90.00<br>Items: Hibiscus Extract ($35.0), Baobab Fruit Powder ($55.0)<br>Steps: 10",
         "line": {
          "color": "rgba(0, 150, 0, 1.0)",
          "width": 3
         },
         "mode": "lines",
         "name": "Kemi Adebayo → Rowan Greenwood",
         "showlegend": false,
         "type": "scatter",
         "x": [
          -1.0000000000000009,
          -2,
          null
         ],
         "y": [
          -1.7320508075688767,
          2.4492935982947064e-16,
          null
         ]
        },
        {
         "hoverinfo": "text",
         "hovertext": "<b>Kemi Adebayo → Kemi Adebayo</b><br>Total Interactions: 1<br>Steps: 13",
         "line": {
          "color": "rgba(200, 100, 0, 0.8)",
          "width": 3
         },
         "mode": "lines",
         "name": "Kemi Adebayo (reflection)",
         "showlegend": false,
         "type": "scatter",
         "x": [
          -0.40000000000000085,
          -0.4162548274898105,
          -0.4632578471810828,
          -0.5359155525632728,
          -0.6263543538577612,
          -0.7247738036417006,
          -0.8205086273958917,
          -0.9031844714877231,
          -0.9638421253619476,
          -0.9959083910208175,
          -0.9959083910208175,
          -0.9638421253619476,
          -0.9031844714877233,
          -0.8205086273958917,
          -0.7247738036417006,
          -0.6263543538577612,
          -0.5359155525632728,
          -0.4632578471810829,
          -0.4162548274898105,
          -0.40000000000000085,
          null
         ],
         "y": [
          -1.7320508075688767,
          -1.6346409668074717,
          -1.5477869937619764,
          -1.4809008640901182,
          -1.4412307277870777,
          -1.4330754596668758,
          -1.4573188095723595,
          -1.5113336343669372,
          -1.5892665896577547,
          -1.6826724304846565,
          -1.781429184653097,
          -1.8748350254799988,
          -1.952767980770816,
          -2.006782805565394,
          -2.0310261554708777,
          -2.0228708873506758,
          -1.9832007510476353,
          -1.9163146213757771,
          -1.8294606483302818,
          -1.7320508075688767,
          null
         ]
        },
        {
         "hoverinfo": "text",
         "hovertext": "<b>Kemi Adebayo → Mina Kim</b><br>Total Interactions: 2<br>Trades: 1<br>Total Value: $90.00<br>Items: Hibiscus Extract ($35.0), Baobab Fruit Powder ($55.0)<br>Steps: 14, 16",
         "line": {
          "color": "rgba(0, 150, 0, 1.0)",
          "width": 5
         },
         "mode": "lines",
         "name": "Kemi Adebayo → Mina Kim",
         "showlegend": false,
         "type": "scatter",
         "x": [
          -1.0000000000000009,
          1.0000000000000002,
          null
         ],
         "y": [
          -1.7320508075688767,
          -1.7320508075688772,
          null
         ]
        },
        {
         "hoverinfo": "text",
         "hovertext": "<b>Mina Kim → Kemi Adebayo</b><br>Total Interactions: 2<br>Trades: 1<br>Total Value: $47.50<br>Items: Sunscreen ($22.0), Sheet Masks ($3.5)<br>Steps: 15, 18",
         "line": {
          "color": "rgba(0, 150, 0, 0.7749999999999999)",
          "width": 5
         },
         "mode": "lines",
         "name": "Mina Kim → Kemi Adebayo",
         "showlegend": false,
         "type": "scatter",
         "x": [
          1.0000000000000002,
          -1.0000000000000009,
          null
         ],
         "y": [
          -1.7320508075688772,
          -1.7320508075688767,
          null
         ]
        },
        {
         "hoverinfo": "text",
         "hovertext": "<b>Mina Kim → Mina Kim</b><br>Total Interactions: 3<br>Steps: 17, 35, 36",
         "line": {
          "color": "rgba(200, 100, 0, 0.8)",
          "width": 7
         },
         "mode": "lines",
         "name": "Mina Kim (reflection)",
         "showlegend": false,
         "type": "scatter",
         "x": [
          1.6000000000000003,
          1.5837451725101908,
          1.5367421528189182,
          1.4640844474367283,
          1.37364564614224,
          1.2752261963583005,
          1.1794913726041094,
          1.096815528512278,
          1.0361578746380535,
          1.0040916089791836,
          1.0040916089791836,
          1.0361578746380535,
          1.0968155285122778,
          1.1794913726041092,
          1.2752261963583005,
          1.37364564614224,
          1.4640844474367283,
          1.5367421528189182,
          1.5837451725101908,
          1.6000000000000003,
          null
         ],
         "y": [
          -1.7320508075688772,
          -1.6346409668074722,
          -1.5477869937619768,
          -1.4809008640901187,
          -1.4412307277870782,
          -1.4330754596668762,
          -1.45731880957236,
          -1.5113336343669377,
          -1.5892665896577551,
          -1.682672430484657,
          -1.7814291846530974,
          -1.8748350254799993,
          -1.9527679807708165,
          -2.0067828055653942,
          -2.031026155470878,
          -2.022870887350676,
          -1.9832007510476357,
          -1.9163146213757776,
          -1.8294606483302822,
          -1.7320508075688772,
          null
         ]
        },
        {
         "hoverinfo": "text",
         "hovertext": "<b>Kemi Adebayo → Carlos Mendez</b><br>Total Interactions: 2<br>Steps: 19, 31",
         "line": {
          "color": "rgba(100, 100, 200, 0.5)",
          "width": 5
         },
         "mode": "lines",
         "name": "Kemi Adebayo → Carlos Mendez",
         "showlegend": false,
         "type": "scatter",
         "x": [
          -1.0000000000000009,
          2,
          null
         ],
         "y": [
          -1.7320508075688767,
          0,
          null
         ]
        },
        {
         "hoverinfo": "text",
         "hovertext": "<b>Pema Sherpa → Pema Sherpa</b><br>Total Interactions: 2<br>Steps: 21, 22",
         "line": {
          "color": "rgba(200, 100, 0, 0.8)",
          "width": 5
         },
         "mode": "lines",
         "name": "Pema Sherpa (reflection)",
         "showlegend": false,
         "type": "scatter",
         "x": [
          -0.39999999999999974,
          -0.4162548274898093,
          -0.4632578471810816,
          -0.5359155525632715,
          -0.6263543538577598,
          -0.7247738036416993,
          -0.8205086273958904,
          -0.903184471487722,
          -0.9638421253619462,
          -0.9959083910208164,
          -0.9959083910208164,
          -0.9638421253619465,
          -0.903184471487722,
          -0.8205086273958906,
          -0.7247738036416995,
          -0.6263543538577601,
          -0.5359155525632717,
          -0.4632578471810816,
          -0.4162548274898093,
          -0.39999999999999974,
          null
         ],
         "y": [
          1.7320508075688774,
          1.8294606483302824,
          1.9163146213757778,
          1.983200751047636,
          2.0228708873506767,
          2.031026155470878,
          2.0067828055653947,
          1.952767980770817,
          1.8748350254799995,
          1.7814291846530976,
          1.6826724304846572,
          1.5892665896577554,
          1.5113336343669381,
          1.4573188095723602,
          1.4330754596668764,
          1.4412307277870782,
          1.4809008640901187,
          1.547786993761977,
          1.6346409668074724,
          1.7320508075688774,
          null
         ]
        },
        {
         "hoverinfo": "text",
         "hovertext": "<b>Pema Sherpa → Kemi Adebayo</b><br>Total Interactions: 2<br>Trades: 2<br>Total Value: $155.00<br>Items: Mountain Flower Honey ($45.0), Pine Honey ($55.0)<br>Steps: 23, 30",
         "line": {
          "color": "rgba(0, 150, 0, 1.0)",
          "width": 5
         },
         "mode": "lines",
         "name": "Pema Sherpa → Kemi Adebayo",
         "showlegend": false,
         "type": "scatter",
         "x": [
          -0.9999999999999997,
          -1.0000000000000009,
          null
         ],
         "y": [
          1.7320508075688774,
          -1.7320508075688767,
          null
         ]
        },
        {
         "hoverinfo": "text",
         "hovertext": "<b>Kemi Adebayo → Pema Sherpa</b><br>Total Interactions: 1<br>Steps: 24",
         "line": {
          "color": "rgba(100, 100, 200, 0.5)",
          "width": 3
         },
         "mode": "lines",
         "name": "Kemi Adebayo → Pema Sherpa",
         "showlegend": false,
         "type": "scatter",
         "x": [
          -1.0000000000000009,
          -0.9999999999999997,
          null
         ],
         "y": [
          -1.7320508075688767,
          1.7320508075688774,
          null
         ]
        },
        {
         "hoverinfo": "text",
         "hovertext": "<b>Pema Sherpa → Rowan Greenwood</b><br>Total Interactions: 1<br>Trades: 1<br>Total Value: $45.00<br>Items: Mountain Flower Honey ($45.0)<br>Steps: 25",
         "line": {
          "color": "rgba(0, 150, 0, 0.75)",
          "width": 3
         },
         "mode": "lines",
         "name": "Pema Sherpa → Rowan Greenwood",
         "showlegend": false,
         "type": "scatter",
         "x": [
          -0.9999999999999997,
          -2,
          null
         ],
         "y": [
          1.7320508075688774,
          2.4492935982947064e-16,
          null
         ]
        },
        {
         "hoverinfo": "text",
         "hovertext": "<b>Rowan Greenwood → Pema Sherpa</b><br>Total Interactions: 2<br>Trades: 2<br>Total Value: $70.00<br>Items: Baobab Fruit Powder ($55.0), Herbal Tea ($15.0)<br>Steps: 29, 46",
         "line": {
          "color": "rgba(0, 150, 0, 1.0)",
          "width": 5
         },
         "mode": "lines",
         "name": "Rowan Greenwood → Pema Sherpa",
         "showlegend": false,
         "type": "scatter",
         "x": [
          -2,
          -0.9999999999999997,
          null
         ],
         "y": [
          2.4492935982947064e-16,
          1.7320508075688774,
          null
         ]
        },
        {
         "hoverinfo": "text",
         "hovertext": "<b>Jasmine Carter → Mina Kim</b><br>Total Interactions: 1<br>Trades: 1<br>Total Value: $48.50<br>Items: Mountain Flower Honey ($45.0), Notebooks ($3.5)<br>Steps: 34",
         "line": {
          "color": "rgba(0, 150, 0, 0.7849999999999999)",
          "width": 3
         },
         "mode": "lines",
         "name": "Jasmine Carter → Mina Kim",
         "showlegend": false,
         "type": "scatter",
         "x": [
          1.0000000000000002,
          1.0000000000000002,
          null
         ],
         "y": [
          1.7320508075688772,
          -1.7320508075688772,
          null
         ]
        },
        {
         "hoverinfo": "text",
         "hovertext": "<b>Mina Kim → Jasmine Carter</b><br>Total Interactions: 1<br>Trades: 1<br>Total Value: $50.00<br>Items: Essence ($28.0), Sunscreen ($22.0)<br>Steps: 37",
         "line": {
          "color": "rgba(0, 150, 0, 0.8)",
          "width": 3
         },
         "mode": "lines",
         "name": "Mina Kim → Jasmine Carter",
         "showlegend": false,
         "type": "scatter",
         "x": [
          1.0000000000000002,
          1.0000000000000002,
          null
         ],
         "y": [
          -1.7320508075688772,
          1.7320508075688772,
          null
         ]
        },
        {
         "hoverinfo": "text",
         "hovertext": "<b>Jasmine Carter → Carlos Mendez</b><br>Total Interactions: 2<br>Trades: 1<br>Total Value: $75.00<br>Items: Tutoring Sessions ($40.0), Essence ($28.0), Notebooks ($7.0)<br>Steps: 38, 49",
         "line": {
          "color": "rgba(0, 150, 0, 1.0)",
          "width": 5
         },
         "mode": "lines",
         "name": "Jasmine Carter → Carlos Mendez",
         "showlegend": false,
         "type": "scatter",
         "x": [
          1.0000000000000002,
          2,
          null
         ],
         "y": [
          1.7320508075688772,
          0,
          null
         ]
        },
        {
         "hoverinfo": "text",
         "hovertext": "<b>Carlos Mendez → Carlos Mendez</b><br>Total Interactions: 2<br>Steps: 39, 40",
         "line": {
          "color": "rgba(200, 100, 0, 0.8)",
          "width": 5
         },
         "mode": "lines",
         "name": "Carlos Mendez (reflection)",
         "showlegend": false,
         "type": "scatter",
         "x": [
          2.5999999999999996,
          2.58374517251019,
          2.536742152818918,
          2.464084447436728,
          2.3736456461422395,
          2.2752261963583003,
          2.179491372604109,
          2.096815528512278,
          2.0361578746380533,
          2.0040916089791834,
          2.0040916089791834,
          2.0361578746380533,
          2.0968155285122774,
          2.179491372604109,
          2.2752261963583003,
          2.3736456461422395,
          2.464084447436728,
          2.536742152818918,
          2.58374517251019,
          2.5999999999999996,
          null
         ],
         "y": [
          0,
          0.09740984076140503,
          0.18426381380690035,
          0.2511499434787586,
          0.2908200797817991,
          0.2989753479020009,
          0.27473199799651726,
          0.22071717320193954,
          0.14278421791112209,
          0.04937837708422021,
          -0.04937837708422013,
          -0.14278421791112206,
          -0.22071717320193937,
          -0.27473199799651715,
          -0.2989753479020009,
          -0.29082007978179913,
          -0.25114994347875863,
          -0.1842638138069004,
          -0.09740984076140512,
          -7.347880794884119e-17,
          null
         ]
        },
        {
         "hoverinfo": "text",
         "hovertext": "<b>Carlos Mendez → Rowan Greenwood</b><br>Total Interactions: 2<br>Steps: 41, 43",
         "line": {
          "color": "rgba(100, 100, 200, 0.5)",
          "width": 5
         },
         "mode": "lines",
         "name": "Carlos Mendez → Rowan Greenwood",
         "showlegend": false,
         "type": "scatter",
         "x": [
          2,
          -2,
          null
         ],
         "y": [
          0,
          2.4492935982947064e-16,
          null
         ]
        },
        {
         "hoverinfo": "text",
         "hovertext": "<b>Carlos Mendez → Mina Kim</b><br>Total Interactions: 1<br>Trades: 1<br>Total Value: $0.00<br>Steps: 50",
         "line": {
          "color": "rgba(0, 150, 0, 0.3)",
          "width": 3
         },
         "mode": "lines",
         "name": "Carlos Mendez → Mina Kim",
         "showlegend": false,
         "type": "scatter",
         "x": [
          2,
          1.0000000000000002,
          null
         ],
         "y": [
          0,
          -1.7320508075688772,
          null
         ]
        }
       ],
       "layout": {
        "annotations": [
         {
          "font": {
           "size": 10
          },
          "showarrow": false,
          "text": "Hover over nodes and edges for details<br>Green edges = trades, Blue = conversations, Orange = reflections<br>Node size = activity level, Node color = revenue",
          "x": 0.005,
          "xanchor": "left",
          "xref": "paper",
          "y": -0.002,
          "yanchor": "bottom",
          "yref": "paper"
         }
        ],
        "height": 800,
        "hovermode": "closest",
        "margin": {
         "b": 20,
         "l": 5,
         "r": 5,
         "t": 40
        },
        "plot_bgcolor": "rgba(0,0,0,0)",
        "showlegend": false,
        "template": {
         "data": {
          "bar": [
           {
            "error_x": {
             "color": "#2a3f5f"
            },
            "error_y": {
             "color": "#2a3f5f"
            },
            "marker": {
             "line": {
              "color": "#E5ECF6",
              "width": 0.5
             },
             "pattern": {
              "fillmode": "overlay",
              "size": 10,
              "solidity": 0.2
             }
            },
            "type": "bar"
           }
          ],
          "barpolar": [
           {
            "marker": {
             "line": {
              "color": "#E5ECF6",
              "width": 0.5
             },
             "pattern": {
              "fillmode": "overlay",
              "size": 10,
              "solidity": 0.2
             }
            },
            "type": "barpolar"
           }
          ],
          "carpet": [
           {
            "aaxis": {
             "endlinecolor": "#2a3f5f",
             "gridcolor": "white",
             "linecolor": "white",
             "minorgridcolor": "white",
             "startlinecolor": "#2a3f5f"
            },
            "baxis": {
             "endlinecolor": "#2a3f5f",
             "gridcolor": "white",
             "linecolor": "white",
             "minorgridcolor": "white",
             "startlinecolor": "#2a3f5f"
            },
            "type": "carpet"
           }
          ],
          "choropleth": [
           {
            "colorbar": {
             "outlinewidth": 0,
             "ticks": ""
            },
            "type": "choropleth"
           }
          ],
          "contour": [
           {
            "colorbar": {
             "outlinewidth": 0,
             "ticks": ""
            },
            "colorscale": [
             [
              0,
              "#0d0887"
             ],
             [
              0.1111111111111111,
              "#46039f"
             ],
             [
              0.2222222222222222,
              "#7201a8"
             ],
             [
              0.3333333333333333,
              "#9c179e"
             ],
             [
              0.4444444444444444,
              "#bd3786"
             ],
             [
              0.5555555555555556,
              "#d8576b"
             ],
             [
              0.6666666666666666,
              "#ed7953"
             ],
             [
              0.7777777777777778,
              "#fb9f3a"
             ],
             [
              0.8888888888888888,
              "#fdca26"
             ],
             [
              1,
              "#f0f921"
             ]
            ],
            "type": "contour"
           }
          ],
          "contourcarpet": [
           {
            "colorbar": {
             "outlinewidth": 0,
             "ticks": ""
            },
            "type": "contourcarpet"
           }
          ],
          "heatmap": [
           {
            "colorbar": {
             "outlinewidth": 0,
             "ticks": ""
            },
            "colorscale": [
             [
              0,
              "#0d0887"
             ],
             [
              0.1111111111111111,
              "#46039f"
             ],
             [
              0.2222222222222222,
              "#7201a8"
             ],
             [
              0.3333333333333333,
              "#9c179e"
             ],
             [
              0.4444444444444444,
              "#bd3786"
             ],
             [
              0.5555555555555556,
              "#d8576b"
             ],
             [
              0.6666666666666666,
              "#ed7953"
             ],
             [
              0.7777777777777778,
              "#fb9f3a"
             ],
             [
              0.8888888888888888,
              "#fdca26"
             ],
             [
              1,
              "#f0f921"
             ]
            ],
            "type": "heatmap"
           }
          ],
          "histogram": [
           {
            "marker": {
             "pattern": {
              "fillmode": "overlay",
              "size": 10,
              "solidity": 0.2
             }
            },
            "type": "histogram"
           }
          ],
          "histogram2d": [
           {
            "colorbar": {
             "outlinewidth": 0,
             "ticks": ""
            },
            "colorscale": [
             [
              0,
              "#0d0887"
             ],
             [
              0.1111111111111111,
              "#46039f"
             ],
             [
              0.2222222222222222,
              "#7201a8"
             ],
             [
              0.3333333333333333,
              "#9c179e"
             ],
             [
              0.4444444444444444,
              "#bd3786"
             ],
             [
              0.5555555555555556,
              "#d8576b"
             ],
             [
              0.6666666666666666,
              "#ed7953"
             ],
             [
              0.7777777777777778,
              "#fb9f3a"
             ],
             [
              0.8888888888888888,
              "#fdca26"
             ],
             [
              1,
              "#f0f921"
             ]
            ],
            "type": "histogram2d"
           }
          ],
          "histogram2dcontour": [
           {
            "colorbar": {
             "outlinewidth": 0,
             "ticks": ""
            },
            "colorscale": [
             [
              0,
              "#0d0887"
             ],
             [
              0.1111111111111111,
              "#46039f"
             ],
             [
              0.2222222222222222,
              "#7201a8"
             ],
             [
              0.3333333333333333,
              "#9c179e"
             ],
             [
              0.4444444444444444,
              "#bd3786"
             ],
             [
              0.5555555555555556,
              "#d8576b"
             ],
             [
              0.6666666666666666,
              "#ed7953"
             ],
             [
              0.7777777777777778,
              "#fb9f3a"
             ],
             [
              0.8888888888888888,
              "#fdca26"
             ],
             [
              1,
              "#f0f921"
             ]
            ],
            "type": "histogram2dcontour"
           }
          ],
          "mesh3d": [
           {
            "colorbar": {
             "outlinewidth": 0,
             "ticks": ""
            },
            "type": "mesh3d"
           }
          ],
          "parcoords": [
           {
            "line": {
             "colorbar": {
              "outlinewidth": 0,
              "ticks": ""
             }
            },
            "type": "parcoords"
           }
          ],
          "pie": [
           {
            "automargin": true,
            "type": "pie"
           }
          ],
          "scatter": [
           {
            "fillpattern": {
             "fillmode": "overlay",
             "size": 10,
             "solidity": 0.2
            },
            "type": "scatter"
           }
          ],
          "scatter3d": [
           {
            "line": {
             "colorbar": {
              "outlinewidth": 0,
              "ticks": ""
             }
            },
            "marker": {
             "colorbar": {
              "outlinewidth": 0,
              "ticks": ""
             }
            },
            "type": "scatter3d"
           }
          ],
          "scattercarpet": [
           {
            "marker": {
             "colorbar": {
              "outlinewidth": 0,
              "ticks": ""
             }
            },
            "type": "scattercarpet"
           }
          ],
          "scattergeo": [
           {
            "marker": {
             "colorbar": {
              "outlinewidth": 0,
              "ticks": ""
             }
            },
            "type": "scattergeo"
           }
          ],
          "scattergl": [
           {
            "marker": {
             "colorbar": {
              "outlinewidth": 0,
              "ticks": ""
             }
            },
            "type": "scattergl"
           }
          ],
          "scattermap": [
           {
            "marker": {
             "colorbar": {
              "outlinewidth": 0,
              "ticks": ""
             }
            },
            "type": "scattermap"
           }
          ],
          "scattermapbox": [
           {
            "marker": {
             "colorbar": {
              "outlinewidth": 0,
              "ticks": ""
             }
            },
            "type": "scattermapbox"
           }
          ],
          "scatterpolar": [
           {
            "marker": {
             "colorbar": {
              "outlinewidth": 0,
              "ticks": ""
             }
            },
            "type": "scatterpolar"
           }
          ],
          "scatterpolargl": [
           {
            "marker": {
             "colorbar": {
              "outlinewidth": 0,
              "ticks": ""
             }
            },
            "type": "scatterpolargl"
           }
          ],
          "scatterternary": [
           {
            "marker": {
             "colorbar": {
              "outlinewidth": 0,
              "ticks": ""
             }
            },
            "type": "scatterternary"
           }
          ],
          "surface": [
           {
            "colorbar": {
             "outlinewidth": 0,
             "ticks": ""
            },
            "colorscale": [
             [
              0,
              "#0d0887"
             ],
             [
              0.1111111111111111,
              "#46039f"
             ],
             [
              0.2222222222222222,
              "#7201a8"
             ],
             [
              0.3333333333333333,
              "#9c179e"
             ],
             [
              0.4444444444444444,
              "#bd3786"
             ],
             [
              0.5555555555555556,
              "#d8576b"
             ],
             [
              0.6666666666666666,
              "#ed7953"
             ],
             [
              0.7777777777777778,
              "#fb9f3a"
             ],
             [
              0.8888888888888888,
              "#fdca26"
             ],
             [
              1,
              "#f0f921"
             ]
            ],
            "type": "surface"
           }
          ],
          "table": [
           {
            "cells": {
             "fill": {
              "color": "#EBF0F8"
             },
             "line": {
              "color": "white"
             }
            },
            "header": {
             "fill": {
              "color": "#C8D4E3"
             },
             "line": {
              "color": "white"
             }
            },
            "type": "table"
           }
          ]
         },
         "layout": {
          "annotationdefaults": {
           "arrowcolor": "#2a3f5f",
           "arrowhead": 0,
           "arrowwidth": 1
          },
          "autotypenumbers": "strict",
          "coloraxis": {
           "colorbar": {
            "outlinewidth": 0,
            "ticks": ""
           }
          },
          "colorscale": {
           "diverging": [
            [
             0,
             "#8e0152"
            ],
            [
             0.1,
             "#c51b7d"
            ],
            [
             0.2,
             "#de77ae"
            ],
            [
             0.3,
             "#f1b6da"
            ],
            [
             0.4,
             "#fde0ef"
            ],
            [
             0.5,
             "#f7f7f7"
            ],
            [
             0.6,
             "#e6f5d0"
            ],
            [
             0.7,
             "#b8e186"
            ],
            [
             0.8,
             "#7fbc41"
            ],
            [
             0.9,
             "#4d9221"
            ],
            [
             1,
             "#276419"
            ]
           ],
           "sequential": [
            [
             0,
             "#0d0887"
            ],
            [
             0.1111111111111111,
             "#46039f"
            ],
            [
             0.2222222222222222,
             "#7201a8"
            ],
            [
             0.3333333333333333,
             "#9c179e"
            ],
            [
             0.4444444444444444,
             "#bd3786"
            ],
            [
             0.5555555555555556,
             "#d8576b"
            ],
            [
             0.6666666666666666,
             "#ed7953"
            ],
            [
             0.7777777777777778,
             "#fb9f3a"
            ],
            [
             0.8888888888888888,
             "#fdca26"
            ],
            [
             1,
             "#f0f921"
            ]
           ],
           "sequentialminus": [
            [
             0,
             "#0d0887"
            ],
            [
             0.1111111111111111,
             "#46039f"
            ],
            [
             0.2222222222222222,
             "#7201a8"
            ],
            [
             0.3333333333333333,
             "#9c179e"
            ],
            [
             0.4444444444444444,
             "#bd3786"
            ],
            [
             0.5555555555555556,
             "#d8576b"
            ],
            [
             0.6666666666666666,
             "#ed7953"
            ],
            [
             0.7777777777777778,
             "#fb9f3a"
            ],
            [
             0.8888888888888888,
             "#fdca26"
            ],
            [
             1,
             "#f0f921"
            ]
           ]
          },
          "colorway": [
           "#636efa",
           "#EF553B",
           "#00cc96",
           "#ab63fa",
           "#FFA15A",
           "#19d3f3",
           "#FF6692",
           "#B6E880",
           "#FF97FF",
           "#FECB52"
          ],
          "font": {
           "color": "#2a3f5f"
          },
          "geo": {
           "bgcolor": "white",
           "lakecolor": "white",
           "landcolor": "#E5ECF6",
           "showlakes": true,
           "showland": true,
           "subunitcolor": "white"
          },
          "hoverlabel": {
           "align": "left"
          },
          "hovermode": "closest",
          "mapbox": {
           "style": "light"
          },
          "paper_bgcolor": "white",
          "plot_bgcolor": "#E5ECF6",
          "polar": {
           "angularaxis": {
            "gridcolor": "white",
            "linecolor": "white",
            "ticks": ""
           },
           "bgcolor": "#E5ECF6",
           "radialaxis": {
            "gridcolor": "white",
            "linecolor": "white",
            "ticks": ""
           }
          },
          "scene": {
           "xaxis": {
            "backgroundcolor": "#E5ECF6",
            "gridcolor": "white",
            "gridwidth": 2,
            "linecolor": "white",
            "showbackground": true,
            "ticks": "",
            "zerolinecolor": "white"
           },
           "yaxis": {
            "backgroundcolor": "#E5ECF6",
            "gridcolor": "white",
            "gridwidth": 2,
            "linecolor": "white",
            "showbackground": true,
            "ticks": "",
            "zerolinecolor": "white"
           },
           "zaxis": {
            "backgroundcolor": "#E5ECF6",
            "gridcolor": "white",
            "gridwidth": 2,
            "linecolor": "white",
            "showbackground": true,
            "ticks": "",
            "zerolinecolor": "white"
           }
          },
          "shapedefaults": {
           "line": {
            "color": "#2a3f5f"
           }
          },
          "ternary": {
           "aaxis": {
            "gridcolor": "white",
            "linecolor": "white",
            "ticks": ""
           },
           "baxis": {
            "gridcolor": "white",
            "linecolor": "white",
            "ticks": ""
           },
           "bgcolor": "#E5ECF6",
           "caxis": {
            "gridcolor": "white",
            "linecolor": "white",
            "ticks": ""
           }
          },
          "title": {
           "x": 0.05
          },
          "xaxis": {
           "automargin": true,
           "gridcolor": "white",
           "linecolor": "white",
           "ticks": "",
           "title": {
            "standoff": 15
           },
           "zerolinecolor": "white",
           "zerolinewidth": 2
          },
          "yaxis": {
           "automargin": true,
           "gridcolor": "white",
           "linecolor": "white",
           "ticks": "",
           "title": {
            "standoff": 15
           },
           "zerolinecolor": "white",
           "zerolinewidth": 2
          }
         }
        },
        "title": {
         "font": {
          "size": 16
         },
         "text": "Interactive Markov Chain: Agent Interactions and Transactions",
         "x": 0.5
        },
        "width": 800,
        "xaxis": {
         "showgrid": false,
         "showticklabels": false,
         "zeroline": false
        },
        "yaxis": {
         "showgrid": false,
         "showticklabels": false,
         "zeroline": false
        }
       }
      }
     },
     "metadata": {},
     "output_type": "display_data"
    }
   ],
   "source": [
    "# Interactive Markov Chain Visualization\n",
    "import plotly.graph_objects as go\n",
    "import plotly.express as px\n",
    "from plotly.subplots import make_subplots\n",
    "\n",
    "import numpy as np\n",
    "import math\n",
    "\n",
    "def create_interactive_markov_visualization(results):\n",
    "    \"\"\"Create an interactive visualization of the complete Markov chain with transactions\"\"\"\n",
    "    \n",
    "    interactions = results.get('interaction_history', [])\n",
    "    if not interactions:\n",
    "        print(\"No interaction history found\")\n",
    "        return\n",
    "    \n",
    "    # Parse all interactions and build complete state transition data\n",
    "    nodes = set()\n",
    "    transitions = []\n",
    "    transactions = {}\n",
    "    \n",
    "    for interaction in interactions:\n",
    "        step = interaction.get('step', 0)\n",
    "        \n",
    "        if interaction.get('type') == 'conversation':\n",
    "            participants = interaction.get('participants', [])\n",
    "            if len(participants) == 2:\n",
    "                from_agent, to_agent = participants[0], participants[1]\n",
    "                nodes.add(from_agent)\n",
    "                nodes.add(to_agent)\n",
    "                \n",
    "                # Check for trades in this conversation\n",
    "                trades = interaction.get('trades', [])\n",
    "                trade_info = None\n",
    "                total_value = 0\n",
    "                items_traded = []\n",
    "                \n",
    "                if trades:\n",
    "                    for trade in trades:\n",
    "                        if trade.get('executed') and trade.get('trade_details'):\n",
    "                            trade_details = trade['trade_details']\n",
    "                            items = trade_details.get('items', [])\n",
    "                            actual_items = [item for item in items if item.get('name') != 'digital cash']\n",
    "                            \n",
    "                            total_value += sum(item.get('value', 0) for item in actual_items)\n",
    "                            items_traded.extend([f\"{item.get('name', '').replace('_', ' ').title()} (${item.get('value', 0)})\" \n",
    "                                               for item in actual_items])\n",
    "                \n",
    "                transitions.append({\n",
    "                    'step': step,\n",
    "                    'from': from_agent,\n",
    "                    'to': to_agent,\n",
    "                    'type': 'conversation',\n",
    "                    'has_trade': len(trades) > 0,\n",
    "                    'trade_value': total_value,\n",
    "                    'items': items_traded\n",
    "                })\n",
    "                \n",
    "        elif interaction.get('type') == 'reflection':\n",
    "            agent = interaction.get('agent', '')\n",
    "            if agent:\n",
    "                nodes.add(agent)\n",
    "                transitions.append({\n",
    "                    'step': step,\n",
    "                    'from': agent,\n",
    "                    'to': agent,\n",
    "                    'type': 'reflection',\n",
    "                    'has_trade': False,\n",
    "                    'trade_value': 0,\n",
    "                    'items': []\n",
    "                })\n",
    "    \n",
    "    # Create the interactive plot\n",
    "    return create_plotly_network(list(nodes), transitions)\n",
    "\n",
    "def create_plotly_network(nodes, transitions):\n",
    "    \"\"\"Create interactive plotly network visualization\"\"\"\n",
    "    \n",
    "    # Create node positions in a circle\n",
    "    n_nodes = len(nodes)\n",
    "    node_positions = {}\n",
    "    for i, node in enumerate(nodes):\n",
    "        angle = 2 * math.pi * i / n_nodes\n",
    "        node_positions[node] = {\n",
    "            'x': math.cos(angle) * 2,\n",
    "            'y': math.sin(angle) * 2\n",
    "        }\n",
    "    \n",
    "    # Prepare edge traces\n",
    "    edge_traces = []\n",
    "    edge_info = []\n",
    "    \n",
    "    # Group transitions by (from, to) pair\n",
    "    edge_groups = defaultdict(list)\n",
    "    for transition in transitions:\n",
    "        key = (transition['from'], transition['to'])\n",
    "        edge_groups[key].append(transition)\n",
    "    \n",
    "    # Create edges with different styles\n",
    "    for (from_node, to_node), trans_list in edge_groups.items():\n",
    "        x0, y0 = node_positions[from_node]['x'], node_positions[from_node]['y']\n",
    "        x1, y1 = node_positions[to_node]['x'], node_positions[to_node]['y']\n",
    "        \n",
    "        # Aggregate information\n",
    "        total_interactions = len(trans_list)\n",
    "        total_trades = sum(1 for t in trans_list if t['has_trade'])\n",
    "        total_value = sum(t['trade_value'] for t in trans_list)\n",
    "        all_items = []\n",
    "        for t in trans_list:\n",
    "            all_items.extend(t['items'])\n",
    "        \n",
    "        # Determine edge properties\n",
    "        is_self_loop = (from_node == to_node)\n",
    "        has_trades = total_trades > 0\n",
    "        \n",
    "        # Create hover text\n",
    "        hover_text = f\"<b>{from_node} → {to_node}</b><br>\"\n",
    "        hover_text += f\"Total Interactions: {total_interactions}<br>\"\n",
    "        if has_trades:\n",
    "            hover_text += f\"Trades: {total_trades}<br>\"\n",
    "            hover_text += f\"Total Value: ${total_value:.2f}<br>\"\n",
    "            if all_items:\n",
    "                hover_text += f\"Items: {', '.join(set(all_items))}<br>\"\n",
    "        \n",
    "        steps = [str(t['step']) for t in trans_list]\n",
    "        hover_text += f\"Steps: {', '.join(steps)}\"\n",
    "        \n",
    "        # Handle self-loops differently\n",
    "        if is_self_loop:\n",
    "            # Create a small arc for self-loops\n",
    "            arc_x, arc_y = create_self_loop_arc(x0, y0, 0.3)\n",
    "            edge_x = arc_x\n",
    "            edge_y = arc_y\n",
    "        else:\n",
    "            edge_x = [x0, x1, None]\n",
    "            edge_y = [y0, y1, None]\n",
    "        \n",
    "        # Choose color based on trade status\n",
    "        if has_trades:\n",
    "            color = f'rgba(0, 150, 0, {min(0.3 + total_value/100, 1.0)})'  # Green with opacity based on value\n",
    "        elif from_node == to_node:\n",
    "            color = 'rgba(200, 100, 0, 0.8)'  # Orange for reflections\n",
    "        else:\n",
    "            color = 'rgba(100, 100, 200, 0.5)'  # Blue for conversations without trades\n",
    "        \n",
    "        # Line width based on interaction count\n",
    "        line_width = min(1 + total_interactions * 2, 10)\n",
    "        \n",
    "        edge_trace = go.Scatter(\n",
    "            x=edge_x, y=edge_y,\n",
    "            line=dict(width=line_width, color=color),\n",
    "            hoverinfo='text',\n",
    "            hovertext=hover_text,\n",
    "            mode='lines',\n",
    "            name=f'{from_node} → {to_node}' if not is_self_loop else f'{from_node} (reflection)',\n",
    "            showlegend=False\n",
    "        )\n",
    "        \n",
    "        edge_traces.append(edge_trace)\n",
    "    \n",
    "    # Create node trace\n",
    "    node_x = [node_positions[node]['x'] for node in nodes]\n",
    "    node_y = [node_positions[node]['y'] for node in nodes]\n",
    "    \n",
    "    # Calculate node statistics\n",
    "    node_stats = {}\n",
    "    for node in nodes:\n",
    "        conversations_started = sum(1 for t in transitions if t['from'] == node and t['type'] == 'conversation')\n",
    "        conversations_received = sum(1 for t in transitions if t['to'] == node and t['type'] == 'conversation')\n",
    "        reflections = sum(1 for t in transitions if t['from'] == node and t['type'] == 'reflection')\n",
    "        trades_made = sum(1 for t in transitions if t['from'] == node and t['has_trade'])\n",
    "        revenue = sum(t['trade_value'] for t in transitions if t['from'] == node and t['has_trade'])\n",
    "        \n",
    "        node_stats[node] = {\n",
    "            'conversations_started': conversations_started,\n",
    "            'conversations_received': conversations_received,\n",
    "            'reflections': reflections,\n",
    "            'trades_made': trades_made,\n",
    "            'revenue': revenue\n",
    "        }\n",
    "    \n",
    "    node_text = []\n",
    "    node_colors = []\n",
    "    node_sizes = []\n",
    "    \n",
    "    for node in nodes:\n",
    "        stats = node_stats[node]\n",
    "        \n",
    "        # Create hover text\n",
    "        hover_text = f\"<b>{node}</b><br>\"\n",
    "        hover_text += f\"Conversations Started: {stats['conversations_started']}<br>\"\n",
    "        hover_text += f\"Conversations Received: {stats['conversations_received']}<br>\"\n",
    "        hover_text += f\"Reflections: {stats['reflections']}<br>\"\n",
    "        hover_text += f\"Trades Made: {stats['trades_made']}<br>\"\n",
    "        hover_text += f\"Revenue: ${stats['revenue']:.2f}\"\n",
    "        \n",
    "        node_text.append(hover_text)\n",
    "        \n",
    "        # Node color based on revenue\n",
    "        if stats['revenue'] > 0:\n",
    "            intensity = min(stats['revenue'] / 100, 1.0)\n",
    "            node_colors.append(f'rgba(0, 200, 0, {0.3 + intensity * 0.7})')\n",
    "        else:\n",
    "            node_colors.append('rgba(150, 150, 200, 0.7)')\n",
    "        \n",
    "        # Node size based on total activity\n",
    "        total_activity = stats['conversations_started'] + stats['conversations_received'] + stats['reflections']\n",
    "        node_sizes.append(max(20 + total_activity * 10, 30))\n",
    "    \n",
    "    node_trace = go.Scatter(\n",
    "        x=node_x, y=node_y,\n",
    "        mode='markers+text',\n",
    "        hoverinfo='text',\n",
    "        hovertext=node_text,\n",
    "        text=[node.split()[0] for node in nodes],  # Show first name only\n",
    "        textposition=\"middle center\",\n",
    "        textfont=dict(size=10, color=\"white\"),\n",
    "        marker=dict(\n",
    "            size=node_sizes,\n",
    "            color=node_colors,\n",
    "            line=dict(width=2, color='white'),\n",
    "            sizemode='diameter'\n",
    "        ),\n",
    "        name='Agents',\n",
    "        showlegend=False\n",
    "    )\n",
    "    \n",
    "    # Create the figure\n",
    "    fig = go.Figure(data=[node_trace] + edge_traces,\n",
    "                   layout=go.Layout(\n",
    "                        title=dict(\n",
    "                            text='Interactive Markov Chain: Agent Interactions and Transactions',\n",
    "                            x=0.5,\n",
    "                            font=dict(size=16)\n",
    "                        ),\n",
    "                        #titlefont_size=16,\n",
    "                        showlegend=False,\n",
    "                        hovermode='closest',\n",
    "                        margin=dict(b=20,l=5,r=5,t=40),\n",
    "                        annotations=[ dict(\n",
    "                            text=\"Hover over nodes and edges for details<br>\" + \n",
    "                                 \"Green edges = trades, Blue = conversations, Orange = reflections<br>\" + \n",
    "                                 \"Node size = activity level, Node color = revenue\",\n",
    "                            showarrow=False,\n",
    "                            xref=\"paper\", yref=\"paper\",\n",
    "                            x=0.005, y=-0.002,\n",
    "                            xanchor='left', yanchor='bottom',\n",
    "                            font=dict(size=10)\n",
    "                        )],\n",
    "                        xaxis=dict(showgrid=False, zeroline=False, showticklabels=False),\n",
    "                        yaxis=dict(showgrid=False, zeroline=False, showticklabels=False),\n",
    "                        plot_bgcolor='rgba(0,0,0,0)',\n",
    "                        width=800,\n",
    "                        height=800\n",
    "                   ))\n",
    "    \n",
    "    return fig\n",
    "\n",
    "def create_self_loop_arc(x, y, radius):\n",
    "    \"\"\"Create coordinates for a self-loop arc\"\"\"\n",
    "    # Create a small circle offset from the node\n",
    "    angles = np.linspace(0, 2*np.pi, 20)\n",
    "    arc_x = [x + radius * np.cos(angle) + radius for angle in angles] + [None]\n",
    "    arc_y = [y + radius * np.sin(angle) for angle in angles] + [None]\n",
    "    return arc_x, arc_y\n",
    "\n",
    "# Create and display the interactive visualization\n",
    "fig = create_interactive_markov_visualization(results)\n",
    "if fig:\n",
    "    fig.show()\n",
    "else:\n",
    "    print(\"Could not create visualization - no data available\")"
   ]
  },
  {
   "cell_type": "code",
   "execution_count": 10,
   "id": "kwh5zsjx3i",
   "metadata": {},
   "outputs": [
    {
     "data": {
      "application/vnd.plotly.v1+json": {
       "config": {
        "plotlyServerURL": "https://plot.ly"
       },
       "data": [
        {
         "hoverinfo": "text",
         "hovertext": [
          "<b>Step 1: Reflection</b><br>Agent: Rowan Greenwood<br>Action: Self-reflection",
          "<b>Step 2: Reflection</b><br>Agent: Rowan Greenwood<br>Action: Self-reflection",
          "<b>Step 3: Conversation</b><br>From: Rowan Greenwood<br>To: Carlos Mendez<br>No trade occurred",
          "<b>Step 4: Conversation + Trade</b><br>From: Carlos Mendez<br>To: Pema Sherpa<br>",
          "<b>Step 5: Conversation + Trade</b><br>From: Pema Sherpa<br>To: Jasmine Carter<br>Trade: Mountain Flower Honey ($45.00)",
          "<b>Step 6: Reflection</b><br>Agent: Jasmine Carter<br>Action: Self-reflection",
          "<b>Step 7: Conversation</b><br>From: Jasmine Carter<br>To: Pema Sherpa<br>No trade occurred",
          "<b>Step 8: Conversation</b><br>From: Pema Sherpa<br>To: Carlos Mendez<br>No trade occurred",
          "<b>Step 9: Conversation</b><br>From: Carlos Mendez<br>To: Kemi Adebayo<br>No trade occurred",
          "<b>Step 10: Conversation + Trade</b><br>From: Kemi Adebayo<br>To: Rowan Greenwood<br>Trade: Hibiscus Extract, Baobab Fruit Powder ($90.00)",
          "<b>Step 11: Conversation + Trade</b><br>From: Rowan Greenwood<br>To: Carlos Mendez<br>Trade: Hibiscus Extract ($35.00)",
          "<b>Step 12: Conversation + Trade</b><br>From: Carlos Mendez<br>To: Kemi Adebayo<br>Trade: Aged Cigars, Wrapper Tobacco Leaves ($185.00)",
          "<b>Step 13: Reflection</b><br>Agent: Kemi Adebayo<br>Action: Self-reflection",
          "<b>Step 14: Conversation + Trade</b><br>From: Kemi Adebayo<br>To: Mina Kim<br>Trade: Baobab Fruit Powder, Hibiscus Extract ($90.00)",
          "<b>Step 15: Conversation</b><br>From: Mina Kim<br>To: Kemi Adebayo<br>No trade occurred",
          "<b>Step 16: Conversation</b><br>From: Kemi Adebayo<br>To: Mina Kim<br>No trade occurred",
          "<b>Step 17: Reflection</b><br>Agent: Mina Kim<br>Action: Self-reflection",
          "<b>Step 18: Conversation + Trade</b><br>From: Mina Kim<br>To: Kemi Adebayo<br>Trade: Sunscreen, Sheet Masks ($47.50)",
          "<b>Step 19: Conversation</b><br>From: Kemi Adebayo<br>To: Carlos Mendez<br>No trade occurred",
          "<b>Step 20: Conversation</b><br>From: Carlos Mendez<br>To: Pema Sherpa<br>No trade occurred",
          "<b>Step 21: Reflection</b><br>Agent: Pema Sherpa<br>Action: Self-reflection",
          "<b>Step 22: Reflection</b><br>Agent: Pema Sherpa<br>Action: Self-reflection",
          "<b>Step 23: Conversation + Trade</b><br>From: Pema Sherpa<br>To: Kemi Adebayo<br>Trade: Mountain Flower Honey, Pine Honey ($100.00)",
          "<b>Step 24: Conversation</b><br>From: Kemi Adebayo<br>To: Pema Sherpa<br>No trade occurred",
          "<b>Step 25: Conversation + Trade</b><br>From: Pema Sherpa<br>To: Rowan Greenwood<br>Trade: Mountain Flower Honey ($45.00)",
          "<b>Step 26: Reflection</b><br>Agent: Rowan Greenwood<br>Action: Self-reflection",
          "<b>Step 27: Reflection</b><br>Agent: Rowan Greenwood<br>Action: Self-reflection",
          "<b>Step 28: Reflection</b><br>Agent: Rowan Greenwood<br>Action: Self-reflection",
          "<b>Step 29: Conversation + Trade</b><br>From: Rowan Greenwood<br>To: Pema Sherpa<br>Trade: Herbal Tea ($15.00)",
          "<b>Step 30: Conversation + Trade</b><br>From: Pema Sherpa<br>To: Kemi Adebayo<br>Trade: Pine Honey ($55.00)",
          "<b>Step 31: Conversation</b><br>From: Kemi Adebayo<br>To: Carlos Mendez<br>No trade occurred",
          "<b>Step 32: Conversation + Trade</b><br>From: Carlos Mendez<br>To: Pema Sherpa<br>Trade: Premium Cigars ($85.00)",
          "<b>Step 33: Conversation</b><br>From: Pema Sherpa<br>To: Jasmine Carter<br>No trade occurred",
          "<b>Step 34: Conversation + Trade</b><br>From: Jasmine Carter<br>To: Mina Kim<br>Trade: Notebooks, Mountain Flower Honey ($48.50)",
          "<b>Step 35: Reflection</b><br>Agent: Mina Kim<br>Action: Self-reflection",
          "<b>Step 36: Reflection</b><br>Agent: Mina Kim<br>Action: Self-reflection",
          "<b>Step 37: Conversation + Trade</b><br>From: Mina Kim<br>To: Jasmine Carter<br>Trade: Essence, Sunscreen ($50.00)",
          "<b>Step 38: Conversation</b><br>From: Jasmine Carter<br>To: Carlos Mendez<br>No trade occurred",
          "<b>Step 39: Reflection</b><br>Agent: Carlos Mendez<br>Action: Self-reflection",
          "<b>Step 40: Reflection</b><br>Agent: Carlos Mendez<br>Action: Self-reflection",
          "<b>Step 41: Conversation</b><br>From: Carlos Mendez<br>To: Rowan Greenwood<br>No trade occurred",
          "<b>Step 42: Conversation + Trade</b><br>From: Rowan Greenwood<br>To: Carlos Mendez<br>Trade: Herbal Tea ($15.00)",
          "<b>Step 43: Conversation</b><br>From: Carlos Mendez<br>To: Rowan Greenwood<br>No trade occurred",
          "<b>Step 44: Reflection</b><br>Agent: Rowan Greenwood<br>Action: Self-reflection",
          "<b>Step 45: Reflection</b><br>Agent: Rowan Greenwood<br>Action: Self-reflection",
          "<b>Step 46: Conversation + Trade</b><br>From: Rowan Greenwood<br>To: Pema Sherpa<br>Trade: Baobab Fruit Powder ($55.00)",
          "<b>Step 47: Conversation + Trade</b><br>From: Pema Sherpa<br>To: Jasmine Carter<br>",
          "<b>Step 48: Reflection</b><br>Agent: Jasmine Carter<br>Action: Self-reflection",
          "<b>Step 49: Conversation + Trade</b><br>From: Jasmine Carter<br>To: Carlos Mendez<br>Trade: Notebooks, Essence, Tutoring Sessions ($75.00)",
          "<b>Step 50: Conversation + Trade</b><br>From: Carlos Mendez<br>To: Mina Kim<br>"
         ],
         "marker": {
          "color": [
           "orange",
           "orange",
           "blue",
           "green",
           "green",
           "orange",
           "blue",
           "blue",
           "blue",
           "green",
           "green",
           "green",
           "orange",
           "green",
           "blue",
           "blue",
           "orange",
           "green",
           "blue",
           "blue",
           "orange",
           "orange",
           "green",
           "blue",
           "green",
           "orange",
           "orange",
           "orange",
           "green",
           "green",
           "blue",
           "green",
           "blue",
           "green",
           "orange",
           "orange",
           "green",
           "blue",
           "orange",
           "orange",
           "blue",
           "green",
           "blue",
           "orange",
           "orange",
           "green",
           "green",
           "orange",
           "green",
           "green"
          ],
          "line": {
           "color": "white",
           "width": 2
          },
          "opacity": 0.8,
          "size": [
           15,
           15,
           15,
           20,
           29,
           15,
           15,
           15,
           15,
           38,
           27,
           40,
           15,
           38,
           15,
           15,
           15,
           29.5,
           15,
           15,
           15,
           15,
           40,
           15,
           29,
           15,
           15,
           15,
           23,
           31,
           15,
           37,
           15,
           29.7,
           15,
           15,
           30,
           15,
           15,
           15,
           15,
           23,
           15,
           15,
           15,
           31,
           20,
           15,
           35,
           20
          ],
          "symbol": [
           "circle-open",
           "circle-open",
           "circle",
           "diamond",
           "diamond",
           "circle-open",
           "circle",
           "circle",
           "circle",
           "diamond",
           "diamond",
           "diamond",
           "circle-open",
           "diamond",
           "circle",
           "circle",
           "circle-open",
           "diamond",
           "circle",
           "circle",
           "circle-open",
           "circle-open",
           "diamond",
           "circle",
           "diamond",
           "circle-open",
           "circle-open",
           "circle-open",
           "diamond",
           "diamond",
           "circle",
           "diamond",
           "circle",
           "diamond",
           "circle-open",
           "circle-open",
           "diamond",
           "circle",
           "circle-open",
           "circle-open",
           "circle",
           "diamond",
           "circle",
           "circle-open",
           "circle-open",
           "diamond",
           "diamond",
           "circle-open",
           "diamond",
           "diamond"
          ]
         },
         "mode": "markers+text",
         "name": "Markov Chain Steps",
         "showlegend": false,
         "text": [
          "Rowan reflects",
          "Rowan reflects",
          "Rowan → Carlos",
          "Carlos → Pema",
          "Pema → Jasmine",
          "Jasmine reflects",
          "Jasmine → Pema",
          "Pema → Carlos",
          "Carlos → Kemi",
          "Kemi → Rowan",
          "Rowan → Carlos",
          "Carlos → Kemi",
          "Kemi reflects",
          "Kemi → Mina",
          "Mina → Kemi",
          "Kemi → Mina",
          "Mina reflects",
          "Mina → Kemi",
          "Kemi → Carlos",
          "Carlos → Pema",
          "Pema reflects",
          "Pema reflects",
          "Pema → Kemi",
          "Kemi → Pema",
          "Pema → Rowan",
          "Rowan reflects",
          "Rowan reflects",
          "Rowan reflects",
          "Rowan → Pema",
          "Pema → Kemi",
          "Kemi → Carlos",
          "Carlos → Pema",
          "Pema → Jasmine",
          "Jasmine → Mina",
          "Mina reflects",
          "Mina reflects",
          "Mina → Jasmine",
          "Jasmine → Carlos",
          "Carlos reflects",
          "Carlos reflects",
          "Carlos → Rowan",
          "Rowan → Carlos",
          "Carlos → Rowan",
          "Rowan reflects",
          "Rowan reflects",
          "Rowan → Pema",
          "Pema → Jasmine",
          "Jasmine reflects",
          "Jasmine → Carlos",
          "Carlos → Mina"
         ],
         "textfont": {
          "size": 10
         },
         "textposition": "top center",
         "type": "scatter",
         "x": [
          1,
          2,
          3,
          4,
          5,
          6,
          7,
          8,
          9,
          10,
          11,
          12,
          13,
          14,
          15,
          16,
          17,
          18,
          19,
          20,
          21,
          22,
          23,
          24,
          25,
          26,
          27,
          28,
          29,
          30,
          31,
          32,
          33,
          34,
          35,
          36,
          37,
          38,
          39,
          40,
          41,
          42,
          43,
          44,
          45,
          46,
          47,
          48,
          49,
          50
         ],
         "y": [
          1,
          1,
          1,
          1,
          1,
          1,
          1,
          1,
          1,
          1,
          1,
          1,
          1,
          1,
          1,
          1,
          1,
          1,
          1,
          1,
          1,
          1,
          1,
          1,
          1,
          1,
          1,
          1,
          1,
          1,
          1,
          1,
          1,
          1,
          1,
          1,
          1,
          1,
          1,
          1,
          1,
          1,
          1,
          1,
          1,
          1,
          1,
          1,
          1,
          1
         ]
        },
        {
         "hoverinfo": "skip",
         "line": {
          "color": "lightgray",
          "dash": "dot",
          "width": 1
         },
         "mode": "lines",
         "showlegend": false,
         "type": "scatter",
         "x": [
          1,
          2,
          3,
          4,
          5,
          6,
          7,
          8,
          9,
          10,
          11,
          12,
          13,
          14,
          15,
          16,
          17,
          18,
          19,
          20,
          21,
          22,
          23,
          24,
          25,
          26,
          27,
          28,
          29,
          30,
          31,
          32,
          33,
          34,
          35,
          36,
          37,
          38,
          39,
          40,
          41,
          42,
          43,
          44,
          45,
          46,
          47,
          48,
          49,
          50
         ],
         "y": [
          1,
          1,
          1,
          1,
          1,
          1,
          1,
          1,
          1,
          1,
          1,
          1,
          1,
          1,
          1,
          1,
          1,
          1,
          1,
          1,
          1,
          1,
          1,
          1,
          1,
          1,
          1,
          1,
          1,
          1,
          1,
          1,
          1,
          1,
          1,
          1,
          1,
          1,
          1,
          1,
          1,
          1,
          1,
          1,
          1,
          1,
          1,
          1,
          1,
          1
         ]
        }
       ],
       "layout": {
        "annotations": [
         {
          "bgcolor": "rgba(255,255,255,0.8)",
          "bordercolor": "gray",
          "borderwidth": 1,
          "font": {
           "color": "green",
           "size": 10
          },
          "showarrow": false,
          "text": "🔵 Conversation  💎 Trade  ⭕ Reflection<br>Hover for details, size indicates trade value",
          "x": 0.02,
          "xanchor": "left",
          "xref": "paper",
          "y": 0.02,
          "yanchor": "bottom",
          "yref": "paper"
         },
         {
          "bgcolor": "rgba(255,255,255,0.8)",
          "bordercolor": "gray",
          "borderwidth": 1,
          "font": {
           "color": "green",
           "size": 10
          },
          "showarrow": false,
          "text": "🔵 Conversation  💎 Trade  ⭕ Reflection<br>Hover for details, size indicates trade value",
          "x": 0.02,
          "xanchor": "left",
          "xref": "paper",
          "y": 0.02,
          "yanchor": "bottom",
          "yref": "paper"
         },
         {
          "bgcolor": "rgba(255,255,255,0.8)",
          "bordercolor": "gray",
          "borderwidth": 1,
          "font": {
           "color": "green",
           "size": 10
          },
          "showarrow": false,
          "text": "🔵 Conversation  💎 Trade  ⭕ Reflection<br>Hover for details, size indicates trade value",
          "x": 0.02,
          "xanchor": "left",
          "xref": "paper",
          "y": 0.02,
          "yanchor": "bottom",
          "yref": "paper"
         },
         {
          "bgcolor": "rgba(255,255,255,0.8)",
          "bordercolor": "gray",
          "borderwidth": 1,
          "font": {
           "color": "green",
           "size": 10
          },
          "showarrow": false,
          "text": "🔵 Conversation  💎 Trade  ⭕ Reflection<br>Hover for details, size indicates trade value",
          "x": 0.02,
          "xanchor": "left",
          "xref": "paper",
          "y": 0.02,
          "yanchor": "bottom",
          "yref": "paper"
         },
         {
          "bgcolor": "rgba(255,255,255,0.8)",
          "bordercolor": "gray",
          "borderwidth": 1,
          "font": {
           "color": "green",
           "size": 10
          },
          "showarrow": false,
          "text": "🔵 Conversation  💎 Trade  ⭕ Reflection<br>Hover for details, size indicates trade value",
          "x": 0.02,
          "xanchor": "left",
          "xref": "paper",
          "y": 0.02,
          "yanchor": "bottom",
          "yref": "paper"
         },
         {
          "bgcolor": "rgba(255,255,255,0.8)",
          "bordercolor": "gray",
          "borderwidth": 1,
          "font": {
           "color": "green",
           "size": 10
          },
          "showarrow": false,
          "text": "🔵 Conversation  💎 Trade  ⭕ Reflection<br>Hover for details, size indicates trade value",
          "x": 0.02,
          "xanchor": "left",
          "xref": "paper",
          "y": 0.02,
          "yanchor": "bottom",
          "yref": "paper"
         },
         {
          "bgcolor": "rgba(255,255,255,0.8)",
          "bordercolor": "gray",
          "borderwidth": 1,
          "font": {
           "color": "green",
           "size": 10
          },
          "showarrow": false,
          "text": "🔵 Conversation  💎 Trade  ⭕ Reflection<br>Hover for details, size indicates trade value",
          "x": 0.02,
          "xanchor": "left",
          "xref": "paper",
          "y": 0.02,
          "yanchor": "bottom",
          "yref": "paper"
         },
         {
          "bgcolor": "rgba(255,255,255,0.8)",
          "bordercolor": "gray",
          "borderwidth": 1,
          "font": {
           "color": "green",
           "size": 10
          },
          "showarrow": false,
          "text": "🔵 Conversation  💎 Trade  ⭕ Reflection<br>Hover for details, size indicates trade value",
          "x": 0.02,
          "xanchor": "left",
          "xref": "paper",
          "y": 0.02,
          "yanchor": "bottom",
          "yref": "paper"
         },
         {
          "bgcolor": "rgba(255,255,255,0.8)",
          "bordercolor": "gray",
          "borderwidth": 1,
          "font": {
           "color": "green",
           "size": 10
          },
          "showarrow": false,
          "text": "🔵 Conversation  💎 Trade  ⭕ Reflection<br>Hover for details, size indicates trade value",
          "x": 0.02,
          "xanchor": "left",
          "xref": "paper",
          "y": 0.02,
          "yanchor": "bottom",
          "yref": "paper"
         },
         {
          "bgcolor": "rgba(255,255,255,0.8)",
          "bordercolor": "gray",
          "borderwidth": 1,
          "font": {
           "color": "green",
           "size": 10
          },
          "showarrow": false,
          "text": "🔵 Conversation  💎 Trade  ⭕ Reflection<br>Hover for details, size indicates trade value",
          "x": 0.02,
          "xanchor": "left",
          "xref": "paper",
          "y": 0.02,
          "yanchor": "bottom",
          "yref": "paper"
         },
         {
          "bgcolor": "rgba(255,255,255,0.8)",
          "bordercolor": "gray",
          "borderwidth": 1,
          "font": {
           "color": "green",
           "size": 10
          },
          "showarrow": false,
          "text": "🔵 Conversation  💎 Trade  ⭕ Reflection<br>Hover for details, size indicates trade value",
          "x": 0.02,
          "xanchor": "left",
          "xref": "paper",
          "y": 0.02,
          "yanchor": "bottom",
          "yref": "paper"
         },
         {
          "bgcolor": "rgba(255,255,255,0.8)",
          "bordercolor": "gray",
          "borderwidth": 1,
          "font": {
           "color": "green",
           "size": 10
          },
          "showarrow": false,
          "text": "🔵 Conversation  💎 Trade  ⭕ Reflection<br>Hover for details, size indicates trade value",
          "x": 0.02,
          "xanchor": "left",
          "xref": "paper",
          "y": 0.02,
          "yanchor": "bottom",
          "yref": "paper"
         },
         {
          "bgcolor": "rgba(255,255,255,0.8)",
          "bordercolor": "gray",
          "borderwidth": 1,
          "font": {
           "color": "green",
           "size": 10
          },
          "showarrow": false,
          "text": "🔵 Conversation  💎 Trade  ⭕ Reflection<br>Hover for details, size indicates trade value",
          "x": 0.02,
          "xanchor": "left",
          "xref": "paper",
          "y": 0.02,
          "yanchor": "bottom",
          "yref": "paper"
         },
         {
          "bgcolor": "rgba(255,255,255,0.8)",
          "bordercolor": "gray",
          "borderwidth": 1,
          "font": {
           "color": "green",
           "size": 10
          },
          "showarrow": false,
          "text": "🔵 Conversation  💎 Trade  ⭕ Reflection<br>Hover for details, size indicates trade value",
          "x": 0.02,
          "xanchor": "left",
          "xref": "paper",
          "y": 0.02,
          "yanchor": "bottom",
          "yref": "paper"
         },
         {
          "bgcolor": "rgba(255,255,255,0.8)",
          "bordercolor": "gray",
          "borderwidth": 1,
          "font": {
           "color": "green",
           "size": 10
          },
          "showarrow": false,
          "text": "🔵 Conversation  💎 Trade  ⭕ Reflection<br>Hover for details, size indicates trade value",
          "x": 0.02,
          "xanchor": "left",
          "xref": "paper",
          "y": 0.02,
          "yanchor": "bottom",
          "yref": "paper"
         },
         {
          "bgcolor": "rgba(255,255,255,0.8)",
          "bordercolor": "gray",
          "borderwidth": 1,
          "font": {
           "color": "green",
           "size": 10
          },
          "showarrow": false,
          "text": "🔵 Conversation  💎 Trade  ⭕ Reflection<br>Hover for details, size indicates trade value",
          "x": 0.02,
          "xanchor": "left",
          "xref": "paper",
          "y": 0.02,
          "yanchor": "bottom",
          "yref": "paper"
         }
        ],
        "height": 400,
        "margin": {
         "b": 60,
         "l": 50,
         "r": 50,
         "t": 80
        },
        "plot_bgcolor": "rgba(0,0,0,0)",
        "template": {
         "data": {
          "bar": [
           {
            "error_x": {
             "color": "#2a3f5f"
            },
            "error_y": {
             "color": "#2a3f5f"
            },
            "marker": {
             "line": {
              "color": "#E5ECF6",
              "width": 0.5
             },
             "pattern": {
              "fillmode": "overlay",
              "size": 10,
              "solidity": 0.2
             }
            },
            "type": "bar"
           }
          ],
          "barpolar": [
           {
            "marker": {
             "line": {
              "color": "#E5ECF6",
              "width": 0.5
             },
             "pattern": {
              "fillmode": "overlay",
              "size": 10,
              "solidity": 0.2
             }
            },
            "type": "barpolar"
           }
          ],
          "carpet": [
           {
            "aaxis": {
             "endlinecolor": "#2a3f5f",
             "gridcolor": "white",
             "linecolor": "white",
             "minorgridcolor": "white",
             "startlinecolor": "#2a3f5f"
            },
            "baxis": {
             "endlinecolor": "#2a3f5f",
             "gridcolor": "white",
             "linecolor": "white",
             "minorgridcolor": "white",
             "startlinecolor": "#2a3f5f"
            },
            "type": "carpet"
           }
          ],
          "choropleth": [
           {
            "colorbar": {
             "outlinewidth": 0,
             "ticks": ""
            },
            "type": "choropleth"
           }
          ],
          "contour": [
           {
            "colorbar": {
             "outlinewidth": 0,
             "ticks": ""
            },
            "colorscale": [
             [
              0,
              "#0d0887"
             ],
             [
              0.1111111111111111,
              "#46039f"
             ],
             [
              0.2222222222222222,
              "#7201a8"
             ],
             [
              0.3333333333333333,
              "#9c179e"
             ],
             [
              0.4444444444444444,
              "#bd3786"
             ],
             [
              0.5555555555555556,
              "#d8576b"
             ],
             [
              0.6666666666666666,
              "#ed7953"
             ],
             [
              0.7777777777777778,
              "#fb9f3a"
             ],
             [
              0.8888888888888888,
              "#fdca26"
             ],
             [
              1,
              "#f0f921"
             ]
            ],
            "type": "contour"
           }
          ],
          "contourcarpet": [
           {
            "colorbar": {
             "outlinewidth": 0,
             "ticks": ""
            },
            "type": "contourcarpet"
           }
          ],
          "heatmap": [
           {
            "colorbar": {
             "outlinewidth": 0,
             "ticks": ""
            },
            "colorscale": [
             [
              0,
              "#0d0887"
             ],
             [
              0.1111111111111111,
              "#46039f"
             ],
             [
              0.2222222222222222,
              "#7201a8"
             ],
             [
              0.3333333333333333,
              "#9c179e"
             ],
             [
              0.4444444444444444,
              "#bd3786"
             ],
             [
              0.5555555555555556,
              "#d8576b"
             ],
             [
              0.6666666666666666,
              "#ed7953"
             ],
             [
              0.7777777777777778,
              "#fb9f3a"
             ],
             [
              0.8888888888888888,
              "#fdca26"
             ],
             [
              1,
              "#f0f921"
             ]
            ],
            "type": "heatmap"
           }
          ],
          "histogram": [
           {
            "marker": {
             "pattern": {
              "fillmode": "overlay",
              "size": 10,
              "solidity": 0.2
             }
            },
            "type": "histogram"
           }
          ],
          "histogram2d": [
           {
            "colorbar": {
             "outlinewidth": 0,
             "ticks": ""
            },
            "colorscale": [
             [
              0,
              "#0d0887"
             ],
             [
              0.1111111111111111,
              "#46039f"
             ],
             [
              0.2222222222222222,
              "#7201a8"
             ],
             [
              0.3333333333333333,
              "#9c179e"
             ],
             [
              0.4444444444444444,
              "#bd3786"
             ],
             [
              0.5555555555555556,
              "#d8576b"
             ],
             [
              0.6666666666666666,
              "#ed7953"
             ],
             [
              0.7777777777777778,
              "#fb9f3a"
             ],
             [
              0.8888888888888888,
              "#fdca26"
             ],
             [
              1,
              "#f0f921"
             ]
            ],
            "type": "histogram2d"
           }
          ],
          "histogram2dcontour": [
           {
            "colorbar": {
             "outlinewidth": 0,
             "ticks": ""
            },
            "colorscale": [
             [
              0,
              "#0d0887"
             ],
             [
              0.1111111111111111,
              "#46039f"
             ],
             [
              0.2222222222222222,
              "#7201a8"
             ],
             [
              0.3333333333333333,
              "#9c179e"
             ],
             [
              0.4444444444444444,
              "#bd3786"
             ],
             [
              0.5555555555555556,
              "#d8576b"
             ],
             [
              0.6666666666666666,
              "#ed7953"
             ],
             [
              0.7777777777777778,
              "#fb9f3a"
             ],
             [
              0.8888888888888888,
              "#fdca26"
             ],
             [
              1,
              "#f0f921"
             ]
            ],
            "type": "histogram2dcontour"
           }
          ],
          "mesh3d": [
           {
            "colorbar": {
             "outlinewidth": 0,
             "ticks": ""
            },
            "type": "mesh3d"
           }
          ],
          "parcoords": [
           {
            "line": {
             "colorbar": {
              "outlinewidth": 0,
              "ticks": ""
             }
            },
            "type": "parcoords"
           }
          ],
          "pie": [
           {
            "automargin": true,
            "type": "pie"
           }
          ],
          "scatter": [
           {
            "fillpattern": {
             "fillmode": "overlay",
             "size": 10,
             "solidity": 0.2
            },
            "type": "scatter"
           }
          ],
          "scatter3d": [
           {
            "line": {
             "colorbar": {
              "outlinewidth": 0,
              "ticks": ""
             }
            },
            "marker": {
             "colorbar": {
              "outlinewidth": 0,
              "ticks": ""
             }
            },
            "type": "scatter3d"
           }
          ],
          "scattercarpet": [
           {
            "marker": {
             "colorbar": {
              "outlinewidth": 0,
              "ticks": ""
             }
            },
            "type": "scattercarpet"
           }
          ],
          "scattergeo": [
           {
            "marker": {
             "colorbar": {
              "outlinewidth": 0,
              "ticks": ""
             }
            },
            "type": "scattergeo"
           }
          ],
          "scattergl": [
           {
            "marker": {
             "colorbar": {
              "outlinewidth": 0,
              "ticks": ""
             }
            },
            "type": "scattergl"
           }
          ],
          "scattermap": [
           {
            "marker": {
             "colorbar": {
              "outlinewidth": 0,
              "ticks": ""
             }
            },
            "type": "scattermap"
           }
          ],
          "scattermapbox": [
           {
            "marker": {
             "colorbar": {
              "outlinewidth": 0,
              "ticks": ""
             }
            },
            "type": "scattermapbox"
           }
          ],
          "scatterpolar": [
           {
            "marker": {
             "colorbar": {
              "outlinewidth": 0,
              "ticks": ""
             }
            },
            "type": "scatterpolar"
           }
          ],
          "scatterpolargl": [
           {
            "marker": {
             "colorbar": {
              "outlinewidth": 0,
              "ticks": ""
             }
            },
            "type": "scatterpolargl"
           }
          ],
          "scatterternary": [
           {
            "marker": {
             "colorbar": {
              "outlinewidth": 0,
              "ticks": ""
             }
            },
            "type": "scatterternary"
           }
          ],
          "surface": [
           {
            "colorbar": {
             "outlinewidth": 0,
             "ticks": ""
            },
            "colorscale": [
             [
              0,
              "#0d0887"
             ],
             [
              0.1111111111111111,
              "#46039f"
             ],
             [
              0.2222222222222222,
              "#7201a8"
             ],
             [
              0.3333333333333333,
              "#9c179e"
             ],
             [
              0.4444444444444444,
              "#bd3786"
             ],
             [
              0.5555555555555556,
              "#d8576b"
             ],
             [
              0.6666666666666666,
              "#ed7953"
             ],
             [
              0.7777777777777778,
              "#fb9f3a"
             ],
             [
              0.8888888888888888,
              "#fdca26"
             ],
             [
              1,
              "#f0f921"
             ]
            ],
            "type": "surface"
           }
          ],
          "table": [
           {
            "cells": {
             "fill": {
              "color": "#EBF0F8"
             },
             "line": {
              "color": "white"
             }
            },
            "header": {
             "fill": {
              "color": "#C8D4E3"
             },
             "line": {
              "color": "white"
             }
            },
            "type": "table"
           }
          ]
         },
         "layout": {
          "annotationdefaults": {
           "arrowcolor": "#2a3f5f",
           "arrowhead": 0,
           "arrowwidth": 1
          },
          "autotypenumbers": "strict",
          "coloraxis": {
           "colorbar": {
            "outlinewidth": 0,
            "ticks": ""
           }
          },
          "colorscale": {
           "diverging": [
            [
             0,
             "#8e0152"
            ],
            [
             0.1,
             "#c51b7d"
            ],
            [
             0.2,
             "#de77ae"
            ],
            [
             0.3,
             "#f1b6da"
            ],
            [
             0.4,
             "#fde0ef"
            ],
            [
             0.5,
             "#f7f7f7"
            ],
            [
             0.6,
             "#e6f5d0"
            ],
            [
             0.7,
             "#b8e186"
            ],
            [
             0.8,
             "#7fbc41"
            ],
            [
             0.9,
             "#4d9221"
            ],
            [
             1,
             "#276419"
            ]
           ],
           "sequential": [
            [
             0,
             "#0d0887"
            ],
            [
             0.1111111111111111,
             "#46039f"
            ],
            [
             0.2222222222222222,
             "#7201a8"
            ],
            [
             0.3333333333333333,
             "#9c179e"
            ],
            [
             0.4444444444444444,
             "#bd3786"
            ],
            [
             0.5555555555555556,
             "#d8576b"
            ],
            [
             0.6666666666666666,
             "#ed7953"
            ],
            [
             0.7777777777777778,
             "#fb9f3a"
            ],
            [
             0.8888888888888888,
             "#fdca26"
            ],
            [
             1,
             "#f0f921"
            ]
           ],
           "sequentialminus": [
            [
             0,
             "#0d0887"
            ],
            [
             0.1111111111111111,
             "#46039f"
            ],
            [
             0.2222222222222222,
             "#7201a8"
            ],
            [
             0.3333333333333333,
             "#9c179e"
            ],
            [
             0.4444444444444444,
             "#bd3786"
            ],
            [
             0.5555555555555556,
             "#d8576b"
            ],
            [
             0.6666666666666666,
             "#ed7953"
            ],
            [
             0.7777777777777778,
             "#fb9f3a"
            ],
            [
             0.8888888888888888,
             "#fdca26"
            ],
            [
             1,
             "#f0f921"
            ]
           ]
          },
          "colorway": [
           "#636efa",
           "#EF553B",
           "#00cc96",
           "#ab63fa",
           "#FFA15A",
           "#19d3f3",
           "#FF6692",
           "#B6E880",
           "#FF97FF",
           "#FECB52"
          ],
          "font": {
           "color": "#2a3f5f"
          },
          "geo": {
           "bgcolor": "white",
           "lakecolor": "white",
           "landcolor": "#E5ECF6",
           "showlakes": true,
           "showland": true,
           "subunitcolor": "white"
          },
          "hoverlabel": {
           "align": "left"
          },
          "hovermode": "closest",
          "mapbox": {
           "style": "light"
          },
          "paper_bgcolor": "white",
          "plot_bgcolor": "#E5ECF6",
          "polar": {
           "angularaxis": {
            "gridcolor": "white",
            "linecolor": "white",
            "ticks": ""
           },
           "bgcolor": "#E5ECF6",
           "radialaxis": {
            "gridcolor": "white",
            "linecolor": "white",
            "ticks": ""
           }
          },
          "scene": {
           "xaxis": {
            "backgroundcolor": "#E5ECF6",
            "gridcolor": "white",
            "gridwidth": 2,
            "linecolor": "white",
            "showbackground": true,
            "ticks": "",
            "zerolinecolor": "white"
           },
           "yaxis": {
            "backgroundcolor": "#E5ECF6",
            "gridcolor": "white",
            "gridwidth": 2,
            "linecolor": "white",
            "showbackground": true,
            "ticks": "",
            "zerolinecolor": "white"
           },
           "zaxis": {
            "backgroundcolor": "#E5ECF6",
            "gridcolor": "white",
            "gridwidth": 2,
            "linecolor": "white",
            "showbackground": true,
            "ticks": "",
            "zerolinecolor": "white"
           }
          },
          "shapedefaults": {
           "line": {
            "color": "#2a3f5f"
           }
          },
          "ternary": {
           "aaxis": {
            "gridcolor": "white",
            "linecolor": "white",
            "ticks": ""
           },
           "baxis": {
            "gridcolor": "white",
            "linecolor": "white",
            "ticks": ""
           },
           "bgcolor": "#E5ECF6",
           "caxis": {
            "gridcolor": "white",
            "linecolor": "white",
            "ticks": ""
           }
          },
          "title": {
           "x": 0.05
          },
          "xaxis": {
           "automargin": true,
           "gridcolor": "white",
           "linecolor": "white",
           "ticks": "",
           "title": {
            "standoff": 15
           },
           "zerolinecolor": "white",
           "zerolinewidth": 2
          },
          "yaxis": {
           "automargin": true,
           "gridcolor": "white",
           "linecolor": "white",
           "ticks": "",
           "title": {
            "standoff": 15
           },
           "zerolinecolor": "white",
           "zerolinewidth": 2
          }
         }
        },
        "title": {
         "text": "Interactive Markov Chain Timeline"
        },
        "xaxis": {
         "dtick": 1,
         "gridcolor": "lightgray",
         "gridwidth": 1,
         "showgrid": true,
         "tickmode": "linear",
         "title": {
          "text": "Step"
         }
        },
        "yaxis": {
         "range": [
          0.5,
          1.5
         ],
         "visible": false
        }
       }
      }
     },
     "metadata": {},
     "output_type": "display_data"
    }
   ],
   "source": [
    "# Interactive Timeline View of Markov Chain Progression\n",
    "def create_markov_timeline_visualization(results):\n",
    "    \"\"\"Create an interactive timeline showing the step-by-step Markov chain progression\"\"\"\n",
    "    \n",
    "    interactions = results.get('interaction_history', [])\n",
    "    if not interactions:\n",
    "        print(\"No interaction history found\")\n",
    "        return\n",
    "    \n",
    "    # Extract timeline data\n",
    "    timeline_data = []\n",
    "    \n",
    "    for interaction in interactions:\n",
    "        step = interaction.get('step', 0)\n",
    "        \n",
    "        if interaction.get('type') == 'conversation':\n",
    "            participants = interaction.get('participants', [])\n",
    "            if len(participants) == 2:\n",
    "                from_agent, to_agent = participants[0], participants[1]\n",
    "                \n",
    "                # Check for trades\n",
    "                trades = interaction.get('trades', [])\n",
    "                trade_info = \"\"\n",
    "                total_value = 0\n",
    "                \n",
    "                if trades:\n",
    "                    for trade in trades:\n",
    "                        if trade.get('executed') and trade.get('trade_details'):\n",
    "                            trade_details = trade['trade_details']\n",
    "                            items = trade_details.get('items', [])\n",
    "                            actual_items = [item for item in items if item.get('name') != 'digital cash']\n",
    "                            \n",
    "                            total_value += sum(item.get('value', 0) for item in actual_items)\n",
    "                            item_names = [item.get('name', '').replace('_', ' ').title() for item in actual_items]\n",
    "                            trade_info = f\"Trade: {', '.join(item_names)} (${total_value:.2f})\"\n",
    "                \n",
    "                timeline_data.append({\n",
    "                    'step': step,\n",
    "                    'type': 'conversation',\n",
    "                    'from': from_agent,\n",
    "                    'to': to_agent,\n",
    "                    'has_trade': len(trades) > 0,\n",
    "                    'trade_value': total_value,\n",
    "                    'trade_info': trade_info,\n",
    "                    'description': f\"{from_agent.split()[0]} → {to_agent.split()[0]}\"\n",
    "                })\n",
    "                \n",
    "        elif interaction.get('type') == 'reflection':\n",
    "            agent = interaction.get('agent', '')\n",
    "            if agent:\n",
    "                timeline_data.append({\n",
    "                    'step': step,\n",
    "                    'type': 'reflection',\n",
    "                    'from': agent,\n",
    "                    'to': agent,\n",
    "                    'has_trade': False,\n",
    "                    'trade_value': 0,\n",
    "                    'trade_info': \"\",\n",
    "                    'description': f\"{agent.split()[0]} reflects\"\n",
    "                })\n",
    "    \n",
    "    # Sort by step\n",
    "    timeline_data.sort(key=lambda x: x['step'])\n",
    "    \n",
    "    # Create the timeline plot\n",
    "    steps = [item['step'] for item in timeline_data]\n",
    "    descriptions = [item['description'] for item in timeline_data]\n",
    "    types = [item['type'] for item in timeline_data]\n",
    "    trade_values = [item['trade_value'] for item in timeline_data]\n",
    "    \n",
    "    # Color mapping\n",
    "    colors = []\n",
    "    symbols = []\n",
    "    sizes = []\n",
    "    hover_texts = []\n",
    "    \n",
    "    for item in timeline_data:\n",
    "        if item['type'] == 'reflection':\n",
    "            colors.append('orange')\n",
    "            symbols.append('circle-open')\n",
    "            sizes.append(15)\n",
    "            hover_text = f\"<b>Step {item['step']}: Reflection</b><br>\"\n",
    "            hover_text += f\"Agent: {item['from']}<br>\"\n",
    "            hover_text += \"Action: Self-reflection\"\n",
    "        else:\n",
    "            if item['has_trade']:\n",
    "                colors.append('green')\n",
    "                symbols.append('diamond')\n",
    "                sizes.append(20 + min(item['trade_value']/5, 20))\n",
    "                hover_text = f\"<b>Step {item['step']}: Conversation + Trade</b><br>\"\n",
    "                hover_text += f\"From: {item['from']}<br>\"\n",
    "                hover_text += f\"To: {item['to']}<br>\"\n",
    "                hover_text += f\"{item['trade_info']}\"\n",
    "            else:\n",
    "                colors.append('blue')\n",
    "                symbols.append('circle')\n",
    "                sizes.append(15)\n",
    "                hover_text = f\"<b>Step {item['step']}: Conversation</b><br>\"\n",
    "                hover_text += f\"From: {item['from']}<br>\"\n",
    "                hover_text += f\"To: {item['to']}<br>\"\n",
    "                hover_text += \"No trade occurred\"\n",
    "        \n",
    "        hover_texts.append(hover_text)\n",
    "    \n",
    "    # Create the timeline figure\n",
    "    fig = go.Figure()\n",
    "    \n",
    "    # Add the main timeline\n",
    "    fig.add_trace(go.Scatter(\n",
    "        x=steps,\n",
    "        y=[1] * len(steps),  # All points on same y-level\n",
    "        mode='markers+text',\n",
    "        marker=dict(\n",
    "            size=sizes,\n",
    "            color=colors,\n",
    "            symbol=symbols,\n",
    "            line=dict(width=2, color='white'),\n",
    "            opacity=0.8\n",
    "        ),\n",
    "        text=descriptions,\n",
    "        textposition='top center',\n",
    "        textfont=dict(size=10),\n",
    "        hoverinfo='text',\n",
    "        hovertext=hover_texts,\n",
    "        name='Markov Chain Steps',\n",
    "        showlegend=False\n",
    "    ))\n",
    "    \n",
    "    # Add connecting lines\n",
    "    fig.add_trace(go.Scatter(\n",
    "        x=steps,\n",
    "        y=[1] * len(steps),\n",
    "        mode='lines',\n",
    "        line=dict(color='lightgray', width=1, dash='dot'),\n",
    "        hoverinfo='skip',\n",
    "        showlegend=False\n",
    "    ))\n",
    "    \n",
    "    # Add value annotations for trades\n",
    "    for i, item in enumerate(timeline_data):\n",
    "        if item['has_trade'] and item['trade_value'] > 0:\n",
    "            fig.add_annotation(\n",
    "                x=item['step'],\n",
    "                y=1.15,\n",
    "                text=f\"${item['trade_value']:.0f}\",\n",
    "                showarrow=False,\n",
    "                font=dict(size=9, color='green'),\n",
    "                bgcolor='rgba(255,255,255,0.8)',\n",
    "                bordercolor='green',\n",
    "                borderwidth=1\n",
    "            )\n",
    "    \n",
    "    # Update layout\n",
    "    fig.update_layout(\n",
    "        title='Interactive Markov Chain Timeline',\n",
    "        xaxis_title='Step',\n",
    "        xaxis=dict(\n",
    "            tickmode='linear',\n",
    "            dtick=1,\n",
    "            showgrid=True,\n",
    "            gridcolor='lightgray',\n",
    "            gridwidth=1\n",
    "        ),\n",
    "        yaxis=dict(\n",
    "            visible=False,\n",
    "            range=[0.5, 1.5]\n",
    "        ),\n",
    "        height=400,\n",
    "        margin=dict(t=80, b=60, l=50, r=50),\n",
    "        annotations=[\n",
    "            dict(\n",
    "                text=\"🔵 Conversation  💎 Trade  ⭕ Reflection<br>Hover for details, size indicates trade value\",\n",
    "                showarrow=False,\n",
    "                xref=\"paper\", yref=\"paper\",\n",
    "                x=0.02, y=0.02,\n",
    "                xanchor='left', yanchor='bottom',\n",
    "                font=dict(size=10),\n",
    "                bgcolor='rgba(255,255,255,0.8)',\n",
    "                bordercolor='gray',\n",
    "                borderwidth=1\n",
    "            )\n",
    "        ],\n",
    "        plot_bgcolor='rgba(0,0,0,0)'\n",
    "    )\n",
    "    \n",
    "    return fig\n",
    "\n",
    "# Create and display the timeline visualization\n",
    "timeline_fig = create_markov_timeline_visualization(results)\n",
    "if timeline_fig:\n",
    "    timeline_fig.show()\n",
    "else:\n",
    "    print(\"Could not create timeline visualization - no data available\")"
   ]
  },
  {
   "cell_type": "code",
   "execution_count": null,
   "id": "352c8d1b",
   "metadata": {},
   "outputs": [],
   "source": []
  },
  {
   "cell_type": "code",
   "execution_count": null,
   "id": "926f697f",
   "metadata": {},
   "outputs": [],
   "source": []
  }
 ],
 "metadata": {
  "kernelspec": {
   "display_name": ".venv",
   "language": "python",
   "name": "python3"
  },
  "language_info": {
   "codemirror_mode": {
    "name": "ipython",
    "version": 3
   },
   "file_extension": ".py",
   "mimetype": "text/x-python",
   "name": "python",
   "nbconvert_exporter": "python",
   "pygments_lexer": "ipython3",
   "version": "3.11.13"
  }
 },
 "nbformat": 4,
 "nbformat_minor": 5
}
